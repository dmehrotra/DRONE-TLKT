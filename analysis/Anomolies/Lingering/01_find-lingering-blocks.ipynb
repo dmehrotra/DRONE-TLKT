{
 "cells": [
  {
   "cell_type": "markdown",
   "id": "6bcc07d3-defe-47c9-9b1e-73c9078bc48c",
   "metadata": {},
   "source": [
    "# Finding Anomolies"
   ]
  },
  {
   "cell_type": "markdown",
   "id": "6f483ab3-7a4b-4226-bbeb-2a3148af8055",
   "metadata": {},
   "source": [
    "## Setup"
   ]
  },
  {
   "cell_type": "markdown",
   "id": "1c2e5fc2-f009-4469-a72b-6ec9970c9b0e",
   "metadata": {},
   "source": [
    "### Import Data"
   ]
  },
  {
   "cell_type": "code",
   "execution_count": 52,
   "id": "c59e65c6-c678-4a42-ba6a-c75957bc27c6",
   "metadata": {},
   "outputs": [
    {
     "data": {
      "application/json": {
       "ascii": false,
       "bar_format": null,
       "colour": null,
       "elapsed": 0.06587624549865723,
       "initial": 0,
       "n": 0,
       "ncols": null,
       "nrows": 23,
       "postfix": null,
       "prefix": "Loading data",
       "rate": null,
       "total": null,
       "unit": "it",
       "unit_divisor": 1000,
       "unit_scale": false
      },
      "application/vnd.jupyter.widget-view+json": {
       "model_id": "5cab5cffd622430eb6b813b693c78303",
       "version_major": 2,
       "version_minor": 0
      },
      "text/plain": [
       "Loading data: 0it [00:00, ?it/s]"
      ]
     },
     "metadata": {},
     "output_type": "display_data"
    }
   ],
   "source": [
    "import os\n",
    "\n",
    "import fiona\n",
    "import geopandas as gpd\n",
    "import gpxpy\n",
    "import numpy as np\n",
    "import pandas as pd\n",
    "from multiprocess.pool import Pool\n",
    "from tqdm.notebook import tqdm, trange\n",
    "import warnings\n",
    "import geopy.distance\n",
    "\n",
    "warnings.filterwarnings('ignore')\n",
    "\n",
    "fiona.drvsupport.supported_drivers['kml'] = 'rw'\n",
    "fiona.drvsupport.supported_drivers['KML'] = 'rw'\n",
    "\n",
    "storage = \"/Volumes/easystore/Drones/\"\n",
    "\n",
    "flight_details = pd.concat(\n",
    "    [\n",
    "        chunk\n",
    "        for chunk in tqdm(\n",
    "            pd.read_csv(\n",
    "                f\"{storage}/gpx-with-census-data.csv\", chunksize=100000, dtype=str\n",
    "            ),\n",
    "            desc=\"Loading data\",\n",
    "        )\n",
    "    ]\n",
    ")"
   ]
  },
  {
   "cell_type": "code",
   "execution_count": 53,
   "id": "aca8d8b7-6bec-4846-a8c0-7c91945a9aaa",
   "metadata": {},
   "outputs": [
    {
     "data": {
      "application/json": {
       "ascii": false,
       "bar_format": null,
       "colour": null,
       "elapsed": 0.15741300582885742,
       "initial": 0,
       "n": 0,
       "ncols": null,
       "nrows": 23,
       "postfix": null,
       "prefix": "Loading data",
       "rate": null,
       "total": null,
       "unit": "it",
       "unit_divisor": 1000,
       "unit_scale": false
      },
      "application/vnd.jupyter.widget-view+json": {
       "model_id": "a08614e73912442c84db2b7f66318492",
       "version_major": 2,
       "version_minor": 0
      },
      "text/plain": [
       "Loading data: 0it [00:00, ?it/s]"
      ]
     },
     "metadata": {},
     "output_type": "display_data"
    }
   ],
   "source": [
    "geocodio_flights = pd.concat(\n",
    "    [\n",
    "        chunk\n",
    "        for chunk in tqdm(\n",
    "            pd.read_csv(\n",
    "                f\"{storage}/geocodio/all-flights-manifest_geocodio.csv\",\n",
    "                chunksize=100000,\n",
    "                dtype=str,\n",
    "            ),\n",
    "            desc=\"Loading data\",\n",
    "        )\n",
    "    ]\n",
    ")"
   ]
  },
  {
   "cell_type": "code",
   "execution_count": 54,
   "id": "bce17e7c-34c3-4547-a3be-28adf7747a27",
   "metadata": {},
   "outputs": [],
   "source": [
    "flight_details[\"geoid\"] = flight_details[\"geoid\"].astype(str)\n",
    "flight_details[\"len\"] = flight_details[\"geoid\"].apply(lambda x: len(x))\n",
    "flight_details.loc[flight_details[\"len\"] == 14, \"geoid\"] = \"0\" + flight_details[\"geoid\"]\n"
   ]
  },
  {
   "cell_type": "code",
   "execution_count": 55,
   "id": "0f0118b1-d49d-44dc-a89d-959c6c0fc990",
   "metadata": {},
   "outputs": [],
   "source": [
    "geocodio_flights[\"date\"] = pd.to_datetime(geocodio_flights[\"date\"]).dt.date\n"
   ]
  },
  {
   "cell_type": "markdown",
   "id": "d0609712-94eb-440c-ab36-e5c482097f6d",
   "metadata": {},
   "source": [
    "### Launch Sites\n",
    "- BayView Hospital = 60730131022000\n",
    "- CVPD = 60730123021013\n",
    "- SharpChula Medical Center = 60730133273000\n",
    "- SWestern College = 60730134151000\n"
   ]
  },
  {
   "cell_type": "markdown",
   "id": "2a57c2cf-c150-4f40-831b-7957f7efb57e",
   "metadata": {},
   "source": [
    "## Functions"
   ]
  },
  {
   "cell_type": "code",
   "execution_count": 56,
   "id": "3ce8b25c-2cc0-4703-8eda-1d45164e8f7b",
   "metadata": {},
   "outputs": [],
   "source": [
    "def compile_anomolies(anomolies):\n",
    "    anomolies = anomolies[anomolies['id']!=False].copy()\n",
    "    \n",
    "    anomolies = pd.merge(anomolies,geocodio_flights,how='left',on='id')\n",
    "    anomolies['fn'] = anomolies['id'].apply(lambda x: f\"/Volumes/easystore/Drones/flights/kml/{x}.kml\")\n",
    "\n",
    "    compiled_flights = []\n",
    "    for _, row in anomolies.iterrows():\n",
    "        d = gpd.read_file(row['fn'], driver='KML')\n",
    "\n",
    "\n",
    "        d['id'] = row['id']\n",
    "        d['incident_type'] = row['type_y']\n",
    "        d['incident_id'] = row['incident_id']\n",
    "        d['address_map'] = row['address_map']\n",
    "        d['date'] = row['date']\n",
    "        d['time'] = row['time_s']\n",
    "        d['lingering_block'] = row['lingering_block']\n",
    "        d['seconds_lingering'] = row['seconds_lingering']\n",
    "        d['destination_block'] = str(row['destination_block'])\n",
    "        d['distance'] = str(row['distance'])\n",
    "        d['latitude'] = row['Latitude']\n",
    "        d['longitude'] = row['Longitude']\n",
    "        d['lat_map'] = row['lat_map']\n",
    "        d['lon_map'] = row['lon_map']\n",
    "        d['starting_block'] = str(row['starting_block'])\n",
    "\n",
    "        compiled_flights.append(d)\n",
    "    return pd.concat(compiled_flights,ignore_index=True)"
   ]
  },
  {
   "cell_type": "code",
   "execution_count": 57,
   "id": "967e5ee2-c604-4696-9981-9992f9499bb5",
   "metadata": {},
   "outputs": [],
   "source": [
    "def get_unique_seconds_for_block(flight):\n",
    "\n",
    "    times = pd.to_datetime(flight[\"sequence\"])\n",
    "    grouped_by_block_and_second = flight.groupby(\n",
    "    [\"id\",\"geoid\",\"block_group\",\"tract\", times.dt.hour, times.dt.minute, times.dt.second]).count()\n",
    "    grouped_by_block_and_second.index.names = [\"id\",\"geoid\",\"block_group\",\"tract\", \"hour\", \"minute\", \"second\"]\n",
    "    grouped_by_block_and_second = grouped_by_block_and_second.reset_index()[\n",
    "    [\"id\",\"geoid\",\"block_group\",\"tract\", \"hour\", \"minute\", \"second\", \"type\"]\n",
    "    ]\n",
    "    grouped_by_block_and_second.columns = [\"id\",\"geoid\",\"block_group\",\"tract\", \"hour\", \"minute\", \"second\", \"count\"]\n",
    "    \n",
    "    unique_seconds_in_block = grouped_by_block_and_second.groupby([\"geoid\",\"block_group\",\"tract\"]).count()\n",
    "    unique_seconds_in_block = unique_seconds_in_block.reset_index()[[\"geoid\",\"block_group\",\"tract\", \"hour\"]]\n",
    "    unique_seconds_in_block.columns = [\"GEOID20\",\"block_group\",\"tract\",\"seconds\"]\n",
    "    return unique_seconds_in_block"
   ]
  },
  {
   "cell_type": "markdown",
   "id": "3606bf12-568c-4c4e-9ec2-e84436b6877a",
   "metadata": {},
   "source": [
    "## Searching"
   ]
  },
  {
   "cell_type": "code",
   "execution_count": 58,
   "id": "650c24db-32da-4b24-8608-abb139b9ff7e",
   "metadata": {},
   "outputs": [],
   "source": [
    "\n",
    "LINGER = 300\n",
    "def filter_one(index,details=False):\n",
    "   \n",
    "    if details == True:\n",
    "        flight_id = index\n",
    "        flight = flight_details[flight_details['id']==flight_id]\n",
    "    else:\n",
    "        flight_id = flight_ids.iloc[index]\n",
    "        flight = flight_details[flight_details['id']==flight_id]\n",
    "    try:\n",
    "#       get info from the map for corresponding flight\n",
    "        manifest_details = geocodio_flights[geocodio_flights['id']==flight_id]\n",
    "        destination_block = manifest_details.iloc[0][['Full FIPS (block)','Census Tract Code', 'Census Block Group','Latitude', 'Longitude']]\n",
    "# convert to int because im paranoid\n",
    "        destination_block['Census Tract Code'] = int(destination_block['Census Tract Code'])\n",
    "        destination_block['Full FIPS (block)'] = int(destination_block['Full FIPS (block)'])\n",
    "# finding starting block of flight\n",
    "        starting_block = int(flight.iloc[0]['geoid'])\n",
    "# Calculate Number of Seconds Drone Spent in Every Block\n",
    "        unique_seconds_in_block = get_unique_seconds_for_block(flight)\n",
    "        unique_seconds_in_block['GEOID20'].astype(int)\n",
    "#       Remove Starting and Destination Block from analysis because we want to find all flights that spent time over somewhere other than the stated destination.        \n",
    "        unique_seconds_in_block =  unique_seconds_in_block[unique_seconds_in_block['GEOID20']!=starting_block].copy()\n",
    "        unique_seconds_in_block =  unique_seconds_in_block[unique_seconds_in_block['GEOID20']!=destination_block['Full FIPS (block)']].copy()\n",
    "# Of the remaining blocks, identify the ones where drones spent more than 5 min.\n",
    "        lingering_blocks = unique_seconds_in_block[unique_seconds_in_block['seconds']>LINGER]\n",
    "        # lingering_blocks=lingering_blocks[~lingering_blocks['GEOID20'].isin(blacklist)]\n",
    "        anomoly = {\"id\":False,\"type\":False,'starting_block':starting_block,\"destination_tract\":destination_block['Census Tract Code'],\"lingering_block\":False,\"seconds_lingering\":False}\n",
    "#         consider increasing\n",
    "#       If there is more than one block where a drone spent 5 minutes that isn't the starting or destinaion block calculate the distance from the lingering block to the stated destination.  if its more than a mile, flag it as an anomoly.\n",
    "        if lingering_blocks.shape[0]>0:\n",
    "            lingering_blocks_far_from_dst = []\n",
    "            for _,row in lingering_blocks.iterrows():\n",
    "                lingering_lat,lingering_lng = flight[flight['geoid'] == row['GEOID20']][['latitude','longitude']].values[0]\n",
    "                distance = geopy.distance.geodesic((lingering_lat,lingering_lng), (destination_block['Latitude'], destination_block['Longitude'])).miles\n",
    "                if distance > 1:\n",
    "                    anomoly ={\"id\":flight_id,\"type\":flight['type'].drop_duplicates().values[0],'starting_block':starting_block,\"destination_block\":int(destination_block['Full FIPS (block)']),\"distance\":distance,\"lingering_block\":row['GEOID20'],\"seconds_lingering\":row['seconds']}\n",
    "        if details == True:\n",
    "            return [anomoly,unique_seconds_in_block,starting_block,destination_block]\n",
    "        else:\n",
    "            return anomoly\n",
    "    except:\n",
    "        print(\"error\")\n",
    "        return {\"id\":False,\"type\":False,'starting_block':False,\"destination_tract\":False,\"lingering_block\":False,\"seconds_lingering\":False}\n",
    "    \n"
   ]
  },
  {
   "cell_type": "code",
   "execution_count": null,
   "id": "e0a4b116-fd1a-4e23-ad5f-0bbaea88837a",
   "metadata": {},
   "outputs": [],
   "source": [
    "anomoly,unique_seconds_in_block,starting_block,destination_block = filter_one('fa1a59574dd96d6262f17fe9fd20ca17',True)"
   ]
  },
  {
   "cell_type": "code",
   "execution_count": null,
   "id": "4ec26438-93e7-40d9-915c-169ed54b2330",
   "metadata": {},
   "outputs": [],
   "source": [
    "# def calc_dist(flight_id):\n",
    "#     flight = geocodio_flights[geocodio_flights['id']==flight_id]\n",
    "#     dist = geopy.distance.geodesic((flight['lat_map'].values[0],flight['lon_map'].values[0]), (flight['Latitude'].values[0], flight['Longitude'].values[0])).miles\n",
    "#     return dist\n",
    "\n",
    "# geocodio_flights['map-delta'] = geocodio_flights['id'].apply(lambda x: calc_dist(x))\n",
    "# stable_flights = geocodio_flights[geocodio_flights['map-delta']<=.16]\n"
   ]
  },
  {
   "cell_type": "code",
   "execution_count": null,
   "id": "400de457-dd92-4e8d-91e5-681e700cf4f1",
   "metadata": {},
   "outputs": [],
   "source": [
    "# stable_flights"
   ]
  },
  {
   "cell_type": "code",
   "execution_count": 59,
   "id": "4f7d1771-a0b2-4a13-9841-e60118348693",
   "metadata": {},
   "outputs": [
    {
     "data": {
      "application/json": {
       "ascii": false,
       "bar_format": null,
       "colour": null,
       "elapsed": 0.4943361282348633,
       "initial": 0,
       "n": 0,
       "ncols": null,
       "nrows": 23,
       "postfix": null,
       "prefix": "",
       "rate": null,
       "total": 11071,
       "unit": "it",
       "unit_divisor": 1000,
       "unit_scale": false
      },
      "application/vnd.jupyter.widget-view+json": {
       "model_id": "6174c222ad804d4b9225ca20524d3819",
       "version_major": 2,
       "version_minor": 0
      },
      "text/plain": [
       "  0%|          | 0/11071 [00:00<?, ?it/s]"
      ]
     },
     "metadata": {},
     "output_type": "display_data"
    },
    {
     "name": "stdout",
     "output_type": "stream",
     "text": [
      "error\n"
     ]
    }
   ],
   "source": [
    "# flight_ids = stable_flights.sample(1000)['id'].drop_duplicates()\n",
    "flight_ids = flight_details[['id']].sample(frac=1).drop_duplicates()\n",
    "flight_ids = flight_ids[flight_ids['id'].isin(geocodio_flights['id'])]['id']\n",
    "\n",
    "with Pool(10) as pool:\n",
    "\n",
    "    lingering_nd = list(\n",
    "        tqdm(pool.imap(filter_one, range(0, flight_ids.shape[0])), total=flight_ids.shape[0])\n",
    "    )\n",
    "    lingering_nd = pd.DataFrame(lingering_nd)"
   ]
  },
  {
   "cell_type": "code",
   "execution_count": 60,
   "id": "e98c44ec-2b6c-45ad-a010-6e7296eb3cac",
   "metadata": {},
   "outputs": [
    {
     "data": {
      "text/plain": [
       "827"
      ]
     },
     "execution_count": 60,
     "metadata": {},
     "output_type": "execute_result"
    }
   ],
   "source": [
    "lingering_anomolies = compile_anomolies(lingering_nd)\n",
    "lingering_anomolies = gpd.GeoDataFrame(lingering_anomolies)\n",
    "lingering_anomolies['incident_type'] = lingering_anomolies['incident_type'].astype(str)\n",
    "lingering_anomolies['destination_block']=lingering_anomolies['destination_block'].astype(float).astype(int)\n",
    "lingering_anomolies['starting_block']=lingering_anomolies['starting_block'].astype(float).astype(int)\n",
    "lingering_anomolies['lingering_block']=lingering_anomolies['lingering_block'].astype(float).astype(int)\n",
    "\n",
    "lingering_anomolies['id'].drop_duplicates().shape[0]\n"
   ]
  },
  {
   "cell_type": "code",
   "execution_count": 61,
   "id": "ceaec2b9-492a-4a59-b3f3-081687256fb5",
   "metadata": {},
   "outputs": [],
   "source": [
    "lingering_anomolies[['id','geometry','incident_type','distance','lingering_block','destination_block','longitude','latitude','address_map','starting_block']].to_file(\"../../data/anomolies/lingering-one-mile-from-destination.geojson\", driver='GeoJSON')\n"
   ]
  },
  {
   "cell_type": "code",
   "execution_count": null,
   "id": "8c523dac-0188-4129-aef7-b13ec278b5f3",
   "metadata": {},
   "outputs": [],
   "source": []
  }
 ],
 "metadata": {
  "kernelspec": {
   "display_name": "Python 3 (ipykernel)",
   "language": "python",
   "name": "python3"
  },
  "language_info": {
   "codemirror_mode": {
    "name": "ipython",
    "version": 3
   },
   "file_extension": ".py",
   "mimetype": "text/x-python",
   "name": "python",
   "nbconvert_exporter": "python",
   "pygments_lexer": "ipython3",
   "version": "3.10.12"
  }
 },
 "nbformat": 4,
 "nbformat_minor": 5
}
