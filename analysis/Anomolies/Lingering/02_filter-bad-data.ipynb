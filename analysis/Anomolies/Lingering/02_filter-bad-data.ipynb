{
 "cells": [
  {
   "cell_type": "markdown",
   "id": "6bcc07d3-defe-47c9-9b1e-73c9078bc48c",
   "metadata": {},
   "source": [
    "# Finding Anomolies"
   ]
  },
  {
   "cell_type": "markdown",
   "id": "6f483ab3-7a4b-4226-bbeb-2a3148af8055",
   "metadata": {},
   "source": [
    "## Setup"
   ]
  },
  {
   "cell_type": "markdown",
   "id": "1c2e5fc2-f009-4469-a72b-6ec9970c9b0e",
   "metadata": {},
   "source": [
    "### Import Data"
   ]
  },
  {
   "cell_type": "code",
   "execution_count": 116,
   "id": "c59e65c6-c678-4a42-ba6a-c75957bc27c6",
   "metadata": {},
   "outputs": [],
   "source": [
    "import os\n",
    "\n",
    "import fiona\n",
    "import geopandas as gpd\n",
    "import gpxpy\n",
    "import numpy as np\n",
    "import pandas as pd\n",
    "from multiprocess.pool import Pool\n",
    "from tqdm.notebook import tqdm, trange\n",
    "import warnings\n",
    "import geopy.distance\n",
    "\n",
    "warnings.filterwarnings('ignore')\n",
    "\n",
    "fiona.drvsupport.supported_drivers['kml'] = 'rw'\n",
    "fiona.drvsupport.supported_drivers['KML'] = 'rw'\n",
    "\n",
    "storage = \"/Volumes/easystore/Drones/\"\n",
    "\n",
    "lingering_anomolies = gpd.read_file(\"../../data/anomolies/lingering-one-mile-from-destination.geojson\")\n",
    "sd_county = pd.read_csv(\"../../data/mapping/sd_county-geometry.csv\")"
   ]
  },
  {
   "cell_type": "code",
   "execution_count": 117,
   "id": "01043d85-e23f-4d7d-8c58-b212aea09d98",
   "metadata": {},
   "outputs": [],
   "source": [
    "medium_sized_blocks = sd_county[sd_county['ALAND20']<100000]\n",
    "medium_sized_blocks.to_csv(\"../../data/mapping/md-size_county-geometry.csv\",index=False)"
   ]
  },
  {
   "cell_type": "code",
   "execution_count": 118,
   "id": "2d057b36-1289-468d-97e1-92ecaaf87feb",
   "metadata": {},
   "outputs": [
    {
     "data": {
      "application/json": {
       "ascii": false,
       "bar_format": null,
       "colour": null,
       "elapsed": 0.10909390449523926,
       "initial": 0,
       "n": 0,
       "ncols": null,
       "nrows": 23,
       "postfix": null,
       "prefix": "Loading data",
       "rate": null,
       "total": null,
       "unit": "it",
       "unit_divisor": 1000,
       "unit_scale": false
      },
      "application/vnd.jupyter.widget-view+json": {
       "model_id": "632a3808d3044285b880a1b3a706b7a0",
       "version_major": 2,
       "version_minor": 0
      },
      "text/plain": [
       "Loading data: 0it [00:00, ?it/s]"
      ]
     },
     "metadata": {},
     "output_type": "display_data"
    }
   ],
   "source": [
    "flight_details = pd.concat(\n",
    "    [\n",
    "        chunk\n",
    "        for chunk in tqdm(\n",
    "            pd.read_csv(\n",
    "                f\"{storage}/gpx-with-census-data.csv\", chunksize=100000, dtype=str\n",
    "            ),\n",
    "            desc=\"Loading data\",\n",
    "        )\n",
    "    ]\n",
    ")"
   ]
  },
  {
   "cell_type": "code",
   "execution_count": 119,
   "id": "6d247f97-0895-4873-be3b-12f86244190c",
   "metadata": {},
   "outputs": [],
   "source": [
    "flight_details = flight_details[flight_details['id'].isin(lingering_anomolies['id'])]\n",
    "flight_details[\"geoid\"] = flight_details[\"geoid\"].astype(str)\n",
    "flight_details[\"len\"] = flight_details[\"geoid\"].apply(lambda x: len(x))\n",
    "flight_details.loc[flight_details[\"len\"] == 14, \"geoid\"] = \"0\" + flight_details[\"geoid\"]\n"
   ]
  },
  {
   "cell_type": "code",
   "execution_count": null,
   "id": "79d8da93-3c33-4e5d-ac3e-10e5da8d1c58",
   "metadata": {},
   "outputs": [],
   "source": []
  },
  {
   "cell_type": "code",
   "execution_count": 120,
   "id": "aca8d8b7-6bec-4846-a8c0-7c91945a9aaa",
   "metadata": {},
   "outputs": [
    {
     "data": {
      "application/json": {
       "ascii": false,
       "bar_format": null,
       "colour": null,
       "elapsed": 0.0695490837097168,
       "initial": 0,
       "n": 0,
       "ncols": null,
       "nrows": 23,
       "postfix": null,
       "prefix": "Loading data",
       "rate": null,
       "total": null,
       "unit": "it",
       "unit_divisor": 1000,
       "unit_scale": false
      },
      "application/vnd.jupyter.widget-view+json": {
       "model_id": "566ed53343634ac19fbabf66506bbb06",
       "version_major": 2,
       "version_minor": 0
      },
      "text/plain": [
       "Loading data: 0it [00:00, ?it/s]"
      ]
     },
     "metadata": {},
     "output_type": "display_data"
    }
   ],
   "source": [
    "geocodio_flights = pd.concat(\n",
    "    [\n",
    "        chunk\n",
    "        for chunk in tqdm(\n",
    "            pd.read_csv(\n",
    "                f\"{storage}/geocodio/all-flights-manifest-extra-col_geocodio.csv\",\n",
    "                chunksize=100000,\n",
    "                dtype=str,\n",
    "            ),\n",
    "            desc=\"Loading data\",\n",
    "        )\n",
    "    ]\n",
    ")"
   ]
  },
  {
   "cell_type": "code",
   "execution_count": 121,
   "id": "e5dbfeec-eafc-4002-9d97-a29afcd677f9",
   "metadata": {},
   "outputs": [],
   "source": [
    "def calc_dist(flight_id):\n",
    "    flight = geocodio_flights[geocodio_flights['id']==flight_id]\n",
    "    dist = geopy.distance.geodesic((flight['lat_map'].values[0],flight['lon_map'].values[0]), (flight['Latitude'].values[0], flight['Longitude'].values[0])).miles\n",
    "    return dist\n",
    "\n",
    "geocodio_flights['map-delta'] = geocodio_flights['id'].apply(lambda x: calc_dist(x))"
   ]
  },
  {
   "cell_type": "code",
   "execution_count": 122,
   "id": "d8d277e9-c653-436d-88b3-dd00873c1d50",
   "metadata": {},
   "outputs": [
    {
     "data": {
      "text/plain": [
       "7890"
      ]
     },
     "execution_count": 122,
     "metadata": {},
     "output_type": "execute_result"
    }
   ],
   "source": [
    "geocodio_flights[geocodio_flights['map-delta']<=.16].drop_duplicates().shape[0]"
   ]
  },
  {
   "cell_type": "code",
   "execution_count": 123,
   "id": "bce17e7c-34c3-4547-a3be-28adf7747a27",
   "metadata": {},
   "outputs": [],
   "source": [
    "geocodio_flights = geocodio_flights[geocodio_flights['id'].isin(lingering_anomolies['id'])]\n",
    "geocodio_flights[\"date\"] = pd.to_datetime(geocodio_flights[\"date\"]).dt.date\n"
   ]
  },
  {
   "cell_type": "code",
   "execution_count": 124,
   "id": "380a5e25-ee9a-4a06-a6b2-943708cc4f58",
   "metadata": {},
   "outputs": [
    {
     "data": {
      "text/plain": [
       "628"
      ]
     },
     "execution_count": 124,
     "metadata": {},
     "output_type": "execute_result"
    }
   ],
   "source": [
    "lingering_anomolies['incident_type'] = lingering_anomolies['incident_type'].astype(str)\n",
    "lingering_anomolies['destination_block']=lingering_anomolies['destination_block'].astype(float).astype(int)\n",
    "lingering_anomolies['starting_block']=lingering_anomolies['starting_block'].astype(float).astype(int)\n",
    "lingering_anomolies['lingering_block']=lingering_anomolies['lingering_block'].astype(float).astype(int)\n",
    "\n",
    "\n",
    "lingering_anomolies = lingering_anomolies[lingering_anomolies['destination_block'] != lingering_anomolies['starting_block']]\n",
    "lingering_anomolies = lingering_anomolies[lingering_anomolies['lingering_block'] != lingering_anomolies['destination_block']]\n",
    "lingering_anomolies['id'].drop_duplicates().shape[0]\n"
   ]
  },
  {
   "cell_type": "code",
   "execution_count": 125,
   "id": "f92f2a2d-8b0f-42c1-bc6a-d75c6e0d81bd",
   "metadata": {},
   "outputs": [
    {
     "data": {
      "text/plain": [
       "90"
      ]
     },
     "execution_count": 125,
     "metadata": {},
     "output_type": "execute_result"
    }
   ],
   "source": [
    "lingering_anomolies = lingering_anomolies[lingering_anomolies['id'].isin(geocodio_flights[geocodio_flights['map-delta']<=.25]['id'])]\n",
    "lingering_anomolies['id'].drop_duplicates().shape[0]"
   ]
  },
  {
   "cell_type": "code",
   "execution_count": 126,
   "id": "702f4b18-a1dc-435b-9224-6170bfebd7f8",
   "metadata": {},
   "outputs": [
    {
     "data": {
      "text/plain": [
       "32"
      ]
     },
     "execution_count": 126,
     "metadata": {},
     "output_type": "execute_result"
    }
   ],
   "source": [
    "lingering_anomolies = lingering_anomolies[lingering_anomolies['lingering_block'].isin(medium_sized_blocks['GEOID20'])]\n",
    "lingering_anomolies['id'].drop_duplicates().shape[0]"
   ]
  },
  {
   "cell_type": "code",
   "execution_count": 127,
   "id": "9e3bd3cb-f270-4632-ba7e-a37544c74c52",
   "metadata": {},
   "outputs": [
    {
     "data": {
      "text/plain": [
       "31"
      ]
     },
     "execution_count": 127,
     "metadata": {},
     "output_type": "execute_result"
    }
   ],
   "source": [
    "lingering_anomolies = lingering_anomolies[lingering_anomolies['distance'].astype(float)<=5]\n",
    "lingering_anomolies['id'].drop_duplicates().shape[0]"
   ]
  },
  {
   "cell_type": "code",
   "execution_count": 128,
   "id": "0b5c3beb-8735-4040-b5c3-104cf9a805d9",
   "metadata": {},
   "outputs": [
    {
     "data": {
      "text/plain": [
       "31"
      ]
     },
     "execution_count": 128,
     "metadata": {},
     "output_type": "execute_result"
    }
   ],
   "source": [
    "lingering_anomolies=lingering_anomolies[lingering_anomolies['lingering_block'].isin(medium_sized_blocks['GEOID20'])]\n",
    "lingering_anomolies['id'].drop_duplicates().shape[0]"
   ]
  },
  {
   "cell_type": "code",
   "execution_count": 130,
   "id": "34e59147-70e8-470a-8269-2e6bf546d83e",
   "metadata": {},
   "outputs": [],
   "source": [
    "lingering_anomolies[['id','geometry','incident_type','distance','lingering_block','destination_block','longitude','latitude','address_map','starting_block']].to_file(\"../../data/anomolies/lingering-one-mile-from-destination-stable-flights.geojson\", driver='GeoJSON')\n"
   ]
  },
  {
   "cell_type": "code",
   "execution_count": null,
   "id": "03d2815b-a55d-4093-84ed-aa14053f8bc8",
   "metadata": {},
   "outputs": [],
   "source": []
  }
 ],
 "metadata": {
  "kernelspec": {
   "display_name": "Python 3 (ipykernel)",
   "language": "python",
   "name": "python3"
  },
  "language_info": {
   "codemirror_mode": {
    "name": "ipython",
    "version": 3
   },
   "file_extension": ".py",
   "mimetype": "text/x-python",
   "name": "python",
   "nbconvert_exporter": "python",
   "pygments_lexer": "ipython3",
   "version": "3.10.12"
  }
 },
 "nbformat": 4,
 "nbformat_minor": 5
}
