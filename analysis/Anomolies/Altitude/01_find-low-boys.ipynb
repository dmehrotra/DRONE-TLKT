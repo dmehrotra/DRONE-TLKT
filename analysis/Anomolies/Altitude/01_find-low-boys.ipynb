{
 "cells": [
  {
   "cell_type": "markdown",
   "id": "6bcc07d3-defe-47c9-9b1e-73c9078bc48c",
   "metadata": {},
   "source": [
    "# Finding Anomolies"
   ]
  },
  {
   "cell_type": "markdown",
   "id": "6f483ab3-7a4b-4226-bbeb-2a3148af8055",
   "metadata": {},
   "source": [
    "## Setup"
   ]
  },
  {
   "cell_type": "markdown",
   "id": "1c2e5fc2-f009-4469-a72b-6ec9970c9b0e",
   "metadata": {},
   "source": [
    "### Import Data"
   ]
  },
  {
   "cell_type": "code",
   "execution_count": 1,
   "id": "c59e65c6-c678-4a42-ba6a-c75957bc27c6",
   "metadata": {},
   "outputs": [
    {
     "data": {
      "application/json": {
       "ascii": false,
       "bar_format": null,
       "colour": null,
       "elapsed": 0.3852579593658447,
       "initial": 0,
       "n": 0,
       "ncols": null,
       "nrows": 25,
       "postfix": null,
       "prefix": "Loading data",
       "rate": null,
       "total": null,
       "unit": "it",
       "unit_divisor": 1000,
       "unit_scale": false
      },
      "application/vnd.jupyter.widget-view+json": {
       "model_id": "a1a8674d2b5c4d1bbf0e01821dbfe933",
       "version_major": 2,
       "version_minor": 0
      },
      "text/plain": [
       "Loading data: 0it [00:00, ?it/s]"
      ]
     },
     "metadata": {},
     "output_type": "display_data"
    }
   ],
   "source": [
    "import os\n",
    "\n",
    "import fiona\n",
    "import geopandas as gpd\n",
    "import gpxpy\n",
    "import numpy as np\n",
    "import pandas as pd\n",
    "from multiprocess.pool import Pool\n",
    "from tqdm.notebook import tqdm, trange\n",
    "import warnings\n",
    "import geopy.distance\n",
    "\n",
    "warnings.filterwarnings('ignore')\n",
    "\n",
    "fiona.drvsupport.supported_drivers['kml'] = 'rw'\n",
    "fiona.drvsupport.supported_drivers['KML'] = 'rw'\n",
    "\n",
    "storage = \"/Volumes/easystore/Drones/\"\n",
    "\n",
    "flight_details = pd.concat(\n",
    "    [\n",
    "        chunk\n",
    "        for chunk in tqdm(\n",
    "            pd.read_csv(\n",
    "                f\"{storage}/gpx-with-census-data.csv\", chunksize=100000, dtype=str\n",
    "            ),\n",
    "            desc=\"Loading data\",\n",
    "        )\n",
    "    ]\n",
    ")"
   ]
  },
  {
   "cell_type": "code",
   "execution_count": 30,
   "id": "aca8d8b7-6bec-4846-a8c0-7c91945a9aaa",
   "metadata": {},
   "outputs": [
    {
     "data": {
      "application/json": {
       "ascii": false,
       "bar_format": null,
       "colour": null,
       "elapsed": 0.042176008224487305,
       "initial": 0,
       "n": 0,
       "ncols": null,
       "nrows": 23,
       "postfix": null,
       "prefix": "Loading data",
       "rate": null,
       "total": null,
       "unit": "it",
       "unit_divisor": 1000,
       "unit_scale": false
      },
      "application/vnd.jupyter.widget-view+json": {
       "model_id": "d101ebd8137847439ff7fba2a8f0228b",
       "version_major": 2,
       "version_minor": 0
      },
      "text/plain": [
       "Loading data: 0it [00:00, ?it/s]"
      ]
     },
     "metadata": {},
     "output_type": "display_data"
    }
   ],
   "source": [
    "geocodio_flights = pd.concat(\n",
    "    [\n",
    "        chunk\n",
    "        for chunk in tqdm(\n",
    "            pd.read_csv(\n",
    "                f\"{storage}/geocodio/all-flights-manifest_geocodio.csv\",\n",
    "                chunksize=100000,\n",
    "                dtype=str,\n",
    "            ),\n",
    "            desc=\"Loading data\",\n",
    "        )\n",
    "    ]\n",
    ")\n",
    "# a = pd.read_csv('../../data/outputs/outputs_cv-flight-manifest.csv')"
   ]
  },
  {
   "cell_type": "code",
   "execution_count": 8,
   "id": "bce17e7c-34c3-4547-a3be-28adf7747a27",
   "metadata": {},
   "outputs": [],
   "source": [
    "flight_details[\"geoid\"] = flight_details[\"geoid\"].astype(str)\n",
    "flight_details[\"len\"] = flight_details[\"geoid\"].apply(lambda x: len(x))\n",
    "flight_details.loc[flight_details[\"len\"] == 14, \"geoid\"] = \"0\" + flight_details[\"geoid\"]\n"
   ]
  },
  {
   "cell_type": "code",
   "execution_count": 9,
   "id": "0f0118b1-d49d-44dc-a89d-959c6c0fc990",
   "metadata": {},
   "outputs": [],
   "source": [
    "geocodio_flights[\"date\"] = pd.to_datetime(geocodio_flights[\"date\"]).dt.date\n"
   ]
  },
  {
   "cell_type": "code",
   "execution_count": 10,
   "id": "68e509cc-b57a-4450-84c3-dee0141712e4",
   "metadata": {},
   "outputs": [],
   "source": [
    "flight_details['altitude'] = flight_details['altitude'].astype(float)"
   ]
  },
  {
   "cell_type": "code",
   "execution_count": 11,
   "id": "5e00567b-cc64-41e3-a010-4b922ee65067",
   "metadata": {},
   "outputs": [
    {
     "data": {
      "text/plain": [
       "130.50396990973857"
      ]
     },
     "execution_count": 11,
     "metadata": {},
     "output_type": "execute_result"
    }
   ],
   "source": [
    "flight_details['altitude'].mean()"
   ]
  },
  {
   "cell_type": "code",
   "execution_count": 91,
   "id": "a32e6d89-cd1c-4320-80cb-510400e4b23d",
   "metadata": {},
   "outputs": [],
   "source": [
    "# flight_ids = stable_flights.sample(1000)['id'].drop_duplicates()\n",
    "potentially_low_boys = flight_details[flight_details['altitude'] <= 50]\n",
    "geocodio_flights = geocodio_flights[geocodio_flights['department']=='cvpd']\n",
    "\n",
    "flight_ids = potentially_low_boys[['id']].sample(frac=1).drop_duplicates()\n",
    "flight_ids = flight_ids[flight_ids['id'].isin(geocodio_flights['id'])]['id']\n"
   ]
  },
  {
   "cell_type": "markdown",
   "id": "d0609712-94eb-440c-ab36-e5c482097f6d",
   "metadata": {},
   "source": [
    "### Launch Sites\n",
    "- BayView Hospital = 60730131022000\n",
    "- CVPD = 60730123021013\n",
    "- SharpChula Medical Center = 60730133273000\n",
    "- SWestern College = 60730134151000\n"
   ]
  },
  {
   "cell_type": "code",
   "execution_count": 92,
   "id": "bada5f98-0bcd-4d6f-9215-889634d37dfa",
   "metadata": {},
   "outputs": [],
   "source": [
    "potentially_low_boys = potentially_low_boys[potentially_low_boys['id'].isin(flight_ids)]\n",
    "# t[['id','type','incident_id','address_map','sequence','latitude','longitude','altitude']].drop_duplicates().to_csv('./test.csv')"
   ]
  },
  {
   "cell_type": "code",
   "execution_count": 93,
   "id": "4c39c66e-a218-4b07-9882-d612a0a0048f",
   "metadata": {},
   "outputs": [],
   "source": [
    "potentially_low_boys['altitude']=round(potentially_low_boys['altitude'])\n",
    "potentially_low_boys=potentially_low_boys[potentially_low_boys['geoid']!='060730123021013']"
   ]
  },
  {
   "cell_type": "code",
   "execution_count": 103,
   "id": "aaa1ed50-b99a-4b9c-8ae4-2d8d58c2a3c4",
   "metadata": {},
   "outputs": [],
   "source": [
    "potentially_low_boys = potentially_low_boys[potentially_low_boys['sequence'].astype(str).str.contains('2023')]"
   ]
  },
  {
   "cell_type": "code",
   "execution_count": 110,
   "id": "a2654331-3eb3-4848-b4a0-d1d7a9d6bfd8",
   "metadata": {},
   "outputs": [],
   "source": [
    "potentially_low_boys[['id','type','incident_id','address_map','latitude','longitude','altitude','sequence']].drop_duplicates().to_csv('./low-boys.csv',index=False)"
   ]
  },
  {
   "cell_type": "code",
   "execution_count": 104,
   "id": "3387f7fc-7181-4758-bc6b-e176110ef3e7",
   "metadata": {},
   "outputs": [],
   "source": [
    "compiled_flights =[] \n",
    "\n",
    "for r_id in potentially_low_boys['id'].drop_duplicates().values:\n",
    "    \n",
    "    d = gpd.read_file(f\"/Volumes/easystore/Drones/flights/kml/{r_id}.kml\",driver='KML')\n",
    "    d['id'] = r_id\n",
    "    compiled_flights.append(d)\n"
   ]
  },
  {
   "cell_type": "code",
   "execution_count": null,
   "id": "b6451e36-68cc-47c7-9030-58801481bb8f",
   "metadata": {},
   "outputs": [],
   "source": []
  },
  {
   "cell_type": "code",
   "execution_count": 109,
   "id": "252f02ca-ce0a-4ca9-b804-60ab91054839",
   "metadata": {},
   "outputs": [],
   "source": [
    "paths = pd.concat(compiled_flights,ignore_index=True)\n",
    "paths = paths[paths['Name']!=\"Home\"]\n",
    "paths[['geometry','id']].drop_duplicates().to_csv('./low-paths.csv',index=False)"
   ]
  },
  {
   "cell_type": "code",
   "execution_count": 111,
   "id": "8c523dac-0188-4129-aef7-b13ec278b5f3",
   "metadata": {},
   "outputs": [
    {
     "data": {
      "text/html": [
       "<div>\n",
       "<style scoped>\n",
       "    .dataframe tbody tr th:only-of-type {\n",
       "        vertical-align: middle;\n",
       "    }\n",
       "\n",
       "    .dataframe tbody tr th {\n",
       "        vertical-align: top;\n",
       "    }\n",
       "\n",
       "    .dataframe thead th {\n",
       "        text-align: right;\n",
       "    }\n",
       "</style>\n",
       "<table border=\"1\" class=\"dataframe\">\n",
       "  <thead>\n",
       "    <tr style=\"text-align: right;\">\n",
       "      <th></th>\n",
       "      <th>Name</th>\n",
       "      <th>Description</th>\n",
       "      <th>geometry</th>\n",
       "      <th>id</th>\n",
       "    </tr>\n",
       "  </thead>\n",
       "  <tbody>\n",
       "    <tr>\n",
       "      <th>1</th>\n",
       "      <td>Airdata.com</td>\n",
       "      <td></td>\n",
       "      <td>LINESTRING Z (-117.07164 32.61740 34.86653, -1...</td>\n",
       "      <td>d2bdc8877bdb078651008ce731d44a5a</td>\n",
       "    </tr>\n",
       "    <tr>\n",
       "      <th>3</th>\n",
       "      <td>Airdata.com</td>\n",
       "      <td></td>\n",
       "      <td>LINESTRING Z (-117.07164 32.61740 34.86653, -1...</td>\n",
       "      <td>8a33d73561e523eedeae76178b0e5229</td>\n",
       "    </tr>\n",
       "    <tr>\n",
       "      <th>5</th>\n",
       "      <td>Airdata.com</td>\n",
       "      <td></td>\n",
       "      <td>LINESTRING Z (-117.07166 32.61738 34.98082, -1...</td>\n",
       "      <td>6285b1e8aaf7455e76174c9335e6f56b</td>\n",
       "    </tr>\n",
       "    <tr>\n",
       "      <th>7</th>\n",
       "      <td>Airdata.com</td>\n",
       "      <td></td>\n",
       "      <td>LINESTRING Z (-117.07542 32.59255 11.13193, -1...</td>\n",
       "      <td>0d627ef435c0242351203e7fa247970f</td>\n",
       "    </tr>\n",
       "    <tr>\n",
       "      <th>9</th>\n",
       "      <td>Airdata.com</td>\n",
       "      <td></td>\n",
       "      <td>LINESTRING Z (-117.07168 32.61742 34.89764, -1...</td>\n",
       "      <td>6e36b515b6162150bbc19d1b65027d98</td>\n",
       "    </tr>\n",
       "    <tr>\n",
       "      <th>...</th>\n",
       "      <td>...</td>\n",
       "      <td>...</td>\n",
       "      <td>...</td>\n",
       "      <td>...</td>\n",
       "    </tr>\n",
       "    <tr>\n",
       "      <th>2799</th>\n",
       "      <td>Airdata.com</td>\n",
       "      <td></td>\n",
       "      <td>LINESTRING Z (-117.07167 32.61743 34.87211, -1...</td>\n",
       "      <td>6d2a6c98567541788cf6d5effd7e9cc2</td>\n",
       "    </tr>\n",
       "    <tr>\n",
       "      <th>2801</th>\n",
       "      <td>Airdata.com</td>\n",
       "      <td></td>\n",
       "      <td>LINESTRING Z (-117.07168 32.61744 34.99027, -1...</td>\n",
       "      <td>c9d3f44b57795f6babda502e37762090</td>\n",
       "    </tr>\n",
       "    <tr>\n",
       "      <th>2803</th>\n",
       "      <td>Airdata.com</td>\n",
       "      <td></td>\n",
       "      <td>LINESTRING Z (-117.07167 32.61743 34.87211, -1...</td>\n",
       "      <td>4019ff5b921f49e5cca46120cf7ba79f</td>\n",
       "    </tr>\n",
       "    <tr>\n",
       "      <th>2805</th>\n",
       "      <td>Airdata.com</td>\n",
       "      <td></td>\n",
       "      <td>LINESTRING Z (-117.07167 32.61744 34.98535, -1...</td>\n",
       "      <td>c3c86e9941fa457323fba31583193c77</td>\n",
       "    </tr>\n",
       "    <tr>\n",
       "      <th>2807</th>\n",
       "      <td>Airdata.com</td>\n",
       "      <td></td>\n",
       "      <td>LINESTRING Z (-117.07168 32.61744 34.99027, -1...</td>\n",
       "      <td>c3cd1029c185a72e1b93dffb686aba03</td>\n",
       "    </tr>\n",
       "  </tbody>\n",
       "</table>\n",
       "<p>1404 rows × 4 columns</p>\n",
       "</div>"
      ],
      "text/plain": [
       "             Name Description  \\\n",
       "1     Airdata.com               \n",
       "3     Airdata.com               \n",
       "5     Airdata.com               \n",
       "7     Airdata.com               \n",
       "9     Airdata.com               \n",
       "...           ...         ...   \n",
       "2799  Airdata.com               \n",
       "2801  Airdata.com               \n",
       "2803  Airdata.com               \n",
       "2805  Airdata.com               \n",
       "2807  Airdata.com               \n",
       "\n",
       "                                               geometry  \\\n",
       "1     LINESTRING Z (-117.07164 32.61740 34.86653, -1...   \n",
       "3     LINESTRING Z (-117.07164 32.61740 34.86653, -1...   \n",
       "5     LINESTRING Z (-117.07166 32.61738 34.98082, -1...   \n",
       "7     LINESTRING Z (-117.07542 32.59255 11.13193, -1...   \n",
       "9     LINESTRING Z (-117.07168 32.61742 34.89764, -1...   \n",
       "...                                                 ...   \n",
       "2799  LINESTRING Z (-117.07167 32.61743 34.87211, -1...   \n",
       "2801  LINESTRING Z (-117.07168 32.61744 34.99027, -1...   \n",
       "2803  LINESTRING Z (-117.07167 32.61743 34.87211, -1...   \n",
       "2805  LINESTRING Z (-117.07167 32.61744 34.98535, -1...   \n",
       "2807  LINESTRING Z (-117.07168 32.61744 34.99027, -1...   \n",
       "\n",
       "                                    id  \n",
       "1     d2bdc8877bdb078651008ce731d44a5a  \n",
       "3     8a33d73561e523eedeae76178b0e5229  \n",
       "5     6285b1e8aaf7455e76174c9335e6f56b  \n",
       "7     0d627ef435c0242351203e7fa247970f  \n",
       "9     6e36b515b6162150bbc19d1b65027d98  \n",
       "...                                ...  \n",
       "2799  6d2a6c98567541788cf6d5effd7e9cc2  \n",
       "2801  c9d3f44b57795f6babda502e37762090  \n",
       "2803  4019ff5b921f49e5cca46120cf7ba79f  \n",
       "2805  c3c86e9941fa457323fba31583193c77  \n",
       "2807  c3cd1029c185a72e1b93dffb686aba03  \n",
       "\n",
       "[1404 rows x 4 columns]"
      ]
     },
     "execution_count": 111,
     "metadata": {},
     "output_type": "execute_result"
    }
   ],
   "source": [
    "paths"
   ]
  }
 ],
 "metadata": {
  "kernelspec": {
   "display_name": "Python 3 (ipykernel)",
   "language": "python",
   "name": "python3"
  },
  "language_info": {
   "codemirror_mode": {
    "name": "ipython",
    "version": 3
   },
   "file_extension": ".py",
   "mimetype": "text/x-python",
   "name": "python",
   "nbconvert_exporter": "python",
   "pygments_lexer": "ipython3",
   "version": "3.10.10"
  }
 },
 "nbformat": 4,
 "nbformat_minor": 5
}
