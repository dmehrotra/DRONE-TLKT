{
 "cells": [
  {
   "cell_type": "markdown",
   "id": "2963cfde-557a-4edf-8be1-3fe3a1521303",
   "metadata": {},
   "source": [
    "# Prep Census Data"
   ]
  },
  {
   "cell_type": "code",
   "execution_count": 1,
   "id": "14dc6827-4b46-41d4-ac4f-19d6eb35a103",
   "metadata": {},
   "outputs": [
    {
     "data": {
      "application/json": {
       "ascii": false,
       "bar_format": null,
       "colour": null,
       "elapsed": 0.05411100387573242,
       "initial": 0,
       "n": 0,
       "ncols": null,
       "nrows": 25,
       "postfix": null,
       "prefix": "Loading data",
       "rate": null,
       "total": null,
       "unit": "it",
       "unit_divisor": 1000,
       "unit_scale": false
      },
      "application/vnd.jupyter.widget-view+json": {
       "model_id": "1211414705b1446892657b7490c219aa",
       "version_major": 2,
       "version_minor": 0
      },
      "text/plain": [
       "Loading data: 0it [00:00, ?it/s]"
      ]
     },
     "metadata": {},
     "output_type": "display_data"
    },
    {
     "data": {
      "application/json": {
       "ascii": false,
       "bar_format": null,
       "colour": null,
       "elapsed": 0.05297112464904785,
       "initial": 0,
       "n": 0,
       "ncols": null,
       "nrows": 25,
       "postfix": null,
       "prefix": "Loading data",
       "rate": null,
       "total": null,
       "unit": "it",
       "unit_divisor": 1000,
       "unit_scale": false
      },
      "application/vnd.jupyter.widget-view+json": {
       "model_id": "0a0441a392474cc797376881537334cd",
       "version_major": 2,
       "version_minor": 0
      },
      "text/plain": [
       "Loading data: 0it [00:00, ?it/s]"
      ]
     },
     "metadata": {},
     "output_type": "display_data"
    },
    {
     "data": {
      "application/json": {
       "ascii": false,
       "bar_format": null,
       "colour": null,
       "elapsed": 0.04140067100524902,
       "initial": 0,
       "n": 0,
       "ncols": null,
       "nrows": 25,
       "postfix": null,
       "prefix": "Loading data",
       "rate": null,
       "total": null,
       "unit": "it",
       "unit_divisor": 1000,
       "unit_scale": false
      },
      "application/vnd.jupyter.widget-view+json": {
       "model_id": "9fab9b3de56a4b409d91af91ff568c52",
       "version_major": 2,
       "version_minor": 0
      },
      "text/plain": [
       "Loading data: 0it [00:00, ?it/s]"
      ]
     },
     "metadata": {},
     "output_type": "display_data"
    }
   ],
   "source": [
    "import geopandas as gpd\n",
    "import numpy as np\n",
    "import pandas as pd\n",
    "from tqdm.notebook import tqdm, trange\n",
    "import json\n",
    "storage = \"/Volumes/easystore/Drones\"\n",
    "\n",
    "with open(f'{storage}/census/acs-block-groups-household-income/metadata.json') as f:\n",
    "    acs_columns = json.load(f)\n",
    "    \n",
    "    \n",
    "    \n",
    "\n",
    "acs_poverty_bg = pd.concat(\n",
    "    [\n",
    "        chunk\n",
    "        for chunk in tqdm(\n",
    "            pd.read_csv(\n",
    "                f\"{storage}/census/acs-block-groups-household-income/acs2021_5yr_B19001_15000US060730134093.csv\", chunksize=100000, dtype=str\n",
    "            ),\n",
    "            desc=\"Loading data\",\n",
    "        )\n",
    "    ]\n",
    ")\n",
    "\n",
    "census_columns= pd.concat(\n",
    "    [\n",
    "        chunk\n",
    "        for chunk in tqdm(\n",
    "            pd.read_csv(\n",
    "                f\"{storage}/census/race/DECENNIALDHC2020.P3-Column-Metadata.csv\", chunksize=100000, dtype=str\n",
    "            ),\n",
    "            desc=\"Loading data\",\n",
    "        )\n",
    "    ]\n",
    ")\n",
    "census_race= pd.concat(\n",
    "    [\n",
    "        chunk\n",
    "        for chunk in tqdm(\n",
    "            pd.read_csv(\n",
    "                f\"{storage}/census/race/DECENNIALDHC2020.P3-Data.csv\", chunksize=100000, dtype=str\n",
    "            ),\n",
    "            desc=\"Loading data\",\n",
    "        )\n",
    "    ]\n",
    ")\n",
    "\n"
   ]
  },
  {
   "cell_type": "markdown",
   "id": "11077d46-e9e3-4c10-8680-555ef424c2c2",
   "metadata": {},
   "source": [
    "## ACS Data\n",
    "Free and Reduced Meals in Schools in California is 55k: https://www.cde.ca.gov/ls/nu/rs/scales2324.asp"
   ]
  },
  {
   "cell_type": "code",
   "execution_count": 2,
   "id": "798e84af-6243-4e93-8399-049409164e06",
   "metadata": {},
   "outputs": [],
   "source": [
    "columns = acs_columns['tables']['B19001']['columns']\n",
    "remap={}\n",
    "eligible = []\n",
    "below_median = []\n",
    "drop=[]\n",
    "for column in columns:\n",
    "    remap[column] = columns[column]['name'].replace(':','').replace('$','')\n",
    "    remap[column+\", Error\"] = columns[column]['name'].replace(':','').replace('$','') + \" Error\"\n",
    "    drop.append(columns[column]['name'].replace(':','').replace('$','') + \" Error\")\n",
    "    \n",
    "    if columns[column]['name'] != \"Total:\":\n",
    "        if columns[column]['FRLP'] == \"True\":\n",
    "            eligible.append(columns[column]['name'].replace(':','').replace('$',''))\n",
    "        if columns[column]['median'] == \"below\":\n",
    "            below_median.append(columns[column]['name'].replace(':','').replace('$',''))\n",
    "\n",
    "# df.rename(columns={\"A\": \"a\", \"B\": \"c\"})\n",
    "acs_poverty_bg = acs_poverty_bg.rename(columns=remap)\n",
    "\n",
    "acs_poverty_bg['len'] = acs_poverty_bg['geoid'].apply(lambda x: len(x))\n",
    "acs_poverty_bg = acs_poverty_bg[acs_poverty_bg['len'] == 19].copy()\n",
    "acs_poverty_bg['block-group-geoid'] = acs_poverty_bg['geoid'].apply(lambda x: x.split('15000US')[1])\n"
   ]
  },
  {
   "cell_type": "code",
   "execution_count": 3,
   "id": "31c7438e-ed97-4873-a48a-d0cd07e76cbf",
   "metadata": {},
   "outputs": [
    {
     "data": {
      "text/html": [
       "<div>\n",
       "<style scoped>\n",
       "    .dataframe tbody tr th:only-of-type {\n",
       "        vertical-align: middle;\n",
       "    }\n",
       "\n",
       "    .dataframe tbody tr th {\n",
       "        vertical-align: top;\n",
       "    }\n",
       "\n",
       "    .dataframe thead th {\n",
       "        text-align: right;\n",
       "    }\n",
       "</style>\n",
       "<table border=\"1\" class=\"dataframe\">\n",
       "  <thead>\n",
       "    <tr style=\"text-align: right;\">\n",
       "      <th></th>\n",
       "      <th>geoid</th>\n",
       "      <th>name</th>\n",
       "      <th>Total</th>\n",
       "      <th>Less than 10,000</th>\n",
       "      <th>10,000 to 14,999</th>\n",
       "      <th>15,000 to 19,999</th>\n",
       "      <th>20,000 to 24,999</th>\n",
       "      <th>25,000 to 29,999</th>\n",
       "      <th>30,000 to 34,999</th>\n",
       "      <th>35,000 to 39,999</th>\n",
       "      <th>...</th>\n",
       "      <th>100,000 to 124,999</th>\n",
       "      <th>125,000 to 149,999</th>\n",
       "      <th>150,000 to 199,999</th>\n",
       "      <th>200,000 or more</th>\n",
       "      <th>len</th>\n",
       "      <th>block-group-geoid</th>\n",
       "      <th>FRLP Households</th>\n",
       "      <th>Below Median Households</th>\n",
       "      <th>% FRLP Eligible</th>\n",
       "      <th>% Below Median</th>\n",
       "    </tr>\n",
       "  </thead>\n",
       "  <tbody>\n",
       "    <tr>\n",
       "      <th>3</th>\n",
       "      <td>15000US060730032041</td>\n",
       "      <td>BG 1, Tract 32.04, San Diego, CA</td>\n",
       "      <td>660</td>\n",
       "      <td>41</td>\n",
       "      <td>8</td>\n",
       "      <td>0</td>\n",
       "      <td>16</td>\n",
       "      <td>8</td>\n",
       "      <td>31</td>\n",
       "      <td>27</td>\n",
       "      <td>...</td>\n",
       "      <td>92</td>\n",
       "      <td>76</td>\n",
       "      <td>89</td>\n",
       "      <td>69</td>\n",
       "      <td>19</td>\n",
       "      <td>060730032041</td>\n",
       "      <td>239.0</td>\n",
       "      <td>334.0</td>\n",
       "      <td>0.362121</td>\n",
       "      <td>0.506061</td>\n",
       "    </tr>\n",
       "    <tr>\n",
       "      <th>4</th>\n",
       "      <td>15000US060730032071</td>\n",
       "      <td>BG 1, Tract 32.07, San Diego, CA</td>\n",
       "      <td>759</td>\n",
       "      <td>0</td>\n",
       "      <td>0</td>\n",
       "      <td>0</td>\n",
       "      <td>0</td>\n",
       "      <td>0</td>\n",
       "      <td>0</td>\n",
       "      <td>0</td>\n",
       "      <td>...</td>\n",
       "      <td>90</td>\n",
       "      <td>123</td>\n",
       "      <td>39</td>\n",
       "      <td>228</td>\n",
       "      <td>19</td>\n",
       "      <td>060730032071</td>\n",
       "      <td>86.0</td>\n",
       "      <td>279.0</td>\n",
       "      <td>0.113307</td>\n",
       "      <td>0.367589</td>\n",
       "    </tr>\n",
       "    <tr>\n",
       "      <th>5</th>\n",
       "      <td>15000US060730100012</td>\n",
       "      <td>BG 2, Tract 100.01, San Diego, CA</td>\n",
       "      <td>953</td>\n",
       "      <td>82</td>\n",
       "      <td>16</td>\n",
       "      <td>7</td>\n",
       "      <td>0</td>\n",
       "      <td>32</td>\n",
       "      <td>0</td>\n",
       "      <td>61</td>\n",
       "      <td>...</td>\n",
       "      <td>91</td>\n",
       "      <td>61</td>\n",
       "      <td>141</td>\n",
       "      <td>74</td>\n",
       "      <td>19</td>\n",
       "      <td>060730100012</td>\n",
       "      <td>359.0</td>\n",
       "      <td>586.0</td>\n",
       "      <td>0.376705</td>\n",
       "      <td>0.614900</td>\n",
       "    </tr>\n",
       "    <tr>\n",
       "      <th>6</th>\n",
       "      <td>15000US060730100161</td>\n",
       "      <td>BG 1, Tract 100.16, San Diego, CA</td>\n",
       "      <td>0</td>\n",
       "      <td>0</td>\n",
       "      <td>0</td>\n",
       "      <td>0</td>\n",
       "      <td>0</td>\n",
       "      <td>0</td>\n",
       "      <td>0</td>\n",
       "      <td>0</td>\n",
       "      <td>...</td>\n",
       "      <td>0</td>\n",
       "      <td>0</td>\n",
       "      <td>0</td>\n",
       "      <td>0</td>\n",
       "      <td>19</td>\n",
       "      <td>060730100161</td>\n",
       "      <td>0.0</td>\n",
       "      <td>0.0</td>\n",
       "      <td>NaN</td>\n",
       "      <td>NaN</td>\n",
       "    </tr>\n",
       "    <tr>\n",
       "      <th>7</th>\n",
       "      <td>15000US060730100192</td>\n",
       "      <td>BG 2, Tract 100.19, San Diego, CA</td>\n",
       "      <td>529</td>\n",
       "      <td>0</td>\n",
       "      <td>0</td>\n",
       "      <td>0</td>\n",
       "      <td>0</td>\n",
       "      <td>0</td>\n",
       "      <td>27</td>\n",
       "      <td>0</td>\n",
       "      <td>...</td>\n",
       "      <td>51</td>\n",
       "      <td>109</td>\n",
       "      <td>94</td>\n",
       "      <td>40</td>\n",
       "      <td>19</td>\n",
       "      <td>060730100192</td>\n",
       "      <td>94.0</td>\n",
       "      <td>235.0</td>\n",
       "      <td>0.177694</td>\n",
       "      <td>0.444234</td>\n",
       "    </tr>\n",
       "  </tbody>\n",
       "</table>\n",
       "<p>5 rows × 25 columns</p>\n",
       "</div>"
      ],
      "text/plain": [
       "                 geoid                               name Total  \\\n",
       "3  15000US060730032041   BG 1, Tract 32.04, San Diego, CA   660   \n",
       "4  15000US060730032071   BG 1, Tract 32.07, San Diego, CA   759   \n",
       "5  15000US060730100012  BG 2, Tract 100.01, San Diego, CA   953   \n",
       "6  15000US060730100161  BG 1, Tract 100.16, San Diego, CA     0   \n",
       "7  15000US060730100192  BG 2, Tract 100.19, San Diego, CA   529   \n",
       "\n",
       "  Less than 10,000 10,000 to 14,999 15,000 to 19,999 20,000 to 24,999  \\\n",
       "3               41                8                0               16   \n",
       "4                0                0                0                0   \n",
       "5               82               16                7                0   \n",
       "6                0                0                0                0   \n",
       "7                0                0                0                0   \n",
       "\n",
       "  25,000 to 29,999 30,000 to 34,999 35,000 to 39,999  ... 100,000 to 124,999  \\\n",
       "3                8               31               27  ...                 92   \n",
       "4                0                0                0  ...                 90   \n",
       "5               32                0               61  ...                 91   \n",
       "6                0                0                0  ...                  0   \n",
       "7                0               27                0  ...                 51   \n",
       "\n",
       "  125,000 to 149,999 150,000 to 199,999 200,000 or more len block-group-geoid  \\\n",
       "3                 76                 89              69  19      060730032041   \n",
       "4                123                 39             228  19      060730032071   \n",
       "5                 61                141              74  19      060730100012   \n",
       "6                  0                  0               0  19      060730100161   \n",
       "7                109                 94              40  19      060730100192   \n",
       "\n",
       "  FRLP Households Below Median Households % FRLP Eligible  % Below Median  \n",
       "3           239.0                   334.0        0.362121        0.506061  \n",
       "4            86.0                   279.0        0.113307        0.367589  \n",
       "5           359.0                   586.0        0.376705        0.614900  \n",
       "6             0.0                     0.0             NaN             NaN  \n",
       "7            94.0                   235.0        0.177694        0.444234  \n",
       "\n",
       "[5 rows x 25 columns]"
      ]
     },
     "execution_count": 3,
     "metadata": {},
     "output_type": "execute_result"
    }
   ],
   "source": [
    "acs_poverty_bg['FRLP Households'] = acs_poverty_bg[eligible].astype(float).sum(axis=1)\n",
    "acs_poverty_bg['Below Median Households'] = acs_poverty_bg[below_median].astype(float).sum(axis=1)\n",
    "acs_poverty_bg['% FRLP Eligible'] = acs_poverty_bg['FRLP Households']/acs_poverty_bg['Total'].astype(float)\n",
    "acs_poverty_bg['% Below Median'] = acs_poverty_bg['Below Median Households']/acs_poverty_bg['Total'].astype(float)\n",
    "acs_poverty_bg = acs_poverty_bg.drop(labels=drop, axis=1)\n",
    "acs_poverty_bg.head()"
   ]
  },
  {
   "cell_type": "code",
   "execution_count": 4,
   "id": "6d43be23-26b7-48c3-a5b7-1e26a28a574b",
   "metadata": {},
   "outputs": [],
   "source": [
    "acs_poverty_bg.to_csv('../../data/outputs/outputs_acs-poverty-blockgroups.csv',index=False)"
   ]
  },
  {
   "cell_type": "markdown",
   "id": "08c1d480-ffb6-470d-b160-4b6e367c2151",
   "metadata": {},
   "source": [
    "## Get Chula Vista Block Groups"
   ]
  },
  {
   "cell_type": "code",
   "execution_count": 5,
   "id": "e7a368de-3e1e-4306-b5a9-943ebd47df5b",
   "metadata": {},
   "outputs": [],
   "source": [
    "cv_block_groups = acs_poverty_bg[['geoid','block-group-geoid']]\n",
    "cv_block_groups.to_csv('../../data/outputs/outputs_cv-block-groups.csv',index=False)\n"
   ]
  },
  {
   "cell_type": "markdown",
   "id": "9c98bea6-8ce7-4765-91ed-3ebf14fb9ec0",
   "metadata": {},
   "source": [
    "## Census Data"
   ]
  },
  {
   "cell_type": "code",
   "execution_count": 6,
   "id": "ce2369be-6b78-4a68-956c-eddbc7cda107",
   "metadata": {},
   "outputs": [
    {
     "name": "stdout",
     "output_type": "stream",
     "text": [
      "Not Remapping: Unnamed: 18\n"
     ]
    }
   ],
   "source": [
    "columns = census_race.iloc[0].to_dict()\n",
    "remap={}\n",
    "drop=[]\n",
    "for column in columns:\n",
    "    try:\n",
    "        if column[-1] == \"A\":\n",
    "            drop.append(column)\n",
    "        else:\n",
    "            remap[column] = columns[column].split('!!')[-1].replace(':',\"\").replace(' alone','')\n",
    "    except:\n",
    "        print(f\"Not Remapping: {column}\")\n",
    "        "
   ]
  },
  {
   "cell_type": "code",
   "execution_count": 7,
   "id": "585c24a6-2569-4f27-9a9b-ff336b10f5ed",
   "metadata": {},
   "outputs": [],
   "source": [
    "census_race = census_race.rename(columns = remap)\n",
    "census_race = census_race.drop(labels=drop, axis=1)\n"
   ]
  },
  {
   "cell_type": "code",
   "execution_count": 8,
   "id": "cd2f9805-03c8-49ff-86fb-aeb36b6818c9",
   "metadata": {},
   "outputs": [],
   "source": [
    "census_race['GEOID20'] = census_race['Geography'].apply(lambda x: x.split('US')[-1])\n",
    "census_race['len'] = census_race['GEOID20'].apply(lambda x: len(x))\n",
    "mask=census_race['GEOID20'].str.contains('|'.join(cv_block_groups[\"block-group-geoid\"].values), case=False)\n",
    "census_race = census_race[mask].copy()\n",
    "\n",
    "# census_race[census_race['GEOID20'].str.contains(\"060730032041\")]"
   ]
  },
  {
   "cell_type": "code",
   "execution_count": 9,
   "id": "28623367-8daa-4aca-b4c6-0357b5cc04ef",
   "metadata": {},
   "outputs": [],
   "source": [
    "census_race.to_csv('../../data/outputs/outputs_census-race.csv',index=False)\n"
   ]
  },
  {
   "cell_type": "code",
   "execution_count": 10,
   "id": "398c71d0-1878-4e72-a9a5-3b59748beec4",
   "metadata": {},
   "outputs": [
    {
     "data": {
      "text/plain": [
       "Index(['Geography', 'Geographic Area Name', 'Total', 'White',\n",
       "       'Black or African American', 'American Indian and Alaska Native',\n",
       "       'Asian', 'Native Hawaiian and Other Pacific Islander',\n",
       "       'Some Other Race', 'Two or More Races', 'Unnamed: 18', 'GEOID20',\n",
       "       'len'],\n",
       "      dtype='object')"
      ]
     },
     "execution_count": 10,
     "metadata": {},
     "output_type": "execute_result"
    }
   ],
   "source": [
    "census_race.columns"
   ]
  },
  {
   "cell_type": "code",
   "execution_count": 11,
   "id": "12c354f9-9d44-4fdf-bedc-7aa3a74ef2bc",
   "metadata": {},
   "outputs": [],
   "source": [
    "sd_county = pd.read_csv('../../data/mapping/sd_county-geometry.csv')"
   ]
  },
  {
   "cell_type": "code",
   "execution_count": 12,
   "id": "51fe683e-6efe-40aa-823a-3bb3ec39400f",
   "metadata": {},
   "outputs": [],
   "source": [
    "sd_county['GEOID20'] = \"0\" + sd_county['GEOID20'].astype(str)\n",
    "mask=sd_county['GEOID20'].astype(str).str.contains('|'.join(cv_block_groups[\"block-group-geoid\"].values), case=False)\n",
    "sd_county = sd_county[mask].copy()\n",
    "sd_county['GEOID20'] = \"0\" + sd_county['GEOID20'].astype(int).astype(str)\n",
    "sd_county['len'] = sd_county['GEOID20'].apply(lambda x: len(x))\n",
    "sd_county['POP20'] = sd_county['POP20'].astype(int) + 1\n",
    "sd_county.to_csv('../../data/outputs/outputs_cv-blocks-geometry.csv',index=False)"
   ]
  },
  {
   "cell_type": "code",
   "execution_count": null,
   "id": "7ff09df1-5e58-4dbd-8a5d-9980f964a80a",
   "metadata": {},
   "outputs": [],
   "source": []
  },
  {
   "cell_type": "code",
   "execution_count": null,
   "id": "2224d122-d2be-4555-b0d1-1abc3334b947",
   "metadata": {},
   "outputs": [],
   "source": []
  }
 ],
 "metadata": {
  "kernelspec": {
   "display_name": "Python 3 (ipykernel)",
   "language": "python",
   "name": "python3"
  },
  "language_info": {
   "codemirror_mode": {
    "name": "ipython",
    "version": 3
   },
   "file_extension": ".py",
   "mimetype": "text/x-python",
   "name": "python",
   "nbconvert_exporter": "python",
   "pygments_lexer": "ipython3",
   "version": "3.10.10"
  }
 },
 "nbformat": 4,
 "nbformat_minor": 5
}
