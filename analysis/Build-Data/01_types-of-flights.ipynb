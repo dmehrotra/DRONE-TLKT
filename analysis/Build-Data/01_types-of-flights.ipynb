{
 "cells": [
  {
   "cell_type": "code",
   "execution_count": 5,
   "id": "f1f62785-9e8e-41b9-b22e-a22638d6ec72",
   "metadata": {},
   "outputs": [
    {
     "data": {
      "application/vnd.jupyter.widget-view+json": {
       "model_id": "823ab0aefe9f4363a7225e9f2a387f70",
       "version_major": 2,
       "version_minor": 0
      },
      "text/plain": [
       "Loading data: 0it [00:00, ?it/s]"
      ]
     },
     "metadata": {},
     "output_type": "display_data"
    },
    {
     "data": {
      "application/vnd.jupyter.widget-view+json": {
       "model_id": "19ec6d97b13f4493a3eeeb5b00d04286",
       "version_major": 2,
       "version_minor": 0
      },
      "text/plain": [
       "Loading data: 0it [00:00, ?it/s]"
      ]
     },
     "metadata": {},
     "output_type": "display_data"
    }
   ],
   "source": [
    "import pandas as pd\n",
    "from tqdm.notebook import tqdm, trange\n",
    "import re\n",
    "\n",
    "storage = \"/Volumes/easystore/Drones/\"\n",
    "\n",
    "cv_flights = pd.concat(\n",
    "    [\n",
    "        chunk\n",
    "        for chunk in tqdm(\n",
    "            pd.read_csv(\n",
    "                f\"../../data/outputs/outputs_cv-flight-manifest.csv\", chunksize=100000, dtype=str\n",
    "            ),\n",
    "            desc=\"Loading data\",\n",
    "        )\n",
    "    ]\n",
    ")\n",
    "calls_for_service = pd.concat(\n",
    "    [\n",
    "        chunk\n",
    "        for chunk in tqdm(\n",
    "            pd.read_csv(\n",
    "                f\"{storage}/calls-for-service-with-census-data.csv\",\n",
    "                chunksize=100000,\n",
    "                dtype=str,\n",
    "            ),\n",
    "            desc=\"Loading data\",\n",
    "        )\n",
    "    ]\n",
    ")"
   ]
  },
  {
   "cell_type": "code",
   "execution_count": 6,
   "id": "b40bf4bb-999f-4307-9936-d414ac2f7aa6",
   "metadata": {},
   "outputs": [],
   "source": [
    "cv_flights['clean-type'] = cv_flights['type'].str.lower()\n",
    "cv_flights['clean-type'] = cv_flights['clean-type'].apply(lambda x: str(x).replace('  ','').strip())"
   ]
  },
  {
   "cell_type": "code",
   "execution_count": 7,
   "id": "7b5294f4-dd75-4ebf-bd88-78c8f184f690",
   "metadata": {},
   "outputs": [
    {
     "data": {
      "text/html": [
       "<div>\n",
       "<style scoped>\n",
       "    .dataframe tbody tr th:only-of-type {\n",
       "        vertical-align: middle;\n",
       "    }\n",
       "\n",
       "    .dataframe tbody tr th {\n",
       "        vertical-align: top;\n",
       "    }\n",
       "\n",
       "    .dataframe thead th {\n",
       "        text-align: right;\n",
       "    }\n",
       "</style>\n",
       "<table border=\"1\" class=\"dataframe\">\n",
       "  <thead>\n",
       "    <tr style=\"text-align: right;\">\n",
       "      <th></th>\n",
       "      <th>lat_map</th>\n",
       "      <th>lon_map</th>\n",
       "      <th>time</th>\n",
       "      <th>id</th>\n",
       "      <th>date</th>\n",
       "      <th>time_s</th>\n",
       "      <th>address_map</th>\n",
       "      <th>incident_id</th>\n",
       "      <th>type</th>\n",
       "      <th>department</th>\n",
       "      <th>clean-type</th>\n",
       "      <th>match</th>\n",
       "    </tr>\n",
       "  </thead>\n",
       "  <tbody>\n",
       "  </tbody>\n",
       "</table>\n",
       "</div>"
      ],
      "text/plain": [
       "Empty DataFrame\n",
       "Columns: [lat_map, lon_map, time, id, date, time_s, address_map, incident_id, type, department, clean-type, match]\n",
       "Index: []"
      ]
     },
     "execution_count": 7,
     "metadata": {},
     "output_type": "execute_result"
    }
   ],
   "source": [
    "cv_flights[cv_flights['clean-type'].astype(str).str.contains('vaping')]"
   ]
  },
  {
   "cell_type": "code",
   "execution_count": 8,
   "id": "ed266d66-ce69-498f-8d77-4e4296c68b7b",
   "metadata": {},
   "outputs": [],
   "source": [
    "cv_flights['clean-type'].drop_duplicates().to_csv('../../data/manually-label/types-to-label-flights.csv',index=False)\n"
   ]
  },
  {
   "cell_type": "code",
   "execution_count": 9,
   "id": "1a57a0ea-0216-4307-8d02-7c1024644f2b",
   "metadata": {},
   "outputs": [],
   "source": [
    "cv_flights[cv_flights['clean-type'].str.contains('drone')]\n",
    "cv_flights['src']='drone_flights'"
   ]
  },
  {
   "cell_type": "code",
   "execution_count": 10,
   "id": "ab83b8ff-9574-47d0-8baf-ea98d735232c",
   "metadata": {},
   "outputs": [],
   "source": [
    "calls_for_service['clean-type'] = calls_for_service['Description'].str.lower()\n",
    "calls_for_service['src']='cfs'\n",
    "calls_for_service['clean-type'] = calls_for_service['clean-type'].apply(lambda x: str(x).replace('  ','').strip())"
   ]
  },
  {
   "cell_type": "code",
   "execution_count": 11,
   "id": "37050b3e-404c-464d-af9d-05e373679dad",
   "metadata": {},
   "outputs": [],
   "source": [
    "a = []\n",
    "a.append(calls_for_service[['src','clean-type']])\n",
    "a.append(cv_flights[['src','clean-type']])\n",
    "types = pd.concat(a)"
   ]
  },
  {
   "cell_type": "code",
   "execution_count": 12,
   "id": "0c732fc8-3d7e-44b2-bb4e-5ba41d93a32c",
   "metadata": {},
   "outputs": [
    {
     "data": {
      "text/html": [
       "<div>\n",
       "<style scoped>\n",
       "    .dataframe tbody tr th:only-of-type {\n",
       "        vertical-align: middle;\n",
       "    }\n",
       "\n",
       "    .dataframe tbody tr th {\n",
       "        vertical-align: top;\n",
       "    }\n",
       "\n",
       "    .dataframe thead th {\n",
       "        text-align: right;\n",
       "    }\n",
       "</style>\n",
       "<table border=\"1\" class=\"dataframe\">\n",
       "  <thead>\n",
       "    <tr style=\"text-align: right;\">\n",
       "      <th></th>\n",
       "      <th>clean-type</th>\n",
       "    </tr>\n",
       "  </thead>\n",
       "  <tbody>\n",
       "    <tr>\n",
       "      <th>0</th>\n",
       "      <td>extra patrol</td>\n",
       "    </tr>\n",
       "    <tr>\n",
       "      <th>1</th>\n",
       "      <td>narcotics</td>\n",
       "    </tr>\n",
       "    <tr>\n",
       "      <th>2</th>\n",
       "      <td>pedestrian stop</td>\n",
       "    </tr>\n",
       "    <tr>\n",
       "      <th>3</th>\n",
       "      <td>disturbance - general</td>\n",
       "    </tr>\n",
       "    <tr>\n",
       "      <th>5</th>\n",
       "      <td>pedestrian stop (person in parked veh)</td>\n",
       "    </tr>\n",
       "    <tr>\n",
       "      <th>...</th>\n",
       "      <td>...</td>\n",
       "    </tr>\n",
       "    <tr>\n",
       "      <th>9472</th>\n",
       "      <td>intoxicated person</td>\n",
       "    </tr>\n",
       "    <tr>\n",
       "      <th>9474</th>\n",
       "      <td>missing child / fight</td>\n",
       "    </tr>\n",
       "    <tr>\n",
       "      <th>9481</th>\n",
       "      <td>impaired driver / person with gun</td>\n",
       "    </tr>\n",
       "    <tr>\n",
       "      <th>9490</th>\n",
       "      <td>mental health call / mental health call</td>\n",
       "    </tr>\n",
       "    <tr>\n",
       "      <th>9513</th>\n",
       "      <td>robbery / assault</td>\n",
       "    </tr>\n",
       "  </tbody>\n",
       "</table>\n",
       "<p>784 rows × 1 columns</p>\n",
       "</div>"
      ],
      "text/plain": [
       "                                   clean-type\n",
       "0                                extra patrol\n",
       "1                                   narcotics\n",
       "2                             pedestrian stop\n",
       "3                       disturbance - general\n",
       "5      pedestrian stop (person in parked veh)\n",
       "...                                       ...\n",
       "9472                       intoxicated person\n",
       "9474                    missing child / fight\n",
       "9481        impaired driver / person with gun\n",
       "9490  mental health call / mental health call\n",
       "9513                        robbery / assault\n",
       "\n",
       "[784 rows x 1 columns]"
      ]
     },
     "execution_count": 12,
     "metadata": {},
     "output_type": "execute_result"
    }
   ],
   "source": [
    "types[['clean-type']].drop_duplicates()"
   ]
  },
  {
   "cell_type": "code",
   "execution_count": 13,
   "id": "085a3df9-9ef5-4ce0-8ed0-92055e38342b",
   "metadata": {},
   "outputs": [],
   "source": [
    "types[['clean-type']].drop_duplicates().to_csv('../../data/manually-label/types.csv',index=False)"
   ]
  },
  {
   "cell_type": "code",
   "execution_count": null,
   "id": "f563f132-9c50-4d60-8869-b849da0e5a9e",
   "metadata": {},
   "outputs": [],
   "source": []
  },
  {
   "cell_type": "code",
   "execution_count": null,
   "id": "045a9170-b4e9-4887-985e-f506c82043f9",
   "metadata": {},
   "outputs": [],
   "source": []
  },
  {
   "cell_type": "code",
   "execution_count": null,
   "id": "fa54bf59-bcfa-4f1b-a029-f0dd767207a4",
   "metadata": {},
   "outputs": [],
   "source": []
  },
  {
   "cell_type": "code",
   "execution_count": null,
   "id": "ad236756-7149-4310-98ca-d47f0f9240c6",
   "metadata": {},
   "outputs": [],
   "source": []
  }
 ],
 "metadata": {
  "kernelspec": {
   "display_name": "Python 3 (ipykernel)",
   "language": "python",
   "name": "python3"
  },
  "language_info": {
   "codemirror_mode": {
    "name": "ipython",
    "version": 3
   },
   "file_extension": ".py",
   "mimetype": "text/x-python",
   "name": "python",
   "nbconvert_exporter": "python",
   "pygments_lexer": "ipython3",
   "version": "3.10.12"
  }
 },
 "nbformat": 4,
 "nbformat_minor": 5
}
