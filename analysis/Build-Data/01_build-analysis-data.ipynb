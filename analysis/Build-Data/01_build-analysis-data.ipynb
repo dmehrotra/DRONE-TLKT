{
 "cells": [
  {
   "cell_type": "markdown",
   "id": "22b38d45-d13f-4ca1-b6c6-4b5e77ae88ab",
   "metadata": {},
   "source": [
    "# Build Analysis Data"
   ]
  },
  {
   "cell_type": "code",
   "execution_count": 16,
   "id": "762f65b6-6173-447d-b3a8-da2a00e417a9",
   "metadata": {
    "scrolled": true
   },
   "outputs": [
    {
     "data": {
      "application/vnd.jupyter.widget-view+json": {
       "model_id": "b19ce6e65aa442b1b283ec64e1043028",
       "version_major": 2,
       "version_minor": 0
      },
      "text/plain": [
       "Loading data: 0it [00:00, ?it/s]"
      ]
     },
     "metadata": {},
     "output_type": "display_data"
    },
    {
     "data": {
      "application/vnd.jupyter.widget-view+json": {
       "model_id": "b8623c3589874eccb6d4e450e5a0fc99",
       "version_major": 2,
       "version_minor": 0
      },
      "text/plain": [
       "Loading data: 0it [00:00, ?it/s]"
      ]
     },
     "metadata": {},
     "output_type": "display_data"
    },
    {
     "data": {
      "application/vnd.jupyter.widget-view+json": {
       "model_id": "22c7659f42fc4191aa0d4792c5f02836",
       "version_major": 2,
       "version_minor": 0
      },
      "text/plain": [
       "Loading data: 0it [00:00, ?it/s]"
      ]
     },
     "metadata": {},
     "output_type": "display_data"
    }
   ],
   "source": [
    "import geopandas as gpd\n",
    "import numpy as np\n",
    "import pandas as pd\n",
    "from tqdm.notebook import tqdm, trange\n",
    "from datetime import date\n",
    "from multiprocess.pool import Pool\n",
    "\n",
    "\n",
    "storage = \"/Volumes/easystore/Drones/\"\n",
    "calls_for_service = pd.concat(\n",
    "    [\n",
    "        chunk\n",
    "        for chunk in tqdm(\n",
    "            pd.read_csv(\n",
    "                f\"{storage}/calls-for-service-with-census-data.csv\",\n",
    "                chunksize=100000,\n",
    "                dtype=str,\n",
    "            ),\n",
    "            desc=\"Loading data\",\n",
    "        )\n",
    "    ]\n",
    ")\n",
    "flight_details = pd.concat(\n",
    "    [\n",
    "        chunk\n",
    "        for chunk in tqdm(\n",
    "            pd.read_csv(\n",
    "                f\"{storage}/gpx-with-census-data.csv\", \n",
    "                chunksize=100000, \n",
    "                dtype=str\n",
    "            ),\n",
    "            desc=\"Loading data\",\n",
    "        )\n",
    "    ]\n",
    ")\n",
    "flights = pd.concat(\n",
    "    [\n",
    "        chunk\n",
    "        for chunk in tqdm(\n",
    "            pd.read_csv(\n",
    "                f\"../../data/all-flights-manifest.csv\", \n",
    "                chunksize=100000, \n",
    "                dtype=str\n",
    "            ),\n",
    "            desc=\"Loading data\",\n",
    "        )\n",
    "    ]\n",
    ")\n",
    "\n",
    "cv_blocks = pd.read_csv('../../data/outputs/outputs_cv-blocks-geometry.csv',dtype='str')\n",
    "\n",
    "# flight_data = pd.read_csv(\"/Volumes/easystore/Drones/compiled-flight-data-gpx.csv\",dtype=str)\n",
    "# flight_data.head()"
   ]
  },
  {
   "cell_type": "code",
   "execution_count": 17,
   "id": "1bdbc1a9-02ce-4052-962f-aa3f8bd61945",
   "metadata": {},
   "outputs": [
    {
     "data": {
      "text/plain": [
       "184654"
      ]
     },
     "execution_count": 17,
     "metadata": {},
     "output_type": "execute_result"
    }
   ],
   "source": [
    "calls_for_service.shape[0]"
   ]
  },
  {
   "cell_type": "code",
   "execution_count": 18,
   "id": "06c67064-786e-439e-8e22-84c5586a1348",
   "metadata": {},
   "outputs": [
    {
     "data": {
      "text/plain": [
       "1959"
      ]
     },
     "execution_count": 18,
     "metadata": {},
     "output_type": "execute_result"
    }
   ],
   "source": [
    "cv_blocks.shape[0]"
   ]
  },
  {
   "cell_type": "markdown",
   "id": "dc364e37-a148-4095-b42e-af281a711955",
   "metadata": {},
   "source": [
    "### Flights and Flight Details"
   ]
  },
  {
   "cell_type": "code",
   "execution_count": 19,
   "id": "689b429b-5d3f-4b1c-815b-542786e3226e",
   "metadata": {},
   "outputs": [
    {
     "name": "stderr",
     "output_type": "stream",
     "text": [
      "/var/folders/4c/vsvqyby107s_6_0qp0lykjwm0000gn/T/ipykernel_4028/217730189.py:2: UserWarning: Could not infer format, so each element will be parsed individually, falling back to `dateutil`. To ensure parsing is consistent and as-expected, please specify a format.\n",
      "  cvpd_flights[\"date\"] = pd.to_datetime(cvpd_flights[\"date\"])\n"
     ]
    }
   ],
   "source": [
    "cvpd_flights = flights[flights['department'] == 'cvpd'].copy()\n",
    "cvpd_flights[\"date\"] = pd.to_datetime(cvpd_flights[\"date\"])\n",
    "\n",
    "mask = (cvpd_flights['date'] >= '2021-07-01 00:00') & (cvpd_flights['date'] <= '2023-09-02 00:00')\n",
    "\n",
    "cvpd_flights = cvpd_flights[mask].sort_values('date').copy()\n",
    "cvpd_flights['clean-type'] = cvpd_flights['type'].str.lower()\n",
    "cvpd_flights['clean-type'] = cvpd_flights['clean-type'].apply(lambda x: str(x).replace('  ','').strip())\n",
    "cvpd_flights[\"match\"] = cvpd_flights[\"incident_id\"].astype(str).apply(lambda x: x.strip().replace(' ','').replace('L','0').replace('l','0')[-5:])\n",
    "\n",
    "cvpd_flights.to_csv('../../data/outputs/outputs_cv-flight-manifest.csv',index=False)"
   ]
  },
  {
   "cell_type": "code",
   "execution_count": 20,
   "id": "663449ac-ff9c-45fd-8abe-936b7bab3376",
   "metadata": {},
   "outputs": [],
   "source": [
    "flight_details[\"GEOID20\"] = flight_details[\"geoid\"].astype(str)\n",
    "flight_details[\"len\"] = flight_details[\"GEOID20\"].apply(lambda x: len(x))\n",
    "flight_details.loc[flight_details[\"len\"] == 14, \"GEOID20\"] = \"0\" + flight_details[\"GEOID20\"]\n",
    "flight_details[\"len\"] = flight_details[\"GEOID20\"].apply(lambda x: len(x))\n"
   ]
  },
  {
   "cell_type": "code",
   "execution_count": null,
   "id": "ed1655bd-151a-4472-a604-c192d5d7f604",
   "metadata": {},
   "outputs": [],
   "source": []
  },
  {
   "cell_type": "markdown",
   "id": "f63b9dfa-49b8-4bb9-91c1-d22cdefb6b5e",
   "metadata": {},
   "source": [
    "### Calls for Service"
   ]
  },
  {
   "cell_type": "code",
   "execution_count": 21,
   "id": "c4fdba08-22fa-4c67-8671-6a59731f2d33",
   "metadata": {},
   "outputs": [],
   "source": [
    "calls_for_service['len'] = calls_for_service['Full FIPS (block)'].astype(str).apply(lambda x: len(x))\n",
    "\n",
    "calls_for_service['GEOID20'] = calls_for_service['Full FIPS (block)']\n",
    "calls_for_service[\"match\"] = (\n",
    "    calls_for_service[\"Incident No.\"].astype(str).apply(lambda x: x.strip().replace(' ','').replace('l','0').replace('L','0')[-5:])\n",
    ")\n",
    "calls_for_service['clean-type'] = calls_for_service['Description'].str.lower()\n",
    "calls_for_service['clean-type'] = calls_for_service['clean-type'].apply(lambda x: str(x).replace('  ','').strip())\n",
    "calls_for_service.to_csv('../../data/outputs/outputs_cfs-data.csv',index=False)"
   ]
  },
  {
   "cell_type": "code",
   "execution_count": 22,
   "id": "de0b42a8-ef6c-4e2d-9611-f7f719ef0503",
   "metadata": {},
   "outputs": [
    {
     "data": {
      "text/plain": [
       "184654"
      ]
     },
     "execution_count": 22,
     "metadata": {},
     "output_type": "execute_result"
    }
   ],
   "source": [
    "calls_for_service.shape[0]"
   ]
  },
  {
   "cell_type": "markdown",
   "id": "8fdfac8f-5991-412e-bb5c-c4356186cf9f",
   "metadata": {},
   "source": [
    "## Group by Block"
   ]
  },
  {
   "cell_type": "markdown",
   "id": "26604dd6-3dee-43fc-9418-6d384e7b2da2",
   "metadata": {},
   "source": [
    "### Call for Service"
   ]
  },
  {
   "cell_type": "code",
   "execution_count": 27,
   "id": "77871893-88f4-40bd-8a10-eda71eb072d2",
   "metadata": {},
   "outputs": [
    {
     "data": {
      "text/html": [
       "<div>\n",
       "<style scoped>\n",
       "    .dataframe tbody tr th:only-of-type {\n",
       "        vertical-align: middle;\n",
       "    }\n",
       "\n",
       "    .dataframe tbody tr th {\n",
       "        vertical-align: top;\n",
       "    }\n",
       "\n",
       "    .dataframe thead th {\n",
       "        text-align: right;\n",
       "    }\n",
       "</style>\n",
       "<table border=\"1\" class=\"dataframe\">\n",
       "  <thead>\n",
       "    <tr style=\"text-align: right;\">\n",
       "      <th></th>\n",
       "      <th>GEOID20</th>\n",
       "      <th>call_count</th>\n",
       "    </tr>\n",
       "  </thead>\n",
       "  <tbody>\n",
       "    <tr>\n",
       "      <th>0</th>\n",
       "      <td>060250102002026</td>\n",
       "      <td>1</td>\n",
       "    </tr>\n",
       "    <tr>\n",
       "      <th>1</th>\n",
       "      <td>060650306022000</td>\n",
       "      <td>2</td>\n",
       "    </tr>\n",
       "    <tr>\n",
       "      <th>2</th>\n",
       "      <td>060650445182017</td>\n",
       "      <td>1</td>\n",
       "    </tr>\n",
       "    <tr>\n",
       "      <th>3</th>\n",
       "      <td>060650451232003</td>\n",
       "      <td>1</td>\n",
       "    </tr>\n",
       "    <tr>\n",
       "      <th>4</th>\n",
       "      <td>060650453021004</td>\n",
       "      <td>2</td>\n",
       "    </tr>\n",
       "  </tbody>\n",
       "</table>\n",
       "</div>"
      ],
      "text/plain": [
       "           GEOID20  call_count\n",
       "0  060250102002026           1\n",
       "1  060650306022000           2\n",
       "2  060650445182017           1\n",
       "3  060650451232003           1\n",
       "4  060650453021004           2"
      ]
     },
     "execution_count": 27,
     "metadata": {},
     "output_type": "execute_result"
    }
   ],
   "source": [
    "call_for_service_block_count = calls_for_service.groupby([\"GEOID20\"]).count()\n",
    "call_for_service_block_count = call_for_service_block_count.reset_index()[\n",
    "    [\"GEOID20\", \"Incident No.\"]\n",
    "]\n",
    "call_for_service_block_count.columns = [\"GEOID20\", \"call_count\"]\n",
    "call_for_service_block_count.head()"
   ]
  },
  {
   "cell_type": "code",
   "execution_count": 28,
   "id": "cec65821-be3c-4794-b451-b0f370e9ab2d",
   "metadata": {},
   "outputs": [],
   "source": [
    "call_for_service_block_count_with_shps = pd.merge(\n",
    "    cv_blocks, call_for_service_block_count, how=\"left\", on=[\"GEOID20\"]\n",
    ")"
   ]
  },
  {
   "cell_type": "code",
   "execution_count": 29,
   "id": "17a8fe7d-354a-42a4-8e73-4cdc3139774c",
   "metadata": {},
   "outputs": [
    {
     "data": {
      "text/plain": [
       "0    15\n",
       "Name: GEOID20, dtype: int64"
      ]
     },
     "execution_count": 29,
     "metadata": {},
     "output_type": "execute_result"
    }
   ],
   "source": [
    "call_for_service_block_count_with_shps[\"GEOID20\"].apply(\n",
    "    lambda x: len(x)\n",
    ").drop_duplicates()\n"
   ]
  },
  {
   "cell_type": "code",
   "execution_count": 30,
   "id": "66819c2c-836b-4224-a47a-a1c53242a781",
   "metadata": {},
   "outputs": [],
   "source": [
    "call_for_service_block_count_with_shps[\n",
    "    \"call_count\"\n",
    "] = call_for_service_block_count_with_shps[\"call_count\"].replace(np.nan, 0)\n",
    "\n",
    "call_for_service_block_count_with_shps['weight'] = call_for_service_block_count_with_shps['call_count'].astype(int)/call_for_service_block_count_with_shps['POP20'].astype(int)\n",
    "\n",
    "call_for_service_block_count_with_shps[\n",
    "    \"weight\"\n",
    "] = call_for_service_block_count_with_shps[\"weight\"].replace(np.nan, 0)\n",
    "call_for_service_block_count_with_shps[\n",
    "    \"weight\"\n",
    "] = call_for_service_block_count_with_shps[\"weight\"].replace(np.inf, 0)\n"
   ]
  },
  {
   "cell_type": "code",
   "execution_count": 31,
   "id": "a3c27c45-6529-49d3-8744-3c79588e7e24",
   "metadata": {},
   "outputs": [],
   "source": [
    "call_for_service_block_count_with_shps.to_csv('../../data/outputs/outputs_cfs-data-with-shps.csv',index=False)"
   ]
  },
  {
   "cell_type": "markdown",
   "id": "1029747a-a723-4f3b-833e-217fb56cc418",
   "metadata": {},
   "source": [
    "### Drone Seconds in Block"
   ]
  },
  {
   "cell_type": "code",
   "execution_count": 51,
   "id": "92909def-7041-4d42-b0ec-bc85e6e9c669",
   "metadata": {},
   "outputs": [],
   "source": [
    "flight_details = flight_details[flight_details['id'].isin(cvpd_flights['id'])].copy()"
   ]
  },
  {
   "cell_type": "code",
   "execution_count": 3,
   "id": "209b06d2-9198-4b78-a113-2fa0ab757b82",
   "metadata": {},
   "outputs": [
    {
     "ename": "KeyboardInterrupt",
     "evalue": "",
     "output_type": "error",
     "traceback": [
      "\u001b[0;31m---------------------------------------------------------------------------\u001b[0m",
      "\u001b[0;31mKeyboardInterrupt\u001b[0m                         Traceback (most recent call last)",
      "Cell \u001b[0;32mIn[3], line 2\u001b[0m\n\u001b[1;32m      1\u001b[0m \u001b[38;5;66;03m# Strip the millisecond component from the 'sequence' timestamps\u001b[39;00m\n\u001b[0;32m----> 2\u001b[0m flight_details[\u001b[38;5;124m'\u001b[39m\u001b[38;5;124msequence\u001b[39m\u001b[38;5;124m'\u001b[39m] \u001b[38;5;241m=\u001b[39m \u001b[43mpd\u001b[49m\u001b[38;5;241;43m.\u001b[39;49m\u001b[43mto_datetime\u001b[49m\u001b[43m(\u001b[49m\u001b[43mflight_details\u001b[49m\u001b[43m[\u001b[49m\u001b[38;5;124;43m'\u001b[39;49m\u001b[38;5;124;43msequence\u001b[39;49m\u001b[38;5;124;43m'\u001b[39;49m\u001b[43m]\u001b[49m\u001b[43m)\u001b[49m\n\u001b[1;32m      3\u001b[0m flight_details[\u001b[38;5;124m'\u001b[39m\u001b[38;5;124msequence_seconds\u001b[39m\u001b[38;5;124m'\u001b[39m] \u001b[38;5;241m=\u001b[39m flight_details[\u001b[38;5;124m'\u001b[39m\u001b[38;5;124msequence\u001b[39m\u001b[38;5;124m'\u001b[39m]\u001b[38;5;241m.\u001b[39mdt\u001b[38;5;241m.\u001b[39mfloor(\u001b[38;5;124m'\u001b[39m\u001b[38;5;124mD\u001b[39m\u001b[38;5;124m'\u001b[39m)\n\u001b[1;32m      5\u001b[0m \u001b[38;5;66;03m# Now count the number of unique seconds in each block\u001b[39;00m\n",
      "File \u001b[0;32m~/.pyenv/versions/3.10.12/envs/scraping/lib/python3.10/site-packages/pandas/core/tools/datetimes.py:1063\u001b[0m, in \u001b[0;36mto_datetime\u001b[0;34m(arg, errors, dayfirst, yearfirst, utc, format, exact, unit, infer_datetime_format, origin, cache)\u001b[0m\n\u001b[1;32m   1061\u001b[0m             result \u001b[38;5;241m=\u001b[39m arg\u001b[38;5;241m.\u001b[39mtz_localize(\u001b[38;5;124m\"\u001b[39m\u001b[38;5;124mutc\u001b[39m\u001b[38;5;124m\"\u001b[39m)\n\u001b[1;32m   1062\u001b[0m \u001b[38;5;28;01melif\u001b[39;00m \u001b[38;5;28misinstance\u001b[39m(arg, ABCSeries):\n\u001b[0;32m-> 1063\u001b[0m     cache_array \u001b[38;5;241m=\u001b[39m \u001b[43m_maybe_cache\u001b[49m\u001b[43m(\u001b[49m\u001b[43marg\u001b[49m\u001b[43m,\u001b[49m\u001b[43m \u001b[49m\u001b[38;5;28;43mformat\u001b[39;49m\u001b[43m,\u001b[49m\u001b[43m \u001b[49m\u001b[43mcache\u001b[49m\u001b[43m,\u001b[49m\u001b[43m \u001b[49m\u001b[43mconvert_listlike\u001b[49m\u001b[43m)\u001b[49m\n\u001b[1;32m   1064\u001b[0m     \u001b[38;5;28;01mif\u001b[39;00m \u001b[38;5;129;01mnot\u001b[39;00m cache_array\u001b[38;5;241m.\u001b[39mempty:\n\u001b[1;32m   1065\u001b[0m         result \u001b[38;5;241m=\u001b[39m arg\u001b[38;5;241m.\u001b[39mmap(cache_array)\n",
      "File \u001b[0;32m~/.pyenv/versions/3.10.12/envs/scraping/lib/python3.10/site-packages/pandas/core/tools/datetimes.py:254\u001b[0m, in \u001b[0;36m_maybe_cache\u001b[0;34m(arg, format, cache, convert_listlike)\u001b[0m\n\u001b[1;32m    252\u001b[0m             \u001b[38;5;28;01mreturn\u001b[39;00m cache_array\n\u001b[1;32m    253\u001b[0m         \u001b[38;5;66;03m# GH#39882 and GH#35888 in case of None and NaT we get duplicates\u001b[39;00m\n\u001b[0;32m--> 254\u001b[0m         \u001b[38;5;28;01mif\u001b[39;00m \u001b[38;5;129;01mnot\u001b[39;00m cache_array\u001b[38;5;241m.\u001b[39mindex\u001b[38;5;241m.\u001b[39mis_unique:\n\u001b[1;32m    255\u001b[0m             cache_array \u001b[38;5;241m=\u001b[39m cache_array[\u001b[38;5;241m~\u001b[39mcache_array\u001b[38;5;241m.\u001b[39mindex\u001b[38;5;241m.\u001b[39mduplicated()]\n\u001b[1;32m    256\u001b[0m \u001b[38;5;28;01mreturn\u001b[39;00m cache_array\n",
      "\u001b[0;31mKeyboardInterrupt\u001b[0m: "
     ]
    }
   ],
   "source": [
    "# Strip the millisecond component from the 'sequence' timestamps\n",
    "flight_details['sequence'] = pd.to_datetime(flight_details['sequence'])\n",
    "flight_details['sequence_seconds'] = flight_details['sequence'].dt.floor('S')\n",
    "\n",
    "# Now count the number of unique seconds in each block\n",
    "unique_seconds_per_block_seconds = flight_details.groupby('GEOID20')['sequence_seconds'].nunique()\n",
    "\n",
    "unique_seconds_per_block_seconds.head()\n"
   ]
  },
  {
   "cell_type": "code",
   "execution_count": 40,
   "id": "cdea2e01-624d-4f92-899a-6509dc3ff501",
   "metadata": {},
   "outputs": [],
   "source": [
    "unique_seconds_per_block_seconds = pd.DataFrame(unique_seconds_per_block_seconds).reset_index()"
   ]
  },
  {
   "cell_type": "code",
   "execution_count": 41,
   "id": "d32890ca-1f41-4552-8c83-922438710f06",
   "metadata": {},
   "outputs": [],
   "source": [
    "unique_seconds_per_block_seconds.columns = ['GEOID20','seconds']"
   ]
  },
  {
   "cell_type": "code",
   "execution_count": 42,
   "id": "fb85461c-7372-40db-bc83-292f8b990bd8",
   "metadata": {},
   "outputs": [
    {
     "data": {
      "text/html": [
       "<div>\n",
       "<style scoped>\n",
       "    .dataframe tbody tr th:only-of-type {\n",
       "        vertical-align: middle;\n",
       "    }\n",
       "\n",
       "    .dataframe tbody tr th {\n",
       "        vertical-align: top;\n",
       "    }\n",
       "\n",
       "    .dataframe thead th {\n",
       "        text-align: right;\n",
       "    }\n",
       "</style>\n",
       "<table border=\"1\" class=\"dataframe\">\n",
       "  <thead>\n",
       "    <tr style=\"text-align: right;\">\n",
       "      <th></th>\n",
       "      <th>GEOID20</th>\n",
       "      <th>seconds</th>\n",
       "    </tr>\n",
       "  </thead>\n",
       "  <tbody>\n",
       "    <tr>\n",
       "      <th>0</th>\n",
       "      <td>060730032041009</td>\n",
       "      <td>32</td>\n",
       "    </tr>\n",
       "    <tr>\n",
       "      <th>1</th>\n",
       "      <td>060730032041012</td>\n",
       "      <td>35</td>\n",
       "    </tr>\n",
       "    <tr>\n",
       "      <th>2</th>\n",
       "      <td>060730032041013</td>\n",
       "      <td>5525</td>\n",
       "    </tr>\n",
       "    <tr>\n",
       "      <th>3</th>\n",
       "      <td>060730032041014</td>\n",
       "      <td>2675</td>\n",
       "    </tr>\n",
       "    <tr>\n",
       "      <th>4</th>\n",
       "      <td>060730032041015</td>\n",
       "      <td>217</td>\n",
       "    </tr>\n",
       "    <tr>\n",
       "      <th>...</th>\n",
       "      <td>...</td>\n",
       "      <td>...</td>\n",
       "    </tr>\n",
       "    <tr>\n",
       "      <th>1610</th>\n",
       "      <td>060730219001089</td>\n",
       "      <td>225</td>\n",
       "    </tr>\n",
       "    <tr>\n",
       "      <th>1611</th>\n",
       "      <td>060730219001090</td>\n",
       "      <td>26</td>\n",
       "    </tr>\n",
       "    <tr>\n",
       "      <th>1612</th>\n",
       "      <td>060730219001091</td>\n",
       "      <td>607</td>\n",
       "    </tr>\n",
       "    <tr>\n",
       "      <th>1613</th>\n",
       "      <td>060730219001092</td>\n",
       "      <td>4223</td>\n",
       "    </tr>\n",
       "    <tr>\n",
       "      <th>1614</th>\n",
       "      <td>nan</td>\n",
       "      <td>6</td>\n",
       "    </tr>\n",
       "  </tbody>\n",
       "</table>\n",
       "<p>1615 rows × 2 columns</p>\n",
       "</div>"
      ],
      "text/plain": [
       "              GEOID20  seconds\n",
       "0     060730032041009       32\n",
       "1     060730032041012       35\n",
       "2     060730032041013     5525\n",
       "3     060730032041014     2675\n",
       "4     060730032041015      217\n",
       "...               ...      ...\n",
       "1610  060730219001089      225\n",
       "1611  060730219001090       26\n",
       "1612  060730219001091      607\n",
       "1613  060730219001092     4223\n",
       "1614              nan        6\n",
       "\n",
       "[1615 rows x 2 columns]"
      ]
     },
     "execution_count": 42,
     "metadata": {},
     "output_type": "execute_result"
    }
   ],
   "source": [
    "unique_seconds_per_block_seconds"
   ]
  },
  {
   "cell_type": "code",
   "execution_count": 44,
   "id": "c6cae2ce-c90d-44e4-b725-4d561e101033",
   "metadata": {},
   "outputs": [],
   "source": [
    "unique_seconds_in_block_with_shps = pd.merge(\n",
    "    cv_blocks, unique_seconds_per_block_seconds, how=\"left\", on=[\"GEOID20\"]\n",
    ")\n",
    "unique_seconds_in_block_with_shps[\"seconds\"] = unique_seconds_in_block_with_shps[\n",
    "    \"seconds\"\n",
    "].replace(np.nan, 0)\n"
   ]
  },
  {
   "cell_type": "code",
   "execution_count": 45,
   "id": "ff35a008-0873-4756-bfb4-7fafb0b1902d",
   "metadata": {},
   "outputs": [],
   "source": [
    "unique_seconds_in_block_with_shps['ALAND20'] = unique_seconds_in_block_with_shps['ALAND20'].astype(int)"
   ]
  },
  {
   "cell_type": "code",
   "execution_count": 46,
   "id": "48433c9b-44ed-4081-8286-178ea31d13ad",
   "metadata": {},
   "outputs": [],
   "source": [
    "unique_seconds_in_block_with_shps[\"weight\"] = (\n",
    "    unique_seconds_in_block_with_shps[\"seconds\"]\n",
    "    / unique_seconds_in_block_with_shps[\"ALAND20\"]\n",
    ")"
   ]
  },
  {
   "cell_type": "code",
   "execution_count": 47,
   "id": "d03f1a39-f0c2-4233-b582-e4170b4064b7",
   "metadata": {},
   "outputs": [],
   "source": [
    "\n",
    "unique_seconds_in_block_with_shps = pd.merge(unique_seconds_in_block_with_shps,call_for_service_block_count_with_shps[['GEOID20','call_count']],how='left',on='GEOID20')"
   ]
  },
  {
   "cell_type": "code",
   "execution_count": 52,
   "id": "1894ba93-072a-4af5-a8f7-257c3a81e0b1",
   "metadata": {},
   "outputs": [],
   "source": [
    "unique_seconds_in_block_with_shps.to_csv('../../data/outputs/outputs_drone-seconds-block-count.csv',index=False)"
   ]
  },
  {
   "cell_type": "markdown",
   "id": "a08e39b2-5cf2-4bed-9788-55aaa7f06581",
   "metadata": {},
   "source": [
    "### Drone Days / CFS in Block\n",
    "- 792 days in analysis"
   ]
  },
  {
   "cell_type": "code",
   "execution_count": 38,
   "id": "20af64b3-ffe1-4d4d-808b-c7daa78dcb5b",
   "metadata": {},
   "outputs": [],
   "source": [
    "from datetime import date\n",
    " \n",
    "def numOfDays(date1, date2):\n",
    "    if date2 > date1:   \n",
    "        return (date2-date1).days\n",
    "    else:\n",
    "        return (date1-date2).days\n",
    "\n",
    "start= date(2021, 7, 1)\n",
    "end = date(2023, 9, 1)\n",
    "\n",
    "days_in_analysis = numOfDays(start,end)"
   ]
  },
  {
   "cell_type": "code",
   "execution_count": 49,
   "id": "1f2f316e-6c26-4c06-8cf6-4f2cbe4d7128",
   "metadata": {},
   "outputs": [],
   "source": [
    "def calculate_summary(index):\n",
    "    block = cv_blocks.iloc[index]\n",
    "    drones_on_block = flight_details[flight_details['GEOID20']==block['GEOID20']] \n",
    "    calls_to_block = calls_for_service[calls_for_service['GEOID20']==block['GEOID20']] \n",
    "\n",
    "    block['num_flights'] = drones_on_block['id'].drop_duplicates().shape[0]\n",
    "    block['flights_per_day'] = block['num_flights']/days_in_analysis\n",
    "    block['num_calls'] = calls_to_block.shape[0]\n",
    "    block['calls_per_day'] = block['num_calls']/days_in_analysis\n",
    "    return block"
   ]
  },
  {
   "cell_type": "code",
   "execution_count": 55,
   "id": "d7b3d5b5-c198-4c83-9b84-b8b333c82f85",
   "metadata": {
    "tags": []
   },
   "outputs": [
    {
     "data": {
      "application/json": {
       "ascii": false,
       "bar_format": null,
       "colour": null,
       "elapsed": 0.4451882839202881,
       "initial": 0,
       "n": 0,
       "ncols": null,
       "nrows": 25,
       "postfix": null,
       "prefix": "",
       "rate": null,
       "total": 1959,
       "unit": "it",
       "unit_divisor": 1000,
       "unit_scale": false
      },
      "application/vnd.jupyter.widget-view+json": {
       "model_id": "c9e26d3ea96145d4bd5a4c94d4a01316",
       "version_major": 2,
       "version_minor": 0
      },
      "text/plain": [
       "  0%|          | 0/1959 [00:00<?, ?it/s]"
      ]
     },
     "metadata": {},
     "output_type": "display_data"
    }
   ],
   "source": [
    "from multiprocess.pool import Pool\n",
    "\n",
    "with Pool(10) as pool:\n",
    "\n",
    "    drones_cfs_pdpb = list(\n",
    "        tqdm(pool.imap(calculate_summary, range(0, cv_blocks.shape[0])), total=cv_blocks.shape[0])\n",
    "    )\n",
    "    drones_cfs_pdpb = pd.DataFrame(drones_cfs_pdpb)"
   ]
  },
  {
   "cell_type": "code",
   "execution_count": 58,
   "id": "d231b5b6-9991-44bd-96fd-f28103e45197",
   "metadata": {},
   "outputs": [],
   "source": [
    "drones_cfs_pdpb.to_csv('../../data/outputs/output_cv-blocks-drones-calls.csv',index=False)"
   ]
  },
  {
   "cell_type": "code",
   "execution_count": 60,
   "id": "c79dc5b6-2e75-491e-8bfd-99d0921f6d68",
   "metadata": {},
   "outputs": [
    {
     "data": {
      "text/html": [
       "<div>\n",
       "<style scoped>\n",
       "    .dataframe tbody tr th:only-of-type {\n",
       "        vertical-align: middle;\n",
       "    }\n",
       "\n",
       "    .dataframe tbody tr th {\n",
       "        vertical-align: top;\n",
       "    }\n",
       "\n",
       "    .dataframe thead th {\n",
       "        text-align: right;\n",
       "    }\n",
       "</style>\n",
       "<table border=\"1\" class=\"dataframe\">\n",
       "  <thead>\n",
       "    <tr style=\"text-align: right;\">\n",
       "      <th></th>\n",
       "      <th>STATEFP20</th>\n",
       "      <th>COUNTYFP20</th>\n",
       "      <th>TRACTCE20</th>\n",
       "      <th>BLOCKCE20</th>\n",
       "      <th>GEOID20</th>\n",
       "      <th>NAME20</th>\n",
       "      <th>MTFCC20</th>\n",
       "      <th>UR20</th>\n",
       "      <th>UACE20</th>\n",
       "      <th>UATYPE20</th>\n",
       "      <th>...</th>\n",
       "      <th>INTPTLAT20</th>\n",
       "      <th>INTPTLON20</th>\n",
       "      <th>HOUSING20</th>\n",
       "      <th>POP20</th>\n",
       "      <th>geometry</th>\n",
       "      <th>len</th>\n",
       "      <th>num_flights</th>\n",
       "      <th>flights_per_day</th>\n",
       "      <th>num_calls</th>\n",
       "      <th>calls_per_day</th>\n",
       "    </tr>\n",
       "  </thead>\n",
       "  <tbody>\n",
       "    <tr>\n",
       "      <th>1920</th>\n",
       "      <td>6</td>\n",
       "      <td>73</td>\n",
       "      <td>12700</td>\n",
       "      <td>3000</td>\n",
       "      <td>060730127003000</td>\n",
       "      <td>Block 3000</td>\n",
       "      <td>G5040</td>\n",
       "      <td>U</td>\n",
       "      <td>78661.0</td>\n",
       "      <td>U</td>\n",
       "      <td>...</td>\n",
       "      <td>32.6382813</td>\n",
       "      <td>-117.0855165</td>\n",
       "      <td>363</td>\n",
       "      <td>837</td>\n",
       "      <td>POLYGON ((-117.088058 32.639014, -117.087241 3...</td>\n",
       "      <td>15</td>\n",
       "      <td>1784</td>\n",
       "      <td>2.252525</td>\n",
       "      <td>2384</td>\n",
       "      <td>3.010101</td>\n",
       "    </tr>\n",
       "    <tr>\n",
       "      <th>174</th>\n",
       "      <td>6</td>\n",
       "      <td>73</td>\n",
       "      <td>12302</td>\n",
       "      <td>1012</td>\n",
       "      <td>060730123021012</td>\n",
       "      <td>Block 1012</td>\n",
       "      <td>G5040</td>\n",
       "      <td>U</td>\n",
       "      <td>78661.0</td>\n",
       "      <td>U</td>\n",
       "      <td>...</td>\n",
       "      <td>32.6392976</td>\n",
       "      <td>-117.0811867</td>\n",
       "      <td>94</td>\n",
       "      <td>216</td>\n",
       "      <td>POLYGON ((-117.083646 32.639302, -117.083247 3...</td>\n",
       "      <td>15</td>\n",
       "      <td>1937</td>\n",
       "      <td>2.445707</td>\n",
       "      <td>346</td>\n",
       "      <td>0.436869</td>\n",
       "    </tr>\n",
       "    <tr>\n",
       "      <th>387</th>\n",
       "      <td>6</td>\n",
       "      <td>73</td>\n",
       "      <td>13102</td>\n",
       "      <td>2001</td>\n",
       "      <td>060730131022001</td>\n",
       "      <td>Block 2001</td>\n",
       "      <td>G5040</td>\n",
       "      <td>U</td>\n",
       "      <td>78661.0</td>\n",
       "      <td>U</td>\n",
       "      <td>...</td>\n",
       "      <td>32.61484</td>\n",
       "      <td>-117.0718154</td>\n",
       "      <td>516</td>\n",
       "      <td>1466</td>\n",
       "      <td>POLYGON ((-117.074527 32.615993, -117.074092 3...</td>\n",
       "      <td>15</td>\n",
       "      <td>2408</td>\n",
       "      <td>3.040404</td>\n",
       "      <td>422</td>\n",
       "      <td>0.532828</td>\n",
       "    </tr>\n",
       "    <tr>\n",
       "      <th>1223</th>\n",
       "      <td>6</td>\n",
       "      <td>73</td>\n",
       "      <td>13102</td>\n",
       "      <td>2000</td>\n",
       "      <td>060730131022000</td>\n",
       "      <td>Block 2000</td>\n",
       "      <td>G5040</td>\n",
       "      <td>U</td>\n",
       "      <td>78661.0</td>\n",
       "      <td>U</td>\n",
       "      <td>...</td>\n",
       "      <td>32.6182878</td>\n",
       "      <td>-117.0731641</td>\n",
       "      <td>326</td>\n",
       "      <td>862</td>\n",
       "      <td>POLYGON ((-117.075881 32.619439, -117.075064 3...</td>\n",
       "      <td>15</td>\n",
       "      <td>2960</td>\n",
       "      <td>3.737374</td>\n",
       "      <td>417</td>\n",
       "      <td>0.526515</td>\n",
       "    </tr>\n",
       "    <tr>\n",
       "      <th>1787</th>\n",
       "      <td>6</td>\n",
       "      <td>73</td>\n",
       "      <td>12302</td>\n",
       "      <td>1013</td>\n",
       "      <td>060730123021013</td>\n",
       "      <td>Block 1013</td>\n",
       "      <td>G5040</td>\n",
       "      <td>U</td>\n",
       "      <td>78661.0</td>\n",
       "      <td>U</td>\n",
       "      <td>...</td>\n",
       "      <td>32.6399935</td>\n",
       "      <td>-117.0828161</td>\n",
       "      <td>130</td>\n",
       "      <td>307</td>\n",
       "      <td>POLYGON ((-117.083982 32.640144, -117.082001 3...</td>\n",
       "      <td>15</td>\n",
       "      <td>3519</td>\n",
       "      <td>4.443182</td>\n",
       "      <td>65</td>\n",
       "      <td>0.082071</td>\n",
       "    </tr>\n",
       "  </tbody>\n",
       "</table>\n",
       "<p>5 rows × 23 columns</p>\n",
       "</div>"
      ],
      "text/plain": [
       "     STATEFP20 COUNTYFP20 TRACTCE20 BLOCKCE20          GEOID20      NAME20  \\\n",
       "1920         6         73     12700      3000  060730127003000  Block 3000   \n",
       "174          6         73     12302      1012  060730123021012  Block 1012   \n",
       "387          6         73     13102      2001  060730131022001  Block 2001   \n",
       "1223         6         73     13102      2000  060730131022000  Block 2000   \n",
       "1787         6         73     12302      1013  060730123021013  Block 1013   \n",
       "\n",
       "     MTFCC20 UR20   UACE20 UATYPE20  ...  INTPTLAT20    INTPTLON20 HOUSING20  \\\n",
       "1920   G5040    U  78661.0        U  ...  32.6382813  -117.0855165       363   \n",
       "174    G5040    U  78661.0        U  ...  32.6392976  -117.0811867        94   \n",
       "387    G5040    U  78661.0        U  ...    32.61484  -117.0718154       516   \n",
       "1223   G5040    U  78661.0        U  ...  32.6182878  -117.0731641       326   \n",
       "1787   G5040    U  78661.0        U  ...  32.6399935  -117.0828161       130   \n",
       "\n",
       "     POP20                                           geometry len num_flights  \\\n",
       "1920   837  POLYGON ((-117.088058 32.639014, -117.087241 3...  15        1784   \n",
       "174    216  POLYGON ((-117.083646 32.639302, -117.083247 3...  15        1937   \n",
       "387   1466  POLYGON ((-117.074527 32.615993, -117.074092 3...  15        2408   \n",
       "1223   862  POLYGON ((-117.075881 32.619439, -117.075064 3...  15        2960   \n",
       "1787   307  POLYGON ((-117.083982 32.640144, -117.082001 3...  15        3519   \n",
       "\n",
       "     flights_per_day num_calls  calls_per_day  \n",
       "1920        2.252525      2384       3.010101  \n",
       "174         2.445707       346       0.436869  \n",
       "387         3.040404       422       0.532828  \n",
       "1223        3.737374       417       0.526515  \n",
       "1787        4.443182        65       0.082071  \n",
       "\n",
       "[5 rows x 23 columns]"
      ]
     },
     "execution_count": 60,
     "metadata": {},
     "output_type": "execute_result"
    }
   ],
   "source": [
    "drones_cfs_pdpb.sort_values('num_flights').tail()"
   ]
  },
  {
   "cell_type": "code",
   "execution_count": 24,
   "id": "00639d7e-f6a2-4ede-9185-17774d4e519c",
   "metadata": {},
   "outputs": [
    {
     "data": {
      "text/html": [
       "<div>\n",
       "<style scoped>\n",
       "    .dataframe tbody tr th:only-of-type {\n",
       "        vertical-align: middle;\n",
       "    }\n",
       "\n",
       "    .dataframe tbody tr th {\n",
       "        vertical-align: top;\n",
       "    }\n",
       "\n",
       "    .dataframe thead th {\n",
       "        text-align: right;\n",
       "    }\n",
       "</style>\n",
       "<table border=\"1\" class=\"dataframe\">\n",
       "  <thead>\n",
       "    <tr style=\"text-align: right;\">\n",
       "      <th></th>\n",
       "      <th>GEOID20</th>\n",
       "      <th>days</th>\n",
       "    </tr>\n",
       "  </thead>\n",
       "  <tbody>\n",
       "    <tr>\n",
       "      <th>0</th>\n",
       "      <td>060730032041009</td>\n",
       "      <td>1</td>\n",
       "    </tr>\n",
       "    <tr>\n",
       "      <th>1</th>\n",
       "      <td>060730032041012</td>\n",
       "      <td>2</td>\n",
       "    </tr>\n",
       "    <tr>\n",
       "      <th>2</th>\n",
       "      <td>060730032041013</td>\n",
       "      <td>35</td>\n",
       "    </tr>\n",
       "    <tr>\n",
       "      <th>3</th>\n",
       "      <td>060730032041014</td>\n",
       "      <td>17</td>\n",
       "    </tr>\n",
       "    <tr>\n",
       "      <th>4</th>\n",
       "      <td>060730032041015</td>\n",
       "      <td>2</td>\n",
       "    </tr>\n",
       "    <tr>\n",
       "      <th>...</th>\n",
       "      <td>...</td>\n",
       "      <td>...</td>\n",
       "    </tr>\n",
       "    <tr>\n",
       "      <th>1610</th>\n",
       "      <td>060730219001089</td>\n",
       "      <td>4</td>\n",
       "    </tr>\n",
       "    <tr>\n",
       "      <th>1611</th>\n",
       "      <td>060730219001090</td>\n",
       "      <td>5</td>\n",
       "    </tr>\n",
       "    <tr>\n",
       "      <th>1612</th>\n",
       "      <td>060730219001091</td>\n",
       "      <td>8</td>\n",
       "    </tr>\n",
       "    <tr>\n",
       "      <th>1613</th>\n",
       "      <td>060730219001092</td>\n",
       "      <td>36</td>\n",
       "    </tr>\n",
       "    <tr>\n",
       "      <th>1614</th>\n",
       "      <td>nan</td>\n",
       "      <td>1</td>\n",
       "    </tr>\n",
       "  </tbody>\n",
       "</table>\n",
       "<p>1615 rows × 2 columns</p>\n",
       "</div>"
      ],
      "text/plain": [
       "              GEOID20  days\n",
       "0     060730032041009     1\n",
       "1     060730032041012     2\n",
       "2     060730032041013    35\n",
       "3     060730032041014    17\n",
       "4     060730032041015     2\n",
       "...               ...   ...\n",
       "1610  060730219001089     4\n",
       "1611  060730219001090     5\n",
       "1612  060730219001091     8\n",
       "1613  060730219001092    36\n",
       "1614              nan     1\n",
       "\n",
       "[1615 rows x 2 columns]"
      ]
     },
     "execution_count": 24,
     "metadata": {},
     "output_type": "execute_result"
    }
   ],
   "source": [
    "unique_days_in_block"
   ]
  }
 ],
 "metadata": {
  "kernelspec": {
   "display_name": "Python 3 (ipykernel)",
   "language": "python",
   "name": "python3"
  },
  "language_info": {
   "codemirror_mode": {
    "name": "ipython",
    "version": 3
   },
   "file_extension": ".py",
   "mimetype": "text/x-python",
   "name": "python",
   "nbconvert_exporter": "python",
   "pygments_lexer": "ipython3",
   "version": "3.10.12"
  }
 },
 "nbformat": 4,
 "nbformat_minor": 5
}
