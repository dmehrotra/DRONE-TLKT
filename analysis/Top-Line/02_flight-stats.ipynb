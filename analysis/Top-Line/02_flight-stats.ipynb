{
 "cells": [
  {
   "cell_type": "markdown",
   "id": "c7fbb76e-df3f-472b-b51d-2c561048ddc3",
   "metadata": {},
   "source": [
    "# Flight Stats\n",
    "\n",
    "On average, our analysis found that each drone flight passes above 12 census blocks, and potentially exposes approximately 4,700 of the residents below to a drone’s camera, .\n"
   ]
  },
  {
   "cell_type": "markdown",
   "id": "f440d9c0-0a48-4618-a42d-0ac1fea5da28",
   "metadata": {},
   "source": [
    "## Import Data"
   ]
  },
  {
   "cell_type": "code",
   "execution_count": 6,
   "id": "f7b142b1-4b89-4d0e-aa9d-864136ddde21",
   "metadata": {},
   "outputs": [
    {
     "data": {
      "application/vnd.jupyter.widget-view+json": {
       "model_id": "1b30b400a7844d219bb3959bcae92b51",
       "version_major": 2,
       "version_minor": 0
      },
      "text/plain": [
       "Loading data: 0it [00:00, ?it/s]"
      ]
     },
     "metadata": {},
     "output_type": "display_data"
    },
    {
     "data": {
      "application/vnd.jupyter.widget-view+json": {
       "model_id": "c5104d0cb7e2479db498567e058a3e34",
       "version_major": 2,
       "version_minor": 0
      },
      "text/plain": [
       "Loading data: 0it [00:00, ?it/s]"
      ]
     },
     "metadata": {},
     "output_type": "display_data"
    },
    {
     "data": {
      "application/vnd.jupyter.widget-view+json": {
       "model_id": "eb929c5b649f4687aa8d069317038295",
       "version_major": 2,
       "version_minor": 0
      },
      "text/plain": [
       "Loading data: 0it [00:00, ?it/s]"
      ]
     },
     "metadata": {},
     "output_type": "display_data"
    }
   ],
   "source": [
    "import os\n",
    "\n",
    "import fiona\n",
    "import geopandas as gpd\n",
    "import gpxpy\n",
    "import numpy as np\n",
    "import pandas as pd\n",
    "from multiprocess.pool import Pool\n",
    "from tqdm.notebook import tqdm, trange\n",
    "import warnings\n",
    "import geopy.distance\n",
    "from loguru import logger \n",
    "\n",
    "warnings.filterwarnings('ignore')\n",
    "\n",
    "fiona.drvsupport.supported_drivers['kml'] = 'rw'\n",
    "fiona.drvsupport.supported_drivers['KML'] = 'rw'\n",
    "\n",
    "storage = \"/Volumes/easystore/Drones/\"\n",
    "\n",
    "\n",
    "flight_details = pd.concat(\n",
    "    [\n",
    "        chunk\n",
    "        for chunk in tqdm(\n",
    "            pd.read_csv(\n",
    "                f\"{storage}/gpx-with-census-data.csv\", chunksize=100000, dtype=str\n",
    "            ),\n",
    "            desc=\"Loading data\",\n",
    "        )\n",
    "    ]\n",
    ")\n",
    "cv_flights = pd.concat(\n",
    "    [\n",
    "        chunk\n",
    "        for chunk in tqdm(\n",
    "            pd.read_csv(\n",
    "                f\"../../data/outputs/outputs_cv-flight-manifest.csv\", chunksize=100000, dtype=str\n",
    "            ),\n",
    "            desc=\"Loading data\",\n",
    "        )\n",
    "    ]\n",
    ")\n",
    "\n",
    "\n",
    "cv_blocks = pd.concat(\n",
    "    [\n",
    "        chunk\n",
    "        for chunk in tqdm(\n",
    "            pd.read_csv(\n",
    "                f\"../../data/outputs/outputs_cv-blocks-geometry.csv\",\n",
    "                chunksize=100000,\n",
    "                dtype=str,\n",
    "            ),\n",
    "            desc=\"Loading data\",\n",
    "        )\n",
    "    ]\n",
    ")\n",
    "\n",
    "# flight_data = pd.read_csv(\"/Volumes/easystore/Drones/compiled-flight-data-gpx.csv\",dtype=str)\n",
    "# flight_data.head()"
   ]
  },
  {
   "cell_type": "markdown",
   "id": "e65be732-c7a0-4ce9-805f-fc46ed9e31ea",
   "metadata": {},
   "source": [
    "## Limit Analysis\n",
    "\n",
    "Limit the Flight Details we analyze to only include flights in the Chula Vista Analysis Manifest. In build data you can see which flights we include.  The rule is this:\n",
    "\n",
    "- Limit Total Collected Data to Only CVPD : cvpd_flights = flights[flights['department'] == 'cvpd'].copy()\n",
    "- Limit to this Date Range : mask = (cvpd_flights['date'] >= '2021-07-01 00:00') & (cvpd_flights['date'] <= '2023-09-02 00:00')}"
   ]
  },
  {
   "cell_type": "code",
   "execution_count": 7,
   "id": "9b2d74f6-6961-4ddc-ad3d-b7a03d1300ea",
   "metadata": {},
   "outputs": [],
   "source": [
    "flight_ids = flight_details[['id']].sample(frac=1).drop_duplicates()\n",
    "flight_ids = flight_ids[flight_ids['id'].isin(cv_flights['id'])]['id']\n"
   ]
  },
  {
   "cell_type": "markdown",
   "id": "e7d39594-6ed3-4e79-80be-697ce19658f0",
   "metadata": {},
   "source": [
    "## Calculate Flight Stats\n",
    "\n",
    "A function to calculate the average number of blocks a flight travelled through as well as the number of households and people exposed.  This does not calculate the number of exposures.  Thats the next notebook. "
   ]
  },
  {
   "cell_type": "code",
   "execution_count": 8,
   "id": "bd0fcd31-f9b8-4602-a104-184f9bf52bfe",
   "metadata": {},
   "outputs": [],
   "source": [
    "\n",
    "def exposure(index):\n",
    "    flight_exposure = {}\n",
    "    flight_id = flight_ids.iloc[index]\n",
    "    flight = flight_details[flight_details['id']==flight_id]\n",
    "    launch_date = pd.to_datetime(flight['sequence']).dt.date.values[0]\n",
    "    \n",
    "    # get unique geoid and census information for each block in the flight.  Theres a smarter way to do this, but i'm fried right now. \n",
    "    flight = flight[['id','geoid','population','housing']].drop_duplicates()\n",
    "    flight_exposure['id'] = flight_id\n",
    "    flight_exposure['population_exposed'] = flight['population'].astype(float).sum()\n",
    "    flight_exposure['households_exposed'] = flight['housing'].astype(float).sum()\n",
    "    flight_exposure['total_blocks'] = flight.shape[0]\n",
    "    flight_exposure['date'] = launch_date\n",
    "\n",
    "    return flight_exposure"
   ]
  },
  {
   "cell_type": "code",
   "execution_count": 9,
   "id": "542f93e7-b57d-41e8-b785-8da825874999",
   "metadata": {},
   "outputs": [
    {
     "data": {
      "text/plain": [
       "{'id': 'e586794645c566caffc7bc6244054e90',\n",
       " 'population_exposed': 5219.0,\n",
       " 'households_exposed': 1450.0,\n",
       " 'total_blocks': 28,\n",
       " 'date': datetime.date(2022, 3, 3)}"
      ]
     },
     "execution_count": 9,
     "metadata": {},
     "output_type": "execute_result"
    }
   ],
   "source": [
    "exposure(21)"
   ]
  },
  {
   "cell_type": "code",
   "execution_count": 10,
   "id": "26de7801-7e71-4586-9b69-5f71d4d26e6b",
   "metadata": {},
   "outputs": [
    {
     "data": {
      "text/plain": [
       "{'id': 'bb7d42abac90b498ceac2cf15b642458',\n",
       " 'population_exposed': 2498.0,\n",
       " 'households_exposed': 860.0,\n",
       " 'total_blocks': 11,\n",
       " 'date': datetime.date(2023, 7, 10)}"
      ]
     },
     "execution_count": 10,
     "metadata": {},
     "output_type": "execute_result"
    }
   ],
   "source": [
    "flight_exposure = {}\n",
    "flight_id = \"bb7d42abac90b498ceac2cf15b642458\"\n",
    "flight = flight_details[flight_details['id']==flight_id]\n",
    "launch_date = pd.to_datetime(flight['sequence']).dt.date.values[0]\n",
    "\n",
    "# get unique geoid and census information for each block in the flight.  Theres a smarter way to do this, but i'm fried right now. \n",
    "flight = flight[['id','geoid','population','housing']].drop_duplicates()\n",
    "flight_exposure['id'] = flight_id\n",
    "flight_exposure['population_exposed'] = flight['population'].astype(float).sum()\n",
    "flight_exposure['households_exposed'] = flight['housing'].astype(float).sum()\n",
    "flight_exposure['total_blocks'] = flight.shape[0]\n",
    "flight_exposure['date'] = launch_date\n",
    "\n",
    "flight_exposure\n"
   ]
  },
  {
   "cell_type": "code",
   "execution_count": 11,
   "id": "67ecffbc-6aec-4a9f-a36e-f27f9fd7eff2",
   "metadata": {},
   "outputs": [
    {
     "data": {
      "text/html": [
       "<div>\n",
       "<style scoped>\n",
       "    .dataframe tbody tr th:only-of-type {\n",
       "        vertical-align: middle;\n",
       "    }\n",
       "\n",
       "    .dataframe tbody tr th {\n",
       "        vertical-align: top;\n",
       "    }\n",
       "\n",
       "    .dataframe thead th {\n",
       "        text-align: right;\n",
       "    }\n",
       "</style>\n",
       "<table border=\"1\" class=\"dataframe\">\n",
       "  <thead>\n",
       "    <tr style=\"text-align: right;\">\n",
       "      <th></th>\n",
       "      <th>id</th>\n",
       "      <th>type</th>\n",
       "      <th>incident_id</th>\n",
       "      <th>address_map</th>\n",
       "      <th>sequence</th>\n",
       "      <th>longitude</th>\n",
       "      <th>latitude</th>\n",
       "      <th>altitude</th>\n",
       "      <th>success</th>\n",
       "      <th>geoid</th>\n",
       "      <th>block</th>\n",
       "      <th>block_group</th>\n",
       "      <th>tract</th>\n",
       "      <th>county</th>\n",
       "      <th>state</th>\n",
       "      <th>county_name</th>\n",
       "      <th>state_name</th>\n",
       "      <th>population</th>\n",
       "      <th>housing</th>\n",
       "    </tr>\n",
       "  </thead>\n",
       "  <tbody>\n",
       "    <tr>\n",
       "      <th>18714193</th>\n",
       "      <td>bb7d42abac90b498ceac2cf15b642458</td>\n",
       "      <td>Noise Complaint</td>\n",
       "      <td>L057992</td>\n",
       "      <td>00 K St</td>\n",
       "      <td>2023-07-10 02:39:37+00:00</td>\n",
       "      <td>-117.0717</td>\n",
       "      <td>32.6174</td>\n",
       "      <td>34.9496422</td>\n",
       "      <td>True</td>\n",
       "      <td>60730131022000</td>\n",
       "      <td>2000</td>\n",
       "      <td>2</td>\n",
       "      <td>13102</td>\n",
       "      <td>73</td>\n",
       "      <td>6</td>\n",
       "      <td>San Diego County</td>\n",
       "      <td>California</td>\n",
       "      <td>861</td>\n",
       "      <td>326</td>\n",
       "    </tr>\n",
       "    <tr>\n",
       "      <th>18714194</th>\n",
       "      <td>bb7d42abac90b498ceac2cf15b642458</td>\n",
       "      <td>Noise Complaint</td>\n",
       "      <td>L057992</td>\n",
       "      <td>00 K St</td>\n",
       "      <td>2023-07-10 02:39:38+00:00</td>\n",
       "      <td>-117.0717</td>\n",
       "      <td>32.6174</td>\n",
       "      <td>34.9496422</td>\n",
       "      <td>True</td>\n",
       "      <td>60730131022000</td>\n",
       "      <td>2000</td>\n",
       "      <td>2</td>\n",
       "      <td>13102</td>\n",
       "      <td>73</td>\n",
       "      <td>6</td>\n",
       "      <td>San Diego County</td>\n",
       "      <td>California</td>\n",
       "      <td>861</td>\n",
       "      <td>326</td>\n",
       "    </tr>\n",
       "    <tr>\n",
       "      <th>18714195</th>\n",
       "      <td>bb7d42abac90b498ceac2cf15b642458</td>\n",
       "      <td>Noise Complaint</td>\n",
       "      <td>L057992</td>\n",
       "      <td>00 K St</td>\n",
       "      <td>2023-07-10 02:55:08+00:00</td>\n",
       "      <td>-117.0717</td>\n",
       "      <td>32.6175</td>\n",
       "      <td>35.1496422</td>\n",
       "      <td>True</td>\n",
       "      <td>60730131022000</td>\n",
       "      <td>2000</td>\n",
       "      <td>2</td>\n",
       "      <td>13102</td>\n",
       "      <td>73</td>\n",
       "      <td>6</td>\n",
       "      <td>San Diego County</td>\n",
       "      <td>California</td>\n",
       "      <td>861</td>\n",
       "      <td>326</td>\n",
       "    </tr>\n",
       "    <tr>\n",
       "      <th>18714196</th>\n",
       "      <td>bb7d42abac90b498ceac2cf15b642458</td>\n",
       "      <td>Noise Complaint</td>\n",
       "      <td>L057992</td>\n",
       "      <td>00 K St</td>\n",
       "      <td>2023-07-10 02:55:08+00:00</td>\n",
       "      <td>-117.0717</td>\n",
       "      <td>32.6175</td>\n",
       "      <td>35.2496422</td>\n",
       "      <td>True</td>\n",
       "      <td>60730131022000</td>\n",
       "      <td>2000</td>\n",
       "      <td>2</td>\n",
       "      <td>13102</td>\n",
       "      <td>73</td>\n",
       "      <td>6</td>\n",
       "      <td>San Diego County</td>\n",
       "      <td>California</td>\n",
       "      <td>861</td>\n",
       "      <td>326</td>\n",
       "    </tr>\n",
       "    <tr>\n",
       "      <th>18714197</th>\n",
       "      <td>bb7d42abac90b498ceac2cf15b642458</td>\n",
       "      <td>Noise Complaint</td>\n",
       "      <td>L057992</td>\n",
       "      <td>00 K St</td>\n",
       "      <td>2023-07-10 02:55:09+00:00</td>\n",
       "      <td>-117.0717</td>\n",
       "      <td>32.6175</td>\n",
       "      <td>35.3496422</td>\n",
       "      <td>True</td>\n",
       "      <td>60730131022000</td>\n",
       "      <td>2000</td>\n",
       "      <td>2</td>\n",
       "      <td>13102</td>\n",
       "      <td>73</td>\n",
       "      <td>6</td>\n",
       "      <td>San Diego County</td>\n",
       "      <td>California</td>\n",
       "      <td>861</td>\n",
       "      <td>326</td>\n",
       "    </tr>\n",
       "    <tr>\n",
       "      <th>...</th>\n",
       "      <td>...</td>\n",
       "      <td>...</td>\n",
       "      <td>...</td>\n",
       "      <td>...</td>\n",
       "      <td>...</td>\n",
       "      <td>...</td>\n",
       "      <td>...</td>\n",
       "      <td>...</td>\n",
       "      <td>...</td>\n",
       "      <td>...</td>\n",
       "      <td>...</td>\n",
       "      <td>...</td>\n",
       "      <td>...</td>\n",
       "      <td>...</td>\n",
       "      <td>...</td>\n",
       "      <td>...</td>\n",
       "      <td>...</td>\n",
       "      <td>...</td>\n",
       "      <td>...</td>\n",
       "    </tr>\n",
       "    <tr>\n",
       "      <th>18717107</th>\n",
       "      <td>bb7d42abac90b498ceac2cf15b642458</td>\n",
       "      <td>Noise Complaint</td>\n",
       "      <td>L057992</td>\n",
       "      <td>00 K St</td>\n",
       "      <td>2023-07-10 03:17:52+00:00</td>\n",
       "      <td>-117.0717</td>\n",
       "      <td>32.6174</td>\n",
       "      <td>34.7496422</td>\n",
       "      <td>True</td>\n",
       "      <td>60730131022000</td>\n",
       "      <td>2000</td>\n",
       "      <td>2</td>\n",
       "      <td>13102</td>\n",
       "      <td>73</td>\n",
       "      <td>6</td>\n",
       "      <td>San Diego County</td>\n",
       "      <td>California</td>\n",
       "      <td>861</td>\n",
       "      <td>326</td>\n",
       "    </tr>\n",
       "    <tr>\n",
       "      <th>18717108</th>\n",
       "      <td>bb7d42abac90b498ceac2cf15b642458</td>\n",
       "      <td>Noise Complaint</td>\n",
       "      <td>L057992</td>\n",
       "      <td>00 K St</td>\n",
       "      <td>2023-07-10 03:17:52+00:00</td>\n",
       "      <td>-117.0717</td>\n",
       "      <td>32.6174</td>\n",
       "      <td>34.8496422</td>\n",
       "      <td>True</td>\n",
       "      <td>60730131022000</td>\n",
       "      <td>2000</td>\n",
       "      <td>2</td>\n",
       "      <td>13102</td>\n",
       "      <td>73</td>\n",
       "      <td>6</td>\n",
       "      <td>San Diego County</td>\n",
       "      <td>California</td>\n",
       "      <td>861</td>\n",
       "      <td>326</td>\n",
       "    </tr>\n",
       "    <tr>\n",
       "      <th>18717109</th>\n",
       "      <td>bb7d42abac90b498ceac2cf15b642458</td>\n",
       "      <td>Noise Complaint</td>\n",
       "      <td>L057992</td>\n",
       "      <td>00 K St</td>\n",
       "      <td>2023-07-10 03:17:53+00:00</td>\n",
       "      <td>-117.0717</td>\n",
       "      <td>32.6174</td>\n",
       "      <td>34.8496422</td>\n",
       "      <td>True</td>\n",
       "      <td>60730131022000</td>\n",
       "      <td>2000</td>\n",
       "      <td>2</td>\n",
       "      <td>13102</td>\n",
       "      <td>73</td>\n",
       "      <td>6</td>\n",
       "      <td>San Diego County</td>\n",
       "      <td>California</td>\n",
       "      <td>861</td>\n",
       "      <td>326</td>\n",
       "    </tr>\n",
       "    <tr>\n",
       "      <th>18717110</th>\n",
       "      <td>bb7d42abac90b498ceac2cf15b642458</td>\n",
       "      <td>Noise Complaint</td>\n",
       "      <td>L057992</td>\n",
       "      <td>00 K St</td>\n",
       "      <td>2023-07-10 03:17:54+00:00</td>\n",
       "      <td>-117.0717</td>\n",
       "      <td>32.6174</td>\n",
       "      <td>34.8496422</td>\n",
       "      <td>True</td>\n",
       "      <td>60730131022000</td>\n",
       "      <td>2000</td>\n",
       "      <td>2</td>\n",
       "      <td>13102</td>\n",
       "      <td>73</td>\n",
       "      <td>6</td>\n",
       "      <td>San Diego County</td>\n",
       "      <td>California</td>\n",
       "      <td>861</td>\n",
       "      <td>326</td>\n",
       "    </tr>\n",
       "    <tr>\n",
       "      <th>18717111</th>\n",
       "      <td>bb7d42abac90b498ceac2cf15b642458</td>\n",
       "      <td>Noise Complaint</td>\n",
       "      <td>L057992</td>\n",
       "      <td>00 K St</td>\n",
       "      <td>2023-07-10 03:17:54+00:00</td>\n",
       "      <td>-117.0717</td>\n",
       "      <td>32.6174</td>\n",
       "      <td>34.9496422</td>\n",
       "      <td>True</td>\n",
       "      <td>60730131022000</td>\n",
       "      <td>2000</td>\n",
       "      <td>2</td>\n",
       "      <td>13102</td>\n",
       "      <td>73</td>\n",
       "      <td>6</td>\n",
       "      <td>San Diego County</td>\n",
       "      <td>California</td>\n",
       "      <td>861</td>\n",
       "      <td>326</td>\n",
       "    </tr>\n",
       "  </tbody>\n",
       "</table>\n",
       "<p>2919 rows × 19 columns</p>\n",
       "</div>"
      ],
      "text/plain": [
       "                                        id             type incident_id  \\\n",
       "18714193  bb7d42abac90b498ceac2cf15b642458  Noise Complaint     L057992   \n",
       "18714194  bb7d42abac90b498ceac2cf15b642458  Noise Complaint     L057992   \n",
       "18714195  bb7d42abac90b498ceac2cf15b642458  Noise Complaint     L057992   \n",
       "18714196  bb7d42abac90b498ceac2cf15b642458  Noise Complaint     L057992   \n",
       "18714197  bb7d42abac90b498ceac2cf15b642458  Noise Complaint     L057992   \n",
       "...                                    ...              ...         ...   \n",
       "18717107  bb7d42abac90b498ceac2cf15b642458  Noise Complaint     L057992   \n",
       "18717108  bb7d42abac90b498ceac2cf15b642458  Noise Complaint     L057992   \n",
       "18717109  bb7d42abac90b498ceac2cf15b642458  Noise Complaint     L057992   \n",
       "18717110  bb7d42abac90b498ceac2cf15b642458  Noise Complaint     L057992   \n",
       "18717111  bb7d42abac90b498ceac2cf15b642458  Noise Complaint     L057992   \n",
       "\n",
       "         address_map                   sequence  longitude latitude  \\\n",
       "18714193     00 K St  2023-07-10 02:39:37+00:00  -117.0717  32.6174   \n",
       "18714194     00 K St  2023-07-10 02:39:38+00:00  -117.0717  32.6174   \n",
       "18714195     00 K St  2023-07-10 02:55:08+00:00  -117.0717  32.6175   \n",
       "18714196     00 K St  2023-07-10 02:55:08+00:00  -117.0717  32.6175   \n",
       "18714197     00 K St  2023-07-10 02:55:09+00:00  -117.0717  32.6175   \n",
       "...              ...                        ...        ...      ...   \n",
       "18717107     00 K St  2023-07-10 03:17:52+00:00  -117.0717  32.6174   \n",
       "18717108     00 K St  2023-07-10 03:17:52+00:00  -117.0717  32.6174   \n",
       "18717109     00 K St  2023-07-10 03:17:53+00:00  -117.0717  32.6174   \n",
       "18717110     00 K St  2023-07-10 03:17:54+00:00  -117.0717  32.6174   \n",
       "18717111     00 K St  2023-07-10 03:17:54+00:00  -117.0717  32.6174   \n",
       "\n",
       "            altitude success           geoid block block_group  tract county  \\\n",
       "18714193  34.9496422    True  60730131022000  2000           2  13102     73   \n",
       "18714194  34.9496422    True  60730131022000  2000           2  13102     73   \n",
       "18714195  35.1496422    True  60730131022000  2000           2  13102     73   \n",
       "18714196  35.2496422    True  60730131022000  2000           2  13102     73   \n",
       "18714197  35.3496422    True  60730131022000  2000           2  13102     73   \n",
       "...              ...     ...             ...   ...         ...    ...    ...   \n",
       "18717107  34.7496422    True  60730131022000  2000           2  13102     73   \n",
       "18717108  34.8496422    True  60730131022000  2000           2  13102     73   \n",
       "18717109  34.8496422    True  60730131022000  2000           2  13102     73   \n",
       "18717110  34.8496422    True  60730131022000  2000           2  13102     73   \n",
       "18717111  34.9496422    True  60730131022000  2000           2  13102     73   \n",
       "\n",
       "         state       county_name  state_name population housing  \n",
       "18714193     6  San Diego County  California        861     326  \n",
       "18714194     6  San Diego County  California        861     326  \n",
       "18714195     6  San Diego County  California        861     326  \n",
       "18714196     6  San Diego County  California        861     326  \n",
       "18714197     6  San Diego County  California        861     326  \n",
       "...        ...               ...         ...        ...     ...  \n",
       "18717107     6  San Diego County  California        861     326  \n",
       "18717108     6  San Diego County  California        861     326  \n",
       "18717109     6  San Diego County  California        861     326  \n",
       "18717110     6  San Diego County  California        861     326  \n",
       "18717111     6  San Diego County  California        861     326  \n",
       "\n",
       "[2919 rows x 19 columns]"
      ]
     },
     "execution_count": 11,
     "metadata": {},
     "output_type": "execute_result"
    }
   ],
   "source": [
    "flight_details[flight_details['id']==flight_id]"
   ]
  },
  {
   "cell_type": "markdown",
   "id": "09a4a48e-531a-49e2-b16d-12d4a8777f3b",
   "metadata": {},
   "source": [
    "### Run the Code \n",
    "\n",
    "Multi Threaded to speed up the calculations.  I'm certain theres a better way to do this, but its not worth figuring out right now.  It takes 15 minutes to spit out the exposure dataframe.  Get a coffee."
   ]
  },
  {
   "cell_type": "code",
   "execution_count": 12,
   "id": "9f878676-1616-4656-9c90-092b968fec2d",
   "metadata": {},
   "outputs": [
    {
     "data": {
      "application/vnd.jupyter.widget-view+json": {
       "model_id": "272b4ae330c54024807a23b10208d4f7",
       "version_major": 2,
       "version_minor": 0
      },
      "text/plain": [
       "  0%|          | 0/8742 [00:00<?, ?it/s]"
      ]
     },
     "metadata": {},
     "output_type": "display_data"
    }
   ],
   "source": [
    "# flight_ids = stable_flights.sample(1000)['id'].drop_duplicates()\n",
    "flight_ids = flight_details[['id']].sample(frac=1).drop_duplicates()\n",
    "flight_ids = flight_ids[flight_ids['id'].isin(cv_flights['id'])]['id']\n",
    "\n",
    "with Pool(10) as pool:\n",
    "\n",
    "    exposures = list(\n",
    "        tqdm(pool.imap(exposure, range(0, flight_ids.shape[0])), total=flight_ids.shape[0])\n",
    "    )\n",
    "    exposures = pd.DataFrame(exposures)"
   ]
  },
  {
   "cell_type": "code",
   "execution_count": 15,
   "id": "f82ca872-17da-46ed-8623-1860b19cac3c",
   "metadata": {},
   "outputs": [],
   "source": [
    "pd.merge(cv_flights,exposures, on='id',how='left').to_csv('../viz/scatter.csv',index=False)"
   ]
  },
  {
   "cell_type": "code",
   "execution_count": 4,
   "id": "503901af-78b0-4099-bb3f-93a593e11be0",
   "metadata": {},
   "outputs": [
    {
     "ename": "NameError",
     "evalue": "name 'exposures' is not defined",
     "output_type": "error",
     "traceback": [
      "\u001b[0;31m---------------------------------------------------------------------------\u001b[0m",
      "\u001b[0;31mNameError\u001b[0m                                 Traceback (most recent call last)",
      "Cell \u001b[0;32mIn[4], line 1\u001b[0m\n\u001b[0;32m----> 1\u001b[0m logger\u001b[38;5;241m.\u001b[39minfo(\u001b[38;5;124mf\u001b[39m\u001b[38;5;124m\"\u001b[39m\u001b[38;5;124mOn average each flight exposes \u001b[39m\u001b[38;5;132;01m{\u001b[39;00m\u001b[43mexposures\u001b[49m[\u001b[38;5;124m'\u001b[39m\u001b[38;5;124mpopulation_exposed\u001b[39m\u001b[38;5;124m'\u001b[39m]\u001b[38;5;241m.\u001b[39mmean()\u001b[38;5;132;01m}\u001b[39;00m\u001b[38;5;124m people to a police drone\u001b[39m\u001b[38;5;124m\"\u001b[39m)\n",
      "\u001b[0;31mNameError\u001b[0m: name 'exposures' is not defined"
     ]
    }
   ],
   "source": [
    "logger.info(f\"On average each flight exposes {exposures['population_exposed'].mean()} people to a police drone\")"
   ]
  },
  {
   "cell_type": "code",
   "execution_count": 5,
   "id": "994b1d7c-2e5e-4c8b-b5e2-9a345aab3274",
   "metadata": {},
   "outputs": [
    {
     "ename": "NameError",
     "evalue": "name 'exposures' is not defined",
     "output_type": "error",
     "traceback": [
      "\u001b[0;31m---------------------------------------------------------------------------\u001b[0m",
      "\u001b[0;31mNameError\u001b[0m                                 Traceback (most recent call last)",
      "Cell \u001b[0;32mIn[5], line 1\u001b[0m\n\u001b[0;32m----> 1\u001b[0m logger\u001b[38;5;241m.\u001b[39minfo(\u001b[38;5;124mf\u001b[39m\u001b[38;5;124m\"\u001b[39m\u001b[38;5;124mOn average each flight passes through \u001b[39m\u001b[38;5;132;01m{\u001b[39;00m\u001b[43mexposures\u001b[49m[\u001b[38;5;124m'\u001b[39m\u001b[38;5;124mtotal_blocks\u001b[39m\u001b[38;5;124m'\u001b[39m]\u001b[38;5;241m.\u001b[39mmean()\u001b[38;5;132;01m}\u001b[39;00m\u001b[38;5;124m blocks\u001b[39m\u001b[38;5;124m\"\u001b[39m)\n",
      "\u001b[0;31mNameError\u001b[0m: name 'exposures' is not defined"
     ]
    }
   ],
   "source": [
    "logger.info(f\"On average each flight passes through {exposures['total_blocks'].mean()} blocks\")"
   ]
  },
  {
   "cell_type": "code",
   "execution_count": null,
   "id": "b6a718c7-2e00-4203-a996-2c3282d1506d",
   "metadata": {},
   "outputs": [],
   "source": []
  }
 ],
 "metadata": {
  "kernelspec": {
   "display_name": "Python 3 (ipykernel)",
   "language": "python",
   "name": "python3"
  },
  "language_info": {
   "codemirror_mode": {
    "name": "ipython",
    "version": 3
   },
   "file_extension": ".py",
   "mimetype": "text/x-python",
   "name": "python",
   "nbconvert_exporter": "python",
   "pygments_lexer": "ipython3",
   "version": "3.10.12"
  }
 },
 "nbformat": 4,
 "nbformat_minor": 5
}
