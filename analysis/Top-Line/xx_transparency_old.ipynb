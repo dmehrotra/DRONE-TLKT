{
 "cells": [
  {
   "cell_type": "markdown",
   "id": "88f59737-d18c-4d50-8c13-87d0d0014046",
   "metadata": {},
   "source": [
    "# Transparency\n",
    "\n",
    "tktk"
   ]
  },
  {
   "cell_type": "markdown",
   "id": "790ffddb-b7ea-4c30-9074-2f5dd51428bf",
   "metadata": {},
   "source": [
    "## Load Data"
   ]
  },
  {
   "cell_type": "code",
   "execution_count": 1,
   "id": "90b56be5-56af-4266-a661-dc2e74a96a39",
   "metadata": {},
   "outputs": [
    {
     "data": {
      "application/vnd.jupyter.widget-view+json": {
       "model_id": "eda2786a68f240249eedffcde400328b",
       "version_major": 2,
       "version_minor": 0
      },
      "text/plain": [
       "Loading data: 0it [00:00, ?it/s]"
      ]
     },
     "metadata": {},
     "output_type": "display_data"
    },
    {
     "data": {
      "application/vnd.jupyter.widget-view+json": {
       "model_id": "ef527ddf73f54c95a26f97ca47f904ea",
       "version_major": 2,
       "version_minor": 0
      },
      "text/plain": [
       "Loading data: 0it [00:00, ?it/s]"
      ]
     },
     "metadata": {},
     "output_type": "display_data"
    },
    {
     "data": {
      "application/vnd.jupyter.widget-view+json": {
       "model_id": "06ec245d53a745edb35d65ef8c5e5460",
       "version_major": 2,
       "version_minor": 0
      },
      "text/plain": [
       "Loading data: 0it [00:00, ?it/s]"
      ]
     },
     "metadata": {},
     "output_type": "display_data"
    }
   ],
   "source": [
    "import geopandas as gpd\n",
    "import numpy as np\n",
    "import pandas as pd\n",
    "from tqdm.notebook import tqdm, trange\n",
    "from loguru import logger\n",
    "import datetime\n",
    "import geopy.distance\n",
    "import fiona\n",
    "\n",
    "fiona.drvsupport.supported_drivers['kml'] = 'rw'\n",
    "fiona.drvsupport.supported_drivers['KML'] = 'rw'\n",
    "import warnings\n",
    "warnings.simplefilter(action='ignore')\n",
    "\n",
    "storage = \"/Volumes/easystore/Drones/\"\n",
    "\n",
    "cv_flights = pd.concat(\n",
    "    [\n",
    "        chunk\n",
    "        for chunk in tqdm(\n",
    "            pd.read_csv(\n",
    "                f\"../../data/outputs/outputs_cv-flight-manifest.csv\",\n",
    "                chunksize=100000,\n",
    "                dtype=str,\n",
    "            ),\n",
    "            desc=\"Loading data\",\n",
    "        )\n",
    "    ]\n",
    ")\n",
    "per_second = pd.concat(\n",
    "    [\n",
    "        chunk\n",
    "        for chunk in tqdm(\n",
    "            pd.read_csv(\n",
    "                f\"../../data/outputs/outputs_drone-seconds-block-count.csv\",\n",
    "                chunksize=100000,\n",
    "                dtype=str,\n",
    "            ),\n",
    "            desc=\"Loading data\",\n",
    "        )\n",
    "    ]\n",
    ")\n",
    "cfs = pd.concat(\n",
    "    [\n",
    "        chunk\n",
    "        for chunk in tqdm(\n",
    "            pd.read_csv(\n",
    "                f\"../../data/outputs/outputs_cfs-data.csv\",\n",
    "                chunksize=100000,\n",
    "                dtype=str,\n",
    "            ),\n",
    "            desc=\"Loading data\",\n",
    "        )\n",
    "    ]\n",
    ")\n",
    "cv_flights[\"drone-date\"] =  pd.to_datetime(cv_flights['date'] + \" \" + cv_flights['time_s'])\n",
    "cfs[\"cfs-date\"] = pd.to_datetime(cfs[\"Date\"])\n",
    "\n",
    "# flight_data = pd.read_csv(\"/Volumes/easystore/Drones/compiled-flight-data-gpx.csv\",dtype=str)\n",
    "# flight_data.head()"
   ]
  },
  {
   "cell_type": "code",
   "execution_count": 2,
   "id": "224b2c69-90b6-44d8-bca5-dce4a1ecba93",
   "metadata": {},
   "outputs": [
    {
     "name": "stderr",
     "output_type": "stream",
     "text": [
      "\u001b[32m2024-05-20 12:46:02.764\u001b[0m | \u001b[1mINFO    \u001b[0m | \u001b[36m__main__\u001b[0m:\u001b[36m<module>\u001b[0m:\u001b[36m1\u001b[0m - \u001b[1mFlights from: 2021-07-01T12:09:00.000000000 until 2023-09-02T23:27:00.000000000\u001b[0m\n",
      "\u001b[32m2024-05-20 12:46:02.918\u001b[0m | \u001b[1mINFO    \u001b[0m | \u001b[36m__main__\u001b[0m:\u001b[36m<module>\u001b[0m:\u001b[36m2\u001b[0m - \u001b[1mCalls from: 2021-07-01T00:40:26.430000000 until 2023-09-01T23:35:39.883000000\u001b[0m\n"
     ]
    }
   ],
   "source": [
    "logger.info(f\"Flights from: {cv_flights.sort_values('drone-date').head()['drone-date'].values[-1]} until {cv_flights.sort_values('drone-date').tail()['drone-date'].values[-1]}\")\n",
    "logger.info(f\"Calls from: {cfs.sort_values('cfs-date').head()['cfs-date'].values[-1]} until {cfs.sort_values('cfs-date').tail()['cfs-date'].values[-1]}\")"
   ]
  },
  {
   "cell_type": "markdown",
   "id": "ab21c068-a57f-4de1-b3ae-e0cb425bb30c",
   "metadata": {},
   "source": [
    "## Flights not Connected to a Call for Service"
   ]
  },
  {
   "cell_type": "markdown",
   "id": "bd28c98a-e69e-40ef-9d2b-6ca4578d6fbf",
   "metadata": {},
   "source": [
    "### Matching Incident IDs"
   ]
  },
  {
   "cell_type": "code",
   "execution_count": 3,
   "id": "5ddc478b-f4a8-43bc-9db3-296a0ef682ca",
   "metadata": {},
   "outputs": [
    {
     "name": "stderr",
     "output_type": "stream",
     "text": [
      "\u001b[32m2024-05-20 12:46:12.628\u001b[0m | \u001b[1mINFO    \u001b[0m | \u001b[36m__main__\u001b[0m:\u001b[36m<module>\u001b[0m:\u001b[36m17\u001b[0m - \u001b[1mTotal Flights: 9559\u001b[0m\n",
      "\u001b[32m2024-05-20 12:46:12.630\u001b[0m | \u001b[1mINFO    \u001b[0m | \u001b[36m__main__\u001b[0m:\u001b[36m<module>\u001b[0m:\u001b[36m18\u001b[0m - \u001b[1mFlights with NaN Incident IDS: 898\u001b[0m\n",
      "\u001b[32m2024-05-20 12:46:12.630\u001b[0m | \u001b[1mINFO    \u001b[0m | \u001b[36m__main__\u001b[0m:\u001b[36m<module>\u001b[0m:\u001b[36m19\u001b[0m - \u001b[1mTotal unmatched flights: 1871\u001b[0m\n"
     ]
    }
   ],
   "source": [
    "cv_flights[\"match\"] = cv_flights[\"incident_id\"].astype(str).apply(lambda x: x.strip().replace(' ','').replace('L','0').replace('l','0')[-5:])\n",
    "\n",
    "cfs[\"match\"] = (\n",
    "    cfs[\"Incident No.\"].astype(str).apply(lambda x: x.strip().replace(' ','').replace('l','0').replace('L','0')[-5:])\n",
    ")\n",
    "\n",
    "matches = cv_flights[cv_flights[\"match\"].isin(cfs[\"match\"])]\n",
    "matches_joined_cfs = pd.merge(matches, cfs, how=\"left\", on=\"match\",suffixes=['-drones','-cfs'])\n",
    "\n",
    "matches_joined_cfs = matches_joined_cfs[\n",
    "    matches_joined_cfs[\"drone-date\"].dt.date == matches_joined_cfs[\"cfs-date\"].dt.date\n",
    "]\n",
    "flights_with_cfs  = matches_joined_cfs.copy()\n",
    "\n",
    "no_matching_cfs = cv_flights[~cv_flights['id'].isin(flights_with_cfs['id'])].copy()\n",
    "\n",
    "logger.info(f\"Total Flights: {cv_flights.shape[0]}\")\n",
    "logger.info(f\"Flights with NaN Incident IDS: {no_matching_cfs[no_matching_cfs['incident_id'].astype(str).str.contains('nan',case=False)].shape[0]}\")\n",
    "logger.info(f\"Total unmatched flights: {no_matching_cfs.shape[0]}\")"
   ]
  },
  {
   "cell_type": "code",
   "execution_count": 132,
   "id": "41460203-bf28-4880-b069-2274cac15169",
   "metadata": {},
   "outputs": [
    {
     "data": {
      "text/plain": [
       "0.09394288105450362"
      ]
     },
     "execution_count": 132,
     "metadata": {},
     "output_type": "execute_result"
    }
   ],
   "source": [
    "898/9559"
   ]
  },
  {
   "cell_type": "code",
   "execution_count": 126,
   "id": "d9388ba2-1a57-4240-b5a6-7e1109ecf61e",
   "metadata": {},
   "outputs": [],
   "source": [
    "nan_flights = no_matching_cfs[no_matching_cfs['incident_id'].astype(str).str.contains('nan',case=False)].copy()"
   ]
  },
  {
   "cell_type": "markdown",
   "id": "f07ce543-4996-4d8e-8219-c41e60202143",
   "metadata": {},
   "source": [
    "### Matching by Path and CFS Location\n",
    "\n",
    "Find calls that occured within 90 minutes of a drone flight and record the top five blocks where they spent time"
   ]
  },
  {
   "cell_type": "code",
   "execution_count": 127,
   "id": "76b28261-65db-46cc-947e-d94c68349e0c",
   "metadata": {},
   "outputs": [
    {
     "data": {
      "application/vnd.jupyter.widget-view+json": {
       "model_id": "0d898e8091524a17929bfd3b7b352a92",
       "version_major": 2,
       "version_minor": 0
      },
      "text/plain": [
       "0it [00:00, ?it/s]"
      ]
     },
     "metadata": {},
     "output_type": "display_data"
    }
   ],
   "source": [
    "orphan_flight_blocks = flight_blocks[flight_blocks['id'].isin(nan_flights['id'])]\n",
    "orphan_flight_blocks['seconds'] = orphan_flight_blocks['seconds'].astype(int)\n",
    "\n",
    "possible_cfs = []\n",
    "for _, row in tqdm(no_matching_cfs[no_matching_cfs['incident_id'].astype(str).str.contains('nan',case=False)].sample(frac=1).iterrows()):\n",
    "    ceiling = row['drone-date'] + datetime.timedelta(minutes = 1)\n",
    "    floor = row['drone-date'] - datetime.timedelta(minutes = 90)\n",
    "\n",
    "    blocks = orphan_flight_blocks[orphan_flight_blocks['id']==row['id']]\n",
    "    lingering_blocks = ','.join(blocks.sort_values('seconds').tail(5)['GEOID20'].values)\n",
    "    \n",
    "    mask = (cfs['cfs-date'] > floor) & (cfs['cfs-date'] < ceiling)\n",
    "    possible_calls = cfs.loc[mask].copy()\n",
    "    possible_calls['possible-drone-id'] = row['id']\n",
    "    possible_calls['drone-incident-id'] = row['incident_id']\n",
    "    possible_calls['drone-date'] = row['drone-date']\n",
    "    possible_calls['drone-type'] = row['type']\n",
    "    possible_calls['drone-type'] = row['type']\n",
    "    possible_calls['drone-address'] = row['address_map']\n",
    "    possible_calls['drone-FIPS'] = lingering_blocks\n",
    "\n",
    "    # possible_calls = possible_calls[possible_calls['Full FIPS (block)']==row['Full FIPS (block)']].copy()\n",
    "    \n",
    "    possible_cfs.append(possible_calls)\n",
    "possible_cfs = pd.concat(possible_cfs)  "
   ]
  },
  {
   "cell_type": "markdown",
   "id": "e091e401-b01c-4c13-90ec-12b01c449898",
   "metadata": {},
   "source": [
    "#### Was one the drone, at any point, less than half a mile away from a call"
   ]
  },
  {
   "cell_type": "code",
   "execution_count": 134,
   "id": "d87ef9bf-ada9-4663-b4ee-ee12343754f5",
   "metadata": {},
   "outputs": [
    {
     "data": {
      "application/vnd.jupyter.widget-view+json": {
       "model_id": "1485b62ab1374fcb980cb445b8a7ed14",
       "version_major": 2,
       "version_minor": 0
      },
      "text/plain": [
       "0it [00:00, ?it/s]"
      ]
     },
     "metadata": {},
     "output_type": "display_data"
    }
   ],
   "source": [
    "possible_cfs_by_distance = []\n",
    "for _, flight in tqdm(nan_flights.iterrows()):\n",
    "#   find possible calls by time\n",
    "    possible_cfs_for_flight = possible_cfs[possible_cfs['possible-drone-id']==flight['id']]\n",
    "    \n",
    "    orphan_flight = orphan_flight_blocks[orphan_flight_blocks['id']==flight['id']].copy()\n",
    "    orphan_flight['seconds'] = orphan_flight['seconds'].astype(int)\n",
    "\n",
    "    lingering_blocks = orphan_flight\n",
    "    \n",
    "    if lingering_blocks.shape[0]>0:\n",
    "        for _, pcfs in possible_cfs_for_flight.iterrows():\n",
    "            for _, block in lingering_blocks.iterrows():\n",
    "                if str(block['INTPTLAT20']) != \"nan\":\n",
    "                    try:\n",
    "                        distance = geopy.distance.geodesic((pcfs['Latitude'],pcfs['Longitude']),(block['INTPTLAT20'],block['INTPTLON20'])).miles\n",
    "                        if distance <= .5:\n",
    "                            pcfs[\"lingering-block\"] = block['GEOID20']\n",
    "                            pcfs[\"distance\"] = distance\n",
    "                            possible_cfs_by_distance.append(pcfs)\n",
    "                    except:\n",
    "                        logger.error(f\"{(pcfs['Latitude'],pcfs['Longitude']),(block['INTPTLAT20'],block['INTPTLON20'])}\")\n",
    "\n",
    "possible_cfs_by_distance = pd.DataFrame(possible_cfs_by_distance)         "
   ]
  },
  {
   "cell_type": "code",
   "execution_count": 136,
   "id": "38d9ba39-8c1f-496d-8e2b-47319393c500",
   "metadata": {},
   "outputs": [
    {
     "data": {
      "text/html": [
       "<div>\n",
       "<style scoped>\n",
       "    .dataframe tbody tr th:only-of-type {\n",
       "        vertical-align: middle;\n",
       "    }\n",
       "\n",
       "    .dataframe tbody tr th {\n",
       "        vertical-align: top;\n",
       "    }\n",
       "\n",
       "    .dataframe thead th {\n",
       "        text-align: right;\n",
       "    }\n",
       "</style>\n",
       "<table border=\"1\" class=\"dataframe\">\n",
       "  <thead>\n",
       "    <tr style=\"text-align: right;\">\n",
       "      <th></th>\n",
       "      <th>lat_map</th>\n",
       "      <th>lon_map</th>\n",
       "      <th>time</th>\n",
       "      <th>id</th>\n",
       "      <th>date</th>\n",
       "      <th>time_s</th>\n",
       "      <th>address_map</th>\n",
       "      <th>incident_id</th>\n",
       "      <th>type</th>\n",
       "      <th>department</th>\n",
       "      <th>clean-type</th>\n",
       "      <th>match</th>\n",
       "      <th>drone-date</th>\n",
       "    </tr>\n",
       "  </thead>\n",
       "  <tbody>\n",
       "    <tr>\n",
       "      <th>89</th>\n",
       "      <td>32.6408719</td>\n",
       "      <td>-117.0989442</td>\n",
       "      <td>5:19pm</td>\n",
       "      <td>56cc862e1e47b73ed2a423685a0d781e</td>\n",
       "      <td>2021-07-07</td>\n",
       "      <td>5:19pm</td>\n",
       "      <td>NaN</td>\n",
       "      <td>NaN</td>\n",
       "      <td>NaN</td>\n",
       "      <td>cvpd</td>\n",
       "      <td>NaN</td>\n",
       "      <td>nan</td>\n",
       "      <td>2021-07-07 17:19:00</td>\n",
       "    </tr>\n",
       "    <tr>\n",
       "      <th>120</th>\n",
       "      <td>32.61739667</td>\n",
       "      <td>-117.07165328</td>\n",
       "      <td>6:18pm</td>\n",
       "      <td>d6fa0dbda343a1ed169f0999fa0ad40a</td>\n",
       "      <td>2021-07-09</td>\n",
       "      <td>6:18pm</td>\n",
       "      <td>330 Moss St</td>\n",
       "      <td>NaN</td>\n",
       "      <td>NaN</td>\n",
       "      <td>cvpd</td>\n",
       "      <td>NaN</td>\n",
       "      <td>nan</td>\n",
       "      <td>2021-07-09 18:18:00</td>\n",
       "    </tr>\n",
       "    <tr>\n",
       "      <th>181</th>\n",
       "      <td>32.596614020211</td>\n",
       "      <td>-117.021563539355</td>\n",
       "      <td>2:46pm</td>\n",
       "      <td>f4861ddf2a3e4e2b698aeaf5c130747e</td>\n",
       "      <td>2021-07-13</td>\n",
       "      <td>2:46pm</td>\n",
       "      <td>739 Design Ct</td>\n",
       "      <td>NaN</td>\n",
       "      <td>NaN</td>\n",
       "      <td>cvpd</td>\n",
       "      <td>NaN</td>\n",
       "      <td>nan</td>\n",
       "      <td>2021-07-13 14:46:00</td>\n",
       "    </tr>\n",
       "    <tr>\n",
       "      <th>183</th>\n",
       "      <td>32.5977906002576</td>\n",
       "      <td>-117.02117189926</td>\n",
       "      <td>3:21pm</td>\n",
       "      <td>cb6ac060e8a888984ec6f734a515abd4</td>\n",
       "      <td>2021-07-13</td>\n",
       "      <td>3:21pm</td>\n",
       "      <td>1800 Maxwell Rd</td>\n",
       "      <td>NaN</td>\n",
       "      <td>NaN</td>\n",
       "      <td>cvpd</td>\n",
       "      <td>NaN</td>\n",
       "      <td>nan</td>\n",
       "      <td>2021-07-13 15:21:00</td>\n",
       "    </tr>\n",
       "    <tr>\n",
       "      <th>186</th>\n",
       "      <td>32.5978288675502</td>\n",
       "      <td>-117.021179795161</td>\n",
       "      <td>3:37pm</td>\n",
       "      <td>281e49b6f1d692c095a5ccde46af43d6</td>\n",
       "      <td>2021-07-13</td>\n",
       "      <td>3:37pm</td>\n",
       "      <td>1800 Maxwell Rd</td>\n",
       "      <td>NaN</td>\n",
       "      <td>NaN</td>\n",
       "      <td>cvpd</td>\n",
       "      <td>NaN</td>\n",
       "      <td>nan</td>\n",
       "      <td>2021-07-13 15:37:00</td>\n",
       "    </tr>\n",
       "    <tr>\n",
       "      <th>...</th>\n",
       "      <td>...</td>\n",
       "      <td>...</td>\n",
       "      <td>...</td>\n",
       "      <td>...</td>\n",
       "      <td>...</td>\n",
       "      <td>...</td>\n",
       "      <td>...</td>\n",
       "      <td>...</td>\n",
       "      <td>...</td>\n",
       "      <td>...</td>\n",
       "      <td>...</td>\n",
       "      <td>...</td>\n",
       "      <td>...</td>\n",
       "    </tr>\n",
       "    <tr>\n",
       "      <th>9017</th>\n",
       "      <td>32.6402645315427</td>\n",
       "      <td>-117.081045997832</td>\n",
       "      <td>10:31pm</td>\n",
       "      <td>65c3e998986414faaff0c76f4ecd6f2c</td>\n",
       "      <td>2023-08-02</td>\n",
       "      <td>10:31pm</td>\n",
       "      <td>332 F St</td>\n",
       "      <td>NaN</td>\n",
       "      <td>NaN</td>\n",
       "      <td>cvpd</td>\n",
       "      <td>NaN</td>\n",
       "      <td>nan</td>\n",
       "      <td>2023-08-02 22:31:00</td>\n",
       "    </tr>\n",
       "    <tr>\n",
       "      <th>9031</th>\n",
       "      <td>32.645054433498</td>\n",
       "      <td>-116.995017439052</td>\n",
       "      <td>10:56am</td>\n",
       "      <td>a504dd706091aac3dff979c8f3d63e2d</td>\n",
       "      <td>2023-08-02</td>\n",
       "      <td>10:56am</td>\n",
       "      <td>1616 Columbia St</td>\n",
       "      <td>NaN</td>\n",
       "      <td>NaN</td>\n",
       "      <td>cvpd</td>\n",
       "      <td>NaN</td>\n",
       "      <td>nan</td>\n",
       "      <td>2023-08-02 10:56:00</td>\n",
       "    </tr>\n",
       "    <tr>\n",
       "      <th>9042</th>\n",
       "      <td>32.63996862</td>\n",
       "      <td>-117.08271187</td>\n",
       "      <td>6:29pm</td>\n",
       "      <td>1ea1b7f6e87976c33c021c43f69dd8ad</td>\n",
       "      <td>2023-08-03</td>\n",
       "      <td>6:29pm</td>\n",
       "      <td>315 4th Ave</td>\n",
       "      <td>NaN</td>\n",
       "      <td>NaN</td>\n",
       "      <td>cvpd</td>\n",
       "      <td>NaN</td>\n",
       "      <td>nan</td>\n",
       "      <td>2023-08-03 18:29:00</td>\n",
       "    </tr>\n",
       "    <tr>\n",
       "      <th>9112</th>\n",
       "      <td>32.6174121141753</td>\n",
       "      <td>-117.071669084666</td>\n",
       "      <td>8:50am</td>\n",
       "      <td>45e87cbd3073fcb14a8b2394f3f09836</td>\n",
       "      <td>2023-08-06</td>\n",
       "      <td>8:50am</td>\n",
       "      <td>330 Moss St</td>\n",
       "      <td>NaN</td>\n",
       "      <td>NaN</td>\n",
       "      <td>cvpd</td>\n",
       "      <td>NaN</td>\n",
       "      <td>nan</td>\n",
       "      <td>2023-08-06 08:50:00</td>\n",
       "    </tr>\n",
       "    <tr>\n",
       "      <th>9171</th>\n",
       "      <td>32.6156976569702</td>\n",
       "      <td>-117.033330384313</td>\n",
       "      <td>10:24am</td>\n",
       "      <td>cb1443b2946b492490ca54440cf99740</td>\n",
       "      <td>2023-08-08</td>\n",
       "      <td>10:24am</td>\n",
       "      <td>1301 Oleander Ave</td>\n",
       "      <td>NaN</td>\n",
       "      <td>NaN</td>\n",
       "      <td>cvpd</td>\n",
       "      <td>NaN</td>\n",
       "      <td>nan</td>\n",
       "      <td>2023-08-08 10:24:00</td>\n",
       "    </tr>\n",
       "  </tbody>\n",
       "</table>\n",
       "<p>396 rows × 13 columns</p>\n",
       "</div>"
      ],
      "text/plain": [
       "               lat_map            lon_map     time  \\\n",
       "89          32.6408719       -117.0989442   5:19pm   \n",
       "120        32.61739667      -117.07165328   6:18pm   \n",
       "181    32.596614020211  -117.021563539355   2:46pm   \n",
       "183   32.5977906002576   -117.02117189926   3:21pm   \n",
       "186   32.5978288675502  -117.021179795161   3:37pm   \n",
       "...                ...                ...      ...   \n",
       "9017  32.6402645315427  -117.081045997832  10:31pm   \n",
       "9031   32.645054433498  -116.995017439052  10:56am   \n",
       "9042       32.63996862      -117.08271187   6:29pm   \n",
       "9112  32.6174121141753  -117.071669084666   8:50am   \n",
       "9171  32.6156976569702  -117.033330384313  10:24am   \n",
       "\n",
       "                                    id        date   time_s  \\\n",
       "89    56cc862e1e47b73ed2a423685a0d781e  2021-07-07   5:19pm   \n",
       "120   d6fa0dbda343a1ed169f0999fa0ad40a  2021-07-09   6:18pm   \n",
       "181   f4861ddf2a3e4e2b698aeaf5c130747e  2021-07-13   2:46pm   \n",
       "183   cb6ac060e8a888984ec6f734a515abd4  2021-07-13   3:21pm   \n",
       "186   281e49b6f1d692c095a5ccde46af43d6  2021-07-13   3:37pm   \n",
       "...                                ...         ...      ...   \n",
       "9017  65c3e998986414faaff0c76f4ecd6f2c  2023-08-02  10:31pm   \n",
       "9031  a504dd706091aac3dff979c8f3d63e2d  2023-08-02  10:56am   \n",
       "9042  1ea1b7f6e87976c33c021c43f69dd8ad  2023-08-03   6:29pm   \n",
       "9112  45e87cbd3073fcb14a8b2394f3f09836  2023-08-06   8:50am   \n",
       "9171  cb1443b2946b492490ca54440cf99740  2023-08-08  10:24am   \n",
       "\n",
       "            address_map incident_id type department clean-type match  \\\n",
       "89                  NaN         NaN  NaN       cvpd        NaN   nan   \n",
       "120         330 Moss St         NaN  NaN       cvpd        NaN   nan   \n",
       "181       739 Design Ct         NaN  NaN       cvpd        NaN   nan   \n",
       "183     1800 Maxwell Rd         NaN  NaN       cvpd        NaN   nan   \n",
       "186     1800 Maxwell Rd         NaN  NaN       cvpd        NaN   nan   \n",
       "...                 ...         ...  ...        ...        ...   ...   \n",
       "9017           332 F St         NaN  NaN       cvpd        NaN   nan   \n",
       "9031   1616 Columbia St         NaN  NaN       cvpd        NaN   nan   \n",
       "9042        315 4th Ave         NaN  NaN       cvpd        NaN   nan   \n",
       "9112        330 Moss St         NaN  NaN       cvpd        NaN   nan   \n",
       "9171  1301 Oleander Ave         NaN  NaN       cvpd        NaN   nan   \n",
       "\n",
       "              drone-date  \n",
       "89   2021-07-07 17:19:00  \n",
       "120  2021-07-09 18:18:00  \n",
       "181  2021-07-13 14:46:00  \n",
       "183  2021-07-13 15:21:00  \n",
       "186  2021-07-13 15:37:00  \n",
       "...                  ...  \n",
       "9017 2023-08-02 22:31:00  \n",
       "9031 2023-08-02 10:56:00  \n",
       "9042 2023-08-03 18:29:00  \n",
       "9112 2023-08-06 08:50:00  \n",
       "9171 2023-08-08 10:24:00  \n",
       "\n",
       "[396 rows x 13 columns]"
      ]
     },
     "execution_count": 136,
     "metadata": {},
     "output_type": "execute_result"
    }
   ],
   "source": [
    "nan_flights[~nan_flights['id'].isin(possible_cfs_by_distance['possible-drone-id'])]"
   ]
  },
  {
   "cell_type": "markdown",
   "id": "f3cd213c-5f7b-46df-9d7f-f4c66d8e4534",
   "metadata": {},
   "source": [
    "## Spit out mystery flights"
   ]
  },
  {
   "cell_type": "code",
   "execution_count": 129,
   "id": "31a0b012-3569-4c36-b107-ed16e7ead047",
   "metadata": {},
   "outputs": [
    {
     "data": {
      "application/vnd.jupyter.widget-view+json": {
       "model_id": "682104774c6c474a9ff9b369d1624ce2",
       "version_major": 2,
       "version_minor": 0
      },
      "text/plain": [
       "0it [00:00, ?it/s]"
      ]
     },
     "metadata": {},
     "output_type": "display_data"
    }
   ],
   "source": [
    "compiled_flights =[] \n",
    "\n",
    "for _, row in tqdm(nan_flights[~nan_flights['id'].isin(possible_cfs_by_distance['possible-drone-id'])].iterrows()):\n",
    "    \n",
    "    d = gpd.read_file(f\"/Volumes/easystore/Drones/flights/kml/{row['id']}.kml\",driver='KML')\n",
    "    d['drone-id'] = row['id']\n",
    "    d['address_map'] = row['address_map']\n",
    "    d['drone-date'] = row['drone-date']\n",
    "    d['incident_id'] = row['incident_id']\n",
    "    d['type']=row['type']\n",
    "     \n",
    "    compiled_flights.append(d)\n",
    "    "
   ]
  },
  {
   "cell_type": "code",
   "execution_count": 133,
   "id": "01485379-e6a4-4992-825a-7f1f9b9fcf25",
   "metadata": {},
   "outputs": [],
   "source": [
    "nan_flights.to_csv('./nan-flights.csv',index=False)"
   ]
  }
 ],
 "metadata": {
  "kernelspec": {
   "display_name": "Python 3 (ipykernel)",
   "language": "python",
   "name": "python3"
  },
  "language_info": {
   "codemirror_mode": {
    "name": "ipython",
    "version": 3
   },
   "file_extension": ".py",
   "mimetype": "text/x-python",
   "name": "python",
   "nbconvert_exporter": "python",
   "pygments_lexer": "ipython3",
   "version": "3.10.12"
  }
 },
 "nbformat": 4,
 "nbformat_minor": 5
}
