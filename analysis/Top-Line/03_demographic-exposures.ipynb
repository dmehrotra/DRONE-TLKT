{
 "cells": [
  {
   "cell_type": "markdown",
   "id": "789988e5-7f23-4219-bf20-21e092f543e6",
   "metadata": {},
   "source": [
    "# Demographic Exposures\n",
    "\n",
    "For this analysis I use block and block group level data to calculate an exposure rate per capita for every block.  That is determined by looking at the number of seconds a drone spent in a block and multiplying it by the number of people in the block.  \n",
    "\n",
    "Overall, the poorer the neighborhood, the more exposure to drones its residents faced. Residents in the working class and largely immigrant West side of Chula Vista were far more likely to be exposed to police drone cameras compared to those in the wealthier communities on the East side. According to our analysis, drones lingered in the sky above the average West side block for a total of nearly two hours—more than five times as high as the average block on the East side.  Latine residents, who make up 70 percent of Chula Vista's population, faced 1.6 times as much exposure per capita as non-Latine residents did. \n"
   ]
  },
  {
   "cell_type": "code",
   "execution_count": 2,
   "id": "8f64abad-a9bd-452c-a562-2eb27c4854e7",
   "metadata": {},
   "outputs": [
    {
     "data": {
      "application/vnd.jupyter.widget-view+json": {
       "model_id": "e417017e4ac34f4983423836e6f3703e",
       "version_major": 2,
       "version_minor": 0
      },
      "text/plain": [
       "Loading data: 0it [00:00, ?it/s]"
      ]
     },
     "metadata": {},
     "output_type": "display_data"
    },
    {
     "data": {
      "application/vnd.jupyter.widget-view+json": {
       "model_id": "93af02049854491cabd0f1d0e49ab0d1",
       "version_major": 2,
       "version_minor": 0
      },
      "text/plain": [
       "Loading data: 0it [00:00, ?it/s]"
      ]
     },
     "metadata": {},
     "output_type": "display_data"
    },
    {
     "data": {
      "application/vnd.jupyter.widget-view+json": {
       "model_id": "4b0486eada7249c9b5c922faefbdfc33",
       "version_major": 2,
       "version_minor": 0
      },
      "text/plain": [
       "Loading data: 0it [00:00, ?it/s]"
      ]
     },
     "metadata": {},
     "output_type": "display_data"
    },
    {
     "data": {
      "application/vnd.jupyter.widget-view+json": {
       "model_id": "ff70f6ebfc4541eead6f98303164bd6a",
       "version_major": 2,
       "version_minor": 0
      },
      "text/plain": [
       "Loading data: 0it [00:00, ?it/s]"
      ]
     },
     "metadata": {},
     "output_type": "display_data"
    },
    {
     "data": {
      "application/vnd.jupyter.widget-view+json": {
       "model_id": "5f2a313103674cc289d32b7bdb63e3e6",
       "version_major": 2,
       "version_minor": 0
      },
      "text/plain": [
       "Loading data: 0it [00:00, ?it/s]"
      ]
     },
     "metadata": {},
     "output_type": "display_data"
    }
   ],
   "source": [
    "import geopandas as gpd\n",
    "import numpy as np\n",
    "import pandas as pd\n",
    "from tqdm.notebook import tqdm, trange\n",
    "from loguru import logger\n",
    "storage = \"/Volumes/easystore/Drones/\"\n",
    "\n",
    "from shapely import wkt\n",
    "import json\n",
    "\n",
    "cv_flights = pd.concat(\n",
    "    [\n",
    "        chunk\n",
    "        for chunk in tqdm(\n",
    "            pd.read_csv(\n",
    "                f\"../../data/outputs/outputs_cv-flight-manifest.csv\",\n",
    "                chunksize=100000,\n",
    "                dtype=str,\n",
    "            ),\n",
    "            desc=\"Loading data\",\n",
    "        )\n",
    "    ]\n",
    ")\n",
    "per_second = pd.concat(\n",
    "    [\n",
    "        chunk\n",
    "        for chunk in tqdm(\n",
    "            pd.read_csv(\n",
    "                f\"../../data/outputs/outputs_drone-seconds-block-count.csv\",\n",
    "                chunksize=100000,\n",
    "                dtype=str,\n",
    "            ),\n",
    "            desc=\"Loading data\",\n",
    "        )\n",
    "    ]\n",
    ")\n",
    "\n",
    "\n",
    "race_df = pd.concat(\n",
    "    [\n",
    "        chunk\n",
    "        for chunk in tqdm(\n",
    "            pd.read_csv(\n",
    "                f\"../../data/outputs/outputs_census-race.csv\",\n",
    "                chunksize=100000,\n",
    "                dtype=str,\n",
    "            ),\n",
    "            desc=\"Loading data\",\n",
    "        )\n",
    "    ]\n",
    ")\n",
    "poverty_df = pd.concat(\n",
    "    [\n",
    "        chunk\n",
    "        for chunk in tqdm(\n",
    "            pd.read_csv(\n",
    "                f\"../../data/outputs/outputs_acs-poverty-blockgroups.csv\",\n",
    "                chunksize=100000,\n",
    "                dtype=str,\n",
    "            ),\n",
    "            desc=\"Loading data\",\n",
    "        )\n",
    "    ]\n",
    ")\n",
    "cv_blocks = pd.concat(\n",
    "    [\n",
    "        chunk\n",
    "        for chunk in tqdm(\n",
    "            pd.read_csv(\n",
    "                f\"../../data/outputs/outputs_cv-blocks-geometry.csv\",\n",
    "                chunksize=100000,\n",
    "                dtype=str,\n",
    "            ),\n",
    "            desc=\"Loading data\",\n",
    "        )\n",
    "    ]\n",
    ")\n",
    "\n",
    "# flight_data = pd.read_csv(\"/Volumes/easystore/Drones/compiled-flight-data-gpx.csv\",dtype=str)\n",
    "# flight_data.head()\n",
    "def wkt_to_geojson(wkt_str):\n",
    "    geom = wkt.loads(wkt_str)\n",
    "    coordinates = [list(coord) for coord in geom.exterior.coords]\n",
    "    geojson = {\n",
    "        \"type\": \"Polygon\",\n",
    "        \"coordinates\": [coordinates]\n",
    "    }\n",
    "    return json.dumps(geojson)\n",
    "\n",
    "# Apply the conversion to the geometry column"
   ]
  },
  {
   "cell_type": "markdown",
   "id": "bb05f1c0-6c16-4485-8a41-921ad23ec1d6",
   "metadata": {},
   "source": [
    "## Prepare Data\n"
   ]
  },
  {
   "cell_type": "code",
   "execution_count": 3,
   "id": "385cf295-6b87-41fb-9e61-c12400909194",
   "metadata": {},
   "outputs": [],
   "source": [
    "per_second[\"seconds\"] = per_second[\"seconds\"].astype(float)\n",
    "per_second[\"call_count\"] = per_second[\"call_count\"].astype(float)\n",
    "per_second[\"block-group-geoid\"] = cv_blocks['GEOID20'].apply(lambda x: x[:12])\n"
   ]
  },
  {
   "cell_type": "code",
   "execution_count": 4,
   "id": "5fb5b605-4297-4c95-b2af-b8bc7a708398",
   "metadata": {},
   "outputs": [],
   "source": [
    "per_second_joined_race = pd.merge(per_second, race_df, on=\"GEOID20\", how=\"left\")"
   ]
  },
  {
   "cell_type": "code",
   "execution_count": 5,
   "id": "674e1d92-f6c5-4dfe-9dfe-a6ab2653d145",
   "metadata": {},
   "outputs": [],
   "source": [
    "per_second_joined_race['population_exposure'] = (per_second_joined_race['POP20'].astype(float)*per_second_joined_race['seconds'])\n",
    "per_second_joined_race['population_exposure_ctrl_size'] = (per_second_joined_race['POP20'].astype(float)*per_second_joined_race['seconds'])/per_second_joined_race['ALAND20'].astype(float)\n",
    "per_second_joined_race['block_exposure_ctrl_size'] = (per_second_joined_race['seconds'])/per_second_joined_race['ALAND20'].astype(float)\n",
    "per_second_joined_race['block_exposure_ctrl_population'] = (per_second_joined_race['seconds'])/per_second_joined_race['POP20'].astype(float)\n",
    "\n",
    "per_second_joined_race.to_csv('./geometries-for-flourish-test1.csv',index=False)\n",
    "\n"
   ]
  },
  {
   "cell_type": "code",
   "execution_count": 6,
   "id": "95ebc0d3-f76a-4df9-b893-8471e733d9f1",
   "metadata": {},
   "outputs": [],
   "source": [
    "coi = ['GEOID20','ALAND20', 'AWATER20', 'INTPTLAT20', 'INTPTLON20', 'HOUSING20', 'POP20',\n",
    "       'geometry', 'seconds', 'weight', 'call_count',\n",
    "       'block-group-geoid', 'Geography', 'Geographic Area Name', 'Total_x',\n",
    "       'Total Alone', 'Total Latino', 'Total Not Latino', 'Total White',\n",
    "       'Total Black or African American',\n",
    "       'Total American Indian and Alaska Native', 'Total Asian',\n",
    "       'Total Native Hawaiian and Other Pacific Islander',\n",
    "       'Total Some Other Race','population_exposure',\n",
    "       'population_exposure_ctrl_size', 'block_exposure_ctrl_size','Total_y','FRLP Households','Below Median Households', '% FRLP Eligible', '% Below Median','west_cv']"
   ]
  },
  {
   "cell_type": "code",
   "execution_count": 7,
   "id": "9fda6531-f5c2-478b-911a-418c734d7d7b",
   "metadata": {},
   "outputs": [],
   "source": [
    "analysis_df = pd.merge(per_second_joined_race,poverty_df,on='block-group-geoid',how='left')"
   ]
  },
  {
   "cell_type": "markdown",
   "id": "a794815b-f02d-4b60-89d3-7ddbce8ece8e",
   "metadata": {},
   "source": [
    "## Flourish Addendum"
   ]
  },
  {
   "cell_type": "code",
   "execution_count": 9,
   "id": "0302ace4-c243-4953-88b6-0a9845b9d476",
   "metadata": {},
   "outputs": [],
   "source": [
    "analysis_df['hours'] = analysis_df['seconds'].astype(int)/3600\n",
    "\n",
    "analysis_df.to_csv('../viz/analysis_df.csv',index=False)"
   ]
  },
  {
   "cell_type": "markdown",
   "id": "18650055-83b4-463d-b0c7-42a127443707",
   "metadata": {},
   "source": [
    "## East versus West\n",
    "\n",
    "Comparing Blocks on the East Versus the West.  Measure the total number of exposures on each block in the west and the east. then divide by the total population of all the blocks in west versus the east.  Then compare\n",
    "\n"
   ]
  },
  {
   "cell_type": "code",
   "execution_count": 137,
   "id": "0c62f705-e9f5-4eed-80de-97327e82e8ec",
   "metadata": {},
   "outputs": [],
   "source": [
    "west_cv = analysis_df[analysis_df['west_cv']=='True'].copy()\n",
    "east_cv = analysis_df[analysis_df['west_cv']=='False'].copy()\n"
   ]
  },
  {
   "cell_type": "code",
   "execution_count": 138,
   "id": "0358fff2-c65b-48d3-ab30-cdcc2a84aee9",
   "metadata": {},
   "outputs": [
    {
     "data": {
      "text/html": [
       "<div>\n",
       "<style scoped>\n",
       "    .dataframe tbody tr th:only-of-type {\n",
       "        vertical-align: middle;\n",
       "    }\n",
       "\n",
       "    .dataframe tbody tr th {\n",
       "        vertical-align: top;\n",
       "    }\n",
       "\n",
       "    .dataframe thead th {\n",
       "        text-align: right;\n",
       "    }\n",
       "</style>\n",
       "<table border=\"1\" class=\"dataframe\">\n",
       "  <thead>\n",
       "    <tr style=\"text-align: right;\">\n",
       "      <th></th>\n",
       "      <th>STATEFP20</th>\n",
       "      <th>COUNTYFP20</th>\n",
       "      <th>TRACTCE20</th>\n",
       "      <th>BLOCKCE20</th>\n",
       "      <th>GEOID20</th>\n",
       "      <th>NAME20</th>\n",
       "      <th>MTFCC20</th>\n",
       "      <th>UR20</th>\n",
       "      <th>UACE20</th>\n",
       "      <th>UATYPE20</th>\n",
       "      <th>...</th>\n",
       "      <th>75,000 to 99,999</th>\n",
       "      <th>100,000 to 124,999</th>\n",
       "      <th>125,000 to 149,999</th>\n",
       "      <th>150,000 to 199,999</th>\n",
       "      <th>200,000 or more</th>\n",
       "      <th>len</th>\n",
       "      <th>FRLP Households</th>\n",
       "      <th>Below Median Households</th>\n",
       "      <th>% FRLP Eligible</th>\n",
       "      <th>% Below Median</th>\n",
       "    </tr>\n",
       "  </thead>\n",
       "  <tbody>\n",
       "    <tr>\n",
       "      <th>0</th>\n",
       "      <td>6</td>\n",
       "      <td>73</td>\n",
       "      <td>12600</td>\n",
       "      <td>1005</td>\n",
       "      <td>060730126001005</td>\n",
       "      <td>Block 1005</td>\n",
       "      <td>G5040</td>\n",
       "      <td>U</td>\n",
       "      <td>78661.0</td>\n",
       "      <td>U</td>\n",
       "      <td>...</td>\n",
       "      <td>14</td>\n",
       "      <td>27</td>\n",
       "      <td>16</td>\n",
       "      <td>0</td>\n",
       "      <td>0</td>\n",
       "      <td>19</td>\n",
       "      <td>229.0</td>\n",
       "      <td>252.0</td>\n",
       "      <td>0.7762711864406779</td>\n",
       "      <td>0.8542372881355932</td>\n",
       "    </tr>\n",
       "    <tr>\n",
       "      <th>1</th>\n",
       "      <td>6</td>\n",
       "      <td>73</td>\n",
       "      <td>12600</td>\n",
       "      <td>1000</td>\n",
       "      <td>060730126001000</td>\n",
       "      <td>Block 1000</td>\n",
       "      <td>G5040</td>\n",
       "      <td>U</td>\n",
       "      <td>78661.0</td>\n",
       "      <td>U</td>\n",
       "      <td>...</td>\n",
       "      <td>14</td>\n",
       "      <td>27</td>\n",
       "      <td>16</td>\n",
       "      <td>0</td>\n",
       "      <td>0</td>\n",
       "      <td>19</td>\n",
       "      <td>229.0</td>\n",
       "      <td>252.0</td>\n",
       "      <td>0.7762711864406779</td>\n",
       "      <td>0.8542372881355932</td>\n",
       "    </tr>\n",
       "    <tr>\n",
       "      <th>2</th>\n",
       "      <td>6</td>\n",
       "      <td>73</td>\n",
       "      <td>12600</td>\n",
       "      <td>1001</td>\n",
       "      <td>060730126001001</td>\n",
       "      <td>Block 1001</td>\n",
       "      <td>G5040</td>\n",
       "      <td>U</td>\n",
       "      <td>78661.0</td>\n",
       "      <td>U</td>\n",
       "      <td>...</td>\n",
       "      <td>14</td>\n",
       "      <td>27</td>\n",
       "      <td>16</td>\n",
       "      <td>0</td>\n",
       "      <td>0</td>\n",
       "      <td>19</td>\n",
       "      <td>229.0</td>\n",
       "      <td>252.0</td>\n",
       "      <td>0.7762711864406779</td>\n",
       "      <td>0.8542372881355932</td>\n",
       "    </tr>\n",
       "    <tr>\n",
       "      <th>3</th>\n",
       "      <td>6</td>\n",
       "      <td>73</td>\n",
       "      <td>12600</td>\n",
       "      <td>1002</td>\n",
       "      <td>060730126001002</td>\n",
       "      <td>Block 1002</td>\n",
       "      <td>G5040</td>\n",
       "      <td>U</td>\n",
       "      <td>78661.0</td>\n",
       "      <td>U</td>\n",
       "      <td>...</td>\n",
       "      <td>14</td>\n",
       "      <td>27</td>\n",
       "      <td>16</td>\n",
       "      <td>0</td>\n",
       "      <td>0</td>\n",
       "      <td>19</td>\n",
       "      <td>229.0</td>\n",
       "      <td>252.0</td>\n",
       "      <td>0.7762711864406779</td>\n",
       "      <td>0.8542372881355932</td>\n",
       "    </tr>\n",
       "    <tr>\n",
       "      <th>4</th>\n",
       "      <td>6</td>\n",
       "      <td>73</td>\n",
       "      <td>12600</td>\n",
       "      <td>1003</td>\n",
       "      <td>060730126001003</td>\n",
       "      <td>Block 1003</td>\n",
       "      <td>G5040</td>\n",
       "      <td>U</td>\n",
       "      <td>78661.0</td>\n",
       "      <td>U</td>\n",
       "      <td>...</td>\n",
       "      <td>14</td>\n",
       "      <td>27</td>\n",
       "      <td>16</td>\n",
       "      <td>0</td>\n",
       "      <td>0</td>\n",
       "      <td>19</td>\n",
       "      <td>229.0</td>\n",
       "      <td>252.0</td>\n",
       "      <td>0.7762711864406779</td>\n",
       "      <td>0.8542372881355932</td>\n",
       "    </tr>\n",
       "  </tbody>\n",
       "</table>\n",
       "<p>5 rows × 65 columns</p>\n",
       "</div>"
      ],
      "text/plain": [
       "  STATEFP20 COUNTYFP20 TRACTCE20 BLOCKCE20          GEOID20      NAME20  \\\n",
       "0         6         73     12600      1005  060730126001005  Block 1005   \n",
       "1         6         73     12600      1000  060730126001000  Block 1000   \n",
       "2         6         73     12600      1001  060730126001001  Block 1001   \n",
       "3         6         73     12600      1002  060730126001002  Block 1002   \n",
       "4         6         73     12600      1003  060730126001003  Block 1003   \n",
       "\n",
       "  MTFCC20 UR20   UACE20 UATYPE20  ... 75,000 to 99,999 100,000 to 124,999  \\\n",
       "0   G5040    U  78661.0        U  ...               14                 27   \n",
       "1   G5040    U  78661.0        U  ...               14                 27   \n",
       "2   G5040    U  78661.0        U  ...               14                 27   \n",
       "3   G5040    U  78661.0        U  ...               14                 27   \n",
       "4   G5040    U  78661.0        U  ...               14                 27   \n",
       "\n",
       "  125,000 to 149,999 150,000 to 199,999 200,000 or more len FRLP Households  \\\n",
       "0                 16                  0               0  19           229.0   \n",
       "1                 16                  0               0  19           229.0   \n",
       "2                 16                  0               0  19           229.0   \n",
       "3                 16                  0               0  19           229.0   \n",
       "4                 16                  0               0  19           229.0   \n",
       "\n",
       "  Below Median Households     % FRLP Eligible      % Below Median  \n",
       "0                   252.0  0.7762711864406779  0.8542372881355932  \n",
       "1                   252.0  0.7762711864406779  0.8542372881355932  \n",
       "2                   252.0  0.7762711864406779  0.8542372881355932  \n",
       "3                   252.0  0.7762711864406779  0.8542372881355932  \n",
       "4                   252.0  0.7762711864406779  0.8542372881355932  \n",
       "\n",
       "[5 rows x 65 columns]"
      ]
     },
     "execution_count": 138,
     "metadata": {},
     "output_type": "execute_result"
    }
   ],
   "source": [
    "west_cv.head()"
   ]
  },
  {
   "cell_type": "markdown",
   "id": "e0897eea-6d90-42de-b0de-a0afe507bb9c",
   "metadata": {},
   "source": [
    "### Exposures per Capita "
   ]
  },
  {
   "cell_type": "code",
   "execution_count": 139,
   "id": "ca9e496e-2469-46de-949c-d2525d94e895",
   "metadata": {},
   "outputs": [],
   "source": [
    "west_cv['total_exposures'] = west_cv['POP20'].astype(float)*west_cv['seconds'].astype(float)\n",
    "western_exposures_per_capita = west_cv['total_exposures'].sum()/west_cv['Total_x'].astype(float).sum()"
   ]
  },
  {
   "cell_type": "code",
   "execution_count": 140,
   "id": "7bd23d2e-7032-4c9b-8d11-c19ecab4f48e",
   "metadata": {},
   "outputs": [],
   "source": [
    "east_cv['total_exposures'] = east_cv['POP20'].astype(float)*east_cv['seconds'].astype(float)\n",
    "eastern_exposures_per_capita = east_cv['total_exposures'].sum()/east_cv['Total_x'].astype(float).sum()"
   ]
  },
  {
   "cell_type": "code",
   "execution_count": 141,
   "id": "2be883ea-ff66-457e-b257-743d51c6f37f",
   "metadata": {},
   "outputs": [
    {
     "name": "stderr",
     "output_type": "stream",
     "text": [
      "\u001b[32m2024-05-23 11:13:34.900\u001b[0m | \u001b[1mINFO    \u001b[0m | \u001b[36m__main__\u001b[0m:\u001b[36m<module>\u001b[0m:\u001b[36m1\u001b[0m - \u001b[1mWestern Exposures per Capita 21368.394391589725 \u001b[0m\n",
      "\u001b[32m2024-05-23 11:13:34.902\u001b[0m | \u001b[1mINFO    \u001b[0m | \u001b[36m__main__\u001b[0m:\u001b[36m<module>\u001b[0m:\u001b[36m2\u001b[0m - \u001b[1mEastern Exposures per Capita 4327.400986101806 \u001b[0m\n",
      "\u001b[32m2024-05-23 11:13:34.903\u001b[0m | \u001b[1mINFO    \u001b[0m | \u001b[36m__main__\u001b[0m:\u001b[36m<module>\u001b[0m:\u001b[36m3\u001b[0m - \u001b[1mWestern Exposures were 4.937927975756812 as high as eastern Exposures per Capita  \u001b[0m\n"
     ]
    }
   ],
   "source": [
    "logger.info(f\"Western Exposures per Capita {western_exposures_per_capita} \")\n",
    "logger.info(f\"Eastern Exposures per Capita {eastern_exposures_per_capita} \")\n",
    "logger.info(f\"Western Exposures were {western_exposures_per_capita/eastern_exposures_per_capita} as high as eastern Exposures per Capita  \")\n"
   ]
  },
  {
   "cell_type": "markdown",
   "id": "431addf8-2b68-4c26-bb2c-86100c85a233",
   "metadata": {},
   "source": [
    "### Hours Surveilled"
   ]
  },
  {
   "cell_type": "code",
   "execution_count": 142,
   "id": "ece2b88f-a08c-4769-86be-c22c544d62f0",
   "metadata": {},
   "outputs": [
    {
     "name": "stderr",
     "output_type": "stream",
     "text": [
      "\u001b[32m2024-05-23 11:13:35.222\u001b[0m | \u001b[1mINFO    \u001b[0m | \u001b[36m__main__\u001b[0m:\u001b[36m<module>\u001b[0m:\u001b[36m1\u001b[0m - \u001b[1mAccording to our analysis, drones hovered over the typical West side block 9.900584795321638 times longer than over the typical East side block.\u001b[0m\n"
     ]
    }
   ],
   "source": [
    "\n",
    "logger.info(f\"According to our analysis, drones hovered over the typical West side block {(west_cv['seconds'].median()/3600) / (east_cv['seconds'].median()/3600) -1} times longer than over the typical East side block.\")"
   ]
  },
  {
   "cell_type": "markdown",
   "id": "a51c9a14-37f7-4c9e-abb3-9ba7cbd00d93",
   "metadata": {},
   "source": [
    "## Free Reduced Lunch Analysis"
   ]
  },
  {
   "cell_type": "code",
   "execution_count": 143,
   "id": "f97a8092-6984-4320-9da2-e1afc72b9a20",
   "metadata": {},
   "outputs": [],
   "source": [
    "poor_bgs = analysis_df[analysis_df['% FRLP Eligible'].astype(float) >= .5].copy()\n",
    "poor_bgs['total_exposures'] = poor_bgs['Total_x'].astype(float)*poor_bgs['seconds'].astype(float)\n",
    "poor_bgs['total_exposures'].sum()/poor_bgs['Total_x'].astype(float).sum()\n",
    "\n",
    "over_50_frl = poor_bgs['total_exposures'].sum()/poor_bgs['POP20'].astype(float).sum()\n",
    "\n",
    "less_poor = analysis_df[analysis_df['% FRLP Eligible'].astype(float) <= .5].copy()\n",
    "less_poor['total_exposures'] = less_poor['Total_x'].astype(float)*less_poor['seconds'].astype(float)\n",
    "\n",
    "under_50_frl = less_poor['total_exposures'].sum()/less_poor['POP20'].astype(float).sum()\n"
   ]
  },
  {
   "cell_type": "code",
   "execution_count": 144,
   "id": "b8b5bc49-68a0-4784-b13b-529833c4ad7d",
   "metadata": {},
   "outputs": [
    {
     "name": "stderr",
     "output_type": "stream",
     "text": [
      "\u001b[32m2024-05-23 11:13:35.703\u001b[0m | \u001b[1mINFO    \u001b[0m | \u001b[36m__main__\u001b[0m:\u001b[36m<module>\u001b[0m:\u001b[36m1\u001b[0m - \u001b[1mExposure for Population on BGs where half of households are eligible for FRL 29550.499261190787\u001b[0m\n",
      "\u001b[32m2024-05-23 11:13:35.704\u001b[0m | \u001b[1mINFO    \u001b[0m | \u001b[36m__main__\u001b[0m:\u001b[36m<module>\u001b[0m:\u001b[36m2\u001b[0m - \u001b[1mExposure for Population on BGs where half of households are eligible for FRL 6550.991214613823\u001b[0m\n",
      "\u001b[32m2024-05-23 11:13:35.705\u001b[0m | \u001b[1mINFO    \u001b[0m | \u001b[36m__main__\u001b[0m:\u001b[36m<module>\u001b[0m:\u001b[36m3\u001b[0m - \u001b[1mPeople in these blocks are 4.510843976598551 times as exposed\u001b[0m\n"
     ]
    }
   ],
   "source": [
    "logger.info(f\"Exposure for Population on BGs where half of households are eligible for FRL {over_50_frl}\")\n",
    "logger.info(f\"Exposure for Population on BGs where half of households are eligible for FRL {under_50_frl}\")\n",
    "logger.info(f\"People in these blocks are {over_50_frl/under_50_frl} times as exposed\")\n"
   ]
  },
  {
   "cell_type": "code",
   "execution_count": 145,
   "id": "c97bf541-a2f9-4a3c-9715-3c64ef185564",
   "metadata": {},
   "outputs": [
    {
     "name": "stderr",
     "output_type": "stream",
     "text": [
      "\u001b[32m2024-05-23 11:13:35.870\u001b[0m | \u001b[1mINFO    \u001b[0m | \u001b[36m__main__\u001b[0m:\u001b[36m<module>\u001b[0m:\u001b[36m1\u001b[0m - \u001b[1mWestern Mean 2.565797564687976 hours\u001b[0m\n",
      "\u001b[32m2024-05-23 11:13:35.873\u001b[0m | \u001b[1mINFO    \u001b[0m | \u001b[36m__main__\u001b[0m:\u001b[36m<module>\u001b[0m:\u001b[36m2\u001b[0m - \u001b[1mWestern Medizn 0.66 hours\u001b[0m\n",
      "\u001b[32m2024-05-23 11:13:35.874\u001b[0m | \u001b[1mINFO    \u001b[0m | \u001b[36m__main__\u001b[0m:\u001b[36m<module>\u001b[0m:\u001b[36m3\u001b[0m - \u001b[1mEastern Mean 0.6324053070083315 hours\u001b[0m\n",
      "\u001b[32m2024-05-23 11:13:35.876\u001b[0m | \u001b[1mINFO    \u001b[0m | \u001b[36m__main__\u001b[0m:\u001b[36m<module>\u001b[0m:\u001b[36m4\u001b[0m - \u001b[1mEastern Median 0.10055555555555555 hours\u001b[0m\n"
     ]
    }
   ],
   "source": [
    "logger.info(f\"Western Mean {poor_bgs['seconds'].mean()/3600} hours\")\n",
    "logger.info(f\"Western Medizn {poor_bgs['seconds'].median()/3600} hours\")\n",
    "logger.info(f\"Eastern Mean {less_poor['seconds'].mean()/3600} hours\")\n",
    "logger.info(f\"Eastern Median {less_poor['seconds'].median()/3600} hours\")\n"
   ]
  },
  {
   "cell_type": "markdown",
   "id": "0510021d-63d0-49f4-bec4-af1e4e45c5c5",
   "metadata": {},
   "source": [
    "## Graph of Exposure Per Capita per Decile"
   ]
  },
  {
   "cell_type": "code",
   "execution_count": 146,
   "id": "e610bdaa-4b38-4f1b-9bc7-caa9c988857e",
   "metadata": {},
   "outputs": [],
   "source": [
    "graph = []\n",
    "for decile in [.1,.2,.3,.4,.5,.6,.7,.8,.9,1]:\n",
    "    dec = {}\n",
    "    df = analysis_df[analysis_df['% Below Median'].astype(float) <= decile].copy()\n",
    "    \n",
    "    dec['decile'] = decile\n",
    "    dec['per_capita_exposure'] = df['population_exposure'].sum()/df['Total_x'].astype(float).sum()\n",
    "    graph.append(dec)\n",
    "    "
   ]
  },
  {
   "cell_type": "code",
   "execution_count": 147,
   "id": "790979da-bd9a-484d-bc07-92c4a3f5e748",
   "metadata": {},
   "outputs": [],
   "source": [
    "graph = pd.DataFrame(graph)"
   ]
  },
  {
   "cell_type": "code",
   "execution_count": 148,
   "id": "aa935984-a449-46c8-abfd-88ccdcbb4ce8",
   "metadata": {},
   "outputs": [
    {
     "data": {
      "image/png": "[encoded data removed]",
      "text/plain": [
       "<Figure size 1000x600 with 1 Axes>"
      ]
     },
     "metadata": {},
     "output_type": "display_data"
    },
    {
     "name": "stderr",
     "output_type": "stream",
     "text": [
      "\u001b[32m2024-05-23 11:13:36.544\u001b[0m | \u001b[1mINFO    \u001b[0m | \u001b[36m__main__\u001b[0m:\u001b[36m<module>\u001b[0m:\u001b[36m13\u001b[0m - \u001b[1mThis Graph Shows that at the Percentages of Households earning less than the median Chula Vista Household increases in a neighborhood, the exposure to the drones increases\u001b[0m\n"
     ]
    }
   ],
   "source": [
    "import matplotlib.pyplot as plt\n",
    "\n",
    "# Create a bar chart\n",
    "plt.figure(figsize=(10, 6))\n",
    "plt.bar(graph['decile'], graph['per_capita_exposure'], color='skyblue', edgecolor='black', width=0.05)\n",
    "plt.xlabel('Decile')\n",
    "plt.ylabel('Per Capita Exposure')\n",
    "plt.title('Bar Graph of Drone Exposure Per Capita by Decile')\n",
    "plt.xticks(graph['decile'])  # Set x-ticks to match the deciles\n",
    "plt.xlim(0.05, 1.05)  # Set the limits for the x-axis to accommodate uniform bar width\n",
    "plt.show()\n",
    "\n",
    "logger.info(\"This Graph Shows that at the Percentages of Households earning less than the median Chula Vista Household increases in a neighborhood, the exposure to the drones increases\")"
   ]
  },
  {
   "cell_type": "markdown",
   "id": "20c9e44f-9f90-4277-8a93-f5376d4ba3d5",
   "metadata": {},
   "source": [
    "## Demographic Exposures"
   ]
  },
  {
   "cell_type": "code",
   "execution_count": 149,
   "id": "aed423e1-78fd-4bea-a93b-5140a6d62e0e",
   "metadata": {},
   "outputs": [],
   "source": [
    "graph = []\n",
    "for x in ['Total Alone', 'Total Latino', 'Total Not Latino', 'Total White','Total Black or African American','Total American Indian and Alaska Native', 'Total Asian','Total Native Hawaiian and Other Pacific Islander','Total Some Other Race']:\n",
    "    \n",
    "    dec = {}\n",
    "    dec['demographic'] = x\n",
    "    analysis_df[f'{x}_demo_exposure'] = (analysis_df[x].astype(float) * analysis_df['seconds'].astype(float))\n",
    "   \n",
    "    dec['per_capita_exposure'] = analysis_df[f'{x}_demo_exposure'].sum()/analysis_df[x].astype(float).sum()\n",
    "    graph.append(dec)"
   ]
  },
  {
   "cell_type": "code",
   "execution_count": 150,
   "id": "5d8b9323-24ec-44b4-b187-aca1b3694a45",
   "metadata": {},
   "outputs": [
    {
     "data": {
      "text/plain": [
       "[{'demographic': 'Total Alone', 'per_capita_exposure': 8622.64454525893},\n",
       " {'demographic': 'Total Latino', 'per_capita_exposure': 13631.60787325331},\n",
       " {'demographic': 'Total Not Latino', 'per_capita_exposure': 8428.557667460324},\n",
       " {'demographic': 'Total White', 'per_capita_exposure': 9313.006455481163},\n",
       " {'demographic': 'Total Black or African American',\n",
       "  'per_capita_exposure': 12232.117264057875},\n",
       " {'demographic': 'Total American Indian and Alaska Native',\n",
       "  'per_capita_exposure': 6927.385737439222},\n",
       " {'demographic': 'Total Asian', 'per_capita_exposure': 6451.63974593755},\n",
       " {'demographic': 'Total Native Hawaiian and Other Pacific Islander',\n",
       "  'per_capita_exposure': 10397.247787610619},\n",
       " {'demographic': 'Total Some Other Race',\n",
       "  'per_capita_exposure': 10990.283731688512}]"
      ]
     },
     "execution_count": 150,
     "metadata": {},
     "output_type": "execute_result"
    }
   ],
   "source": [
    "graph"
   ]
  },
  {
   "cell_type": "code",
   "execution_count": 151,
   "id": "1cc46d83-5db0-4b70-aefd-c9af6b6457e8",
   "metadata": {},
   "outputs": [
    {
     "name": "stderr",
     "output_type": "stream",
     "text": [
      "\u001b[32m2024-05-23 11:13:37.099\u001b[0m | \u001b[1mINFO    \u001b[0m | \u001b[36m__main__\u001b[0m:\u001b[36m<module>\u001b[0m:\u001b[36m1\u001b[0m - \u001b[1mLatinos are 1.617312049234725 as exoposed as non latinos\u001b[0m\n"
     ]
    }
   ],
   "source": [
    "logger.info(f\"Latinos are {13631.60787325331/8428.557667460324} as exoposed as non latinos\")"
   ]
  },
  {
   "cell_type": "code",
   "execution_count": 152,
   "id": "28f9d869-7e31-4f4b-8867-ea80e4dc03e9",
   "metadata": {},
   "outputs": [
    {
     "data": {
      "text/plain": [
       "([0, 1, 2, 3, 4, 5, 6, 7, 8],\n",
       " [Text(0, 0, 'Total Asian'),\n",
       "  Text(1, 0, 'Total American Indian and Alaska Native'),\n",
       "  Text(2, 0, 'Total Not Latino'),\n",
       "  Text(3, 0, 'Total Alone'),\n",
       "  Text(4, 0, 'Total White'),\n",
       "  Text(5, 0, 'Total Native Hawaiian and Other Pacific Islander'),\n",
       "  Text(6, 0, 'Total Some Other Race'),\n",
       "  Text(7, 0, 'Total Black or African American'),\n",
       "  Text(8, 0, 'Total Latino')])"
      ]
     },
     "execution_count": 152,
     "metadata": {},
     "output_type": "execute_result"
    },
    {
     "data": {
      "image/png": "[encoded data removed]",
      "text/plain": [
       "<Figure size 1200x800 with 1 Axes>"
      ]
     },
     "metadata": {},
     "output_type": "display_data"
    }
   ],
   "source": [
    "graph = pd.DataFrame(graph).sort_values('per_capita_exposure')\n",
    "plt.figure(figsize=(12, 8))\n",
    "plt.bar(graph['demographic'], graph['per_capita_exposure'], color='skyblue', edgecolor='black')\n",
    "plt.xlabel('Category')\n",
    "plt.ylabel('Per Capita Exposure')\n",
    "plt.title('Bar Graph of Drone Exposure Per Capita by Category')\n",
    "plt.xticks(rotation=90)  # Rotate the x-axis labels to 90 degrees for full readability\n"
   ]
  },
  {
   "cell_type": "code",
   "execution_count": null,
   "id": "ebcb2bf1-64fd-4fcd-b88b-4f2d5263cb7e",
   "metadata": {},
   "outputs": [],
   "source": []
  },
  {
   "cell_type": "code",
   "execution_count": null,
   "id": "91b1a827-0548-4941-9602-cdd082a65b18",
   "metadata": {},
   "outputs": [],
   "source": []
  },
  {
   "cell_type": "code",
   "execution_count": null,
   "id": "ea741ce4-0827-47af-89c2-daa3cb882b6a",
   "metadata": {},
   "outputs": [],
   "source": []
  }
 ],
 "metadata": {
  "kernelspec": {
   "display_name": "Python 3 (ipykernel)",
   "language": "python",
   "name": "python3"
  },
  "language_info": {
   "codemirror_mode": {
    "name": "ipython",
    "version": 3
   },
   "file_extension": ".py",
   "mimetype": "text/x-python",
   "name": "python",
   "nbconvert_exporter": "python",
   "pygments_lexer": "ipython3",
   "version": "3.10.12"
  }
 },
 "nbformat": 4,
 "nbformat_minor": 5
}
