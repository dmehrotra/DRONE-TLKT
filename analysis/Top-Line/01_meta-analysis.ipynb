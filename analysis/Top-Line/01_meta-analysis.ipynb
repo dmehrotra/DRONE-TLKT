{
 "cells": [
  {
   "cell_type": "markdown",
   "id": "af0c4f2d-99eb-4741-a3b4-ca6b197bcf3c",
   "metadata": {},
   "source": [
    "# Meta Analysis about the Dataset\n",
    "\n",
    "Reporters analyzed more than 22.3 million coordinates from flight paths published online by the Chula Vista Police Department to understand where drones were sent and why. Using data from an unsecured API, reporters were also able to analyze when the drones' cameras started recording and how high they flew. Reporters calculated the seconds each city block in Chula Vista was under law enforcement’s gaze and then estimated the exposure time to each resident who lives there. On average, each drone flight passes through 12 census blocks, exposing approximately 4,700 residents on its path to police drone monitoring. \n"
   ]
  },
  {
   "cell_type": "code",
   "execution_count": 1,
   "id": "8f64abad-a9bd-452c-a562-2eb27c4854e7",
   "metadata": {
    "scrolled": true
   },
   "outputs": [
    {
     "data": {
      "application/vnd.jupyter.widget-view+json": {
       "model_id": "4f0af23d3c3c45a9af59485688aaab42",
       "version_major": 2,
       "version_minor": 0
      },
      "text/plain": [
       "Loading data: 0it [00:00, ?it/s]"
      ]
     },
     "metadata": {},
     "output_type": "display_data"
    },
    {
     "data": {
      "application/vnd.jupyter.widget-view+json": {
       "model_id": "a7469cfc52ff48a8a23d9cf969a7fa4f",
       "version_major": 2,
       "version_minor": 0
      },
      "text/plain": [
       "Loading data: 0it [00:00, ?it/s]"
      ]
     },
     "metadata": {},
     "output_type": "display_data"
    },
    {
     "data": {
      "application/vnd.jupyter.widget-view+json": {
       "model_id": "7a3c2d9425854c7aab6aff4ecb6892b4",
       "version_major": 2,
       "version_minor": 0
      },
      "text/plain": [
       "Loading data: 0it [00:00, ?it/s]"
      ]
     },
     "metadata": {},
     "output_type": "display_data"
    },
    {
     "data": {
      "application/vnd.jupyter.widget-view+json": {
       "model_id": "08fa3f5ff5b44d96a66db59110d56df1",
       "version_major": 2,
       "version_minor": 0
      },
      "text/plain": [
       "Loading data: 0it [00:00, ?it/s]"
      ]
     },
     "metadata": {},
     "output_type": "display_data"
    },
    {
     "data": {
      "application/vnd.jupyter.widget-view+json": {
       "model_id": "320da6e8503d4fc0b24d81130904d643",
       "version_major": 2,
       "version_minor": 0
      },
      "text/plain": [
       "Loading data: 0it [00:00, ?it/s]"
      ]
     },
     "metadata": {},
     "output_type": "display_data"
    },
    {
     "data": {
      "application/vnd.jupyter.widget-view+json": {
       "model_id": "369ec36091894e9e980ac8344996d3f7",
       "version_major": 2,
       "version_minor": 0
      },
      "text/plain": [
       "Loading data: 0it [00:00, ?it/s]"
      ]
     },
     "metadata": {},
     "output_type": "display_data"
    },
    {
     "data": {
      "application/vnd.jupyter.widget-view+json": {
       "model_id": "040c6ce3be3d4d93aae5da912f7748c7",
       "version_major": 2,
       "version_minor": 0
      },
      "text/plain": [
       "Loading data: 0it [00:00, ?it/s]"
      ]
     },
     "metadata": {},
     "output_type": "display_data"
    },
    {
     "data": {
      "application/vnd.jupyter.widget-view+json": {
       "model_id": "ff4b6cd7602a417fa1b53826dfbd92a4",
       "version_major": 2,
       "version_minor": 0
      },
      "text/plain": [
       "Loading data: 0it [00:00, ?it/s]"
      ]
     },
     "metadata": {},
     "output_type": "display_data"
    }
   ],
   "source": [
    "import geopandas as gpd\n",
    "import numpy as np\n",
    "import pandas as pd\n",
    "from tqdm.notebook import tqdm, trange\n",
    "from loguru import logger\n",
    "import matplotlib.pyplot as plt\n",
    "\n",
    "storage = \"/Volumes/easystore/Drones/\"\n",
    "\n",
    "flight_details = pd.concat(\n",
    "    [\n",
    "        chunk\n",
    "        for chunk in tqdm(\n",
    "            pd.read_csv(\n",
    "                f\"{storage}/gpx-with-census-data.csv\", chunksize=100000, dtype=str\n",
    "            ),\n",
    "            desc=\"Loading data\",\n",
    "        )\n",
    "    ]\n",
    ")\n",
    "cv_flights = pd.concat(\n",
    "    [\n",
    "        chunk\n",
    "        for chunk in tqdm(\n",
    "            pd.read_csv(\n",
    "                f\"../../data/outputs/outputs_cv-flight-manifest.csv\", chunksize=100000, dtype=str\n",
    "            ),\n",
    "            desc=\"Loading data\",\n",
    "        )\n",
    "    ]\n",
    ")\n",
    "per_second = pd.concat(\n",
    "    [\n",
    "        chunk\n",
    "        for chunk in tqdm(\n",
    "            pd.read_csv(\n",
    "                f\"../../data/outputs/outputs_drone-seconds-block-count.csv\", chunksize=100000, dtype=str\n",
    "            ),\n",
    "            desc=\"Loading data\",\n",
    "        )\n",
    "    ]\n",
    ")\n",
    "\n",
    "\n",
    "per_day = pd.concat(\n",
    "    [\n",
    "        chunk\n",
    "        for chunk in tqdm(\n",
    "            pd.read_csv(\n",
    "                f\"../../data/outputs/outputs_cv-blocks-drones-calls.csv\", chunksize=100000, dtype=str\n",
    "            ),\n",
    "            desc=\"Loading data\",\n",
    "        )\n",
    "    ]\n",
    ")\n",
    "race_df = pd.concat(\n",
    "    [\n",
    "        chunk\n",
    "        for chunk in tqdm(\n",
    "            pd.read_csv(\n",
    "                f\"../../data/outputs/outputs_census-race.csv\", chunksize=100000, dtype=str\n",
    "            ),\n",
    "            desc=\"Loading data\",\n",
    "        )\n",
    "    ]\n",
    ")\n",
    "poverty_df = pd.concat(\n",
    "    [\n",
    "        chunk\n",
    "        for chunk in tqdm(\n",
    "            pd.read_csv(\n",
    "                f\"../../data/outputs/outputs_acs-poverty-blockgroups.csv\",\n",
    "                chunksize=100000,\n",
    "                dtype=str,\n",
    "            ),\n",
    "            desc=\"Loading data\",\n",
    "        )\n",
    "    ]\n",
    ")\n",
    "cv_blocks = pd.concat(\n",
    "    [\n",
    "        chunk\n",
    "        for chunk in tqdm(\n",
    "            pd.read_csv(\n",
    "                f\"../../data/outputs/outputs_cv-blocks-geometry.csv\",\n",
    "                chunksize=100000,\n",
    "                dtype=str,\n",
    "            ),\n",
    "            desc=\"Loading data\",\n",
    "        )\n",
    "    ]\n",
    ")\n",
    "\n",
    "# flight_data = pd.read_csv(\"/Volumes/easystore/Drones/compiled-flight-data-gpx.csv\",dtype=str)\n",
    "# flight_data.head()\n",
    "cv_flights[\"date\"] = pd.to_datetime(cv_flights[\"date\"])\n",
    "cv_flights[\"block-group-geoid\"] = cv_blocks['GEOID20'].apply(lambda x: x[:12])\n",
    "cfs = pd.concat(\n",
    "    [\n",
    "        chunk\n",
    "        for chunk in tqdm(\n",
    "            pd.read_csv(\n",
    "                f\"../../data/outputs/outputs_cfs-data.csv\",\n",
    "                chunksize=100000,\n",
    "                dtype=str,\n",
    "            ),\n",
    "            desc=\"Loading data\",\n",
    "        )\n",
    "    ]\n",
    ")"
   ]
  },
  {
   "cell_type": "markdown",
   "id": "90d295ee-5c5d-4d01-b740-c62859f6f064",
   "metadata": {},
   "source": [
    "## The Data"
   ]
  },
  {
   "cell_type": "code",
   "execution_count": 2,
   "id": "29ed272f-2f26-4608-a514-d5d69a4dd91a",
   "metadata": {},
   "outputs": [
    {
     "name": "stderr",
     "output_type": "stream",
     "text": [
      "\u001b[32m2024-05-20 10:04:26.358\u001b[0m | \u001b[1mINFO    \u001b[0m | \u001b[36m__main__\u001b[0m:\u001b[36m<module>\u001b[0m:\u001b[36m1\u001b[0m - \u001b[1mWe analyzed 22372344 coordinates from 9559 flights from 2021-07-01T00:00:00.000000000 until 2023-09-02T00:00:00.000000000\u001b[0m\n"
     ]
    }
   ],
   "source": [
    "logger.info(f\"We analyzed {flight_details.shape[0]} coordinates from {cv_flights.shape[0]} flights from {cv_flights.sort_values('date').head()['date'].values[-1]} until {cv_flights.sort_values('date').tail()['date'].values[-1]}\")"
   ]
  },
  {
   "cell_type": "code",
   "execution_count": 3,
   "id": "a4718e12-719c-45d1-864a-6124858eab38",
   "metadata": {},
   "outputs": [
    {
     "name": "stderr",
     "output_type": "stream",
     "text": [
      "\u001b[32m2024-05-20 10:04:26.362\u001b[0m | \u001b[1mINFO    \u001b[0m | \u001b[36m__main__\u001b[0m:\u001b[36m<module>\u001b[0m:\u001b[36m1\u001b[0m - \u001b[1mFlights per day: 16.038590604026847\u001b[0m\n",
      "\u001b[32m2024-05-20 10:04:26.363\u001b[0m | \u001b[1mINFO    \u001b[0m | \u001b[36m__main__\u001b[0m:\u001b[36m<module>\u001b[0m:\u001b[36m2\u001b[0m - \u001b[1mMax: 49\u001b[0m\n"
     ]
    }
   ],
   "source": [
    "logger.info(f\"Flights per day: {cv_flights.groupby('date').size().mean()}\")\n",
    "logger.info(f\"Max: {cv_flights.groupby('date').size().max()}\")\n"
   ]
  },
  {
   "cell_type": "code",
   "execution_count": 4,
   "id": "4757350b-1edc-4760-933e-479aa3355c11",
   "metadata": {},
   "outputs": [
    {
     "data": {
      "text/html": [
       "<div>\n",
       "<style scoped>\n",
       "    .dataframe tbody tr th:only-of-type {\n",
       "        vertical-align: middle;\n",
       "    }\n",
       "\n",
       "    .dataframe tbody tr th {\n",
       "        vertical-align: top;\n",
       "    }\n",
       "\n",
       "    .dataframe thead th {\n",
       "        text-align: right;\n",
       "    }\n",
       "</style>\n",
       "<table border=\"1\" class=\"dataframe\">\n",
       "  <thead>\n",
       "    <tr style=\"text-align: right;\">\n",
       "      <th></th>\n",
       "      <th>count</th>\n",
       "    </tr>\n",
       "    <tr>\n",
       "      <th>month</th>\n",
       "      <th></th>\n",
       "    </tr>\n",
       "  </thead>\n",
       "  <tbody>\n",
       "    <tr>\n",
       "      <th>2021-07</th>\n",
       "      <td>616</td>\n",
       "    </tr>\n",
       "    <tr>\n",
       "      <th>2021-08</th>\n",
       "      <td>586</td>\n",
       "    </tr>\n",
       "    <tr>\n",
       "      <th>2021-09</th>\n",
       "      <td>489</td>\n",
       "    </tr>\n",
       "    <tr>\n",
       "      <th>2022-01</th>\n",
       "      <td>439</td>\n",
       "    </tr>\n",
       "    <tr>\n",
       "      <th>2022-02</th>\n",
       "      <td>482</td>\n",
       "    </tr>\n",
       "  </tbody>\n",
       "</table>\n",
       "</div>"
      ],
      "text/plain": [
       "         count\n",
       "month         \n",
       "2021-07    616\n",
       "2021-08    586\n",
       "2021-09    489\n",
       "2022-01    439\n",
       "2022-02    482"
      ]
     },
     "execution_count": 4,
     "metadata": {},
     "output_type": "execute_result"
    }
   ],
   "source": [
    "grouped = cv_flights.groupby('date').count().reset_index()[['date','lat_map']]\n",
    "grouped.columns = ['date','count']\n",
    "grouped['month'] = grouped['date'].dt.to_period('M')\n",
    "monthly_data =  grouped[['month','count']].groupby('month').sum()\n",
    "monthly_data.head()"
   ]
  },
  {
   "cell_type": "markdown",
   "id": "d2b565cf-2449-4fdd-8f7a-af4ecfd7d2fa",
   "metadata": {},
   "source": [
    "### Limitations with the Flight Data\n",
    "From October until January in 2021 and 2022 we have 0 flights.  This was because of a server error on the API we collected the data from.  We are unable to retrieve these flights now because of changes in the software."
   ]
  },
  {
   "cell_type": "code",
   "execution_count": 5,
   "id": "621cd4c2-f2e7-43ca-879c-4c9b1c97ce2b",
   "metadata": {},
   "outputs": [
    {
     "data": {
      "image/png": "[encoded data removed]",
      "text/plain": [
       "<Figure size 1000x600 with 1 Axes>"
      ]
     },
     "metadata": {},
     "output_type": "display_data"
    }
   ],
   "source": [
    "\n",
    "# Plotting\n",
    "plt.figure(figsize=(10, 6))\n",
    "plt.plot(monthly_data.index.to_timestamp(), monthly_data['count'], marker='o')\n",
    "plt.title('Monthly Counts')\n",
    "plt.xlabel('Month')\n",
    "plt.ylabel('Total Count')\n",
    "plt.grid(True)\n",
    "plt.xticks(monthly_data.index.to_timestamp(), monthly_data.index.to_timestamp().strftime('%B'), rotation=45)\n",
    "plt.tight_layout()\n",
    "plt.show()"
   ]
  },
  {
   "cell_type": "markdown",
   "id": "3d11e2f2-9eb6-4820-b42d-3724727a8117",
   "metadata": {},
   "source": [
    "## Chula Vista\n",
    "\n",
    "Chula Vista is a divided city. The East side of Chula Vista is suburban — driving through, you’ll see large estates, gated communities, and lush golf courses. East Chula Vista has almost three and a half times the amount of park space that the city’s West side has, according to a 2021 report by a city watchdog group called the Growth Management Oversight Commission.   \n",
    "\n",
    "“There’s a higher expectation of privacy here,” says one man, a retiree, standing in the driveway of his home near Bonita Long Canyon Park. He, like other residents on the East side interviewed for this story, says that while he is generally supportive of police drones, he appreciates that the city mostly flies above the people living West of Interstate 805 where there is more reported crime. As another man put it, the residents of the East have become accustomed to living in larger spaces with unobstructed views of the rolling hills. “They paid more for that luxury,” he says, pointing to the homes overlooking Discovery Park. \n",
    "\n",
    "The manager at a golf course on the East side was even more explicit. “Right now we’re sneaking up on chaos in a lot of areas,” he says, “and if drones are what’s needed to take care of the criminals,” so be it. \n",
    "\n",
    "“Buzz that son of a gun all you want to.”\n",
    "\n",
    "The West side, on the other hand, is densely populated and residents tend to be poorer and born outside the United States. According to Census data, nearly half of households on the West side would qualify for the federal free and reduced lunch program — which is $48,000 annually for a family of four. Only 19% of households on the East side would qualify for this program, by comparison.  \n"
   ]
  },
  {
   "cell_type": "markdown",
   "id": "2c1f9d61-8d00-4a74-a8f8-df97a3c85caa",
   "metadata": {},
   "source": [
    "### East versus West Demographics"
   ]
  },
  {
   "cell_type": "code",
   "execution_count": 6,
   "id": "0b562c53-59d1-49e5-a287-e26130bf6e30",
   "metadata": {},
   "outputs": [],
   "source": [
    "cv_blocks[\"block-group-geoid\"] = cv_blocks['GEOID20'].apply(lambda x: x[:12])\n",
    "cv_blocks_race = pd.merge(cv_blocks,race_df,on='GEOID20')\n",
    "cv_df = pd.merge(cv_blocks_race,poverty_df,on='block-group-geoid',how='left')"
   ]
  },
  {
   "cell_type": "code",
   "execution_count": 7,
   "id": "69c26fee-36a9-432b-b058-4ba35b25078c",
   "metadata": {},
   "outputs": [],
   "source": [
    "cv_bg = cv_df[['block-group-geoid','FRLP Households','% FRLP Eligible','% Below Median','Below Median Households','west_cv','Total_y']].drop_duplicates()"
   ]
  },
  {
   "cell_type": "code",
   "execution_count": 8,
   "id": "f4e8036b-0923-482b-8da9-1645d2da916a",
   "metadata": {},
   "outputs": [
    {
     "name": "stderr",
     "output_type": "stream",
     "text": [
      "\u001b[32m2024-05-20 10:04:26.747\u001b[0m | \u001b[1mINFO    \u001b[0m | \u001b[36m__main__\u001b[0m:\u001b[36m<module>\u001b[0m:\u001b[36m1\u001b[0m - \u001b[1m0.48746809596733026 of households on the west side qualify for frlp\u001b[0m\n",
      "\u001b[32m2024-05-20 10:04:26.749\u001b[0m | \u001b[1mINFO    \u001b[0m | \u001b[36m__main__\u001b[0m:\u001b[36m<module>\u001b[0m:\u001b[36m2\u001b[0m - \u001b[1m0.193927224047706 of households on the east side qualify for frlp\u001b[0m\n"
     ]
    }
   ],
   "source": [
    "logger.info(f\"{cv_bg[cv_bg['west_cv']=='True']['FRLP Households'].astype(float).sum()/cv_bg[cv_bg['west_cv']=='True']['Total_y'].astype(float).sum()} of households on the west side qualify for frlp\")\n",
    "logger.info(f\"{cv_bg[cv_bg['west_cv']=='False']['FRLP Households'].astype(float).sum()/cv_bg[cv_bg['west_cv']=='False']['Total_y'].astype(float).sum()} of households on the east side qualify for frlp\")"
   ]
  },
  {
   "cell_type": "markdown",
   "id": "f815facb-a391-43bf-a166-4e272f92d377",
   "metadata": {},
   "source": [
    "### Calls for Service\n",
    "\n",
    "Is there a relationship between calls for service and seconds spent on a block"
   ]
  },
  {
   "cell_type": "code",
   "execution_count": 9,
   "id": "b43e0656-84c4-4dbb-b22d-63359af4fc6f",
   "metadata": {},
   "outputs": [
    {
     "name": "stderr",
     "output_type": "stream",
     "text": [
      "\u001b[32m2024-05-20 10:04:26.755\u001b[0m | \u001b[1mINFO    \u001b[0m | \u001b[36m__main__\u001b[0m:\u001b[36m<module>\u001b[0m:\u001b[36m4\u001b[0m - \u001b[1mCorrelation coefficient: 0.408389781945344\u001b[0m\n",
      "\u001b[32m2024-05-20 10:04:26.756\u001b[0m | \u001b[1mINFO    \u001b[0m | \u001b[36m__main__\u001b[0m:\u001b[36m<module>\u001b[0m:\u001b[36m5\u001b[0m - \u001b[1mThere is a moderate `positive relationship between CFS and amount of times drones spend, but its not the strongest.  It means there are lots of outliers.\u001b[0m\n"
     ]
    },
    {
     "data": {
      "image/png": "[encoded data removed]",
      "text/plain": [
       "<Figure size 1000x600 with 1 Axes>"
      ]
     },
     "metadata": {},
     "output_type": "display_data"
    }
   ],
   "source": [
    "per_second['seconds'] = per_second['seconds'].astype(float)\n",
    "per_second['call_count']  = per_second['call_count'].astype(float)\n",
    "correlation = per_second['seconds'].corr(per_second['call_count'])\n",
    "logger.info(f'Correlation coefficient: {correlation}')\n",
    "logger.info(f'There is a moderate `positive relationship between CFS and amount of times drones spend, but its not the strongest.  It means there are lots of outliers.')\n",
    "\n",
    "# Scatter plot\n",
    "plt.figure(figsize=(10, 6))\n",
    "plt.scatter(per_second['seconds'], per_second['call_count'], alpha=0.5)\n",
    "\n",
    "# Trend line\n",
    "z = np.polyfit(per_second['seconds'], per_second['call_count'], 1)\n",
    "p = np.poly1d(z)\n",
    "plt.plot(per_second['seconds'], p(per_second['seconds']), \"r--\")\n",
    "\n",
    "# Labeling\n",
    "plt.title('Scatter Plot of Call Count vs Seconds with Trend Line')\n",
    "plt.xlabel('Seconds')\n",
    "plt.ylabel('Call Count')\n",
    "plt.grid(True)\n",
    "\n",
    "# Show plot\n",
    "plt.show()"
   ]
  },
  {
   "cell_type": "code",
   "execution_count": 10,
   "id": "812a3ff2-558b-4bb0-b1cf-aa7da7ca820c",
   "metadata": {},
   "outputs": [],
   "source": [
    "from sklearn.linear_model import LinearRegression\n",
    "\n",
    "# Fit a linear regression model\n",
    "model = LinearRegression()\n",
    "model.fit(per_second[['seconds']], per_second['call_count'])\n",
    "\n",
    "# Predict the values\n",
    "per_second['predicted_call_count'] = model.predict(per_second[['seconds']])\n",
    "\n",
    "# Calculate residuals\n",
    "per_second['residuals'] = per_second['call_count'] - per_second['predicted_call_count']\n",
    "\n",
    "# Define a method to find outliers based on residuals\n",
    "# For example, using 1.5 times the standard deviation\n",
    "residual_std = per_second['residuals'].std()\n",
    "outlier_threshold = 1.5 * residual_std\n",
    "\n",
    "# Mark outliers in a new column\n",
    "per_second['is_outlier'] = np.abs(per_second['residuals']) > outlier_threshold"
   ]
  },
  {
   "cell_type": "code",
   "execution_count": 18,
   "id": "2d66e926-27f8-497d-a462-e635683e48be",
   "metadata": {},
   "outputs": [
    {
     "data": {
      "text/html": [
       "<div>\n",
       "<style scoped>\n",
       "    .dataframe tbody tr th:only-of-type {\n",
       "        vertical-align: middle;\n",
       "    }\n",
       "\n",
       "    .dataframe tbody tr th {\n",
       "        vertical-align: top;\n",
       "    }\n",
       "\n",
       "    .dataframe thead th {\n",
       "        text-align: right;\n",
       "    }\n",
       "</style>\n",
       "<table border=\"1\" class=\"dataframe\">\n",
       "  <thead>\n",
       "    <tr style=\"text-align: right;\">\n",
       "      <th></th>\n",
       "      <th>STATEFP20</th>\n",
       "      <th>COUNTYFP20</th>\n",
       "      <th>TRACTCE20</th>\n",
       "      <th>BLOCKCE20</th>\n",
       "      <th>GEOID20</th>\n",
       "      <th>NAME20</th>\n",
       "      <th>MTFCC20</th>\n",
       "      <th>UR20</th>\n",
       "      <th>UACE20</th>\n",
       "      <th>UATYPE20</th>\n",
       "      <th>...</th>\n",
       "      <th>INTPTLAT20</th>\n",
       "      <th>INTPTLON20</th>\n",
       "      <th>HOUSING20</th>\n",
       "      <th>POP20</th>\n",
       "      <th>geometry</th>\n",
       "      <th>len</th>\n",
       "      <th>num_flights</th>\n",
       "      <th>flights_per_day</th>\n",
       "      <th>num_calls</th>\n",
       "      <th>calls_per_day</th>\n",
       "    </tr>\n",
       "  </thead>\n",
       "  <tbody>\n",
       "    <tr>\n",
       "      <th>0</th>\n",
       "      <td>6</td>\n",
       "      <td>73</td>\n",
       "      <td>12600</td>\n",
       "      <td>1005</td>\n",
       "      <td>060730126001005</td>\n",
       "      <td>Block 1005</td>\n",
       "      <td>G5040</td>\n",
       "      <td>U</td>\n",
       "      <td>78661.0</td>\n",
       "      <td>U</td>\n",
       "      <td>...</td>\n",
       "      <td>32.6326934</td>\n",
       "      <td>-117.0972764</td>\n",
       "      <td>0</td>\n",
       "      <td>1</td>\n",
       "      <td>POLYGON ((-117.09848 32.636082, -117.098118 32...</td>\n",
       "      <td>15</td>\n",
       "      <td>163</td>\n",
       "      <td>0.2058080808080808</td>\n",
       "      <td>0</td>\n",
       "      <td>0.0</td>\n",
       "    </tr>\n",
       "    <tr>\n",
       "      <th>1</th>\n",
       "      <td>6</td>\n",
       "      <td>73</td>\n",
       "      <td>12600</td>\n",
       "      <td>1000</td>\n",
       "      <td>060730126001000</td>\n",
       "      <td>Block 1000</td>\n",
       "      <td>G5040</td>\n",
       "      <td>U</td>\n",
       "      <td>78661.0</td>\n",
       "      <td>U</td>\n",
       "      <td>...</td>\n",
       "      <td>32.6327645</td>\n",
       "      <td>-117.0968738</td>\n",
       "      <td>0</td>\n",
       "      <td>1</td>\n",
       "      <td>POLYGON ((-117.098419 32.636099, -117.098382 3...</td>\n",
       "      <td>15</td>\n",
       "      <td>207</td>\n",
       "      <td>0.26136363636363635</td>\n",
       "      <td>0</td>\n",
       "      <td>0.0</td>\n",
       "    </tr>\n",
       "    <tr>\n",
       "      <th>2</th>\n",
       "      <td>6</td>\n",
       "      <td>73</td>\n",
       "      <td>12600</td>\n",
       "      <td>1001</td>\n",
       "      <td>060730126001001</td>\n",
       "      <td>Block 1001</td>\n",
       "      <td>G5040</td>\n",
       "      <td>U</td>\n",
       "      <td>78661.0</td>\n",
       "      <td>U</td>\n",
       "      <td>...</td>\n",
       "      <td>32.627561</td>\n",
       "      <td>-117.0948246</td>\n",
       "      <td>0</td>\n",
       "      <td>1</td>\n",
       "      <td>POLYGON ((-117.095692 32.629235, -117.095466 3...</td>\n",
       "      <td>15</td>\n",
       "      <td>131</td>\n",
       "      <td>0.16540404040404041</td>\n",
       "      <td>0</td>\n",
       "      <td>0.0</td>\n",
       "    </tr>\n",
       "    <tr>\n",
       "      <th>3</th>\n",
       "      <td>6</td>\n",
       "      <td>73</td>\n",
       "      <td>12600</td>\n",
       "      <td>1002</td>\n",
       "      <td>060730126001002</td>\n",
       "      <td>Block 1002</td>\n",
       "      <td>G5040</td>\n",
       "      <td>U</td>\n",
       "      <td>78661.0</td>\n",
       "      <td>U</td>\n",
       "      <td>...</td>\n",
       "      <td>32.6279724</td>\n",
       "      <td>-117.0932719</td>\n",
       "      <td>310</td>\n",
       "      <td>656</td>\n",
       "      <td>POLYGON ((-117.095251 32.629345, -117.095177 3...</td>\n",
       "      <td>15</td>\n",
       "      <td>241</td>\n",
       "      <td>0.3042929292929293</td>\n",
       "      <td>1170</td>\n",
       "      <td>1.4772727272727273</td>\n",
       "    </tr>\n",
       "    <tr>\n",
       "      <th>4</th>\n",
       "      <td>6</td>\n",
       "      <td>73</td>\n",
       "      <td>12600</td>\n",
       "      <td>1003</td>\n",
       "      <td>060730126001003</td>\n",
       "      <td>Block 1003</td>\n",
       "      <td>G5040</td>\n",
       "      <td>U</td>\n",
       "      <td>78661.0</td>\n",
       "      <td>U</td>\n",
       "      <td>...</td>\n",
       "      <td>32.6284473</td>\n",
       "      <td>-117.0915697</td>\n",
       "      <td>39</td>\n",
       "      <td>94</td>\n",
       "      <td>POLYGON ((-117.092611 32.630074, -117.092519 3...</td>\n",
       "      <td>15</td>\n",
       "      <td>221</td>\n",
       "      <td>0.27904040404040403</td>\n",
       "      <td>28</td>\n",
       "      <td>0.03535353535353535</td>\n",
       "    </tr>\n",
       "    <tr>\n",
       "      <th>...</th>\n",
       "      <td>...</td>\n",
       "      <td>...</td>\n",
       "      <td>...</td>\n",
       "      <td>...</td>\n",
       "      <td>...</td>\n",
       "      <td>...</td>\n",
       "      <td>...</td>\n",
       "      <td>...</td>\n",
       "      <td>...</td>\n",
       "      <td>...</td>\n",
       "      <td>...</td>\n",
       "      <td>...</td>\n",
       "      <td>...</td>\n",
       "      <td>...</td>\n",
       "      <td>...</td>\n",
       "      <td>...</td>\n",
       "      <td>...</td>\n",
       "      <td>...</td>\n",
       "      <td>...</td>\n",
       "      <td>...</td>\n",
       "      <td>...</td>\n",
       "    </tr>\n",
       "    <tr>\n",
       "      <th>1954</th>\n",
       "      <td>6</td>\n",
       "      <td>73</td>\n",
       "      <td>10016</td>\n",
       "      <td>1000</td>\n",
       "      <td>060730100161000</td>\n",
       "      <td>Block 1000</td>\n",
       "      <td>G5040</td>\n",
       "      <td>R</td>\n",
       "      <td>NaN</td>\n",
       "      <td>NaN</td>\n",
       "      <td>...</td>\n",
       "      <td>32.5937593</td>\n",
       "      <td>-116.9514464</td>\n",
       "      <td>0</td>\n",
       "      <td>1</td>\n",
       "      <td>POLYGON ((-116.966156 32.589925, -116.965916 3...</td>\n",
       "      <td>15</td>\n",
       "      <td>1</td>\n",
       "      <td>0.0012626262626262627</td>\n",
       "      <td>0</td>\n",
       "      <td>0.0</td>\n",
       "    </tr>\n",
       "    <tr>\n",
       "      <th>1955</th>\n",
       "      <td>6</td>\n",
       "      <td>73</td>\n",
       "      <td>10016</td>\n",
       "      <td>1002</td>\n",
       "      <td>060730100161002</td>\n",
       "      <td>Block 1002</td>\n",
       "      <td>G5040</td>\n",
       "      <td>R</td>\n",
       "      <td>NaN</td>\n",
       "      <td>NaN</td>\n",
       "      <td>...</td>\n",
       "      <td>32.5850417</td>\n",
       "      <td>-116.9902654</td>\n",
       "      <td>0</td>\n",
       "      <td>1</td>\n",
       "      <td>POLYGON ((-117.005217 32.592376, -117.005127 3...</td>\n",
       "      <td>15</td>\n",
       "      <td>2</td>\n",
       "      <td>0.0025252525252525255</td>\n",
       "      <td>0</td>\n",
       "      <td>0.0</td>\n",
       "    </tr>\n",
       "    <tr>\n",
       "      <th>1956</th>\n",
       "      <td>6</td>\n",
       "      <td>73</td>\n",
       "      <td>13322</td>\n",
       "      <td>3005</td>\n",
       "      <td>060730133223005</td>\n",
       "      <td>Block 3005</td>\n",
       "      <td>G5040</td>\n",
       "      <td>U</td>\n",
       "      <td>78661.0</td>\n",
       "      <td>U</td>\n",
       "      <td>...</td>\n",
       "      <td>32.6288505</td>\n",
       "      <td>-116.9924214</td>\n",
       "      <td>4</td>\n",
       "      <td>22</td>\n",
       "      <td>POLYGON ((-116.993114 32.628806, -116.993053 3...</td>\n",
       "      <td>15</td>\n",
       "      <td>4</td>\n",
       "      <td>0.005050505050505051</td>\n",
       "      <td>8</td>\n",
       "      <td>0.010101010101010102</td>\n",
       "    </tr>\n",
       "    <tr>\n",
       "      <th>1957</th>\n",
       "      <td>6</td>\n",
       "      <td>73</td>\n",
       "      <td>13322</td>\n",
       "      <td>3000</td>\n",
       "      <td>060730133223000</td>\n",
       "      <td>Block 3000</td>\n",
       "      <td>G5040</td>\n",
       "      <td>U</td>\n",
       "      <td>78661.0</td>\n",
       "      <td>U</td>\n",
       "      <td>...</td>\n",
       "      <td>32.634625</td>\n",
       "      <td>-116.991596</td>\n",
       "      <td>162</td>\n",
       "      <td>575</td>\n",
       "      <td>POLYGON ((-116.996325 32.633525, -116.996153 3...</td>\n",
       "      <td>15</td>\n",
       "      <td>56</td>\n",
       "      <td>0.0707070707070707</td>\n",
       "      <td>238</td>\n",
       "      <td>0.3005050505050505</td>\n",
       "    </tr>\n",
       "    <tr>\n",
       "      <th>1958</th>\n",
       "      <td>6</td>\n",
       "      <td>73</td>\n",
       "      <td>21302</td>\n",
       "      <td>1030</td>\n",
       "      <td>060730213021030</td>\n",
       "      <td>Block 1030</td>\n",
       "      <td>G5040</td>\n",
       "      <td>R</td>\n",
       "      <td>NaN</td>\n",
       "      <td>NaN</td>\n",
       "      <td>...</td>\n",
       "      <td>32.6115329</td>\n",
       "      <td>-116.9257932</td>\n",
       "      <td>0</td>\n",
       "      <td>1</td>\n",
       "      <td>POLYGON ((-116.926019 32.611466, -116.925819 3...</td>\n",
       "      <td>15</td>\n",
       "      <td>0</td>\n",
       "      <td>0.0</td>\n",
       "      <td>0</td>\n",
       "      <td>0.0</td>\n",
       "    </tr>\n",
       "  </tbody>\n",
       "</table>\n",
       "<p>1959 rows × 23 columns</p>\n",
       "</div>"
      ],
      "text/plain": [
       "     STATEFP20 COUNTYFP20 TRACTCE20 BLOCKCE20          GEOID20      NAME20  \\\n",
       "0            6         73     12600      1005  060730126001005  Block 1005   \n",
       "1            6         73     12600      1000  060730126001000  Block 1000   \n",
       "2            6         73     12600      1001  060730126001001  Block 1001   \n",
       "3            6         73     12600      1002  060730126001002  Block 1002   \n",
       "4            6         73     12600      1003  060730126001003  Block 1003   \n",
       "...        ...        ...       ...       ...              ...         ...   \n",
       "1954         6         73     10016      1000  060730100161000  Block 1000   \n",
       "1955         6         73     10016      1002  060730100161002  Block 1002   \n",
       "1956         6         73     13322      3005  060730133223005  Block 3005   \n",
       "1957         6         73     13322      3000  060730133223000  Block 3000   \n",
       "1958         6         73     21302      1030  060730213021030  Block 1030   \n",
       "\n",
       "     MTFCC20 UR20   UACE20 UATYPE20  ...  INTPTLAT20    INTPTLON20 HOUSING20  \\\n",
       "0      G5040    U  78661.0        U  ...  32.6326934  -117.0972764         0   \n",
       "1      G5040    U  78661.0        U  ...  32.6327645  -117.0968738         0   \n",
       "2      G5040    U  78661.0        U  ...   32.627561  -117.0948246         0   \n",
       "3      G5040    U  78661.0        U  ...  32.6279724  -117.0932719       310   \n",
       "4      G5040    U  78661.0        U  ...  32.6284473  -117.0915697        39   \n",
       "...      ...  ...      ...      ...  ...         ...           ...       ...   \n",
       "1954   G5040    R      NaN      NaN  ...  32.5937593  -116.9514464         0   \n",
       "1955   G5040    R      NaN      NaN  ...  32.5850417  -116.9902654         0   \n",
       "1956   G5040    U  78661.0        U  ...  32.6288505  -116.9924214         4   \n",
       "1957   G5040    U  78661.0        U  ...   32.634625   -116.991596       162   \n",
       "1958   G5040    R      NaN      NaN  ...  32.6115329  -116.9257932         0   \n",
       "\n",
       "     POP20                                           geometry len num_flights  \\\n",
       "0        1  POLYGON ((-117.09848 32.636082, -117.098118 32...  15         163   \n",
       "1        1  POLYGON ((-117.098419 32.636099, -117.098382 3...  15         207   \n",
       "2        1  POLYGON ((-117.095692 32.629235, -117.095466 3...  15         131   \n",
       "3      656  POLYGON ((-117.095251 32.629345, -117.095177 3...  15         241   \n",
       "4       94  POLYGON ((-117.092611 32.630074, -117.092519 3...  15         221   \n",
       "...    ...                                                ...  ..         ...   \n",
       "1954     1  POLYGON ((-116.966156 32.589925, -116.965916 3...  15           1   \n",
       "1955     1  POLYGON ((-117.005217 32.592376, -117.005127 3...  15           2   \n",
       "1956    22  POLYGON ((-116.993114 32.628806, -116.993053 3...  15           4   \n",
       "1957   575  POLYGON ((-116.996325 32.633525, -116.996153 3...  15          56   \n",
       "1958     1  POLYGON ((-116.926019 32.611466, -116.925819 3...  15           0   \n",
       "\n",
       "            flights_per_day num_calls         calls_per_day  \n",
       "0        0.2058080808080808         0                   0.0  \n",
       "1       0.26136363636363635         0                   0.0  \n",
       "2       0.16540404040404041         0                   0.0  \n",
       "3        0.3042929292929293      1170    1.4772727272727273  \n",
       "4       0.27904040404040403        28   0.03535353535353535  \n",
       "...                     ...       ...                   ...  \n",
       "1954  0.0012626262626262627         0                   0.0  \n",
       "1955  0.0025252525252525255         0                   0.0  \n",
       "1956   0.005050505050505051         8  0.010101010101010102  \n",
       "1957     0.0707070707070707       238    0.3005050505050505  \n",
       "1958                    0.0         0                   0.0  \n",
       "\n",
       "[1959 rows x 23 columns]"
      ]
     },
     "execution_count": 18,
     "metadata": {},
     "output_type": "execute_result"
    }
   ],
   "source": [
    "per_day"
   ]
  },
  {
   "cell_type": "code",
   "execution_count": 17,
   "id": "20ee424f-60e5-4339-8ac5-d2cb32351cf1",
   "metadata": {},
   "outputs": [
    {
     "data": {
      "text/plain": [
       "Index(['STATEFP20', 'COUNTYFP20', 'TRACTCE20', 'BLOCKCE20', 'GEOID20',\n",
       "       'NAME20', 'MTFCC20', 'UR20', 'UACE20', 'UATYPE20', 'FUNCSTAT20',\n",
       "       'ALAND20', 'AWATER20', 'INTPTLAT20', 'INTPTLON20', 'HOUSING20', 'POP20',\n",
       "       'geometry', 'len', 'num_flights', 'flights_per_day', 'num_calls',\n",
       "       'calls_per_day'],\n",
       "      dtype='object')"
      ]
     },
     "execution_count": 17,
     "metadata": {},
     "output_type": "execute_result"
    }
   ],
   "source": [
    "per_day.columns"
   ]
  },
  {
   "cell_type": "code",
   "execution_count": null,
   "id": "aafcbc9d-c9ab-4877-95dd-b9fdcb3cf3e4",
   "metadata": {},
   "outputs": [],
   "source": []
  }
 ],
 "metadata": {
  "kernelspec": {
   "display_name": "Python 3 (ipykernel)",
   "language": "python",
   "name": "python3"
  },
  "language_info": {
   "codemirror_mode": {
    "name": "ipython",
    "version": 3
   },
   "file_extension": ".py",
   "mimetype": "text/x-python",
   "name": "python",
   "nbconvert_exporter": "python",
   "pygments_lexer": "ipython3",
   "version": "3.10.12"
  }
 },
 "nbformat": 4,
 "nbformat_minor": 5
}
