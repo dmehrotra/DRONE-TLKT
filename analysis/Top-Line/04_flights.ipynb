{
 "cells": [
  {
   "cell_type": "markdown",
   "id": "3106a365-978b-4137-93d1-6c71fb60eaa1",
   "metadata": {},
   "source": [
    "# Flights Analysis\n",
    "\n",
    "In Chula Vista, drone flight paths trace a map of the city’s inequality, with poorer residents experiencing far more exposure to the drones’ cameras and rotors than their wealthier counterparts, a WIRED analysis of nearly 10,000 drone flight records from July 2021 to September 2023 found. The drones, while often dispatched for serious incidents like reports of armed individuals, are routinely deployed for minor issues such as shoplifting and loud music\n",
    "\n",
    "Not every 911 call is met by a drone. Instead, a teleoperator monitoring incoming service calls decides when drone deployment is necessary. WIRED's analysis of 911 calls, totaling 139,522 from July 2021 to September 2023, revealed that drones were used in about 7 percent of the city's service requests. Specifically, drones were dispatched to nearly half of the incidents involving reports of armed individuals and about a quarter of violent crime calls. Calls related to mental health evaluations and domestic violence were frequently met with drone dispatches, according to data published by the city\n",
    "\n",
    "According to WIRED’s analysis, Chula Vista Police have sent its drones to investigate hundreds of 911 calls about loud music, public intoxication, vandalism, shoplifting and other minor offenses\n",
    "\n",
    "Links:\n",
    "- https://airtable.com/appWuNqoK22AtVTWc/tbl9mchBT1m6i7eM2/viwXhGbQkLCEyR5vm?blocks=hide\n"
   ]
  },
  {
   "cell_type": "markdown",
   "id": "c935bde7-6321-4905-81ef-6366206ad626",
   "metadata": {},
   "source": [
    "## Import Data"
   ]
  },
  {
   "cell_type": "code",
   "execution_count": 3,
   "id": "7f94e51b-6cff-449a-8736-49ee5414d7e1",
   "metadata": {},
   "outputs": [
    {
     "data": {
      "application/vnd.jupyter.widget-view+json": {
       "model_id": "49f873553a05458b8c91e8af36e85755",
       "version_major": 2,
       "version_minor": 0
      },
      "text/plain": [
       "Loading data: 0it [00:00, ?it/s]"
      ]
     },
     "metadata": {},
     "output_type": "display_data"
    },
    {
     "data": {
      "application/vnd.jupyter.widget-view+json": {
       "model_id": "bef5362bc4e347c08ec4b47285cabc62",
       "version_major": 2,
       "version_minor": 0
      },
      "text/plain": [
       "Loading data: 0it [00:00, ?it/s]"
      ]
     },
     "metadata": {},
     "output_type": "display_data"
    },
    {
     "data": {
      "application/vnd.jupyter.widget-view+json": {
       "model_id": "482f1bcf46fa4857a16f2486d5751024",
       "version_major": 2,
       "version_minor": 0
      },
      "text/plain": [
       "Loading data: 0it [00:00, ?it/s]"
      ]
     },
     "metadata": {},
     "output_type": "display_data"
    }
   ],
   "source": [
    "import geopandas as gpd\n",
    "import numpy as np\n",
    "import pandas as pd\n",
    "from tqdm.notebook import tqdm, trange\n",
    "from loguru import logger\n",
    "import datetime\n",
    "import geopy.distance\n",
    "import fiona\n",
    "\n",
    "fiona.drvsupport.supported_drivers['kml'] = 'rw'\n",
    "fiona.drvsupport.supported_drivers['KML'] = 'rw'\n",
    "import warnings\n",
    "warnings.simplefilter(action='ignore')\n",
    "\n",
    "storage = \"/Volumes/easystore/Drones/\"\n",
    "\n",
    "cv_flights = pd.concat(\n",
    "    [\n",
    "        chunk\n",
    "        for chunk in tqdm(\n",
    "            pd.read_csv(\n",
    "                f\"../../data/outputs/outputs_cv-flight-manifest.csv\",\n",
    "                chunksize=100000,\n",
    "                dtype=str,\n",
    "            ),\n",
    "            desc=\"Loading data\",\n",
    "        )\n",
    "    ]\n",
    ")\n",
    "per_second = pd.concat(\n",
    "    [\n",
    "        chunk\n",
    "        for chunk in tqdm(\n",
    "            pd.read_csv(\n",
    "                f\"../../data/outputs/outputs_drone-seconds-block-count.csv\",\n",
    "                chunksize=100000,\n",
    "                dtype=str,\n",
    "            ),\n",
    "            desc=\"Loading data\",\n",
    "        )\n",
    "    ]\n",
    ")\n",
    "cfs = pd.concat(\n",
    "    [\n",
    "        chunk\n",
    "        for chunk in tqdm(\n",
    "            pd.read_csv(\n",
    "                f\"../../data/outputs/outputs_cfs-data.csv\",\n",
    "                chunksize=100000,\n",
    "                dtype=str,\n",
    "            ),\n",
    "            desc=\"Loading data\",\n",
    "        )\n",
    "    ]\n",
    ")\n",
    "cv_flights[\"drone-date\"] =  pd.to_datetime(cv_flights['date'] + \" \" + cv_flights['time_s'])\n",
    "cfs[\"cfs-date\"] = pd.to_datetime(cfs[\"Date\"])\n",
    "\n",
    "\n",
    "types = pd.read_csv('../../data/manually-label/labelled-types.csv')\n",
    "\n",
    "cv_flights = pd.merge(cv_flights,types, on='clean-type',how='left')\n",
    "cfs = pd.merge(cfs,types, on='clean-type',how='left')\n",
    "\n",
    "cv_flights['day'] = pd.to_datetime(cv_flights['date']).dt.floor('D')\n",
    "cfs['day'] = pd.to_datetime(cfs['Date']).dt.floor('D')"
   ]
  },
  {
   "cell_type": "markdown",
   "id": "365207e6-8ca1-4c7b-86ae-545c74edd9eb",
   "metadata": {},
   "source": [
    "## Analysis Data\n",
    "\n",
    "I only want to analyze calls on days where there was a flight.  This is because of an error in the data where we dropped flights for a few months.  See Meta Analysis"
   ]
  },
  {
   "cell_type": "code",
   "execution_count": 9,
   "id": "8e94abf5-b055-4fbc-bc9e-5208e459b481",
   "metadata": {},
   "outputs": [
    {
     "name": "stderr",
     "output_type": "stream",
     "text": [
      "\u001b[32m2024-05-22 09:25:28.336\u001b[0m | \u001b[1mINFO    \u001b[0m | \u001b[36m__main__\u001b[0m:\u001b[36m<module>\u001b[0m:\u001b[36m1\u001b[0m - \u001b[1mFlights from: 2021-07-01T12:09:00.000000000 until 2023-09-02T23:27:00.000000000\u001b[0m\n",
      "\u001b[32m2024-05-22 09:25:28.478\u001b[0m | \u001b[1mINFO    \u001b[0m | \u001b[36m__main__\u001b[0m:\u001b[36m<module>\u001b[0m:\u001b[36m2\u001b[0m - \u001b[1mCalls from: 2021-07-01T00:40:26.430000000 until 2023-09-01T23:35:39.883000000\u001b[0m\n"
     ]
    }
   ],
   "source": [
    "logger.info(f\"Flights from: {cv_flights.sort_values('drone-date').head()['drone-date'].values[-1]} until {cv_flights.sort_values('drone-date').tail()['drone-date'].values[-1]}\")\n",
    "logger.info(f\"Calls from: {cfs.sort_values('cfs-date').head()['cfs-date'].values[-1]} until {cfs.sort_values('cfs-date').tail()['cfs-date'].values[-1]}\")"
   ]
  },
  {
   "cell_type": "code",
   "execution_count": 11,
   "id": "3d2d0140-8868-4046-a534-31ca2dd82d78",
   "metadata": {},
   "outputs": [
    {
     "name": "stderr",
     "output_type": "stream",
     "text": [
      "\u001b[32m2024-05-22 09:25:46.253\u001b[0m | \u001b[1mINFO    \u001b[0m | \u001b[36m__main__\u001b[0m:\u001b[36m<module>\u001b[0m:\u001b[36m2\u001b[0m - \u001b[1mTotal Calls: 139522\u001b[0m\n"
     ]
    }
   ],
   "source": [
    "standardized_cfs = cfs[cfs['day'].isin(cv_flights['day'])]\n",
    "logger.info(f\"Total Calls: {standardized_cfs.shape[0]}\")"
   ]
  },
  {
   "cell_type": "markdown",
   "id": "391b0486-589f-4746-b9b1-57719755a4dc",
   "metadata": {},
   "source": [
    "## Drone Response Rate\n",
    "\n",
    "WIRED's analysis of 911 calls, totaling 139,522 from July 2021 to September 2023, revealed that drones were used in about 7 percent of the city's service requests"
   ]
  },
  {
   "cell_type": "code",
   "execution_count": 12,
   "id": "4a66c2c9-cfeb-474d-932d-61b250840bf6",
   "metadata": {},
   "outputs": [
    {
     "name": "stderr",
     "output_type": "stream",
     "text": [
      "\u001b[32m2024-05-22 09:27:39.791\u001b[0m | \u001b[1mINFO    \u001b[0m | \u001b[36m__main__\u001b[0m:\u001b[36m<module>\u001b[0m:\u001b[36m2\u001b[0m - \u001b[1mWIRED's analysis of 911 calls, totaling 139522 from July 2021 to September 2023, revealed that drones were used in about 6.851249265348834 percent of the city's service requests 139522\u001b[0m\n"
     ]
    }
   ],
   "source": [
    "response_rate = cv_flights.shape[0]/standardized_cfs.shape[0]\n",
    "logger.info(f\"WIRED's analysis of 911 calls, totaling {standardized_cfs.shape[0]} from July 2021 to September 2023, revealed that drones were used in about {response_rate*100} percent of the city's service requests {standardized_cfs.shape[0]}\")"
   ]
  },
  {
   "cell_type": "markdown",
   "id": "adc3bcc5-9c7e-4b67-8dac-02a1f53d65b6",
   "metadata": {},
   "source": [
    "### Response Rate by Type of Call\n",
    "\n",
    "Specifically, drones were dispatched to nearly half of the incidents involving reports of armed individuals and about a quarter of violent crime calls. Calls related to mental health evaluations and domestic violence were frequently met with drone dispatches, according to data published by the city"
   ]
  },
  {
   "cell_type": "markdown",
   "id": "a99e6a22-e84d-437c-b0c4-4d703d5acea4",
   "metadata": {},
   "source": [
    "#### Match on IDs and Date\n",
    "\n",
    "Match calls for service to drone incident ids based on ID and date."
   ]
  },
  {
   "cell_type": "code",
   "execution_count": 72,
   "id": "028c8f45-34cd-477f-bef6-ccf98f702bdd",
   "metadata": {},
   "outputs": [
    {
     "name": "stderr",
     "output_type": "stream",
     "text": [
      "\u001b[32m2024-05-22 10:03:40.366\u001b[0m | \u001b[1mINFO    \u001b[0m | \u001b[36m__main__\u001b[0m:\u001b[36m<module>\u001b[0m:\u001b[36m19\u001b[0m - \u001b[1mTotal Flights: 9559\u001b[0m\n",
      "\u001b[32m2024-05-22 10:03:40.366\u001b[0m | \u001b[1mINFO    \u001b[0m | \u001b[36m__main__\u001b[0m:\u001b[36m<module>\u001b[0m:\u001b[36m20\u001b[0m - \u001b[1mFlights with CFS: 7688\u001b[0m\n",
      "\u001b[32m2024-05-22 10:03:40.368\u001b[0m | \u001b[1mINFO    \u001b[0m | \u001b[36m__main__\u001b[0m:\u001b[36m<module>\u001b[0m:\u001b[36m21\u001b[0m - \u001b[1mFlights with NaN Incident IDS: 898\u001b[0m\n",
      "\u001b[32m2024-05-22 10:03:40.368\u001b[0m | \u001b[1mINFO    \u001b[0m | \u001b[36m__main__\u001b[0m:\u001b[36m<module>\u001b[0m:\u001b[36m22\u001b[0m - \u001b[1mTotal unmatched flights: 1871\u001b[0m\n"
     ]
    }
   ],
   "source": [
    "# Take the last five digits and match on that\n",
    "cv_flights[\"match\"] = cv_flights[\"incident_id\"].astype(str).apply(lambda x: x.strip().replace(' ','').replace('L','0').replace('l','0')[-5:])\n",
    "\n",
    "cfs[\"match\"] = (\n",
    "    cfs[\"Incident No.\"].astype(str).apply(lambda x: x.strip().replace(' ','').replace('l','0').replace('L','0')[-5:])\n",
    ")\n",
    "\n",
    "matches = cv_flights[cv_flights[\"match\"].isin(cfs[\"match\"])]\n",
    "matches_joined_cfs = pd.merge(matches, cfs, how=\"left\", on=\"match\",suffixes=['-drones','-cfs'])\n",
    "\n",
    "# Only keep the ones that happen on the same day\n",
    "matches_joined_cfs = matches_joined_cfs[\n",
    "    matches_joined_cfs[\"drone-date\"].dt.date == matches_joined_cfs[\"cfs-date\"].dt.date\n",
    "]\n",
    "flights_with_cfs  = matches_joined_cfs.copy()\n",
    "\n",
    "no_matching_cfs = cv_flights[~cv_flights['id'].isin(flights_with_cfs['id'])].copy()\n",
    "\n",
    "logger.info(f\"Total Flights: {cv_flights.shape[0]}\")\n",
    "logger.info(f\"Flights with CFS: {flights_with_cfs.shape[0]}\")\n",
    "logger.info(f\"Flights with NaN Incident IDS: {no_matching_cfs[no_matching_cfs['incident_id'].astype(str).str.contains('nan',case=False)].shape[0]}\")\n",
    "logger.info(f\"Total unmatched flights: {no_matching_cfs.shape[0]}\")"
   ]
  },
  {
   "cell_type": "code",
   "execution_count": 73,
   "id": "3ef01936-9fb3-4e49-b077-3988869f2883",
   "metadata": {},
   "outputs": [],
   "source": [
    "df = []\n",
    "\n",
    "for t in types['Predicted Category'].drop_duplicates().values:\n",
    "    number_flights = cv_flights[\n",
    "    (cv_flights['id'].isin(flights_with_cfs['id'])) &\n",
    "    (cv_flights['Predicted Category'] == t)\n",
    "].shape[0]\n",
    "    number_calls = standardized_cfs[standardized_cfs['Predicted Category']==t].shape[0]\n",
    "    row = {}\n",
    "    row['num_drones']=number_flights\n",
    "    row['num_calls']=number_calls\n",
    "    row['type'] = t\n",
    "    df.append(row)\n",
    "    \n",
    "df = pd.DataFrame(df)\n",
    "df['percent_answered'] = df['num_drones']/df['num_calls']\n",
    "df['percent_not_answered'] = 1 - df['percent_answered']"
   ]
  },
  {
   "cell_type": "code",
   "execution_count": 74,
   "id": "019b1bb9-41ba-4c95-9433-b494e4b98a44",
   "metadata": {},
   "outputs": [
    {
     "data": {
      "text/html": [
       "<div>\n",
       "<style scoped>\n",
       "    .dataframe tbody tr th:only-of-type {\n",
       "        vertical-align: middle;\n",
       "    }\n",
       "\n",
       "    .dataframe tbody tr th {\n",
       "        vertical-align: top;\n",
       "    }\n",
       "\n",
       "    .dataframe thead th {\n",
       "        text-align: right;\n",
       "    }\n",
       "</style>\n",
       "<table border=\"1\" class=\"dataframe\">\n",
       "  <thead>\n",
       "    <tr style=\"text-align: right;\">\n",
       "      <th></th>\n",
       "      <th>num_drones</th>\n",
       "      <th>num_calls</th>\n",
       "      <th>type</th>\n",
       "      <th>percent_answered</th>\n",
       "      <th>percent_not_answered</th>\n",
       "    </tr>\n",
       "  </thead>\n",
       "  <tbody>\n",
       "    <tr>\n",
       "      <th>0</th>\n",
       "      <td>475</td>\n",
       "      <td>24063</td>\n",
       "      <td>Unknown</td>\n",
       "      <td>0.019740</td>\n",
       "      <td>0.980260</td>\n",
       "    </tr>\n",
       "    <tr>\n",
       "      <th>1</th>\n",
       "      <td>16</td>\n",
       "      <td>0</td>\n",
       "      <td>Mislabel</td>\n",
       "      <td>inf</td>\n",
       "      <td>-inf</td>\n",
       "    </tr>\n",
       "    <tr>\n",
       "      <th>2</th>\n",
       "      <td>797</td>\n",
       "      <td>3363</td>\n",
       "      <td>Violent Crime</td>\n",
       "      <td>0.236991</td>\n",
       "      <td>0.763009</td>\n",
       "    </tr>\n",
       "    <tr>\n",
       "      <th>3</th>\n",
       "      <td>250</td>\n",
       "      <td>531</td>\n",
       "      <td>Person with Weapon</td>\n",
       "      <td>0.470810</td>\n",
       "      <td>0.529190</td>\n",
       "    </tr>\n",
       "    <tr>\n",
       "      <th>4</th>\n",
       "      <td>1085</td>\n",
       "      <td>11017</td>\n",
       "      <td>Suspicious Circumstances</td>\n",
       "      <td>0.098484</td>\n",
       "      <td>0.901516</td>\n",
       "    </tr>\n",
       "    <tr>\n",
       "      <th>5</th>\n",
       "      <td>128</td>\n",
       "      <td>6611</td>\n",
       "      <td>Wanted Person/Vehicle</td>\n",
       "      <td>0.019362</td>\n",
       "      <td>0.980638</td>\n",
       "    </tr>\n",
       "    <tr>\n",
       "      <th>6</th>\n",
       "      <td>1619</td>\n",
       "      <td>26057</td>\n",
       "      <td>Disturbance</td>\n",
       "      <td>0.062133</td>\n",
       "      <td>0.937867</td>\n",
       "    </tr>\n",
       "    <tr>\n",
       "      <th>7</th>\n",
       "      <td>1266</td>\n",
       "      <td>8842</td>\n",
       "      <td>Welfare Check</td>\n",
       "      <td>0.143180</td>\n",
       "      <td>0.856820</td>\n",
       "    </tr>\n",
       "    <tr>\n",
       "      <th>8</th>\n",
       "      <td>676</td>\n",
       "      <td>17240</td>\n",
       "      <td>Property Crime</td>\n",
       "      <td>0.039211</td>\n",
       "      <td>0.960789</td>\n",
       "    </tr>\n",
       "    <tr>\n",
       "      <th>9</th>\n",
       "      <td>1057</td>\n",
       "      <td>27992</td>\n",
       "      <td>Traffic</td>\n",
       "      <td>0.037761</td>\n",
       "      <td>0.962239</td>\n",
       "    </tr>\n",
       "    <tr>\n",
       "      <th>10</th>\n",
       "      <td>37</td>\n",
       "      <td>6508</td>\n",
       "      <td>Other</td>\n",
       "      <td>0.005685</td>\n",
       "      <td>0.994315</td>\n",
       "    </tr>\n",
       "    <tr>\n",
       "      <th>11</th>\n",
       "      <td>182</td>\n",
       "      <td>2165</td>\n",
       "      <td>Public Safety</td>\n",
       "      <td>0.084065</td>\n",
       "      <td>0.915935</td>\n",
       "    </tr>\n",
       "    <tr>\n",
       "      <th>12</th>\n",
       "      <td>13</td>\n",
       "      <td>321</td>\n",
       "      <td>Officer Assist</td>\n",
       "      <td>0.040498</td>\n",
       "      <td>0.959502</td>\n",
       "    </tr>\n",
       "    <tr>\n",
       "      <th>13</th>\n",
       "      <td>1</td>\n",
       "      <td>1659</td>\n",
       "      <td>Community Event</td>\n",
       "      <td>0.000603</td>\n",
       "      <td>0.999397</td>\n",
       "    </tr>\n",
       "    <tr>\n",
       "      <th>14</th>\n",
       "      <td>52</td>\n",
       "      <td>1919</td>\n",
       "      <td>Missing Person</td>\n",
       "      <td>0.027097</td>\n",
       "      <td>0.972903</td>\n",
       "    </tr>\n",
       "    <tr>\n",
       "      <th>15</th>\n",
       "      <td>34</td>\n",
       "      <td>1234</td>\n",
       "      <td>Drugs</td>\n",
       "      <td>0.027553</td>\n",
       "      <td>0.972447</td>\n",
       "    </tr>\n",
       "  </tbody>\n",
       "</table>\n",
       "</div>"
      ],
      "text/plain": [
       "    num_drones  num_calls                      type  percent_answered  \\\n",
       "0          475      24063                   Unknown          0.019740   \n",
       "1           16          0                  Mislabel               inf   \n",
       "2          797       3363             Violent Crime          0.236991   \n",
       "3          250        531        Person with Weapon          0.470810   \n",
       "4         1085      11017  Suspicious Circumstances          0.098484   \n",
       "5          128       6611     Wanted Person/Vehicle          0.019362   \n",
       "6         1619      26057               Disturbance          0.062133   \n",
       "7         1266       8842             Welfare Check          0.143180   \n",
       "8          676      17240            Property Crime          0.039211   \n",
       "9         1057      27992                   Traffic          0.037761   \n",
       "10          37       6508                     Other          0.005685   \n",
       "11         182       2165             Public Safety          0.084065   \n",
       "12          13        321            Officer Assist          0.040498   \n",
       "13           1       1659           Community Event          0.000603   \n",
       "14          52       1919            Missing Person          0.027097   \n",
       "15          34       1234                     Drugs          0.027553   \n",
       "\n",
       "    percent_not_answered  \n",
       "0               0.980260  \n",
       "1                   -inf  \n",
       "2               0.763009  \n",
       "3               0.529190  \n",
       "4               0.901516  \n",
       "5               0.980638  \n",
       "6               0.937867  \n",
       "7               0.856820  \n",
       "8               0.960789  \n",
       "9               0.962239  \n",
       "10              0.994315  \n",
       "11              0.915935  \n",
       "12              0.959502  \n",
       "13              0.999397  \n",
       "14              0.972903  \n",
       "15              0.972447  "
      ]
     },
     "execution_count": 74,
     "metadata": {},
     "output_type": "execute_result"
    },
    {
     "data": {
      "image/png": "[encoded data removed]",
      "text/plain": [
       "<Figure size 640x480 with 1 Axes>"
      ]
     },
     "metadata": {},
     "output_type": "display_data"
    }
   ],
   "source": [
    "df.plot.bar(x='type',y=['percent_answered','percent_not_answered'],stacked=True,label=['percent_answered','percent_not_answered'])\n",
    "df"
   ]
  },
  {
   "cell_type": "code",
   "execution_count": 75,
   "id": "ef7e78d2-e392-41d5-937a-dab9c4791a2d",
   "metadata": {},
   "outputs": [
    {
     "name": "stderr",
     "output_type": "stream",
     "text": [
      "\u001b[32m2024-05-22 10:03:41.156\u001b[0m | \u001b[1mINFO    \u001b[0m | \u001b[36m__main__\u001b[0m:\u001b[36m<module>\u001b[0m:\u001b[36m1\u001b[0m - \u001b[1mSpecifically, drones were dispatched to nearly 0.4708097928436911 of the incidents involving reports of armed individuals and about 0.2369907820398454 of violent crime calls.\u001b[0m\n"
     ]
    }
   ],
   "source": [
    "logger.info(f\"Specifically, drones were dispatched to nearly {df[df['type']=='Person with Weapon']['percent_answered'].values[0]} of the incidents involving reports of armed individuals and about {df[df['type']=='Violent Crime']['percent_answered'].values[0]} of violent crime calls.\")"
   ]
  },
  {
   "cell_type": "markdown",
   "id": "9e090dda-dc46-48b7-9082-01e8b39f5648",
   "metadata": {},
   "source": [
    "## Minor Offenses\n",
    "\n",
    "According to WIRED’s analysis, Chula Vista Police have sent its drones to investigate hundreds of 911 calls about loud music, public intoxication, vandalism, shoplifting and other minor offenses\n"
   ]
  },
  {
   "cell_type": "code",
   "execution_count": 86,
   "id": "02c31767-26b8-4c39-9d09-6b1c20380ba0",
   "metadata": {},
   "outputs": [
    {
     "name": "stderr",
     "output_type": "stream",
     "text": [
      "\u001b[32m2024-05-22 10:09:16.588\u001b[0m | \u001b[1mINFO    \u001b[0m | \u001b[36m__main__\u001b[0m:\u001b[36m<module>\u001b[0m:\u001b[36m15\u001b[0m - \u001b[1mAccording to WIRED’s analysis, Chula Vista Police have sent its drones to investigate 201 calls about loud music, public intoxication, vandalism, shoplifting and disorderly conduct.\u001b[0m\n"
     ]
    }
   ],
   "source": [
    "pi_music_vandal_shop_lifting = cv_flights[\n",
    "    (cv_flights['clean-type'].astype(str).str.contains('intox',case=False))|\n",
    "    (cv_flights['clean-type'].astype(str).str.contains('drunk in public',case=False)) |\n",
    "    (cv_flights['clean-type'].astype(str).str.contains('loud',case=False)) |\n",
    "    (cv_flights['clean-type'].astype(str).str.contains('party',case=False)) |\n",
    "    (cv_flights['clean-type'].astype(str).str.contains('shoplifting',case=False)) |\n",
    "    (cv_flights['clean-type'].astype(str).str.contains('petty',case=False)) |\n",
    "    (cv_flights['clean-type'].astype(str).str.contains('noise',case=False)) |\n",
    "    (cv_flights['clean-type'].astype(str).str.contains('vandalism',case=False)) |\n",
    "    (cv_flights['clean-type'].astype(str).str.contains('graffiti',case=False)) |\n",
    "    (cv_flights['clean-type'].astype(str).str.contains('disorderly',case=False)) \n",
    "\n",
    "].copy()\n",
    "\n",
    "logger.info(f\"According to WIRED’s analysis, Chula Vista Police have sent its drones to investigate {pi_music_vandal_shop_lifting.shape[0]} calls about loud music, public intoxication, vandalism, shoplifting and disorderly conduct.\")"
   ]
  },
  {
   "cell_type": "markdown",
   "id": "86436181-41b1-48be-a12b-8f02db58e979",
   "metadata": {},
   "source": [
    "# Transparency\n",
    "\n",
    "At the time of our analysis, approximately one in 10 drone flights listed on the department’s transparency portal lacked a stated purpose and could not be connected to any relevant 911 call. For residents we spoke to, the discrepancy raises serious concerns about the accuracy and reliability of the department's transparency efforts.\n"
   ]
  },
  {
   "cell_type": "code",
   "execution_count": 106,
   "id": "a261e286-a4f0-49de-b743-95f095a3e406",
   "metadata": {},
   "outputs": [
    {
     "name": "stderr",
     "output_type": "stream",
     "text": [
      "\u001b[32m2024-05-22 10:55:34.604\u001b[0m | \u001b[1mINFO    \u001b[0m | \u001b[36m__main__\u001b[0m:\u001b[36m<module>\u001b[0m:\u001b[36m3\u001b[0m - \u001b[1mBetween (0.8042682288942358) and (0.9060571189454963) percent of drone flights could be connected to a CFS.\u001b[0m\n",
      "\u001b[32m2024-05-22 10:55:34.605\u001b[0m | \u001b[1mINFO    \u001b[0m | \u001b[36m__main__\u001b[0m:\u001b[36m<module>\u001b[0m:\u001b[36m5\u001b[0m - \u001b[1mAt the time of our analysis, approximately 898 (0.09394288105450362) drone flights listed on the department’s transparency portal lacked a stated purpose and could not be connected to any relevant 911 call. For residents we spoke to, the discrepancy raises serious concerns about the accuracy and reliability of the department's transparency efforts.\u001b[0m\n"
     ]
    }
   ],
   "source": [
    "nan_flights = no_matching_cfs[no_matching_cfs['incident_id'].astype(str).str.contains('nan',case=False)]\n",
    "\n",
    "logger.info(f\"Between ({(flights_with_cfs.shape[0])/cv_flights.shape[0]}) and ({(cv_flights.shape[0]-nan_flights.shape[0])/cv_flights.shape[0]}) percent of drone flights could be connected to a CFS.\")\n",
    "\n",
    "logger.info(f\"At the time of our analysis, approximately {nan_flights.shape[0]} ({nan_flights.shape[0]/cv_flights.shape[0]}) drone flights listed on the department’s transparency portal lacked a stated purpose and could not be connected to any relevant 911 call. For residents we spoke to, the discrepancy raises serious concerns about the accuracy and reliability of the department's transparency efforts.\")\n"
   ]
  },
  {
   "cell_type": "markdown",
   "id": "70eded51-6e73-4cc3-9748-3f127a569778",
   "metadata": {},
   "source": [
    "### Orphan Flights\n",
    "\n",
    "These unexplained flights weren’t assigned an incident number from the department—meaning they couldn’t be connected to a 911 call—and hundreds of them didn't come within half a mile of where the call originated"
   ]
  },
  {
   "cell_type": "code",
   "execution_count": 122,
   "id": "f4081e80-787e-4018-976e-8fb84fc5bb31",
   "metadata": {},
   "outputs": [
    {
     "data": {
      "application/vnd.jupyter.widget-view+json": {
       "model_id": "d3eb3850648641a3bc59059223953eb6",
       "version_major": 2,
       "version_minor": 0
      },
      "text/plain": [
       "Loading data: 0it [00:00, ?it/s]"
      ]
     },
     "metadata": {},
     "output_type": "display_data"
    },
    {
     "data": {
      "application/vnd.jupyter.widget-view+json": {
       "model_id": "2c290f2b552d424b969b89046b4a5700",
       "version_major": 2,
       "version_minor": 0
      },
      "text/plain": [
       "0it [00:00, ?it/s]"
      ]
     },
     "metadata": {},
     "output_type": "display_data"
    }
   ],
   "source": [
    "flight_blocks = pd.concat(\n",
    "    [\n",
    "        chunk\n",
    "        for chunk in tqdm(\n",
    "            pd.read_csv(\n",
    "                f\"../../data/outputs/outputs_drone-seconds-block-count-per-flight.csv\", chunksize=100000, dtype=str\n",
    "            ),\n",
    "            desc=\"Loading data\",\n",
    "        )\n",
    "    ]\n",
    ")\n",
    "\n",
    "orphan_flight_blocks = flight_blocks[flight_blocks['id'].isin(nan_flights['id'])]\n",
    "orphan_flight_blocks['seconds'] = orphan_flight_blocks['seconds'].astype(int)\n",
    "\n",
    "possible_cfs = []\n",
    "for _, row in tqdm(nan_flights.sample(frac=1).iterrows()):\n",
    "    ceiling = row['drone-date'] + datetime.timedelta(minutes = 1)\n",
    "    floor = row['drone-date'] - datetime.timedelta(minutes = 90)\n",
    "\n",
    "    blocks = orphan_flight_blocks[orphan_flight_blocks['id']==row['id']]\n",
    "    lingering_blocks = ','.join(blocks.sort_values('seconds').tail(7)['GEOID20'].values)\n",
    "    \n",
    "    mask = (cfs['cfs-date'] > floor) & (cfs['cfs-date'] < ceiling)\n",
    "    possible_calls = cfs.loc[mask].copy()\n",
    "    possible_calls['possible-drone-id'] = row['id']\n",
    "    possible_calls['drone-incident-id'] = row['incident_id']\n",
    "    possible_calls['drone-date'] = row['drone-date']\n",
    "    possible_calls['drone-type'] = row['type']\n",
    "    possible_calls['drone-type'] = row['type']\n",
    "    possible_calls['drone-address'] = row['address_map']\n",
    "    possible_calls['drone-FIPS'] = lingering_blocks\n",
    "\n",
    "    # possible_calls = possible_calls[possible_calls['Full FIPS (block)']==row['Full FIPS (block)']].copy()\n",
    "    \n",
    "    possible_cfs.append(possible_calls)\n",
    "possible_cfs = pd.concat(possible_cfs)  "
   ]
  },
  {
   "cell_type": "code",
   "execution_count": 123,
   "id": "7ec9d4b3-38c1-4dd3-9d62-99885f6bbb45",
   "metadata": {},
   "outputs": [
    {
     "data": {
      "application/vnd.jupyter.widget-view+json": {
       "model_id": "33c4402c28424f8ebd57b80710271066",
       "version_major": 2,
       "version_minor": 0
      },
      "text/plain": [
       "0it [00:00, ?it/s]"
      ]
     },
     "metadata": {},
     "output_type": "display_data"
    }
   ],
   "source": [
    "possible_cfs_by_distance = []\n",
    "for _, flight in tqdm(nan_flights.iterrows()):\n",
    "#   find possible calls by time\n",
    "    possible_cfs_for_flight = possible_cfs[possible_cfs['possible-drone-id']==flight['id']]\n",
    "    \n",
    "    orphan_flight = orphan_flight_blocks[orphan_flight_blocks['id']==flight['id']].copy()\n",
    "    orphan_flight['seconds'] = orphan_flight['seconds'].astype(int)\n",
    "\n",
    "    lingering_blocks = orphan_flight\n",
    "    \n",
    "    if lingering_blocks.shape[0]>0:\n",
    "        for _, pcfs in possible_cfs_for_flight.iterrows():\n",
    "            for _, block in lingering_blocks.iterrows():\n",
    "                if str(block['INTPTLAT20']) != \"nan\":\n",
    "                    try:\n",
    "                        distance = geopy.distance.geodesic((pcfs['Latitude'],pcfs['Longitude']),(block['INTPTLAT20'],block['INTPTLON20'])).miles\n",
    "                        if distance <= .5:\n",
    "                            pcfs[\"lingering-block\"] = block['GEOID20']\n",
    "                            pcfs[\"distance\"] = distance\n",
    "                            possible_cfs_by_distance.append(pcfs)\n",
    "                    except:\n",
    "                        logger.error(f\"{(pcfs['Latitude'],pcfs['Longitude']),(block['INTPTLAT20'],block['INTPTLON20'])}\")\n",
    "\n",
    "possible_cfs_by_distance = pd.DataFrame(possible_cfs_by_distance)         "
   ]
  },
  {
   "cell_type": "code",
   "execution_count": 125,
   "id": "ccf8c7b7-a08b-4faf-954a-cc1ad53a38d8",
   "metadata": {},
   "outputs": [
    {
     "name": "stderr",
     "output_type": "stream",
     "text": [
      "\u001b[32m2024-05-22 11:13:36.212\u001b[0m | \u001b[1mINFO    \u001b[0m | \u001b[36m__main__\u001b[0m:\u001b[36m<module>\u001b[0m:\u001b[36m3\u001b[0m - \u001b[1mThese unexplained flights weren’t assigned an incident number from the department—meaning they couldn’t be connected to a 911 call—and 396 of them didn't come within half a mile of where the call originated.\u001b[0m\n"
     ]
    }
   ],
   "source": [
    "orphans = nan_flight[~nan_flights['id'].isin(possible_cfs_by_distance['possible-drone-id'])].copy()\n",
    "\n",
    "logger.info(f\"These unexplained flights weren’t assigned an incident number from the department—meaning they couldn’t be connected to a 911 call—and {orphans.shape[0]} of them didn't come within half a mile of where the call originated.\")"
   ]
  },
  {
   "cell_type": "code",
   "execution_count": null,
   "id": "5745462e-6434-47ed-852e-44b47b03336e",
   "metadata": {},
   "outputs": [],
   "source": []
  }
 ],
 "metadata": {
  "kernelspec": {
   "display_name": "Python 3 (ipykernel)",
   "language": "python",
   "name": "python3"
  },
  "language_info": {
   "codemirror_mode": {
    "name": "ipython",
    "version": 3
   },
   "file_extension": ".py",
   "mimetype": "text/x-python",
   "name": "python",
   "nbconvert_exporter": "python",
   "pygments_lexer": "ipython3",
   "version": "3.10.12"
  }
 },
 "nbformat": 4,
 "nbformat_minor": 5
}
