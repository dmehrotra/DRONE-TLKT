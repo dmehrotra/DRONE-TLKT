{
 "cells": [
  {
   "cell_type": "markdown",
   "id": "59f7a132-822d-45c6-b7a8-9d25e29512da",
   "metadata": {},
   "source": [
    "# Sensitive Flights\n",
    "\n",
    "The police drones, equipped with cameras powerful enough to record faces clearly, have amassed hundreds of hours of video footage of the city’s residents. Their flight paths routinely take them over backyards and residents have spotted the drones above public pools, high schools, hospitals, churches, mosques, immigration law firms and even the city’s Planned Parenthood facility. Privacy advocates argue that the extensive footage captured by the drones makes it difficult to distinguish between flights responding to specific incidents and routine mass surveillance from the sky.\n",
    "\n",
    "Tim Czaja, 63, has lived off Guava Avenue for 12 years, about a half-mile from police headquarters. Pushing his bicycle downtown one morning, Czaja tells WIRED that he sees police drones on a daily basis—one time even lingering above the nearby public pool. According to flight data, drones have flown through the airspace of the public pool where Czaja saw the drone TK times since 2021. Logs published online from each of these flights indicate that the drones started recording as they lifted off the police department’s roof—inadvertently amassing at least TK hours of footage from the area.\n",
    "\n",
    "The flight data shows that police drones routinely fly over places that even the Department of Homeland Security considers “protected areas”—places where DHS recognizes that enforcement actions might impact “access to essential services or engagement in essential activities.” Such locations, according to the department, include schools, mental healthcare facilities, and social services. \n",
    "\n",
    "About a mile south of the public pool is Chula Vista High School. In the last two years, its students have been exposed to approximately four hours of aerial surveillance, as drones were dispatched to 150 incidents that took them through the airspace of the campus. While many of these dispatches were unrelated to public safety incidents at the school, WIRED’s analysis shows that drones were dispatched to Chula Vista High to assist with welfare checks, missing persons, and fights between students. \n"
   ]
  },
  {
   "cell_type": "markdown",
   "id": "bff06118-aaa3-4034-b428-300d87269b0b",
   "metadata": {},
   "source": [
    "## Load Data"
   ]
  },
  {
   "cell_type": "code",
   "execution_count": 47,
   "id": "fac0b303-c543-43bc-819b-443952787723",
   "metadata": {},
   "outputs": [
    {
     "data": {
      "application/vnd.jupyter.widget-view+json": {
       "model_id": "492d7f02d8244a0d8982e5b01069b1ce",
       "version_major": 2,
       "version_minor": 0
      },
      "text/plain": [
       "Loading data: 0it [00:00, ?it/s]"
      ]
     },
     "metadata": {},
     "output_type": "display_data"
    },
    {
     "data": {
      "application/vnd.jupyter.widget-view+json": {
       "model_id": "dcbabd65a8ed4465af3e8e8180beec3b",
       "version_major": 2,
       "version_minor": 0
      },
      "text/plain": [
       "Loading data: 0it [00:00, ?it/s]"
      ]
     },
     "metadata": {},
     "output_type": "display_data"
    },
    {
     "data": {
      "application/vnd.jupyter.widget-view+json": {
       "model_id": "c41bbf6f2b3c410db3238c9f1b1ea9f7",
       "version_major": 2,
       "version_minor": 0
      },
      "text/plain": [
       "Loading data: 0it [00:00, ?it/s]"
      ]
     },
     "metadata": {},
     "output_type": "display_data"
    },
    {
     "data": {
      "application/vnd.jupyter.widget-view+json": {
       "model_id": "6e1477f9768e48319c2cff0bfff061ac",
       "version_major": 2,
       "version_minor": 0
      },
      "text/plain": [
       "Loading data: 0it [00:00, ?it/s]"
      ]
     },
     "metadata": {},
     "output_type": "display_data"
    }
   ],
   "source": [
    "import os\n",
    "import warnings\n",
    "\n",
    "import fiona\n",
    "import geopandas as gpd\n",
    "import geopy.distance\n",
    "import gpxpy\n",
    "import numpy as np\n",
    "import pandas as pd\n",
    "from multiprocess.pool import Pool\n",
    "from tqdm.notebook import tqdm, trange\n",
    "from loguru import logger\n",
    "warnings.filterwarnings(\"ignore\")\n",
    "\n",
    "fiona.drvsupport.supported_drivers[\"kml\"] = \"rw\"\n",
    "fiona.drvsupport.supported_drivers[\"KML\"] = \"rw\"\n",
    "\n",
    "storage = \"/Volumes/easystore/Drones/\"\n",
    "\n",
    "cv_flights = pd.concat(\n",
    "    [\n",
    "        chunk\n",
    "        for chunk in tqdm(\n",
    "            pd.read_csv(\n",
    "                f\"../../data/outputs/outputs_cv-flight-manifest.csv\",\n",
    "                chunksize=100000,\n",
    "                dtype=str,\n",
    "            ),\n",
    "            desc=\"Loading data\",\n",
    "        )\n",
    "    ]\n",
    ")\n",
    "per_second = pd.concat(\n",
    "    [\n",
    "        chunk\n",
    "        for chunk in tqdm(\n",
    "            pd.read_csv(\n",
    "                f\"../../data/outputs/outputs_drone-seconds-block-count.csv\",\n",
    "                chunksize=100000,\n",
    "                dtype=str,\n",
    "            ),\n",
    "            desc=\"Loading data\",\n",
    "        )\n",
    "    ]\n",
    ")\n",
    "\n",
    "flight_details = pd.concat(\n",
    "    [\n",
    "        chunk\n",
    "        for chunk in tqdm(\n",
    "            pd.read_csv(\n",
    "                f\"{storage}/gpx-with-census-data.csv\", chunksize=100000, dtype=str\n",
    "            ),\n",
    "            desc=\"Loading data\",\n",
    "        )\n",
    "    ]\n",
    ")\n",
    "locations = pd.concat(\n",
    "    [\n",
    "        chunk\n",
    "        for chunk in tqdm(\n",
    "            pd.read_csv(\n",
    "                f\"../../data/manually-label/sensitive-locations.csv\",\n",
    "                chunksize=100000,\n",
    "                dtype=str,\n",
    "            ),\n",
    "            desc=\"Loading data\",\n",
    "        )\n",
    "    ]\n",
    ")"
   ]
  },
  {
   "cell_type": "markdown",
   "id": "801d8975-1508-4219-8608-2af0f741ee56",
   "metadata": {},
   "source": [
    "## Load Sensitive Flights\n",
    "\n",
    "The code to generate this data is at the bottom of this workbook"
   ]
  },
  {
   "cell_type": "code",
   "execution_count": 3,
   "id": "7c70db3b-9763-4398-84fc-e45bc961313a",
   "metadata": {},
   "outputs": [
    {
     "data": {
      "application/vnd.jupyter.widget-view+json": {
       "model_id": "58ba34271ff945d7b7f3ce23e0798d85",
       "version_major": 2,
       "version_minor": 0
      },
      "text/plain": [
       "Loading data: 0it [00:00, ?it/s]"
      ]
     },
     "metadata": {},
     "output_type": "display_data"
    }
   ],
   "source": [
    "sensitive_flights = pd.concat(\n",
    "    [\n",
    "        chunk\n",
    "        for chunk in tqdm(\n",
    "            pd.read_csv(\n",
    "                f\"../../data/outputs/outputs_sensitive-flights.csv\",\n",
    "                chunksize=100000,\n",
    "                dtype=str,\n",
    "            ),\n",
    "            desc=\"Loading data\",\n",
    "        )\n",
    "    ]\n",
    ")"
   ]
  },
  {
   "cell_type": "markdown",
   "id": "94645819-5587-419e-a34b-17fdd90b7d1d",
   "metadata": {},
   "source": [
    "## Analysis\n",
    "Their flight paths routinely take them over backyards and residents have spotted the drones above public pools, high schools, hospitals, churches, mosques, immigration law firms and even the city’s Planned Parenthood facility. Privacy advocates argue that the extensive footage captured by the drones makes it difficult to distinguish between flights responding to specific incidents and routine mass surveillance from the sky. The flight data shows that police drones routinely fly over places that even the Department of Homeland Security considers “protected areas”—places where DHS recognizes that enforcement actions might impact “access to essential services or engagement in essential activities.” Such locations, according to the department, include schools, mental healthcare facilities, and social services. \n"
   ]
  },
  {
   "cell_type": "markdown",
   "id": "bbb18330-8d67-44e3-b071-297ed6e4b945",
   "metadata": {},
   "source": [
    "### DHS Defined Areas\n",
    "\n",
    "- https://www.dhs.gov/sites/default/files/publications/21_1027_opa_guidelines-enforcement-actions-in-near-protected-areas.pdf"
   ]
  },
  {
   "cell_type": "code",
   "execution_count": 30,
   "id": "a03f7a23-5ac6-4aa7-a397-78120d09fc78",
   "metadata": {},
   "outputs": [],
   "source": [
    "counts = []\n",
    "for sensitive_location in [\n",
    "    \"close_to_Islamic Center of Chula Vista (Masjid Al Momineen) \",\n",
    "    \"close_to_Islamic Center Of Eastlake\",\n",
    "    \"close_to_Immigration Services\",\n",
    "    \"close_to_Superior Immigration Services \",\n",
    "    \"close_to_MA Immigration Services\",\n",
    "    \"close_to_Victory Immigration Firm\",\n",
    "    \"close_to_USCIS San Diego \",\n",
    "    \"close_to_Planned Parenthood - Chula Vista Health Center\",\n",
    "    \"close_to_Hilltop High\",\n",
    "    \"close_to_vista square elementary\",\n",
    "    \"close_to_Mueller Charter School\",\n",
    "    \"close_to_Bayfront Charter High School\",\n",
    "    \"close_to_Chula Vista Learning Community Charter elementary school\",\n",
    "    \"close_to_Chula Vista High School\",\n",
    "    \"close_to_Harborside Elementary School\",\n",
    "    \"close_to_Palomar High School\",\n",
    "    \"close_to_Palomar Elementary School\",\n",
    "    \"close_to_Moneygram\",\n",
    "]:\n",
    "    counts.append({\"location\":sensitive_location,\"count\": sensitive_flights[sensitive_flights[sensitive_location]==\"True\"].shape[0]})\n",
    "sensitive_remapped = pd.DataFrame(counts)"
   ]
  },
  {
   "cell_type": "code",
   "execution_count": 29,
   "id": "70126a46-cb47-45f0-bb27-358e122c4467",
   "metadata": {},
   "outputs": [
    {
     "data": {
      "text/plain": [
       "<Axes: xlabel='location'>"
      ]
     },
     "execution_count": 29,
     "metadata": {},
     "output_type": "execute_result"
    },
    {
     "data": {
      "image/png": "[encoded data removed]",
      "text/plain": [
       "<Figure size 640x480 with 1 Axes>"
      ]
     },
     "metadata": {},
     "output_type": "display_data"
    }
   ],
   "source": [
    "sensitive_remapped.plot.bar(x='location',y='count')"
   ]
  },
  {
   "cell_type": "markdown",
   "id": "3df2122d-7a30-4f77-9ea6-3f174dcf09fd",
   "metadata": {},
   "source": [
    "### Public Pool\n",
    "Tim Czaja, 63, has lived off Guava Avenue for 12 years, about a half-mile from police headquarters. Pushing his bicycle downtown one morning, Czaja tells WIRED that he sees police drones on a daily basis—one time even lingering above the nearby public pool. According to flight data, drones have flown through the airspace of the public pool where Czaja saw the drone TK times since 2021. Logs published online from each of these flights indicate that the drones started recording as they lifted off the police department’s roof—inadvertently amassing at least TK hours of footage from the area.\n",
    "\n",
    "The pool he is referring to is at the Chula Vista Rec Center (32.638286, -117.082102) - 60730123021012"
   ]
  },
  {
   "cell_type": "markdown",
   "id": "4942fc7e-78ca-4cb8-a067-b89f6b3f8cd1",
   "metadata": {},
   "source": [
    "#### Flights that Passed Through Pools Airspace\n",
    "\n",
    "These are flights that passed within 20 feet of the pool at any altitude"
   ]
  },
  {
   "cell_type": "code",
   "execution_count": 38,
   "id": "b5a3e92f-4d6e-466d-94f8-c027d3476fc8",
   "metadata": {},
   "outputs": [],
   "source": [
    "def calculate_distance(row, target_lat, target_lon):\n",
    "    origin = (float(row[\"latitude\"]), float(row[\"longitude\"]))\n",
    "    target = (float(target_lat), float(target_lon))\n",
    "    distance_in_meters = geopy.distance.geodesic(origin, target).meters\n",
    "    return distance_in_meters * 3.28084  # Convert meters to feet\n",
    "\n",
    "\n",
    "\n",
    "def find_pool_flights(index):\n",
    "\n",
    "    meta = {}\n",
    "    flight_id = flight_ids.iloc[index][\"id\"]\n",
    "    flight = flight_details[flight_details[\"id\"] == flight_id]\n",
    "    meta[\"flight_id\"] = flight_id\n",
    "\n",
    "    flight[f\"close_to_pool\"] = False\n",
    "    flight[f\"distance_to_pool\"] = flight.apply(\n",
    "        calculate_distance, axis=1, args=(\"32.638286\", \"-117.082102\")\n",
    "    )\n",
    "\n",
    "    flight.loc[\n",
    "        flight[f\"distance_to_pool\"] <= 20,\n",
    "        \"close_to_pool\",\n",
    "    ] = True\n",
    "\n",
    "    if flight[flight[f\"close_to_pool\"] == True].shape[0] > 0:\n",
    "        meta[f\"close_to_pool\"] = True\n",
    "    else:\n",
    "        meta[f\"close_to_pool\"] = False\n",
    "\n",
    "    return meta\n",
    "\n",
    "# Apply the function to each row in the DataFrame"
   ]
  },
  {
   "cell_type": "code",
   "execution_count": 39,
   "id": "ea202baf-cf8f-4490-bc9c-683809cd0894",
   "metadata": {},
   "outputs": [
    {
     "data": {
      "application/vnd.jupyter.widget-view+json": {
       "model_id": "a9177262f3d54316b3bae9009de0ea5e",
       "version_major": 2,
       "version_minor": 0
      },
      "text/plain": [
       "  0%|          | 0/8742 [00:00<?, ?it/s]"
      ]
     },
     "metadata": {},
     "output_type": "display_data"
    }
   ],
   "source": [
    "flight_ids = flight_details[[\"id\"]].drop_duplicates()\n",
    "with Pool(50) as pool:\n",
    "\n",
    "    lingering_nd = list(\n",
    "        tqdm(\n",
    "            pool.imap(find_pool_flights, range(0, flight_ids.shape[0])),\n",
    "            total=flight_ids.shape[0],\n",
    "        )\n",
    "    )\n",
    "    lingering_nd = pd.DataFrame(lingering_nd)\n",
    "\n"
   ]
  },
  {
   "cell_type": "code",
   "execution_count": 48,
   "id": "75f1977e-052b-4a71-9ef9-9e5d67e5d24a",
   "metadata": {},
   "outputs": [
    {
     "name": "stderr",
     "output_type": "stream",
     "text": [
      "\u001b[32m2024-05-22 12:53:08.165\u001b[0m | \u001b[1mINFO    \u001b[0m | \u001b[36m__main__\u001b[0m:\u001b[36m<module>\u001b[0m:\u001b[36m2\u001b[0m - \u001b[1mAccording to flight data, drones have flown through the airspace of the public pool where Czaja saw the drone 59 times since 2021\u001b[0m\n"
     ]
    }
   ],
   "source": [
    "close_to_pool = lingering_nd[lingering_nd['close_to_pool']==True]\n",
    "logger.info(f\"According to flight data, drones have flown through the airspace of the public pool where Czaja saw the drone {close_to_pool.shape[0]} times since 2021\")"
   ]
  },
  {
   "cell_type": "markdown",
   "id": "601e495d-021b-4a2d-a180-1d084d32ef43",
   "metadata": {},
   "source": [
    "#### How long did they spend there in total"
   ]
  },
  {
   "cell_type": "code",
   "execution_count": 49,
   "id": "dbef6ffc-c843-4482-87b6-e1417739bd57",
   "metadata": {},
   "outputs": [
    {
     "data": {
      "application/vnd.jupyter.widget-view+json": {
       "model_id": "fd3bf15792b84a7e866597be1f0a02a6",
       "version_major": 2,
       "version_minor": 0
      },
      "text/plain": [
       "Loading data: 0it [00:00, ?it/s]"
      ]
     },
     "metadata": {},
     "output_type": "display_data"
    }
   ],
   "source": [
    "flight_blocks = pd.concat(\n",
    "    [\n",
    "        chunk\n",
    "        for chunk in tqdm(\n",
    "            pd.read_csv(\n",
    "                f\"../../data/outputs/outputs_drone-seconds-block-count-per-flight.csv\", chunksize=100000, dtype=str\n",
    "            ),\n",
    "            desc=\"Loading data\",\n",
    "        )\n",
    "    ]\n",
    ")\n"
   ]
  },
  {
   "cell_type": "code",
   "execution_count": 64,
   "id": "771a0a3f-6a65-48b6-8f99-90979aa18c47",
   "metadata": {},
   "outputs": [
    {
     "name": "stderr",
     "output_type": "stream",
     "text": [
      "\u001b[32m2024-05-22 13:10:05.480\u001b[0m | \u001b[1mINFO    \u001b[0m | \u001b[36m__main__\u001b[0m:\u001b[36m<module>\u001b[0m:\u001b[36m3\u001b[0m - \u001b[1mThese flights amassed 0.9233333333333333 hours of footage\u001b[0m\n"
     ]
    }
   ],
   "source": [
    "pool_blocks = flight_blocks[flight_blocks['id'].isin(close_to_pool['flight_id'])]\n",
    "\n",
    "logger.info(f\"These flights amassed {pool_blocks[pool_blocks['GEOID20']=='060730123021012']['seconds'].astype(int).sum()/3600} hours of footage\")\n"
   ]
  },
  {
   "cell_type": "markdown",
   "id": "4f331958-0192-4b68-b167-d5469ac89f3a",
   "metadata": {},
   "source": [
    "#### For Fact Check"
   ]
  },
  {
   "cell_type": "code",
   "execution_count": 72,
   "id": "d9034d22-9e26-41bf-8757-04feddbe5503",
   "metadata": {},
   "outputs": [],
   "source": [
    "t = pool_blocks[pool_blocks['GEOID20']=='060730123021012']\n",
    "t['seconds'] = t['seconds'].astype(int)\n",
    "t.sort_values('seconds').to_csv('./close-to-pool.csv')"
   ]
  },
  {
   "cell_type": "markdown",
   "id": "b605b5f8-7657-4a35-813a-856b3eb6f9a9",
   "metadata": {},
   "source": [
    "### Chula Vista High \n",
    "\n",
    "About a mile south of the public pool is Chula Vista High School. In the last two years, its students have been exposed to approximately four hours of aerial surveillance, as drones were dispatched to 150 incidents that took them through the airspace of the campus. While many of these dispatches were unrelated to public safety incidents at the school, WIRED’s analysis shows that drones were dispatched to Chula Vista High to assist with welfare checks, missing persons, and fights. \n"
   ]
  },
  {
   "cell_type": "code",
   "execution_count": 80,
   "id": "0e417701-3990-4cce-bdf4-cb4d1ffe4836",
   "metadata": {},
   "outputs": [
    {
     "name": "stderr",
     "output_type": "stream",
     "text": [
      "\u001b[32m2024-05-22 13:39:33.940\u001b[0m | \u001b[1mINFO    \u001b[0m | \u001b[36m__main__\u001b[0m:\u001b[36m<module>\u001b[0m:\u001b[36m5\u001b[0m - \u001b[1mDrones were disatched to 151 incidents that took them over the airspace of the school\u001b[0m\n",
      "\u001b[32m2024-05-22 13:39:33.941\u001b[0m | \u001b[1mINFO    \u001b[0m | \u001b[36m__main__\u001b[0m:\u001b[36m<module>\u001b[0m:\u001b[36m6\u001b[0m - \u001b[1mThese flights amassed 3.8405555555555555 hours of footage\u001b[0m\n"
     ]
    }
   ],
   "source": [
    "school_flight_blocks = flight_blocks[(flight_blocks['GEOID20']=='060730130003001')]\n",
    "school_flights_ids = school_flight_blocks['id'].drop_duplicates().values\n",
    "school_flights = cv_flights[cv_flights['id'].isin(school_flights_ids)]\n",
    "\n",
    "logger.info(f\"Drones were disatched to {school_flights.shape[0]} incidents that took them over the airspace of the school\")\n",
    "logger.info(f\"These flights amassed {school_flight_blocks['seconds'].astype(int).sum()/3600} hours of footage\")\n",
    "\n"
   ]
  },
  {
   "cell_type": "markdown",
   "id": "128c6308-df07-4401-9f0b-20a7b7fc4b9b",
   "metadata": {},
   "source": [
    "## Build Sensitive Flight Data"
   ]
  },
  {
   "cell_type": "code",
   "execution_count": 5,
   "id": "684ae7f2-ff6d-4d87-9ba1-ba5a91504460",
   "metadata": {},
   "outputs": [],
   "source": [
    "locations[\"lat\"] = locations[\"Coordinates\"].apply(lambda x: x.split(\",\")[0].strip())\n",
    "locations[\"lon\"] = locations[\"Coordinates\"].apply(lambda x: x.split(\",\")[1].strip())\n",
    "\n",
    "flight_details = flight_details[flight_details[\"id\"].isin(cv_flights[\"id\"])].copy()"
   ]
  },
  {
   "cell_type": "code",
   "execution_count": 31,
   "id": "374ef4c4-7b0d-4419-930d-0a65e8c90ef8",
   "metadata": {},
   "outputs": [],
   "source": [
    "def calculate_distance(row, target_lat, target_lon):\n",
    "    origin = (float(row[\"latitude\"]), float(row[\"longitude\"]))\n",
    "    target = (float(target_lat), float(target_lon))\n",
    "    distance_in_meters = geopy.distance.geodesic(origin, target).meters\n",
    "    return distance_in_meters * 3.28084  # Convert meters to feet\n",
    "\n",
    "\n",
    "# Apply the function to each row in the DataFrame"
   ]
  },
  {
   "cell_type": "code",
   "execution_count": 32,
   "id": "80f57308-6357-47d5-879e-d348e45a5850",
   "metadata": {},
   "outputs": [],
   "source": [
    "flight_ids = flight_details[[\"id\"]].drop_duplicates()\n",
    "\n",
    "\n",
    "def find_sensitive_flights(index):\n",
    "\n",
    "    meta = {}\n",
    "    flight_id = flight_ids.iloc[index][\"id\"]\n",
    "    flight = flight_details[flight_details[\"id\"] == flight_id]\n",
    "    meta[\"flight_id\"] = flight_id\n",
    "    for index, t_row in locations.iterrows():\n",
    "        flight[f\"close_to_{t_row['Location']}\"] = False\n",
    "        flight[f\"distance_to_{t_row['Location']}\"] = flight.apply(\n",
    "            calculate_distance, axis=1, args=(t_row[\"lat\"], t_row[\"lon\"])\n",
    "        )\n",
    "\n",
    "        flight.loc[\n",
    "            flight[f\"distance_to_{t_row['Location']}\"] <= 20,\n",
    "            f\"close_to_{t_row['Location']}\",\n",
    "        ] = True\n",
    "\n",
    "        if flight[flight[f\"close_to_{t_row['Location']}\"] == True].shape[0] > 0:\n",
    "            meta[f\"close_to_{t_row['Location']}\"] = True\n",
    "        else:\n",
    "            meta[f\"close_to_{t_row['Location']}\"] = False\n",
    "\n",
    "    return meta"
   ]
  },
  {
   "cell_type": "code",
   "execution_count": 30,
   "id": "8cdd59de-395a-4739-a698-d476d52eba50",
   "metadata": {},
   "outputs": [
    {
     "data": {
      "text/plain": [
       "{'flight_id': '05e887e984fedb291cb1af80fb707f6e',\n",
       " 'close_to_Islamic Center of Chula Vista (Masjid Al Momineen) ': False,\n",
       " 'close_to_Islamic Center Of Eastlake': False,\n",
       " 'close_to_Immigration Services': False,\n",
       " 'close_to_Superior Immigration Services ': False,\n",
       " 'close_to_MA Immigration Services': False,\n",
       " 'close_to_Victory Immigration Firm': False,\n",
       " 'close_to_USCIS San Diego ': False,\n",
       " 'close_to_Planned Parenthood - Chula Vista Health Center': False,\n",
       " 'close_to_Hilltop High': False,\n",
       " 'close_to_vista square elementary': False,\n",
       " 'close_to_Mueller Charter School': False,\n",
       " 'close_to_Bayfront Charter High School': False,\n",
       " 'close_to_Chula Vista Learning Community Charter elementary school': False,\n",
       " 'close_to_Chula Vista High School': True,\n",
       " 'close_to_Harborside Elementary School': False,\n",
       " 'close_to_Palomar High School': False,\n",
       " 'close_to_Palomar Elementary School': False,\n",
       " 'close_to_Moneygram': False}"
      ]
     },
     "execution_count": 30,
     "metadata": {},
     "output_type": "execute_result"
    }
   ],
   "source": [
    "find_sensitive_flights(5217)"
   ]
  },
  {
   "cell_type": "code",
   "execution_count": 73,
   "id": "369faf01-7b99-48fe-a8f8-379b26d7c21e",
   "metadata": {},
   "outputs": [
    {
     "data": {
      "application/vnd.jupyter.widget-view+json": {
       "model_id": "01b30e7d37cb4646a4b187f15494d44b",
       "version_major": 2,
       "version_minor": 0
      },
      "text/plain": [
       "  0%|          | 0/8742 [00:00<?, ?it/s]"
      ]
     },
     "metadata": {},
     "output_type": "display_data"
    }
   ],
   "source": [
    "flight_ids = flight_details[[\"id\"]].drop_duplicates()\n",
    "with Pool(50) as pool:\n",
    "\n",
    "    lingering_nd = list(\n",
    "        tqdm(\n",
    "            pool.imap(find_sensitive_flights, range(0, flight_ids.shape[0])),\n",
    "            total=flight_ids.shape[0],\n",
    "        )\n",
    "    )\n",
    "    lingering_nd = pd.DataFrame(lingering_nd)"
   ]
  },
  {
   "cell_type": "code",
   "execution_count": 14,
   "id": "f8c63eac-52dc-4de2-a5af-05eb9956fd86",
   "metadata": {},
   "outputs": [],
   "source": [
    "def build_paths(array_of_ids):\n",
    "    compiled_flights = []\n",
    "    for flight_id in array_of_ids:\n",
    "\n",
    "        flight_path = gpd.read_file(\n",
    "            f\"/Volumes/easystore/Drones/flights/kml/{flight_id}.kml\", driver=\"KML\"\n",
    "        )\n",
    "        flight_path[\"id\"] = flight_id\n",
    "        compiled_flights.append(flight_path)\n",
    "    return pd.concat(compiled_flights)"
   ]
  },
  {
   "cell_type": "code",
   "execution_count": 15,
   "id": "a005677c-42e5-48ba-aade-f7d5c969b4e7",
   "metadata": {},
   "outputs": [
    {
     "data": {
      "application/json": {
       "ascii": false,
       "bar_format": null,
       "colour": null,
       "elapsed": 0.051529884338378906,
       "initial": 0,
       "n": 0,
       "ncols": null,
       "nrows": 25,
       "postfix": null,
       "prefix": "Loading data",
       "rate": null,
       "total": null,
       "unit": "it",
       "unit_divisor": 1000,
       "unit_scale": false
      },
      "application/vnd.jupyter.widget-view+json": {
       "model_id": "6468eb4d0fa246ae8fb6fd11d67d64a2",
       "version_major": 2,
       "version_minor": 0
      },
      "text/plain": [
       "Loading data: 0it [00:00, ?it/s]"
      ]
     },
     "metadata": {},
     "output_type": "display_data"
    }
   ],
   "source": [
    "geocodio_flights = pd.concat(\n",
    "    [\n",
    "        chunk\n",
    "        for chunk in tqdm(\n",
    "            pd.read_csv(\n",
    "                f\"{storage}/geocodio/all-flights-manifest_geocodio.csv\",\n",
    "                chunksize=100000,\n",
    "                dtype=str,\n",
    "            ),\n",
    "            desc=\"Loading data\",\n",
    "        )\n",
    "    ]\n",
    ")\n",
    "# a = pd.read_csv('../../data/outputs/outputs_cv-flight-manifest.csv')"
   ]
  },
  {
   "cell_type": "code",
   "execution_count": 16,
   "id": "07fb9fe2-f010-47eb-b6c5-771c14df70ae",
   "metadata": {},
   "outputs": [
    {
     "data": {
      "text/html": [
       "<div>\n",
       "<style scoped>\n",
       "    .dataframe tbody tr th:only-of-type {\n",
       "        vertical-align: middle;\n",
       "    }\n",
       "\n",
       "    .dataframe tbody tr th {\n",
       "        vertical-align: top;\n",
       "    }\n",
       "\n",
       "    .dataframe thead th {\n",
       "        text-align: right;\n",
       "    }\n",
       "</style>\n",
       "<table border=\"1\" class=\"dataframe\">\n",
       "  <thead>\n",
       "    <tr style=\"text-align: right;\">\n",
       "      <th></th>\n",
       "      <th>lat_map</th>\n",
       "      <th>lon_map</th>\n",
       "      <th>time</th>\n",
       "      <th>id</th>\n",
       "      <th>date</th>\n",
       "      <th>time_s</th>\n",
       "      <th>address_map</th>\n",
       "      <th>incident_id</th>\n",
       "      <th>type</th>\n",
       "      <th>department</th>\n",
       "      <th>...</th>\n",
       "      <th>Census Block Group</th>\n",
       "      <th>Full FIPS (block)</th>\n",
       "      <th>Full FIPS (tract)</th>\n",
       "      <th>Metro/Micro Statistical Area Name</th>\n",
       "      <th>Metro/Micro Statistical Area Code</th>\n",
       "      <th>Metro/Micro Statistical Area Type</th>\n",
       "      <th>Combined Statistical Area Name</th>\n",
       "      <th>Combined Statistical Area Code</th>\n",
       "      <th>Metropolitan Division Area Name</th>\n",
       "      <th>Metropolitan Division Area Code</th>\n",
       "    </tr>\n",
       "  </thead>\n",
       "  <tbody>\n",
       "    <tr>\n",
       "      <th>1560</th>\n",
       "      <td>32.5930563443194</td>\n",
       "      <td>-117.074888979111</td>\n",
       "      <td>11:38am</td>\n",
       "      <td>58de5d94143d8527cc132af53a9aa87e</td>\n",
       "      <td>7-23-21</td>\n",
       "      <td>11:38am</td>\n",
       "      <td>1700 Broadway</td>\n",
       "      <td>NaN</td>\n",
       "      <td>Hot Team Assist</td>\n",
       "      <td>cvpd</td>\n",
       "      <td>...</td>\n",
       "      <td>1</td>\n",
       "      <td>060730132051017</td>\n",
       "      <td>06073013205</td>\n",
       "      <td>San Diego-Chula Vista-Carlsbad, CA</td>\n",
       "      <td>41740</td>\n",
       "      <td>metropolitan</td>\n",
       "      <td>NaN</td>\n",
       "      <td>NaN</td>\n",
       "      <td>NaN</td>\n",
       "      <td>NaN</td>\n",
       "    </tr>\n",
       "    <tr>\n",
       "      <th>2836</th>\n",
       "      <td>32.61736464</td>\n",
       "      <td>-117.07162882</td>\n",
       "      <td>1:46pm</td>\n",
       "      <td>ed246d91644ba93bcf07893f9c27a44d</td>\n",
       "      <td>9-14-21</td>\n",
       "      <td>1:46pm</td>\n",
       "      <td>1700 Broadway</td>\n",
       "      <td>CVL77376</td>\n",
       "      <td>Subject Causing Disturbance</td>\n",
       "      <td>cvpd</td>\n",
       "      <td>...</td>\n",
       "      <td>2</td>\n",
       "      <td>060730131022000</td>\n",
       "      <td>06073013102</td>\n",
       "      <td>San Diego-Chula Vista-Carlsbad, CA</td>\n",
       "      <td>41740</td>\n",
       "      <td>metropolitan</td>\n",
       "      <td>NaN</td>\n",
       "      <td>NaN</td>\n",
       "      <td>NaN</td>\n",
       "      <td>NaN</td>\n",
       "    </tr>\n",
       "    <tr>\n",
       "      <th>2837</th>\n",
       "      <td>32.6355209</td>\n",
       "      <td>-117.0731106</td>\n",
       "      <td>1:35pm</td>\n",
       "      <td>a9e795daf6e3f22f45aa3c98cd3f8315</td>\n",
       "      <td>9-14-21</td>\n",
       "      <td>1:35pm</td>\n",
       "      <td>1700 Broadway</td>\n",
       "      <td>CVL77376</td>\n",
       "      <td>Subject Causing Disturbance</td>\n",
       "      <td>cvpd</td>\n",
       "      <td>...</td>\n",
       "      <td>2</td>\n",
       "      <td>060730128002003</td>\n",
       "      <td>06073012800</td>\n",
       "      <td>San Diego-Chula Vista-Carlsbad, CA</td>\n",
       "      <td>41740</td>\n",
       "      <td>metropolitan</td>\n",
       "      <td>NaN</td>\n",
       "      <td>NaN</td>\n",
       "      <td>NaN</td>\n",
       "      <td>NaN</td>\n",
       "    </tr>\n",
       "    <tr>\n",
       "      <th>3139</th>\n",
       "      <td>32.6174123</td>\n",
       "      <td>-117.07167632</td>\n",
       "      <td>8:16am</td>\n",
       "      <td>29b1f6e179d9564bfac69b9a187c7ab6</td>\n",
       "      <td>1-26-22</td>\n",
       "      <td>8:16am</td>\n",
       "      <td>1700 Broadway</td>\n",
       "      <td>CVL7019</td>\n",
       "      <td>DUI</td>\n",
       "      <td>cvpd</td>\n",
       "      <td>...</td>\n",
       "      <td>2</td>\n",
       "      <td>060730131022000</td>\n",
       "      <td>06073013102</td>\n",
       "      <td>San Diego-Chula Vista-Carlsbad, CA</td>\n",
       "      <td>41740</td>\n",
       "      <td>metropolitan</td>\n",
       "      <td>NaN</td>\n",
       "      <td>NaN</td>\n",
       "      <td>NaN</td>\n",
       "      <td>NaN</td>\n",
       "    </tr>\n",
       "    <tr>\n",
       "      <th>6744</th>\n",
       "      <td>32.61742367</td>\n",
       "      <td>-117.07167327</td>\n",
       "      <td>2:44pm</td>\n",
       "      <td>9b0cdb6dbb05c3d58228ec011f4d59f1</td>\n",
       "      <td>9-27-22</td>\n",
       "      <td>2:44pm</td>\n",
       "      <td>1700 Broadway</td>\n",
       "      <td>CV2212713</td>\n",
       "      <td>Stolen vehicle</td>\n",
       "      <td>cvpd</td>\n",
       "      <td>...</td>\n",
       "      <td>2</td>\n",
       "      <td>060730131022000</td>\n",
       "      <td>06073013102</td>\n",
       "      <td>San Diego-Chula Vista-Carlsbad, CA</td>\n",
       "      <td>41740</td>\n",
       "      <td>metropolitan</td>\n",
       "      <td>NaN</td>\n",
       "      <td>NaN</td>\n",
       "      <td>NaN</td>\n",
       "      <td>NaN</td>\n",
       "    </tr>\n",
       "    <tr>\n",
       "      <th>10147</th>\n",
       "      <td>32.61740644</td>\n",
       "      <td>-117.07166125</td>\n",
       "      <td>10:59am</td>\n",
       "      <td>057d62256c1263cc8c35d72250787527</td>\n",
       "      <td>7-13-23</td>\n",
       "      <td>10:59am</td>\n",
       "      <td>1300 Third Av / 1700 Broadway</td>\n",
       "      <td>L059083/ L059088</td>\n",
       "      <td>Disorderly Person/ Impaired Driver</td>\n",
       "      <td>cvpd</td>\n",
       "      <td>...</td>\n",
       "      <td>2</td>\n",
       "      <td>060730131022000</td>\n",
       "      <td>06073013102</td>\n",
       "      <td>San Diego-Chula Vista-Carlsbad, CA</td>\n",
       "      <td>41740</td>\n",
       "      <td>metropolitan</td>\n",
       "      <td>NaN</td>\n",
       "      <td>NaN</td>\n",
       "      <td>NaN</td>\n",
       "      <td>NaN</td>\n",
       "    </tr>\n",
       "  </tbody>\n",
       "</table>\n",
       "<p>6 rows × 41 columns</p>\n",
       "</div>"
      ],
      "text/plain": [
       "                lat_map            lon_map     time  \\\n",
       "1560   32.5930563443194  -117.074888979111  11:38am   \n",
       "2836        32.61736464      -117.07162882   1:46pm   \n",
       "2837         32.6355209       -117.0731106   1:35pm   \n",
       "3139         32.6174123      -117.07167632   8:16am   \n",
       "6744        32.61742367      -117.07167327   2:44pm   \n",
       "10147       32.61740644      -117.07166125  10:59am   \n",
       "\n",
       "                                     id     date   time_s  \\\n",
       "1560   58de5d94143d8527cc132af53a9aa87e  7-23-21  11:38am   \n",
       "2836   ed246d91644ba93bcf07893f9c27a44d  9-14-21   1:46pm   \n",
       "2837   a9e795daf6e3f22f45aa3c98cd3f8315  9-14-21   1:35pm   \n",
       "3139   29b1f6e179d9564bfac69b9a187c7ab6  1-26-22   8:16am   \n",
       "6744   9b0cdb6dbb05c3d58228ec011f4d59f1  9-27-22   2:44pm   \n",
       "10147  057d62256c1263cc8c35d72250787527  7-13-23  10:59am   \n",
       "\n",
       "                         address_map       incident_id  \\\n",
       "1560                   1700 Broadway               NaN   \n",
       "2836                   1700 Broadway          CVL77376   \n",
       "2837                   1700 Broadway          CVL77376   \n",
       "3139                   1700 Broadway           CVL7019   \n",
       "6744                   1700 Broadway         CV2212713   \n",
       "10147  1300 Third Av / 1700 Broadway  L059083/ L059088   \n",
       "\n",
       "                                     type department  ... Census Block Group  \\\n",
       "1560                      Hot Team Assist       cvpd  ...                  1   \n",
       "2836          Subject Causing Disturbance       cvpd  ...                  2   \n",
       "2837          Subject Causing Disturbance       cvpd  ...                  2   \n",
       "3139                                  DUI       cvpd  ...                  2   \n",
       "6744                      Stolen vehicle        cvpd  ...                  2   \n",
       "10147  Disorderly Person/ Impaired Driver       cvpd  ...                  2   \n",
       "\n",
       "      Full FIPS (block) Full FIPS (tract)   Metro/Micro Statistical Area Name  \\\n",
       "1560    060730132051017       06073013205  San Diego-Chula Vista-Carlsbad, CA   \n",
       "2836    060730131022000       06073013102  San Diego-Chula Vista-Carlsbad, CA   \n",
       "2837    060730128002003       06073012800  San Diego-Chula Vista-Carlsbad, CA   \n",
       "3139    060730131022000       06073013102  San Diego-Chula Vista-Carlsbad, CA   \n",
       "6744    060730131022000       06073013102  San Diego-Chula Vista-Carlsbad, CA   \n",
       "10147   060730131022000       06073013102  San Diego-Chula Vista-Carlsbad, CA   \n",
       "\n",
       "      Metro/Micro Statistical Area Code Metro/Micro Statistical Area Type  \\\n",
       "1560                              41740                      metropolitan   \n",
       "2836                              41740                      metropolitan   \n",
       "2837                              41740                      metropolitan   \n",
       "3139                              41740                      metropolitan   \n",
       "6744                              41740                      metropolitan   \n",
       "10147                             41740                      metropolitan   \n",
       "\n",
       "      Combined Statistical Area Name Combined Statistical Area Code  \\\n",
       "1560                             NaN                            NaN   \n",
       "2836                             NaN                            NaN   \n",
       "2837                             NaN                            NaN   \n",
       "3139                             NaN                            NaN   \n",
       "6744                             NaN                            NaN   \n",
       "10147                            NaN                            NaN   \n",
       "\n",
       "      Metropolitan Division Area Name Metropolitan Division Area Code  \n",
       "1560                              NaN                             NaN  \n",
       "2836                              NaN                             NaN  \n",
       "2837                              NaN                             NaN  \n",
       "3139                              NaN                             NaN  \n",
       "6744                              NaN                             NaN  \n",
       "10147                             NaN                             NaN  \n",
       "\n",
       "[6 rows x 41 columns]"
      ]
     },
     "execution_count": 16,
     "metadata": {},
     "output_type": "execute_result"
    }
   ],
   "source": [
    "geocodio_flights[\n",
    "    (geocodio_flights[\"address_map\"].astype(str).str.contains(\"1700\", case=False))\n",
    "    & (geocodio_flights[\"address_map\"].astype(str).str.contains(\"broadway\", case=False))\n",
    "]"
   ]
  },
  {
   "cell_type": "code",
   "execution_count": null,
   "id": "cc75860f-bfb0-442c-99a5-5aef8d50e799",
   "metadata": {},
   "outputs": [],
   "source": [
    "# pool = 060730123021012\n",
    "\n",
    "\n",
    "060730127003001"
   ]
  },
  {
   "cell_type": "code",
   "execution_count": 55,
   "id": "faddc90d-5e5d-42d2-832f-c72eaffd0d12",
   "metadata": {},
   "outputs": [],
   "source": [
    "lede = per_flight_block_seconds[\n",
    "    (per_flight_block_seconds[\"GEOID20\"] == \"060730132063003\")\n",
    "]\n",
    "flights = []\n",
    "for f in lede[\"id\"].drop_duplicates().values:\n",
    "    flight = per_flight_block_seconds[per_flight_block_seconds[\"id\"] == f]\n",
    "    flight = flight[flight[\"GEOID20\"] == \"060730127003001\"]\n",
    "    if flight.shape[0] > 0:\n",
    "        flights.append(flight)"
   ]
  },
  {
   "cell_type": "code",
   "execution_count": 57,
   "id": "07605b4f-c8c7-4090-963c-ddb049f45d4f",
   "metadata": {},
   "outputs": [
    {
     "data": {
      "text/html": [
       "<div>\n",
       "<style scoped>\n",
       "    .dataframe tbody tr th:only-of-type {\n",
       "        vertical-align: middle;\n",
       "    }\n",
       "\n",
       "    .dataframe tbody tr th {\n",
       "        vertical-align: top;\n",
       "    }\n",
       "\n",
       "    .dataframe thead th {\n",
       "        text-align: right;\n",
       "    }\n",
       "</style>\n",
       "<table border=\"1\" class=\"dataframe\">\n",
       "  <thead>\n",
       "    <tr style=\"text-align: right;\">\n",
       "      <th></th>\n",
       "      <th>id</th>\n",
       "      <th>GEOID20</th>\n",
       "      <th>seconds</th>\n",
       "      <th>STATEFP20</th>\n",
       "      <th>COUNTYFP20</th>\n",
       "      <th>TRACTCE20</th>\n",
       "      <th>BLOCKCE20</th>\n",
       "      <th>NAME20</th>\n",
       "      <th>MTFCC20</th>\n",
       "      <th>UR20</th>\n",
       "      <th>...</th>\n",
       "      <th>UATYPE20</th>\n",
       "      <th>FUNCSTAT20</th>\n",
       "      <th>ALAND20</th>\n",
       "      <th>AWATER20</th>\n",
       "      <th>INTPTLAT20</th>\n",
       "      <th>INTPTLON20</th>\n",
       "      <th>HOUSING20</th>\n",
       "      <th>POP20</th>\n",
       "      <th>geometry</th>\n",
       "      <th>len</th>\n",
       "    </tr>\n",
       "  </thead>\n",
       "  <tbody>\n",
       "    <tr>\n",
       "      <th>40868</th>\n",
       "      <td>5db1d2295546e6d0d2726877c1c081e2</td>\n",
       "      <td>060730127003001</td>\n",
       "      <td>50</td>\n",
       "      <td>6</td>\n",
       "      <td>73</td>\n",
       "      <td>12700</td>\n",
       "      <td>3001</td>\n",
       "      <td>Block 3001</td>\n",
       "      <td>G5040</td>\n",
       "      <td>U</td>\n",
       "      <td>...</td>\n",
       "      <td>U</td>\n",
       "      <td>S</td>\n",
       "      <td>40518</td>\n",
       "      <td>0</td>\n",
       "      <td>32.6365542</td>\n",
       "      <td>-117.0848466</td>\n",
       "      <td>81</td>\n",
       "      <td>239</td>\n",
       "      <td>POLYGON ((-117.087049 32.636423, -117.08691 32...</td>\n",
       "      <td>15</td>\n",
       "    </tr>\n",
       "  </tbody>\n",
       "</table>\n",
       "<p>1 rows × 21 columns</p>\n",
       "</div>"
      ],
      "text/plain": [
       "                                     id          GEOID20 seconds STATEFP20  \\\n",
       "40868  5db1d2295546e6d0d2726877c1c081e2  060730127003001      50         6   \n",
       "\n",
       "      COUNTYFP20 TRACTCE20 BLOCKCE20      NAME20 MTFCC20 UR20  ... UATYPE20  \\\n",
       "40868         73     12700      3001  Block 3001   G5040    U  ...        U   \n",
       "\n",
       "      FUNCSTAT20 ALAND20 AWATER20  INTPTLAT20    INTPTLON20 HOUSING20 POP20  \\\n",
       "40868          S   40518        0  32.6365542  -117.0848466        81   239   \n",
       "\n",
       "                                                geometry len  \n",
       "40868  POLYGON ((-117.087049 32.636423, -117.08691 32...  15  \n",
       "\n",
       "[1 rows x 21 columns]"
      ]
     },
     "execution_count": 57,
     "metadata": {},
     "output_type": "execute_result"
    }
   ],
   "source": []
  },
  {
   "cell_type": "code",
   "execution_count": 18,
   "id": "cc7acb45-900a-46f5-bde1-11008135390d",
   "metadata": {},
   "outputs": [],
   "source": [
    "pp_paths = build_paths([\"29b1f6e179d9564bfac69b9a187c7ab6\"])\n",
    "pp_paths = pd.merge(pp_paths, geocodio_flights, how=\"left\", on=\"id\")\n",
    "\n",
    "pp_paths[[\"id\", \"geometry\", \"lat_map\", \"lon_map\", \"type\"]].to_csv(\n",
    "    \"./public_pool.csv\", index=False\n",
    ")\n",
    "# pp_paths[['geometry','id']].drop_duplicates().to_csv('./low-paths.csv',index=False)"
   ]
  },
  {
   "cell_type": "code",
   "execution_count": 43,
   "id": "6d526b9d-f229-4fcc-bd3a-abd003403a9b",
   "metadata": {},
   "outputs": [],
   "source": [
    "flight_details[flight_details[\"id\"] == \"4342f9e237e48c34ddd15271a0ed1dc9\"][\n",
    "    [\"sequence\", \"latitude\", \"longitude\", \"altitude\"]\n",
    "].to_csv(\"./flight.csv\", index=False)"
   ]
  }
 ],
 "metadata": {
  "kernelspec": {
   "display_name": "Python 3 (ipykernel)",
   "language": "python",
   "name": "python3"
  },
  "language_info": {
   "codemirror_mode": {
    "name": "ipython",
    "version": 3
   },
   "file_extension": ".py",
   "mimetype": "text/x-python",
   "name": "python",
   "nbconvert_exporter": "python",
   "pygments_lexer": "ipython3",
   "version": "3.10.12"
  }
 },
 "nbformat": 4,
 "nbformat_minor": 5
}
