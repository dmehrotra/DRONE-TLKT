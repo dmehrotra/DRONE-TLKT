{
 "cells": [
  {
   "cell_type": "markdown",
   "id": "1409756e-7e75-4794-86e6-1b589d2fec74",
   "metadata": {},
   "source": [
    "## Vistan Apartments\n",
    "Few places in Chula Vista have had drones dispatched to them more frequently than the Vistan Apartments on the West side. The complex, in one of the poorest neighborhoods in Chula Vista, is populated largely by Black and Latine families, many of whom are immigrants. Over the last two years, CVPD drones have spent a total of TK hours flying above the Vistan Apartments and have been dispatched to respond to incidents ranging from indecent exposure to even an attempted kidnapping. \n",
    "\n",
    "Vistan Apartments resident Jesus Lopez says that one afternoon, while he was away, a man banged loudly on his front door. When his three-year-old opened it, the stranger reached in and tried to grab his kid. According to Lopez, his babysitter quickly yanked the child inside, slammed the door, and dialed 911. Within minutes, Lopez says, a police drone arrived to search for the suspect. \n",
    "\n",
    "The department did not find the individual, but, nevertheless, Lopez—who spoke to WIRED through his locked door, because he doesn't open it for people he doesn’t recognize anymore—says that police drones make him feel safer. "
   ]
  },
  {
   "cell_type": "code",
   "execution_count": 1,
   "id": "5f1dc3be-6d32-408a-b88a-eccb77cadac8",
   "metadata": {},
   "outputs": [
    {
     "data": {
      "application/vnd.jupyter.widget-view+json": {
       "model_id": "639b652acfe44137849aeae31b4d775a",
       "version_major": 2,
       "version_minor": 0
      },
      "text/plain": [
       "Loading data: 0it [00:00, ?it/s]"
      ]
     },
     "metadata": {},
     "output_type": "display_data"
    },
    {
     "data": {
      "application/vnd.jupyter.widget-view+json": {
       "model_id": "86b81888aa584006ae5bb41e2f4857eb",
       "version_major": 2,
       "version_minor": 0
      },
      "text/plain": [
       "Loading data: 0it [00:00, ?it/s]"
      ]
     },
     "metadata": {},
     "output_type": "display_data"
    },
    {
     "data": {
      "application/vnd.jupyter.widget-view+json": {
       "model_id": "996f818bab394620a8a096cc70a2027b",
       "version_major": 2,
       "version_minor": 0
      },
      "text/plain": [
       "Loading data: 0it [00:00, ?it/s]"
      ]
     },
     "metadata": {},
     "output_type": "display_data"
    },
    {
     "data": {
      "application/vnd.jupyter.widget-view+json": {
       "model_id": "f5b3726c4f0040b9a71a123abd534f83",
       "version_major": 2,
       "version_minor": 0
      },
      "text/plain": [
       "Loading data: 0it [00:00, ?it/s]"
      ]
     },
     "metadata": {},
     "output_type": "display_data"
    }
   ],
   "source": [
    "import datetime\n",
    "import os\n",
    "\n",
    "import fiona\n",
    "import geopandas as gpd\n",
    "import geopy.distance\n",
    "import gpxpy\n",
    "import numpy as np\n",
    "import pandas as pd\n",
    "from multiprocess.pool import Pool\n",
    "from tqdm.notebook import tqdm, trange\n",
    "from loguru import logger\n",
    "\n",
    "fiona.drvsupport.supported_drivers['kml'] = 'rw'\n",
    "fiona.drvsupport.supported_drivers['KML'] = 'rw'\n",
    "storage = \"/Volumes/easystore/Drones\"\n",
    "coi=['Incident No.','Description','cfs-date','Block Location','Latitude','Longitude','drone-id']\n",
    "\n",
    "calls_for_service = pd.concat(\n",
    "    [\n",
    "        chunk\n",
    "        for chunk in tqdm(\n",
    "            pd.read_csv(\n",
    "                f\"../../data/outputs/outputs_calls-for-service-with-census-data.csv\",\n",
    "                chunksize=100000,\n",
    "                dtype=str,\n",
    "            ),\n",
    "            desc=\"Loading data\",\n",
    "        )\n",
    "    ]\n",
    ")\n",
    "\n",
    "flight_blocks = pd.concat(\n",
    "    [\n",
    "        chunk\n",
    "        for chunk in tqdm(\n",
    "            pd.read_csv(\n",
    "                f\"../../data/outputs/outputs_drone-seconds-block-count-per-flight.csv\", chunksize=100000, dtype=str\n",
    "            ),\n",
    "            desc=\"Loading data\",\n",
    "        )\n",
    "    ]\n",
    ")\n",
    "cv_blocks = pd.concat(\n",
    "    [\n",
    "        chunk\n",
    "        for chunk in tqdm(\n",
    "            pd.read_csv(\n",
    "                f\"../../data/mapping/cv-blocks.csv\", chunksize=100000, dtype=str\n",
    "            ),\n",
    "            desc=\"Loading data\",\n",
    "        )\n",
    "    ]\n",
    ")\n",
    "cv_blocks['GEOID20'] = cv_blocks['GEOID20'].apply(lambda x: x[3:])\n",
    "cv_flights = pd.concat(\n",
    "    [\n",
    "        chunk\n",
    "        for chunk in tqdm(\n",
    "            pd.read_csv(\n",
    "                f\"../../data/outputs/outputs_cv-flight-manifest.csv\", chunksize=100000, dtype=str\n",
    "            ),\n",
    "            desc=\"Loading data\",\n",
    "        )\n",
    "    ]\n",
    ")"
   ]
  },
  {
   "cell_type": "code",
   "execution_count": 2,
   "id": "ac88afa5-7e7b-4da9-84b1-1f6d0b895271",
   "metadata": {},
   "outputs": [
    {
     "name": "stderr",
     "output_type": "stream",
     "text": [
      "/var/folders/4c/vsvqyby107s_6_0qp0lykjwm0000gn/T/ipykernel_4566/2413963456.py:2: UserWarning: Could not infer format, so each element will be parsed individually, falling back to `dateutil`. To ensure parsing is consistent and as-expected, please specify a format.\n",
      "  cv_flights[\"drone-date\"] =  pd.to_datetime(cv_flights['date'] + \" \" + cv_flights['time_s'])\n"
     ]
    }
   ],
   "source": [
    "calls_for_service[\"cfs-date\"] = pd.to_datetime(calls_for_service[\"Date\"])\n",
    "cv_flights[\"drone-date\"] =  pd.to_datetime(cv_flights['date'] + \" \" + cv_flights['time_s'])\n",
    "cv_flights[\"match\"] = cv_flights[\"incident_id\"].astype(str).apply(lambda x: x.strip().replace(' ','').replace('L','0').replace('l','0')[-5:])\n",
    "calls_for_service[\"match\"] = (\n",
    "    calls_for_service[\"Incident No.\"].astype(str).apply(lambda x: x.strip().replace(' ','').replace('l','0').replace('L','0')[-5:])\n",
    ")"
   ]
  },
  {
   "cell_type": "code",
   "execution_count": 3,
   "id": "723e400d-69fc-42ec-99cf-37a7f89b0531",
   "metadata": {},
   "outputs": [],
   "source": [
    "matches = cv_flights[cv_flights[\"match\"].isin(calls_for_service[\"match\"])]\n",
    "matches_joined_cfs = pd.merge(matches, calls_for_service, how=\"left\", on=\"match\",suffixes=['-drones','-cfs'])\n",
    "\n",
    "matches_joined_cfs = matches_joined_cfs[\n",
    "    matches_joined_cfs[\"drone-date\"].dt.date == matches_joined_cfs[\"cfs-date\"].dt.date\n",
    "]\n",
    "flights_with_cfs  = matches_joined_cfs.copy()\n",
    "\n"
   ]
  },
  {
   "cell_type": "code",
   "execution_count": 4,
   "id": "bb4004dd-26c3-4d45-b286-57936f378f40",
   "metadata": {},
   "outputs": [
    {
     "name": "stderr",
     "output_type": "stream",
     "text": [
      "\u001b[32m2024-05-24 11:42:48.362\u001b[0m | \u001b[1mINFO    \u001b[0m | \u001b[36m__main__\u001b[0m:\u001b[36m<module>\u001b[0m:\u001b[36m3\u001b[0m - \u001b[1m312 flights passed through vistan\u001b[0m\n",
      "\u001b[32m2024-05-24 11:42:48.363\u001b[0m | \u001b[1mINFO    \u001b[0m | \u001b[36m__main__\u001b[0m:\u001b[36m<module>\u001b[0m:\u001b[36m4\u001b[0m - \u001b[1m8.018888888888888 hours of footage\u001b[0m\n"
     ]
    }
   ],
   "source": [
    "vistan_flight_blocks = flight_blocks[(flight_blocks['GEOID20']=='060730125012001')]\n",
    "\n",
    "logger.info(f\"{vistan_flight_blocks['id'].drop_duplicates().shape[0]} flights passed through vistan\")\n",
    "logger.info(f\"{vistan_flight_blocks['seconds'].astype(int).sum()/3600} hours of footage\")"
   ]
  },
  {
   "cell_type": "code",
   "execution_count": 5,
   "id": "429b751e-0bbc-4c36-86d3-c9f8e24b663f",
   "metadata": {},
   "outputs": [],
   "source": [
    "\n",
    "vistan_flight_ids = vistan_flight_blocks['id'].drop_duplicates().values\n",
    "\n",
    "vistan_flights = flights_with_cfs[flights_with_cfs['id'].isin(vistan_flight_ids)]\n",
    "vistan_flights.to_csv('./vistan-flights.csv',index=False)\n"
   ]
  },
  {
   "cell_type": "code",
   "execution_count": 6,
   "id": "35f95cb6-e4d8-48d3-aa78-0ee2cb655863",
   "metadata": {},
   "outputs": [
    {
     "ename": "NameError",
     "evalue": "name 'kidnapping' is not defined",
     "output_type": "error",
     "traceback": [
      "\u001b[0;31m---------------------------------------------------------------------------\u001b[0m",
      "\u001b[0;31mNameError\u001b[0m                                 Traceback (most recent call last)",
      "Cell \u001b[0;32mIn[6], line 1\u001b[0m\n\u001b[0;32m----> 1\u001b[0m \u001b[43mkidnapping\u001b[49m\n",
      "\u001b[0;31mNameError\u001b[0m: name 'kidnapping' is not defined"
     ]
    }
   ],
   "source": [
    "kidnapping"
   ]
  },
  {
   "cell_type": "code",
   "execution_count": 10,
   "id": "58bc6b34-a256-4eb2-bf61-29cdba5898e4",
   "metadata": {},
   "outputs": [
    {
     "data": {
      "text/html": [
       "<div>\n",
       "<style scoped>\n",
       "    .dataframe tbody tr th:only-of-type {\n",
       "        vertical-align: middle;\n",
       "    }\n",
       "\n",
       "    .dataframe tbody tr th {\n",
       "        vertical-align: top;\n",
       "    }\n",
       "\n",
       "    .dataframe thead th {\n",
       "        text-align: right;\n",
       "    }\n",
       "</style>\n",
       "<table border=\"1\" class=\"dataframe\">\n",
       "  <thead>\n",
       "    <tr style=\"text-align: right;\">\n",
       "      <th></th>\n",
       "      <th>lat_map</th>\n",
       "      <th>lon_map</th>\n",
       "      <th>time</th>\n",
       "      <th>id</th>\n",
       "      <th>date</th>\n",
       "      <th>time_s</th>\n",
       "      <th>address_map</th>\n",
       "      <th>incident_id</th>\n",
       "      <th>type</th>\n",
       "      <th>department</th>\n",
       "      <th>...</th>\n",
       "      <th>Full FIPS (block)</th>\n",
       "      <th>Full FIPS (tract)</th>\n",
       "      <th>Metro/Micro Statistical Area Name</th>\n",
       "      <th>Metro/Micro Statistical Area Code</th>\n",
       "      <th>Metro/Micro Statistical Area Type</th>\n",
       "      <th>Combined Statistical Area Name</th>\n",
       "      <th>Combined Statistical Area Code</th>\n",
       "      <th>Metropolitan Division Area Name</th>\n",
       "      <th>Metropolitan Division Area Code</th>\n",
       "      <th>cfs-date</th>\n",
       "    </tr>\n",
       "  </thead>\n",
       "  <tbody>\n",
       "  </tbody>\n",
       "</table>\n",
       "<p>0 rows × 55 columns</p>\n",
       "</div>"
      ],
      "text/plain": [
       "Empty DataFrame\n",
       "Columns: [lat_map, lon_map, time, id, date, time_s, address_map, incident_id, type, department, clean-type, match, drone-date, Incident No., Date, Description, Priority, Disposition, Call Source, Zip Code, Block Location, Case No, Address, Latitude, Longitude, Accuracy Score, Accuracy Type, Number, Street, Unit Type, Unit Number, City, State, County, Zip, Country, Source, Census Year, State FIPS, County FIPS, Place Name, Place FIPS, Census Tract Code, Census Block Code, Census Block Group, Full FIPS (block), Full FIPS (tract), Metro/Micro Statistical Area Name, Metro/Micro Statistical Area Code, Metro/Micro Statistical Area Type, Combined Statistical Area Name, Combined Statistical Area Code, Metropolitan Division Area Name, Metropolitan Division Area Code, cfs-date]\n",
       "Index: []\n",
       "\n",
       "[0 rows x 55 columns]"
      ]
     },
     "execution_count": 10,
     "metadata": {},
     "output_type": "execute_result"
    }
   ],
   "source": [
    "flights_with_cfs[flights_with_cfs['Incident No.'].isin(kidnapping['Incident No.'])]"
   ]
  },
  {
   "cell_type": "code",
   "execution_count": null,
   "id": "9c07f4d1-ad0e-4fc7-b3c9-690d4dd1d415",
   "metadata": {},
   "outputs": [],
   "source": []
  }
 ],
 "metadata": {
  "kernelspec": {
   "display_name": "Python 3 (ipykernel)",
   "language": "python",
   "name": "python3"
  },
  "language_info": {
   "codemirror_mode": {
    "name": "ipython",
    "version": 3
   },
   "file_extension": ".py",
   "mimetype": "text/x-python",
   "name": "python",
   "nbconvert_exporter": "python",
   "pygments_lexer": "ipython3",
   "version": "3.10.12"
  }
 },
 "nbformat": 4,
 "nbformat_minor": 5
}
