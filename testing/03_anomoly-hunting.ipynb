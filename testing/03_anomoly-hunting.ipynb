{
 "cells": [
  {
   "cell_type": "markdown",
   "id": "6bcc07d3-defe-47c9-9b1e-73c9078bc48c",
   "metadata": {},
   "source": [
    "# Finding Anomolies"
   ]
  },
  {
   "cell_type": "markdown",
   "id": "6f483ab3-7a4b-4226-bbeb-2a3148af8055",
   "metadata": {},
   "source": [
    "## Setup"
   ]
  },
  {
   "cell_type": "markdown",
   "id": "1c2e5fc2-f009-4469-a72b-6ec9970c9b0e",
   "metadata": {},
   "source": [
    "### Import Data"
   ]
  },
  {
   "cell_type": "code",
   "execution_count": 1,
   "id": "c59e65c6-c678-4a42-ba6a-c75957bc27c6",
   "metadata": {},
   "outputs": [
    {
     "data": {
      "application/json": {
       "ascii": false,
       "bar_format": null,
       "colour": null,
       "elapsed": 0.08858394622802734,
       "initial": 0,
       "n": 0,
       "ncols": null,
       "nrows": 25,
       "postfix": null,
       "prefix": "Loading data",
       "rate": null,
       "total": null,
       "unit": "it",
       "unit_divisor": 1000,
       "unit_scale": false
      },
      "application/vnd.jupyter.widget-view+json": {
       "model_id": "4288c53cb2dd46478d80eb3b3d140773",
       "version_major": 2,
       "version_minor": 0
      },
      "text/plain": [
       "Loading data: 0it [00:00, ?it/s]"
      ]
     },
     "metadata": {},
     "output_type": "display_data"
    }
   ],
   "source": [
    "import os\n",
    "\n",
    "import fiona\n",
    "import geopandas as gpd\n",
    "import gpxpy\n",
    "import numpy as np\n",
    "import pandas as pd\n",
    "from multiprocess.pool import Pool\n",
    "from tqdm.notebook import tqdm, trange\n",
    "\n",
    "fiona.drvsupport.supported_drivers['kml'] = 'rw'\n",
    "fiona.drvsupport.supported_drivers['KML'] = 'rw'\n",
    "\n",
    "storage = \"/Volumes/easystore/Drones/\"\n",
    "\n",
    "flight_details = pd.concat(\n",
    "    [\n",
    "        chunk\n",
    "        for chunk in tqdm(\n",
    "            pd.read_csv(\n",
    "                f\"{storage}/gpx-with-census-data.csv\", chunksize=100000, dtype=str\n",
    "            ),\n",
    "            desc=\"Loading data\",\n",
    "        )\n",
    "    ]\n",
    ")"
   ]
  },
  {
   "cell_type": "code",
   "execution_count": 2,
   "id": "aca8d8b7-6bec-4846-a8c0-7c91945a9aaa",
   "metadata": {},
   "outputs": [
    {
     "data": {
      "application/json": {
       "ascii": false,
       "bar_format": null,
       "colour": null,
       "elapsed": 0.17468500137329102,
       "initial": 0,
       "n": 0,
       "ncols": null,
       "nrows": 25,
       "postfix": null,
       "prefix": "Loading data",
       "rate": null,
       "total": null,
       "unit": "it",
       "unit_divisor": 1000,
       "unit_scale": false
      },
      "application/vnd.jupyter.widget-view+json": {
       "model_id": "180220adea784bc384f6fc9b3f4f53bd",
       "version_major": 2,
       "version_minor": 0
      },
      "text/plain": [
       "Loading data: 0it [00:00, ?it/s]"
      ]
     },
     "metadata": {},
     "output_type": "display_data"
    }
   ],
   "source": [
    "geocodio_flights = pd.concat(\n",
    "    [\n",
    "        chunk\n",
    "        for chunk in tqdm(\n",
    "            pd.read_csv(\n",
    "                f\"{storage}/geocodio/all-flights-manifest_geocodio.csv\",\n",
    "                chunksize=100000,\n",
    "                dtype=str,\n",
    "            ),\n",
    "            desc=\"Loading data\",\n",
    "        )\n",
    "    ]\n",
    ")"
   ]
  },
  {
   "cell_type": "code",
   "execution_count": 3,
   "id": "bce17e7c-34c3-4547-a3be-28adf7747a27",
   "metadata": {},
   "outputs": [],
   "source": [
    "flight_details[\"geoid\"] = flight_details[\"geoid\"].astype(str)\n",
    "flight_details[\"len\"] = flight_details[\"geoid\"].apply(lambda x: len(x))\n",
    "flight_details.loc[flight_details[\"len\"] == 14, \"geoid\"] = \"0\" + flight_details[\"geoid\"]"
   ]
  },
  {
   "cell_type": "markdown",
   "id": "d0609712-94eb-440c-ab36-e5c482097f6d",
   "metadata": {},
   "source": [
    "### Launch Sites\n",
    "- BayView Hospital = 60730131022000\n",
    "- CVPD = 60730123021013\n",
    "- SharpChula Medical Center = 60730133273000\n",
    "- SWestern College = 60730134151000\n"
   ]
  },
  {
   "cell_type": "markdown",
   "id": "2a57c2cf-c150-4f40-831b-7957f7efb57e",
   "metadata": {},
   "source": [
    "## Functions"
   ]
  },
  {
   "cell_type": "code",
   "execution_count": 26,
   "id": "3ce8b25c-2cc0-4703-8eda-1d45164e8f7b",
   "metadata": {},
   "outputs": [],
   "source": [
    "def compile_anomolies(anomolies):\n",
    "\n",
    "    anomolies = anomolies[anomolies['id']!=False].copy()\n",
    "    anomolies = geocodio_flights[geocodio_flights['id'].isin(anomolies[\"id\"])].copy()\n",
    "    anomolies['fn'] = anomolies['id'].apply(lambda x: f\"/Volumes/easystore/Drones/flights/kml/{x}.kml\")\n",
    "\n",
    "    compiled_flights = []\n",
    "    for _, row in anomolies.iterrows():\n",
    "        d = gpd.read_file(row['fn'], driver='KML')\n",
    "\n",
    "\n",
    "        d['id'] = row['id']\n",
    "        d['incident_type'] = row['type']\n",
    "        d['incident_id'] = row['incident_id']\n",
    "        d['address_map'] = row['address_map']\n",
    "        d['date'] = row['date']\n",
    "        d['time'] = row['time_s']\n",
    "\n",
    "        compiled_flights.append(d)\n",
    "    return pd.concat(compiled_flights,ignore_index=True)"
   ]
  },
  {
   "cell_type": "code",
   "execution_count": 111,
   "id": "967e5ee2-c604-4696-9981-9992f9499bb5",
   "metadata": {},
   "outputs": [],
   "source": [
    "def get_unique_seconds_for_block(flight):\n",
    "\n",
    "    times = pd.to_datetime(flight[\"sequence\"])\n",
    "    grouped_by_block_and_second = flight.groupby(\n",
    "    [\"id\",\"geoid\",\"block_group\",\"tract\", times.dt.hour, times.dt.minute, times.dt.second]).count()\n",
    "    grouped_by_block_and_second.index.names = [\"id\",\"geoid\",\"block_group\",\"tract\", \"hour\", \"minute\", \"second\"]\n",
    "    grouped_by_block_and_second = grouped_by_block_and_second.reset_index()[\n",
    "    [\"id\",\"geoid\",\"block_group\",\"tract\", \"hour\", \"minute\", \"second\", \"type\"]\n",
    "    ]\n",
    "    grouped_by_block_and_second.columns = [\"id\",\"geoid\",\"block_group\",\"tract\", \"hour\", \"minute\", \"second\", \"count\"]\n",
    "    \n",
    "    unique_seconds_in_block = grouped_by_block_and_second.groupby([\"geoid\",\"block_group\",\"tract\"]).count()\n",
    "    unique_seconds_in_block = unique_seconds_in_block.reset_index()[[\"geoid\",\"block_group\",\"tract\", \"hour\"]]\n",
    "    unique_seconds_in_block.columns = [\"GEOID20\",\"block_group\",\"tract\",\"seconds\"]\n",
    "    return unique_seconds_in_block"
   ]
  },
  {
   "cell_type": "markdown",
   "id": "3606bf12-568c-4c4e-9ec2-e84436b6877a",
   "metadata": {},
   "source": [
    "## Searching"
   ]
  },
  {
   "cell_type": "markdown",
   "id": "80648b5e-80aa-4d92-82b4-f553b5269886",
   "metadata": {},
   "source": [
    "### Lingering over more than two NC blocks"
   ]
  },
  {
   "cell_type": "code",
   "execution_count": 59,
   "id": "58202488-6e4c-47ca-95b0-86c6d304c249",
   "metadata": {},
   "outputs": [],
   "source": [
    "def search_one(index):\n",
    "#   search for flights that spent more than 5 minutes in two blocks that are not consecutive.\n",
    "    LINGER = 300\n",
    "\n",
    "    flight_id = flight_ids.iloc[index]\n",
    "    flight = flight_details[flight_details['id']==flight_id]\n",
    "\n",
    "    anomoly = {\"id\":False,\"type\":False}\n",
    "\n",
    "    starting_block = flight.iloc[0]['geoid']\n",
    "    \n",
    "    unique_seconds_in_block = get_unique_seconds_for_block(flight)\n",
    "    unique_seconds_in_block =  unique_seconds_in_block[unique_seconds_in_block['GEOID20']!=flight.iloc[0]['geoid']].copy()\n",
    "\n",
    "    blocks_w_more_45 = unique_seconds_in_block[(unique_seconds_in_block['seconds']>LINGER)].copy()\n",
    "\n",
    "    if blocks_w_more_45.shape[0] > 1:\n",
    "        blocks_w_more_45['GEOID20'] = blocks_w_more_45['GEOID20'].astype(int)\n",
    "        blocks_w_more_45 = blocks_w_more_45.sort_values(\"GEOID20\")\n",
    "        blocks_w_more_45['diff'] = blocks_w_more_45['GEOID20'].diff().abs().copy()\n",
    "        result = blocks_w_more_45[(blocks_w_more_45['diff'] > 1)]\n",
    "        if result.shape[0] > 0:\n",
    "            anomoly = {\"id\":flight_id,\"type\":flight['type'].drop_duplicates().values[0]}\n",
    "    return anomoly"
   ]
  },
  {
   "cell_type": "markdown",
   "id": "7412d1c1-fc0a-4c1a-b2b6-43ad3368bbd3",
   "metadata": {},
   "source": [
    "#### Run Lingering NC Search"
   ]
  },
  {
   "cell_type": "code",
   "execution_count": 35,
   "id": "c220c54c-9df0-4ed1-ba91-e2b653ac555e",
   "metadata": {},
   "outputs": [
    {
     "data": {
      "application/json": {
       "ascii": false,
       "bar_format": null,
       "colour": null,
       "elapsed": 0.08475494384765625,
       "initial": 0,
       "n": 0,
       "ncols": null,
       "nrows": 25,
       "postfix": null,
       "prefix": "",
       "rate": null,
       "total": 50,
       "unit": "it",
       "unit_divisor": 1000,
       "unit_scale": false
      },
      "application/vnd.jupyter.widget-view+json": {
       "model_id": "d2547d2e986e4013bb97cdce8742be6d",
       "version_major": 2,
       "version_minor": 0
      },
      "text/plain": [
       "  0%|          | 0/50 [00:00<?, ?it/s]"
      ]
     },
     "metadata": {},
     "output_type": "display_data"
    }
   ],
   "source": [
    "flight_ids = flight_details['id'].sample(50).drop_duplicates()\n",
    "with Pool(2) as pool:\n",
    "\n",
    "    lingering_nc = list(\n",
    "        tqdm(pool.imap(search_one, range(0, flight_ids.shape[0])), total=flight_ids.shape[0])\n",
    "    )\n",
    "    lingering_nc = pd.DataFrame(lingering_nc)"
   ]
  },
  {
   "cell_type": "code",
   "execution_count": 27,
   "id": "5ff881fd-632d-4450-95e8-bffc4411909a",
   "metadata": {},
   "outputs": [],
   "source": [
    "lingering_anomolies = compile_anomolies(lingering_nc)\n",
    "lingering_anomolies = gpd.GeoDataFrame(lingering_anomolies)\n",
    "lingering_anomolies['incident_type'] = lingering_anomolies['incident_type'].astype(str)"
   ]
  },
  {
   "cell_type": "code",
   "execution_count": 28,
   "id": "e6697704-6d87-423d-be1f-e14faabd8c68",
   "metadata": {},
   "outputs": [],
   "source": [
    "lingering_anomolies[['geometry','incident_type','id']].to_file(\"../data/lingering-nc.geojson\", driver='GeoJSON')"
   ]
  },
  {
   "cell_type": "code",
   "execution_count": 29,
   "id": "15cd9d81-565a-486e-aacb-cdb4df6b390f",
   "metadata": {},
   "outputs": [
    {
     "data": {
      "text/html": [
       "<div>\n",
       "<style scoped>\n",
       "    .dataframe tbody tr th:only-of-type {\n",
       "        vertical-align: middle;\n",
       "    }\n",
       "\n",
       "    .dataframe tbody tr th {\n",
       "        vertical-align: top;\n",
       "    }\n",
       "\n",
       "    .dataframe thead th {\n",
       "        text-align: right;\n",
       "    }\n",
       "</style>\n",
       "<table border=\"1\" class=\"dataframe\">\n",
       "  <thead>\n",
       "    <tr style=\"text-align: right;\">\n",
       "      <th></th>\n",
       "      <th>Name</th>\n",
       "      <th>Description</th>\n",
       "      <th>geometry</th>\n",
       "      <th>id</th>\n",
       "      <th>incident_type</th>\n",
       "      <th>incident_id</th>\n",
       "      <th>address_map</th>\n",
       "      <th>date</th>\n",
       "      <th>time</th>\n",
       "    </tr>\n",
       "  </thead>\n",
       "  <tbody>\n",
       "    <tr>\n",
       "      <th>0</th>\n",
       "      <td>Home</td>\n",
       "      <td></td>\n",
       "      <td>POINT Z (-117.08269 32.63997 22.13559)</td>\n",
       "      <td>651d1096e03c7ba2e80d687d00e72ea0</td>\n",
       "      <td>DOMESTIC VIOLENCE</td>\n",
       "      <td>L062565</td>\n",
       "      <td>706 F</td>\n",
       "      <td>7-28-21</td>\n",
       "      <td>9:48am</td>\n",
       "    </tr>\n",
       "    <tr>\n",
       "      <th>1</th>\n",
       "      <td>Airdata.com</td>\n",
       "      <td></td>\n",
       "      <td>LINESTRING Z (-117.08269 32.63997 22.13559, -1...</td>\n",
       "      <td>651d1096e03c7ba2e80d687d00e72ea0</td>\n",
       "      <td>DOMESTIC VIOLENCE</td>\n",
       "      <td>L062565</td>\n",
       "      <td>706 F</td>\n",
       "      <td>7-28-21</td>\n",
       "      <td>9:48am</td>\n",
       "    </tr>\n",
       "    <tr>\n",
       "      <th>2</th>\n",
       "      <td>Home</td>\n",
       "      <td></td>\n",
       "      <td>POINT Z (-117.07166 32.61747 34.84546)</td>\n",
       "      <td>2d6bcf3670ab962c87609165668ddf7a</td>\n",
       "      <td>Fight</td>\n",
       "      <td>CVL40019</td>\n",
       "      <td>1242 Broadway</td>\n",
       "      <td>5-16-22</td>\n",
       "      <td>5:30pm</td>\n",
       "    </tr>\n",
       "    <tr>\n",
       "      <th>3</th>\n",
       "      <td>Airdata.com</td>\n",
       "      <td></td>\n",
       "      <td>LINESTRING Z (-117.07166 32.61747 34.84546, -1...</td>\n",
       "      <td>2d6bcf3670ab962c87609165668ddf7a</td>\n",
       "      <td>Fight</td>\n",
       "      <td>CVL40019</td>\n",
       "      <td>1242 Broadway</td>\n",
       "      <td>5-16-22</td>\n",
       "      <td>5:30pm</td>\n",
       "    </tr>\n",
       "  </tbody>\n",
       "</table>\n",
       "</div>"
      ],
      "text/plain": [
       "          Name Description                                           geometry  \\\n",
       "0         Home                         POINT Z (-117.08269 32.63997 22.13559)   \n",
       "1  Airdata.com              LINESTRING Z (-117.08269 32.63997 22.13559, -1...   \n",
       "2         Home                         POINT Z (-117.07166 32.61747 34.84546)   \n",
       "3  Airdata.com              LINESTRING Z (-117.07166 32.61747 34.84546, -1...   \n",
       "\n",
       "                                 id      incident_type incident_id  \\\n",
       "0  651d1096e03c7ba2e80d687d00e72ea0  DOMESTIC VIOLENCE     L062565   \n",
       "1  651d1096e03c7ba2e80d687d00e72ea0  DOMESTIC VIOLENCE     L062565   \n",
       "2  2d6bcf3670ab962c87609165668ddf7a              Fight    CVL40019   \n",
       "3  2d6bcf3670ab962c87609165668ddf7a              Fight    CVL40019   \n",
       "\n",
       "     address_map     date    time  \n",
       "0         706 F   7-28-21  9:48am  \n",
       "1         706 F   7-28-21  9:48am  \n",
       "2  1242 Broadway  5-16-22  5:30pm  \n",
       "3  1242 Broadway  5-16-22  5:30pm  "
      ]
     },
     "execution_count": 29,
     "metadata": {},
     "output_type": "execute_result"
    }
   ],
   "source": [
    "lingering_anomolies.head()"
   ]
  },
  {
   "cell_type": "markdown",
   "id": "f5522439-7997-44a8-a26a-1e80dcf65a3f",
   "metadata": {},
   "source": [
    "### Lingering over Block that is Not Destination\n",
    "lingering for more than 5 minutes on a block thats in a diff tract than the stated destination AND that  tract is not the neighboring tract."
   ]
  },
  {
   "cell_type": "code",
   "execution_count": 171,
   "id": "9ed444d8-38be-4732-95a1-6e524c57ce0e",
   "metadata": {},
   "outputs": [],
   "source": [
    "LINGER = 240\n",
    "def search_two(index):\n",
    "    flight_id = flight_ids.iloc[index]\n",
    "    flight = flight_details[flight_details['id']==flight_id]\n",
    "\n",
    "    manifest_details = geocodio_flights[geocodio_flights['id']==flight_id]\n",
    "    destination_block = manifest_details.iloc[0][['Full FIPS (block)','Census Tract Code', 'Census Block Group']]\n",
    "    starting_block = flight.iloc[0]['geoid']\n",
    "    anomoly = {\"id\":False,\"type\":False}\n",
    "\n",
    "    unique_seconds_in_block = get_unique_seconds_for_block(flight)\n",
    "    unique_seconds_in_block =  unique_seconds_in_block[unique_seconds_in_block['GEOID20']!=starting_block].copy()\n",
    "    unique_seconds_in_block =  unique_seconds_in_block[unique_seconds_in_block['GEOID20']!=destination_block['Full FIPS (block)']].copy()\n",
    "    nd_blocks_g_5 = unique_seconds_in_block[unique_seconds_in_block['seconds']>LINGER]\n",
    "    \n",
    "    \n",
    "    if nd_blocks_g_5.shape[0]>0:\n",
    "        nd_blocks_g_5_diff_tract = nd_blocks_g_5[\n",
    "            # (nd_blocks_g_5['block_group'].astype(int)!=destination_block['Census Block Group']) &\n",
    "            (nd_blocks_g_5['tract'].astype(int)!=destination_block['Census Tract Code'])\n",
    "        ]\n",
    "        nd_blocks_g_5_diff_tract['diff'] = nd_blocks_g_5_diff_tract['tract'].astype(int).apply(lambda x: abs(x - int(destination_block['Census Tract Code'])))\n",
    "        nd_blocks_g_5_diff_tract[nd_blocks_g_5_diff_tract['diff']>1]\n",
    "        if nd_blocks_g_5_diff_tract.shape[0]>0:\n",
    "            anomoly = {\"id\":flight_id,\"type\":flight['type'].drop_duplicates().values[0]}\n",
    "    \n",
    "    return anomoly\n",
    "\n",
    "\n"
   ]
  },
  {
   "cell_type": "code",
   "execution_count": 164,
   "id": "c4324d3b-1db9-4dcc-9f79-e1bbd3a0b8da",
   "metadata": {},
   "outputs": [
    {
     "data": {
      "text/plain": [
       "667"
      ]
     },
     "execution_count": 164,
     "metadata": {},
     "output_type": "execute_result"
    }
   ],
   "source": [
    "abs(100-767)"
   ]
  },
  {
   "cell_type": "code",
   "execution_count": 175,
   "id": "97fc0b4c-bae0-4a2e-8835-125f041b3584",
   "metadata": {},
   "outputs": [
    {
     "data": {
      "application/json": {
       "ascii": false,
       "bar_format": null,
       "colour": null,
       "elapsed": 0.23973774909973145,
       "initial": 0,
       "n": 0,
       "ncols": null,
       "nrows": 25,
       "postfix": null,
       "prefix": "",
       "rate": null,
       "total": 950,
       "unit": "it",
       "unit_divisor": 1000,
       "unit_scale": false
      },
      "application/vnd.jupyter.widget-view+json": {
       "model_id": "d6475ee371a94b6cb2759b413d963885",
       "version_major": 2,
       "version_minor": 0
      },
      "text/plain": [
       "  0%|          | 0/950 [00:00<?, ?it/s]"
      ]
     },
     "metadata": {},
     "output_type": "display_data"
    }
   ],
   "source": [
    "flight_ids = flight_details['id'].sample(1000).drop_duplicates()\n",
    "with Pool(10) as pool:\n",
    "\n",
    "    lingering_nd = list(\n",
    "        tqdm(pool.imap(search_one, range(0, flight_ids.shape[0])), total=flight_ids.shape[0])\n",
    "    )\n",
    "    lingering_nd = pd.DataFrame(lingering_nd)"
   ]
  },
  {
   "cell_type": "code",
   "execution_count": 178,
   "id": "51f12a1f-a5b7-401f-afc3-07a31bdb4b3d",
   "metadata": {},
   "outputs": [],
   "source": [
    "lingering_anomolies = compile_anomolies(lingering_nd)\n",
    "lingering_anomolies = gpd.GeoDataFrame(lingering_anomolies)\n",
    "lingering_anomolies['incident_type'] = lingering_anomolies['incident_type'].astype(str)"
   ]
  },
  {
   "cell_type": "code",
   "execution_count": 179,
   "id": "727bdb87-f5fa-4dea-ab0b-1bada2121894",
   "metadata": {},
   "outputs": [],
   "source": [
    "lingering_anomolies[['geometry','incident_type','id']].to_file(\"../data/lingering-nd.geojson\", driver='GeoJSON')"
   ]
  },
  {
   "cell_type": "code",
   "execution_count": 180,
   "id": "19acc4ec-1ea1-491f-8160-13e01c2eae74",
   "metadata": {},
   "outputs": [
    {
     "data": {
      "text/plain": [
       "66"
      ]
     },
     "execution_count": 180,
     "metadata": {},
     "output_type": "execute_result"
    }
   ],
   "source": [
    "lingering_anomolies.shape[0]"
   ]
  },
  {
   "cell_type": "code",
   "execution_count": null,
   "id": "7075a0c2-20d3-48d6-909a-8c237b055736",
   "metadata": {},
   "outputs": [],
   "source": []
  },
  {
   "cell_type": "code",
   "execution_count": null,
   "id": "36f8c4c1-ad07-4299-924b-6ee77c0c7652",
   "metadata": {},
   "outputs": [],
   "source": []
  }
 ],
 "metadata": {
  "kernelspec": {
   "display_name": "Python 3 (ipykernel)",
   "language": "python",
   "name": "python3"
  },
  "language_info": {
   "codemirror_mode": {
    "name": "ipython",
    "version": 3
   },
   "file_extension": ".py",
   "mimetype": "text/x-python",
   "name": "python",
   "nbconvert_exporter": "python",
   "pygments_lexer": "ipython3",
   "version": "3.10.10"
  }
 },
 "nbformat": 4,
 "nbformat_minor": 5
}
