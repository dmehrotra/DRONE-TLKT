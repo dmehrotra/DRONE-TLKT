{
 "cells": [
  {
   "cell_type": "code",
   "execution_count": 3,
   "id": "762f65b6-6173-447d-b3a8-da2a00e417a9",
   "metadata": {},
   "outputs": [
    {
     "data": {
      "application/json": {
       "ascii": false,
       "bar_format": null,
       "colour": null,
       "elapsed": 0.03478217124938965,
       "initial": 0,
       "n": 0,
       "ncols": null,
       "nrows": 38,
       "postfix": null,
       "prefix": "Loading data",
       "rate": null,
       "total": null,
       "unit": "it",
       "unit_divisor": 1000,
       "unit_scale": false
      },
      "application/vnd.jupyter.widget-view+json": {
       "model_id": "f3c355dd35d548568b24c605ab14def1",
       "version_major": 2,
       "version_minor": 0
      },
      "text/plain": [
       "Loading data: 0it [00:00, ?it/s]"
      ]
     },
     "metadata": {},
     "output_type": "display_data"
    },
    {
     "data": {
      "application/json": {
       "ascii": false,
       "bar_format": null,
       "colour": null,
       "elapsed": 0.05076479911804199,
       "initial": 0,
       "n": 0,
       "ncols": null,
       "nrows": 38,
       "postfix": null,
       "prefix": "Loading data",
       "rate": null,
       "total": null,
       "unit": "it",
       "unit_divisor": 1000,
       "unit_scale": false
      },
      "application/vnd.jupyter.widget-view+json": {
       "model_id": "6179a1e3d69045c38a71d1895610a61f",
       "version_major": 2,
       "version_minor": 0
      },
      "text/plain": [
       "Loading data: 0it [00:00, ?it/s]"
      ]
     },
     "metadata": {},
     "output_type": "display_data"
    }
   ],
   "source": [
    "import geopandas as gpd\n",
    "import numpy as np\n",
    "import pandas as pd\n",
    "from tqdm.notebook import tqdm, trange\n",
    "\n",
    "storage = \"/Volumes/easystore/Drones/\"\n",
    "calls_for_service = pd.concat(\n",
    "    [\n",
    "        chunk\n",
    "        for chunk in tqdm(\n",
    "            pd.read_csv(\n",
    "                f\"{storage}/calls-for-service-with-census-data.csv\",\n",
    "                chunksize=100000,\n",
    "                dtype=str,\n",
    "            ),\n",
    "            desc=\"Loading data\",\n",
    "        )\n",
    "    ]\n",
    ")\n",
    "flight_data = pd.concat(\n",
    "    [\n",
    "        chunk\n",
    "        for chunk in tqdm(\n",
    "            pd.read_csv(\n",
    "                f\"{storage}/gpx-with-census-data.csv\", chunksize=100000, dtype=str\n",
    "            ),\n",
    "            desc=\"Loading data\",\n",
    "        )\n",
    "    ]\n",
    ")\n",
    "\n",
    "# flight_data = pd.read_csv(\"/Volumes/easystore/Drones/compiled-flight-data-gpx.csv\",dtype=str)\n",
    "# flight_data.head()"
   ]
  },
  {
   "cell_type": "code",
   "execution_count": null,
   "id": "cf123c96-3f45-4e8c-bcb5-1ca24d077386",
   "metadata": {},
   "outputs": [],
   "source": []
  },
  {
   "cell_type": "code",
   "execution_count": 4,
   "id": "e6e9e973-a467-45b6-8d47-080a08b69a3e",
   "metadata": {},
   "outputs": [],
   "source": [
    "shp_file = gpd.read_file(\n",
    "    \"/Volumes/easystore/Drones/census/tl_2022_06_tabblock20/tl_2022_06_tabblock20.shp\"\n",
    ")"
   ]
  },
  {
   "cell_type": "code",
   "execution_count": 5,
   "id": "4c5675a9-4ed2-4e59-94c5-0061d6d6cea1",
   "metadata": {},
   "outputs": [],
   "source": [
    "san_deigo_county = shp_file[shp_file[\"GEOID20\"].str.contains(\"06073\")]"
   ]
  },
  {
   "cell_type": "code",
   "execution_count": 6,
   "id": "40172552-145a-4248-8292-bcadede743cf",
   "metadata": {},
   "outputs": [
    {
     "data": {
      "text/html": [
       "<div>\n",
       "<style scoped>\n",
       "    .dataframe tbody tr th:only-of-type {\n",
       "        vertical-align: middle;\n",
       "    }\n",
       "\n",
       "    .dataframe tbody tr th {\n",
       "        vertical-align: top;\n",
       "    }\n",
       "\n",
       "    .dataframe thead th {\n",
       "        text-align: right;\n",
       "    }\n",
       "</style>\n",
       "<table border=\"1\" class=\"dataframe\">\n",
       "  <thead>\n",
       "    <tr style=\"text-align: right;\">\n",
       "      <th></th>\n",
       "      <th>GEOID20</th>\n",
       "      <th>call_count</th>\n",
       "    </tr>\n",
       "  </thead>\n",
       "  <tbody>\n",
       "    <tr>\n",
       "      <th>0</th>\n",
       "      <td>060250102002026</td>\n",
       "      <td>1</td>\n",
       "    </tr>\n",
       "    <tr>\n",
       "      <th>1</th>\n",
       "      <td>060650306022000</td>\n",
       "      <td>2</td>\n",
       "    </tr>\n",
       "    <tr>\n",
       "      <th>2</th>\n",
       "      <td>060650445182017</td>\n",
       "      <td>1</td>\n",
       "    </tr>\n",
       "    <tr>\n",
       "      <th>3</th>\n",
       "      <td>060650451232003</td>\n",
       "      <td>1</td>\n",
       "    </tr>\n",
       "    <tr>\n",
       "      <th>4</th>\n",
       "      <td>060650453021004</td>\n",
       "      <td>2</td>\n",
       "    </tr>\n",
       "  </tbody>\n",
       "</table>\n",
       "</div>"
      ],
      "text/plain": [
       "           GEOID20  call_count\n",
       "0  060250102002026           1\n",
       "1  060650306022000           2\n",
       "2  060650445182017           1\n",
       "3  060650451232003           1\n",
       "4  060650453021004           2"
      ]
     },
     "execution_count": 6,
     "metadata": {},
     "output_type": "execute_result"
    }
   ],
   "source": [
    "call_for_service_block_count = calls_for_service.groupby([\"Full FIPS (block)\"]).count()\n",
    "call_for_service_block_count = call_for_service_block_count.reset_index()[\n",
    "    [\"Full FIPS (block)\", \"Incident No.\"]\n",
    "]\n",
    "call_for_service_block_count.columns = [\"GEOID20\", \"call_count\"]\n",
    "call_for_service_block_count.head()"
   ]
  },
  {
   "cell_type": "code",
   "execution_count": 7,
   "id": "cec65821-be3c-4794-b451-b0f370e9ab2d",
   "metadata": {},
   "outputs": [],
   "source": [
    "call_for_service_block_count_with_shps = pd.merge(\n",
    "    san_deigo_county, call_for_service_block_count, how=\"left\", on=[\"GEOID20\"]\n",
    ")"
   ]
  },
  {
   "cell_type": "code",
   "execution_count": 8,
   "id": "17a8fe7d-354a-42a4-8e73-4cdc3139774c",
   "metadata": {},
   "outputs": [
    {
     "data": {
      "text/plain": [
       "0    15\n",
       "Name: GEOID20, dtype: int64"
      ]
     },
     "execution_count": 8,
     "metadata": {},
     "output_type": "execute_result"
    }
   ],
   "source": [
    "call_for_service_block_count_with_shps[\"GEOID20\"].apply(\n",
    "    lambda x: len(x)\n",
    ").drop_duplicates()\n"
   ]
  },
  {
   "cell_type": "code",
   "execution_count": 9,
   "id": "66819c2c-836b-4224-a47a-a1c53242a781",
   "metadata": {},
   "outputs": [],
   "source": [
    "call_for_service_block_count_with_shps[\n",
    "    \"call_count\"\n",
    "] = call_for_service_block_count_with_shps[\"call_count\"].replace(np.nan, 0)\n",
    "\n"
   ]
  },
  {
   "cell_type": "code",
   "execution_count": 10,
   "id": "68cffe17-9027-4989-97ae-816dfaa9fe57",
   "metadata": {},
   "outputs": [],
   "source": [
    "flight_data[\"geoid\"] = flight_data[\"geoid\"].astype(str)\n",
    "flight_data[\"len\"] = flight_data[\"geoid\"].apply(lambda x: len(x))\n",
    "flight_data.loc[flight_data[\"len\"] == 14, \"geoid\"] = \"0\" + flight_data[\"geoid\"]"
   ]
  },
  {
   "cell_type": "code",
   "execution_count": 11,
   "id": "fe22472f-e8b4-4c58-9363-654ee5f5cf4d",
   "metadata": {},
   "outputs": [
    {
     "data": {
      "text/html": [
       "<div>\n",
       "<style scoped>\n",
       "    .dataframe tbody tr th:only-of-type {\n",
       "        vertical-align: middle;\n",
       "    }\n",
       "\n",
       "    .dataframe tbody tr th {\n",
       "        vertical-align: top;\n",
       "    }\n",
       "\n",
       "    .dataframe thead th {\n",
       "        text-align: right;\n",
       "    }\n",
       "</style>\n",
       "<table border=\"1\" class=\"dataframe\">\n",
       "  <thead>\n",
       "    <tr style=\"text-align: right;\">\n",
       "      <th></th>\n",
       "      <th>id</th>\n",
       "      <th>type</th>\n",
       "      <th>incident_id</th>\n",
       "      <th>address_map</th>\n",
       "      <th>sequence</th>\n",
       "      <th>longitude</th>\n",
       "      <th>latitude</th>\n",
       "      <th>altitude</th>\n",
       "      <th>success</th>\n",
       "      <th>geoid</th>\n",
       "      <th>block</th>\n",
       "      <th>block_group</th>\n",
       "      <th>tract</th>\n",
       "      <th>county</th>\n",
       "      <th>state</th>\n",
       "      <th>county_name</th>\n",
       "      <th>state_name</th>\n",
       "      <th>population</th>\n",
       "      <th>housing</th>\n",
       "      <th>len</th>\n",
       "    </tr>\n",
       "  </thead>\n",
       "  <tbody>\n",
       "    <tr>\n",
       "      <th>0</th>\n",
       "      <td>c1795c8bb73272d54f70df7f7e228004</td>\n",
       "      <td>Subject down</td>\n",
       "      <td>CVL035567</td>\n",
       "      <td>20 Fourth Ave</td>\n",
       "      <td>2021-04-30 21:43:58+00:00</td>\n",
       "      <td>-117.0827</td>\n",
       "      <td>32.64</td>\n",
       "      <td>22.1684303</td>\n",
       "      <td>True</td>\n",
       "      <td>060730123021013</td>\n",
       "      <td>1013</td>\n",
       "      <td>1</td>\n",
       "      <td>12302</td>\n",
       "      <td>73</td>\n",
       "      <td>6</td>\n",
       "      <td>San Diego County</td>\n",
       "      <td>California</td>\n",
       "      <td>306</td>\n",
       "      <td>130</td>\n",
       "      <td>14</td>\n",
       "    </tr>\n",
       "    <tr>\n",
       "      <th>1</th>\n",
       "      <td>c1795c8bb73272d54f70df7f7e228004</td>\n",
       "      <td>Subject down</td>\n",
       "      <td>CVL035567</td>\n",
       "      <td>20 Fourth Ave</td>\n",
       "      <td>2021-04-30 21:43:59+00:00</td>\n",
       "      <td>-117.0827</td>\n",
       "      <td>32.64</td>\n",
       "      <td>22.1684303</td>\n",
       "      <td>True</td>\n",
       "      <td>060730123021013</td>\n",
       "      <td>1013</td>\n",
       "      <td>1</td>\n",
       "      <td>12302</td>\n",
       "      <td>73</td>\n",
       "      <td>6</td>\n",
       "      <td>San Diego County</td>\n",
       "      <td>California</td>\n",
       "      <td>306</td>\n",
       "      <td>130</td>\n",
       "      <td>14</td>\n",
       "    </tr>\n",
       "    <tr>\n",
       "      <th>2</th>\n",
       "      <td>c1795c8bb73272d54f70df7f7e228004</td>\n",
       "      <td>Subject down</td>\n",
       "      <td>CVL035567</td>\n",
       "      <td>20 Fourth Ave</td>\n",
       "      <td>2021-04-30 21:44:00+00:00</td>\n",
       "      <td>-117.0827</td>\n",
       "      <td>32.64</td>\n",
       "      <td>22.1684303</td>\n",
       "      <td>True</td>\n",
       "      <td>060730123021013</td>\n",
       "      <td>1013</td>\n",
       "      <td>1</td>\n",
       "      <td>12302</td>\n",
       "      <td>73</td>\n",
       "      <td>6</td>\n",
       "      <td>San Diego County</td>\n",
       "      <td>California</td>\n",
       "      <td>306</td>\n",
       "      <td>130</td>\n",
       "      <td>14</td>\n",
       "    </tr>\n",
       "    <tr>\n",
       "      <th>3</th>\n",
       "      <td>c1795c8bb73272d54f70df7f7e228004</td>\n",
       "      <td>Subject down</td>\n",
       "      <td>CVL035567</td>\n",
       "      <td>20 Fourth Ave</td>\n",
       "      <td>2021-04-30 21:59:34+00:00</td>\n",
       "      <td>-117.0827</td>\n",
       "      <td>32.64</td>\n",
       "      <td>22.2684303</td>\n",
       "      <td>True</td>\n",
       "      <td>060730123021013</td>\n",
       "      <td>1013</td>\n",
       "      <td>1</td>\n",
       "      <td>12302</td>\n",
       "      <td>73</td>\n",
       "      <td>6</td>\n",
       "      <td>San Diego County</td>\n",
       "      <td>California</td>\n",
       "      <td>306</td>\n",
       "      <td>130</td>\n",
       "      <td>14</td>\n",
       "    </tr>\n",
       "    <tr>\n",
       "      <th>4</th>\n",
       "      <td>c1795c8bb73272d54f70df7f7e228004</td>\n",
       "      <td>Subject down</td>\n",
       "      <td>CVL035567</td>\n",
       "      <td>20 Fourth Ave</td>\n",
       "      <td>2021-04-30 21:59:34+00:00</td>\n",
       "      <td>-117.0827</td>\n",
       "      <td>32.64</td>\n",
       "      <td>22.3684303</td>\n",
       "      <td>True</td>\n",
       "      <td>060730123021013</td>\n",
       "      <td>1013</td>\n",
       "      <td>1</td>\n",
       "      <td>12302</td>\n",
       "      <td>73</td>\n",
       "      <td>6</td>\n",
       "      <td>San Diego County</td>\n",
       "      <td>California</td>\n",
       "      <td>306</td>\n",
       "      <td>130</td>\n",
       "      <td>14</td>\n",
       "    </tr>\n",
       "  </tbody>\n",
       "</table>\n",
       "</div>"
      ],
      "text/plain": [
       "                                 id          type incident_id    address_map  \\\n",
       "0  c1795c8bb73272d54f70df7f7e228004  Subject down   CVL035567  20 Fourth Ave   \n",
       "1  c1795c8bb73272d54f70df7f7e228004  Subject down   CVL035567  20 Fourth Ave   \n",
       "2  c1795c8bb73272d54f70df7f7e228004  Subject down   CVL035567  20 Fourth Ave   \n",
       "3  c1795c8bb73272d54f70df7f7e228004  Subject down   CVL035567  20 Fourth Ave   \n",
       "4  c1795c8bb73272d54f70df7f7e228004  Subject down   CVL035567  20 Fourth Ave   \n",
       "\n",
       "                    sequence  longitude latitude    altitude success  \\\n",
       "0  2021-04-30 21:43:58+00:00  -117.0827    32.64  22.1684303    True   \n",
       "1  2021-04-30 21:43:59+00:00  -117.0827    32.64  22.1684303    True   \n",
       "2  2021-04-30 21:44:00+00:00  -117.0827    32.64  22.1684303    True   \n",
       "3  2021-04-30 21:59:34+00:00  -117.0827    32.64  22.2684303    True   \n",
       "4  2021-04-30 21:59:34+00:00  -117.0827    32.64  22.3684303    True   \n",
       "\n",
       "             geoid block block_group  tract county state       county_name  \\\n",
       "0  060730123021013  1013           1  12302     73     6  San Diego County   \n",
       "1  060730123021013  1013           1  12302     73     6  San Diego County   \n",
       "2  060730123021013  1013           1  12302     73     6  San Diego County   \n",
       "3  060730123021013  1013           1  12302     73     6  San Diego County   \n",
       "4  060730123021013  1013           1  12302     73     6  San Diego County   \n",
       "\n",
       "   state_name population housing  len  \n",
       "0  California        306     130   14  \n",
       "1  California        306     130   14  \n",
       "2  California        306     130   14  \n",
       "3  California        306     130   14  \n",
       "4  California        306     130   14  "
      ]
     },
     "execution_count": 11,
     "metadata": {},
     "output_type": "execute_result"
    }
   ],
   "source": [
    "flight_data.head()"
   ]
  },
  {
   "cell_type": "code",
   "execution_count": null,
   "id": "478eb4ad-c80a-4d79-a984-82f342caf8cf",
   "metadata": {},
   "outputs": [],
   "source": [
    "# for flight_id in tqdm(flight_data['id'].drop_duplicates().values,total=len(flight_data['id'].drop_duplicates().values)):\n",
    "#     df = flight_data[flight_data['id']==flight_id]\n",
    "#     times = pd.to_datetime(df[\"sequence\"])\n",
    "#     grouped_by_block_and_second = flight_data.groupby(\n",
    "#         [df[\"geoid\"], times.dt.hour, times.dt.minute, times.dt.second]\n",
    "#     ).count()\n",
    "#     grouped_by_block_and_second.index.names = [\"geoid\", \"hour\", \"minute\", \"second\"]\n",
    "#     grouped_by_block_and_second = grouped_by_block_and_second.reset_index()[\n",
    "#         [\"geoid\", \"hour\", \"minute\", \"second\", \"id\"]\n",
    "#     ]\n",
    "#     grouped_by_block_and_second.columns = [\"geoid\", \"hour\", \"minute\", \"second\", \"count\"]\n"
   ]
  },
  {
   "cell_type": "code",
   "execution_count": 12,
   "id": "209b06d2-9198-4b78-a113-2fa0ab757b82",
   "metadata": {},
   "outputs": [],
   "source": [
    "times = pd.to_datetime(flight_data[\"sequence\"])\n",
    "grouped_by_block_and_second = flight_data.groupby(\n",
    "    [\"id\",\"geoid\", times.dt.hour, times.dt.minute, times.dt.second]\n",
    ").count()\n",
    "grouped_by_block_and_second.index.names = [\"id\",\"geoid\", \"hour\", \"minute\", \"second\"]\n",
    "grouped_by_block_and_second = grouped_by_block_and_second.reset_index()[\n",
    "    [\"id\",\"geoid\", \"hour\", \"minute\", \"second\", \"type\"]\n",
    "]\n",
    "grouped_by_block_and_second.columns = [\"id\",\"geoid\", \"hour\", \"minute\", \"second\", \"count\"]\n"
   ]
  },
  {
   "cell_type": "code",
   "execution_count": 38,
   "id": "28fa81de-801c-4196-a6d6-a1a3f80d9720",
   "metadata": {},
   "outputs": [
    {
     "data": {
      "text/html": [
       "<div>\n",
       "<style scoped>\n",
       "    .dataframe tbody tr th:only-of-type {\n",
       "        vertical-align: middle;\n",
       "    }\n",
       "\n",
       "    .dataframe tbody tr th {\n",
       "        vertical-align: top;\n",
       "    }\n",
       "\n",
       "    .dataframe thead th {\n",
       "        text-align: right;\n",
       "    }\n",
       "</style>\n",
       "<table border=\"1\" class=\"dataframe\">\n",
       "  <thead>\n",
       "    <tr style=\"text-align: right;\">\n",
       "      <th></th>\n",
       "      <th>GEOID20</th>\n",
       "      <th>seconds</th>\n",
       "    </tr>\n",
       "  </thead>\n",
       "  <tbody>\n",
       "    <tr>\n",
       "      <th>0</th>\n",
       "      <td>060070001021001</td>\n",
       "      <td>403</td>\n",
       "    </tr>\n",
       "    <tr>\n",
       "      <th>1</th>\n",
       "      <td>060070001021002</td>\n",
       "      <td>1659</td>\n",
       "    </tr>\n",
       "    <tr>\n",
       "      <th>2</th>\n",
       "      <td>060070001021006</td>\n",
       "      <td>113</td>\n",
       "    </tr>\n",
       "    <tr>\n",
       "      <th>3</th>\n",
       "      <td>060070001021007</td>\n",
       "      <td>191</td>\n",
       "    </tr>\n",
       "    <tr>\n",
       "      <th>4</th>\n",
       "      <td>060070001021008</td>\n",
       "      <td>3</td>\n",
       "    </tr>\n",
       "  </tbody>\n",
       "</table>\n",
       "</div>"
      ],
      "text/plain": [
       "           GEOID20  seconds\n",
       "0  060070001021001      403\n",
       "1  060070001021002     1659\n",
       "2  060070001021006      113\n",
       "3  060070001021007      191\n",
       "4  060070001021008        3"
      ]
     },
     "execution_count": 38,
     "metadata": {},
     "output_type": "execute_result"
    }
   ],
   "source": [
    "unique_seconds_in_block = grouped_by_block_and_second.groupby([\"geoid\"]).count()\n",
    "unique_seconds_in_block = unique_seconds_in_block.reset_index()[[\"geoid\", \"hour\"]]\n",
    "unique_seconds_in_block.columns = [\"GEOID20\", \"seconds\"]\n",
    "unique_seconds_in_block.head()"
   ]
  },
  {
   "cell_type": "code",
   "execution_count": 16,
   "id": "c6cae2ce-c90d-44e4-b725-4d561e101033",
   "metadata": {},
   "outputs": [],
   "source": [
    "unique_seconds_in_block_with_shps = pd.merge(\n",
    "    san_deigo_county, unique_seconds_in_block, how=\"left\", on=[\"GEOID20\"]\n",
    ")\n",
    "unique_seconds_in_block_with_shps[\"seconds\"] = unique_seconds_in_block_with_shps[\n",
    "    \"seconds\"\n",
    "].replace(np.nan, 0)"
   ]
  },
  {
   "cell_type": "code",
   "execution_count": 17,
   "id": "48433c9b-44ed-4081-8286-178ea31d13ad",
   "metadata": {},
   "outputs": [],
   "source": [
    "unique_seconds_in_block_with_shps[\"weight\"] = (\n",
    "    unique_seconds_in_block_with_shps[\"seconds\"]\n",
    "    / unique_seconds_in_block_with_shps[\"ALAND20\"]\n",
    ")"
   ]
  },
  {
   "cell_type": "code",
   "execution_count": 21,
   "id": "2c3f94f0-938e-4610-95e9-51cc9abaaf9f",
   "metadata": {},
   "outputs": [],
   "source": [
    "call_for_service_block_count_with_shps['weight'] = call_for_service_block_count_with_shps['call_count']/call_for_service_block_count_with_shps['POP20']"
   ]
  },
  {
   "cell_type": "code",
   "execution_count": 22,
   "id": "eaf33b94-0c0f-42af-b16e-081acfd6c948",
   "metadata": {},
   "outputs": [],
   "source": [
    "call_for_service_block_count_with_shps.to_csv('../data/outputs_cfs-block-count.csv',index=False)"
   ]
  },
  {
   "cell_type": "code",
   "execution_count": 41,
   "id": "1894ba93-072a-4af5-a8f7-257c3a81e0b1",
   "metadata": {},
   "outputs": [],
   "source": [
    "fm = unique_seconds_in_block_with_shps[unique_seconds_in_block_with_shps['seconds']>0]\n",
    "fm.to_csv('../data/outputs_drone-seconds-block-count.csv',index=False)"
   ]
  }
 ],
 "metadata": {
  "kernelspec": {
   "display_name": "Python 3 (ipykernel)",
   "language": "python",
   "name": "python3"
  },
  "language_info": {
   "codemirror_mode": {
    "name": "ipython",
    "version": 3
   },
   "file_extension": ".py",
   "mimetype": "text/x-python",
   "name": "python",
   "nbconvert_exporter": "python",
   "pygments_lexer": "ipython3",
   "version": "3.10.10"
  }
 },
 "nbformat": 4,
 "nbformat_minor": 5
}
